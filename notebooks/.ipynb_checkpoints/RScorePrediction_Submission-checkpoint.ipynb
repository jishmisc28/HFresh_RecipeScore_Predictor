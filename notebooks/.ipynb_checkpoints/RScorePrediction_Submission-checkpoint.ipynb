{
 "cells": [
  {
   "cell_type": "markdown",
   "metadata": {},
   "source": [
    "### Load and preprocess the dataset"
   ]
  },
  {
   "cell_type": "code",
   "execution_count": 219,
   "metadata": {},
   "outputs": [],
   "source": [
    "import sys\n",
    "sys.path.append('../src/')\n",
    "\n",
    "import nltk\n",
    "import sys\n",
    "from HFresh import dataUtil as datautil\n",
    "import matplotlib.pyplot as plt\n",
    "import seaborn as sns\n",
    "import pandas as pd\n",
    "from sklearn import preprocessing, decomposition, svm, model_selection\n",
    "from sklearn.ensemble import RandomForestRegressor\n",
    "from sklearn.ensemble import GradientBoostingRegressor\n",
    "from sklearn.model_selection import KFold, cross_val_score, train_test_split\n",
    "import joblib\n",
    "import statsmodels.api as sm\n",
    "import statsmodels.formula.api as smf"
   ]
  },
  {
   "cell_type": "code",
   "execution_count": 65,
   "metadata": {},
   "outputs": [
    {
     "name": "stdout",
     "output_type": "stream",
     "text": [
      "grouping the ingridients dataset on recipe code and recipe name.. \n",
      "adding a feature column as ingredients_list and ingredients_count.. \n",
      "unique recipe codes in ingredients.csv:  257\n",
      "unique recipe codes in rating.csv:  222\n",
      "unique recipe codes in ingredients group:  222\n",
      "created a merged dataset with shape:  (222, 7)\n"
     ]
    }
   ],
   "source": [
    "path = 'C:\\\\Users\\\\abhranshu\\\\Desktop\\\\Incubating\\\\Ab_ML_Notebooks\\\\HFresh_Submission\\\\data'\n",
    "df = datautil.preProcessData(path)"
   ]
  },
  {
   "cell_type": "markdown",
   "metadata": {},
   "source": [
    "### EDA on the processed dataset"
   ]
  },
  {
   "cell_type": "markdown",
   "metadata": {},
   "source": [
    "unique values in the obtained dataset"
   ]
  },
  {
   "cell_type": "code",
   "execution_count": 3,
   "metadata": {},
   "outputs": [
    {
     "data": {
      "text/plain": [
       "Recipe_code          222\n",
       "Recipe_name          217\n",
       "price                154\n",
       "score                147\n",
       "ingredients_count     25\n",
       "dtype: int64"
      ]
     },
     "metadata": {},
     "output_type": "display_data"
    }
   ],
   "source": [
    "display(df[['Recipe_code', 'Recipe_name', 'score', 'price','ingredients_count']].apply(pd.Series.nunique).sort_values(ascending=False))"
   ]
  },
  {
   "cell_type": "markdown",
   "metadata": {},
   "source": [
    "There are 43 records which does not have score and needs to be predicted"
   ]
  },
  {
   "cell_type": "code",
   "execution_count": 4,
   "metadata": {},
   "outputs": [
    {
     "data": {
      "text/plain": [
       "Recipe_code           0\n",
       "Recipe_name           0\n",
       "ingredients_list      0\n",
       "ingredients_count     0\n",
       "score                43\n",
       "new                   0\n",
       "price                 0\n",
       "dtype: int64"
      ]
     },
     "execution_count": 4,
     "metadata": {},
     "output_type": "execute_result"
    }
   ],
   "source": [
    "df.isnull().sum()"
   ]
  },
  {
   "cell_type": "markdown",
   "metadata": {},
   "source": [
    "let's see if these are the records with new=1.0"
   ]
  },
  {
   "cell_type": "code",
   "execution_count": 7,
   "metadata": {},
   "outputs": [
    {
     "data": {
      "text/plain": [
       "43"
      ]
     },
     "execution_count": 7,
     "metadata": {},
     "output_type": "execute_result"
    }
   ],
   "source": [
    "len(df.loc[df.new==1.0])"
   ]
  },
  {
   "cell_type": "markdown",
   "metadata": {},
   "source": [
    "let's ballpark these records to use in prediction"
   ]
  },
  {
   "cell_type": "code",
   "execution_count": 66,
   "metadata": {},
   "outputs": [],
   "source": [
    "df_pred = df.loc[df.new==1.0]\n",
    "df = df.loc[df.new==0.0]"
   ]
  },
  {
   "cell_type": "markdown",
   "metadata": {},
   "source": [
    "null imputation steps on the data - not required!"
   ]
  },
  {
   "cell_type": "code",
   "execution_count": null,
   "metadata": {},
   "outputs": [],
   "source": [
    "print (\".................................. \")\n",
    "print (\"null imputation on the marged dataset.. \")\n",
    "data_cat = data.select_dtypes(include=['object']).fillna(method ='ffill')\n",
    "data_num_float = data.select_dtypes(include=[np.float64]).fillna(0)\n",
    "data_num_int = data.select_dtypes(include=[np.int64]).fillna(0)\n",
    "data = pd.concat([data_cat,data_num_float,data_num_int],axis=1)\n",
    "df.isnull().sum()"
   ]
  },
  {
   "cell_type": "code",
   "execution_count": 5,
   "metadata": {},
   "outputs": [
    {
     "data": {
      "text/html": [
       "<div>\n",
       "<style scoped>\n",
       "    .dataframe tbody tr th:only-of-type {\n",
       "        vertical-align: middle;\n",
       "    }\n",
       "\n",
       "    .dataframe tbody tr th {\n",
       "        vertical-align: top;\n",
       "    }\n",
       "\n",
       "    .dataframe thead th {\n",
       "        text-align: right;\n",
       "    }\n",
       "</style>\n",
       "<table border=\"1\" class=\"dataframe\">\n",
       "  <thead>\n",
       "    <tr style=\"text-align: right;\">\n",
       "      <th></th>\n",
       "      <th>Recipe_code</th>\n",
       "      <th>Recipe_name</th>\n",
       "      <th>new</th>\n",
       "      <th>score</th>\n",
       "      <th>price</th>\n",
       "      <th>ingredients_list</th>\n",
       "      <th>ingredients_count</th>\n",
       "    </tr>\n",
       "  </thead>\n",
       "  <tbody>\n",
       "    <tr>\n",
       "      <th>0</th>\n",
       "      <td>R10030</td>\n",
       "      <td>Teriyaki Chicken with Coconut Rice and Bok Choy</td>\n",
       "      <td>0.0</td>\n",
       "      <td>2.37</td>\n",
       "      <td>7.28</td>\n",
       "      <td>[Chicken, Breasts, Rice, Basmati, Garlic, Peel...</td>\n",
       "      <td>11</td>\n",
       "    </tr>\n",
       "    <tr>\n",
       "      <th>1</th>\n",
       "      <td>R10082</td>\n",
       "      <td>Rosemary-Walnut Crusted Chicken</td>\n",
       "      <td>0.0</td>\n",
       "      <td>4.94</td>\n",
       "      <td>8.10</td>\n",
       "      <td>[Chicken, Breasts, Potato, Russet, Lettuce, Sp...</td>\n",
       "      <td>26</td>\n",
       "    </tr>\n",
       "    <tr>\n",
       "      <th>2</th>\n",
       "      <td>R10118</td>\n",
       "      <td>UK Chicken with Mustard Sauce NOT FOR FAMILY</td>\n",
       "      <td>0.0</td>\n",
       "      <td>4.96</td>\n",
       "      <td>7.80</td>\n",
       "      <td>[Chicken, Breasts, Potato, Yukon B, Onion, Red...</td>\n",
       "      <td>26</td>\n",
       "    </tr>\n",
       "    <tr>\n",
       "      <th>3</th>\n",
       "      <td>R10123B</td>\n",
       "      <td>Smoky Chicken Fajitas with Charred Pepper and ...</td>\n",
       "      <td>0.0</td>\n",
       "      <td>2.11</td>\n",
       "      <td>7.73</td>\n",
       "      <td>[Chicken, Stir Fry, Onion, Red, Bell Pepper, R...</td>\n",
       "      <td>16</td>\n",
       "    </tr>\n",
       "    <tr>\n",
       "      <th>4</th>\n",
       "      <td>R10125</td>\n",
       "      <td>Do the Dukkah Chicken with Sweet Potatoes and ...</td>\n",
       "      <td>0.0</td>\n",
       "      <td>1.36</td>\n",
       "      <td>9.92</td>\n",
       "      <td>[Chicken, Breasts, Spice, Dukkah - \"Nutty Sesa...</td>\n",
       "      <td>18</td>\n",
       "    </tr>\n",
       "  </tbody>\n",
       "</table>\n",
       "</div>"
      ],
      "text/plain": [
       "  Recipe_code                                        Recipe_name  new  score  \\\n",
       "0      R10030    Teriyaki Chicken with Coconut Rice and Bok Choy  0.0   2.37   \n",
       "1      R10082                    Rosemary-Walnut Crusted Chicken  0.0   4.94   \n",
       "2      R10118       UK Chicken with Mustard Sauce NOT FOR FAMILY  0.0   4.96   \n",
       "3     R10123B  Smoky Chicken Fajitas with Charred Pepper and ...  0.0   2.11   \n",
       "4      R10125  Do the Dukkah Chicken with Sweet Potatoes and ...  0.0   1.36   \n",
       "\n",
       "   price                                   ingredients_list  ingredients_count  \n",
       "0   7.28  [Chicken, Breasts, Rice, Basmati, Garlic, Peel...                 11  \n",
       "1   8.10  [Chicken, Breasts, Potato, Russet, Lettuce, Sp...                 26  \n",
       "2   7.80  [Chicken, Breasts, Potato, Yukon B, Onion, Red...                 26  \n",
       "3   7.73  [Chicken, Stir Fry, Onion, Red, Bell Pepper, R...                 16  \n",
       "4   9.92  [Chicken, Breasts, Spice, Dukkah - \"Nutty Sesa...                 18  "
      ]
     },
     "execution_count": 5,
     "metadata": {},
     "output_type": "execute_result"
    }
   ],
   "source": [
    "df.head()"
   ]
  },
  {
   "cell_type": "code",
   "execution_count": 254,
   "metadata": {},
   "outputs": [
    {
     "data": {
      "text/html": [
       "<div>\n",
       "<style scoped>\n",
       "    .dataframe tbody tr th:only-of-type {\n",
       "        vertical-align: middle;\n",
       "    }\n",
       "\n",
       "    .dataframe tbody tr th {\n",
       "        vertical-align: top;\n",
       "    }\n",
       "\n",
       "    .dataframe thead th {\n",
       "        text-align: right;\n",
       "    }\n",
       "</style>\n",
       "<table border=\"1\" class=\"dataframe\">\n",
       "  <thead>\n",
       "    <tr style=\"text-align: right;\">\n",
       "      <th></th>\n",
       "      <th>total_bill</th>\n",
       "      <th>tip</th>\n",
       "      <th>sex</th>\n",
       "      <th>smoker</th>\n",
       "      <th>day</th>\n",
       "      <th>time</th>\n",
       "      <th>size</th>\n",
       "    </tr>\n",
       "  </thead>\n",
       "  <tbody>\n",
       "    <tr>\n",
       "      <th>0</th>\n",
       "      <td>16.99</td>\n",
       "      <td>1.01</td>\n",
       "      <td>Female</td>\n",
       "      <td>No</td>\n",
       "      <td>Sun</td>\n",
       "      <td>Dinner</td>\n",
       "      <td>2</td>\n",
       "    </tr>\n",
       "    <tr>\n",
       "      <th>1</th>\n",
       "      <td>10.34</td>\n",
       "      <td>1.66</td>\n",
       "      <td>Male</td>\n",
       "      <td>No</td>\n",
       "      <td>Sun</td>\n",
       "      <td>Dinner</td>\n",
       "      <td>3</td>\n",
       "    </tr>\n",
       "    <tr>\n",
       "      <th>2</th>\n",
       "      <td>21.01</td>\n",
       "      <td>3.50</td>\n",
       "      <td>Male</td>\n",
       "      <td>No</td>\n",
       "      <td>Sun</td>\n",
       "      <td>Dinner</td>\n",
       "      <td>3</td>\n",
       "    </tr>\n",
       "  </tbody>\n",
       "</table>\n",
       "</div>"
      ],
      "text/plain": [
       "   total_bill   tip     sex smoker  day    time  size\n",
       "0       16.99  1.01  Female     No  Sun  Dinner     2\n",
       "1       10.34  1.66    Male     No  Sun  Dinner     3\n",
       "2       21.01  3.50    Male     No  Sun  Dinner     3"
      ]
     },
     "execution_count": 254,
     "metadata": {},
     "output_type": "execute_result"
    }
   ],
   "source": [
    "import seaborn as sns\n",
    "import matplotlib.pyplot as plt\n",
    "import numpy as np\n",
    "\n",
    "df_del = sns.load_dataset(\"tips\")\n",
    "groupedvalues=df_del.groupby('day').sum().reset_index()\n",
    "\n",
    "df_del[:3]"
   ]
  },
  {
   "cell_type": "code",
   "execution_count": 268,
   "metadata": {},
   "outputs": [
    {
     "data": {
      "text/plain": [
       "Text(0, 0.5, '#Recipes containing this numer of inredients')"
      ]
     },
     "execution_count": 268,
     "metadata": {},
     "output_type": "execute_result"
    },
    {
     "data": {
      "image/png": "[encoded data removed]",
      "text/plain": [
       "<Figure size 432x288 with 1 Axes>"
      ]
     },
     "metadata": {
      "needs_background": "light"
     },
     "output_type": "display_data"
    }
   ],
   "source": [
    "ax = sns.countplot(x=\"ingredients_count\",data=df)\n",
    "plt.title('Histogram: distribution of the number of ingredients found in a recipe')\n",
    "plt.xlabel('#Ingredients in a recipe')\n",
    "plt.ylabel('#Recipes containing this numer of inredients')\n",
    "#df.groupby(['ingredients_count']).size().to_frame('count').reset_index().sort_values(['count'],ascending=False)"
   ]
  },
  {
   "cell_type": "code",
   "execution_count": 281,
   "metadata": {},
   "outputs": [
    {
     "name": "stdout",
     "output_type": "stream",
     "text": [
      "mean of #Ingredients in a recipe is:  17.145251396648046\n",
      "std deviation of #Ingredients in a recipe is:  7.205734086724231\n"
     ]
    },
    {
     "data": {
      "image/png": "[encoded data removed]",
      "text/plain": [
       "<Figure size 432x288 with 1 Axes>"
      ]
     },
     "metadata": {
      "needs_background": "light"
     },
     "output_type": "display_data"
    }
   ],
   "source": [
    "sns.distplot(df.ingredients_count,norm_hist=True)\n",
    "plt.title('Normal distribution of the number of ingredients found in a recipe')\n",
    "plt.xlabel('#Ingredients in a recipe')\n",
    "#df.Recipe_name.nunique()\n",
    "print(\"mean of #Ingredients in a recipe is: \",df.ingredients_count.mean())\n",
    "print(\"std deviation of #Ingredients in a recipe is: \",df.ingredients_count.std())      "
   ]
  },
  {
   "cell_type": "markdown",
   "metadata": {},
   "source": [
    "1. Looks like there are more recipes with low ingridient count.\n",
    "2. There are few recipes with count as high as 20.\n",
    "3. Normal distribution of ingridient count is 17 with std. deviation of 7."
   ]
  },
  {
   "cell_type": "code",
   "execution_count": 11,
   "metadata": {},
   "outputs": [
    {
     "data": {
      "image/png": "[encoded data removed]",
      "text/plain": [
       "<Figure size 432x288 with 1 Axes>"
      ]
     },
     "metadata": {
      "needs_background": "light"
     },
     "output_type": "display_data"
    }
   ],
   "source": [
    "import matplotlib.pyplot as plt\n",
    "import seaborn as sns\n",
    "ax = sns.scatterplot(x=\"score\", y=\"ingredients_count\", hue=\"price\",data=df)"
   ]
  },
  {
   "cell_type": "markdown",
   "metadata": {},
   "source": [
    "1. Looks like there are few recipes with ingridient count as high as 50 and above.\n",
    "2. In general most recipes have ingridient counts clustered between 10 to 20.\n",
    "3. Variety count of ingridinet does not gurrantee high recipe score."
   ]
  },
  {
   "cell_type": "markdown",
   "metadata": {},
   "source": [
    "let's see the normal distribution of the score"
   ]
  },
  {
   "cell_type": "code",
   "execution_count": 12,
   "metadata": {},
   "outputs": [
    {
     "name": "stdout",
     "output_type": "stream",
     "text": [
      "Skewness: 0.490653\n",
      "Kurtosis: -0.528273\n"
     ]
    },
    {
     "data": {
      "image/png": "[encoded data removed]",
      "text/plain": [
       "<Figure size 432x288 with 1 Axes>"
      ]
     },
     "metadata": {
      "needs_background": "light"
     },
     "output_type": "display_data"
    }
   ],
   "source": [
    "sns.distplot(df.score)\n",
    "\n",
    "#skewness and kurtosis\n",
    "print(\"Skewness: %f\" % df['score'].skew())\n",
    "print(\"Kurtosis: %f\" % df['score'].kurt())"
   ]
  },
  {
   "cell_type": "markdown",
   "metadata": {},
   "source": [
    "1. Normal distribution peaks around score of 2; looks like lot of recipes are scored low.\n",
    "2. Skewness or degree of distortion from the symmetrical\n",
    "3. Kurtosis describes the extreme values in tails. It is actually the measure of outliers present in the distribution."
   ]
  },
  {
   "cell_type": "code",
   "execution_count": 84,
   "metadata": {},
   "outputs": [
    {
     "name": "stdout",
     "output_type": "stream",
     "text": [
      "maximum score in the dataset is 5.9\n",
      "minimum score in the dataset is 0.72\n",
      "maximum price in the dataset is 9.97\n"
     ]
    }
   ],
   "source": [
    "print(\"maximum score in the dataset is %r\" %(df['score'].max()))\n",
    "print(\"minimum score in the dataset is %r\" %(df['score'].min()))\n",
    "print(\"maximum price in the dataset is %r\" %(df['price'].max()))"
   ]
  },
  {
   "cell_type": "code",
   "execution_count": 6,
   "metadata": {},
   "outputs": [
    {
     "data": {
      "text/html": [
       "<div>\n",
       "<style scoped>\n",
       "    .dataframe tbody tr th:only-of-type {\n",
       "        vertical-align: middle;\n",
       "    }\n",
       "\n",
       "    .dataframe tbody tr th {\n",
       "        vertical-align: top;\n",
       "    }\n",
       "\n",
       "    .dataframe thead th {\n",
       "        text-align: right;\n",
       "    }\n",
       "</style>\n",
       "<table border=\"1\" class=\"dataframe\">\n",
       "  <thead>\n",
       "    <tr style=\"text-align: right;\">\n",
       "      <th></th>\n",
       "      <th>Recipe_code</th>\n",
       "      <th>Recipe_name</th>\n",
       "      <th>ingredients_list</th>\n",
       "      <th>score</th>\n",
       "      <th>price</th>\n",
       "      <th>ingredients_count</th>\n",
       "    </tr>\n",
       "  </thead>\n",
       "  <tbody>\n",
       "    <tr>\n",
       "      <th>34</th>\n",
       "      <td>R20039</td>\n",
       "      <td>Soy Glazed Steak</td>\n",
       "      <td>[Steak, Tri-Tip, Potato, Russet, Wasabi Paste,...</td>\n",
       "      <td>5.90</td>\n",
       "      <td>9.11</td>\n",
       "      <td>18</td>\n",
       "    </tr>\n",
       "    <tr>\n",
       "      <th>91</th>\n",
       "      <td>R40068B</td>\n",
       "      <td>Cherry-Balsamic Glazed Pork Tenderloin with Fi...</td>\n",
       "      <td>[Pork, Tenderloin, Vinegar, Balsamic, Jam, Che...</td>\n",
       "      <td>5.64</td>\n",
       "      <td>8.42</td>\n",
       "      <td>13</td>\n",
       "    </tr>\n",
       "    <tr>\n",
       "      <th>60</th>\n",
       "      <td>R25127A</td>\n",
       "      <td>White BBQ Meatloaf</td>\n",
       "      <td>[Potato, Yukon B, Scallions, Mayonnaise, Vineg...</td>\n",
       "      <td>5.61</td>\n",
       "      <td>8.87</td>\n",
       "      <td>15</td>\n",
       "    </tr>\n",
       "    <tr>\n",
       "      <th>35</th>\n",
       "      <td>R20054</td>\n",
       "      <td>Quick-Marinated Steak</td>\n",
       "      <td>[Steak, Sirloin, Bell Pepper, Red/Orange/Yello...</td>\n",
       "      <td>5.58</td>\n",
       "      <td>8.08</td>\n",
       "      <td>14</td>\n",
       "    </tr>\n",
       "    <tr>\n",
       "      <th>27</th>\n",
       "      <td>R15152A</td>\n",
       "      <td>Sesame Pecan Chicken Tenders with Honey Mustard</td>\n",
       "      <td>[Chicken, Tenders 12oz (8-11 pieces/pack), Ses...</td>\n",
       "      <td>5.45</td>\n",
       "      <td>8.71</td>\n",
       "      <td>18</td>\n",
       "    </tr>\n",
       "  </tbody>\n",
       "</table>\n",
       "</div>"
      ],
      "text/plain": [
       "   Recipe_code                                        Recipe_name  \\\n",
       "34      R20039                                   Soy Glazed Steak   \n",
       "91     R40068B  Cherry-Balsamic Glazed Pork Tenderloin with Fi...   \n",
       "60     R25127A                                 White BBQ Meatloaf   \n",
       "35      R20054                              Quick-Marinated Steak   \n",
       "27     R15152A    Sesame Pecan Chicken Tenders with Honey Mustard   \n",
       "\n",
       "                                     ingredients_list  score  price  \\\n",
       "34  [Steak, Tri-Tip, Potato, Russet, Wasabi Paste,...   5.90   9.11   \n",
       "91  [Pork, Tenderloin, Vinegar, Balsamic, Jam, Che...   5.64   8.42   \n",
       "60  [Potato, Yukon B, Scallions, Mayonnaise, Vineg...   5.61   8.87   \n",
       "35  [Steak, Sirloin, Bell Pepper, Red/Orange/Yello...   5.58   8.08   \n",
       "27  [Chicken, Tenders 12oz (8-11 pieces/pack), Ses...   5.45   8.71   \n",
       "\n",
       "    ingredients_count  \n",
       "34                 18  \n",
       "91                 13  \n",
       "60                 15  \n",
       "35                 14  \n",
       "27                 18  "
      ]
     },
     "execution_count": 6,
     "metadata": {},
     "output_type": "execute_result"
    }
   ],
   "source": [
    "df.sort_values(by='score',ascending=False)[:5]"
   ]
  },
  {
   "cell_type": "code",
   "execution_count": 7,
   "metadata": {},
   "outputs": [
    {
     "data": {
      "text/html": [
       "<div>\n",
       "<style scoped>\n",
       "    .dataframe tbody tr th:only-of-type {\n",
       "        vertical-align: middle;\n",
       "    }\n",
       "\n",
       "    .dataframe tbody tr th {\n",
       "        vertical-align: top;\n",
       "    }\n",
       "\n",
       "    .dataframe thead th {\n",
       "        text-align: right;\n",
       "    }\n",
       "</style>\n",
       "<table border=\"1\" class=\"dataframe\">\n",
       "  <thead>\n",
       "    <tr style=\"text-align: right;\">\n",
       "      <th></th>\n",
       "      <th>Recipe_code</th>\n",
       "      <th>Recipe_name</th>\n",
       "      <th>ingredients_list</th>\n",
       "      <th>score</th>\n",
       "      <th>price</th>\n",
       "      <th>ingredients_count</th>\n",
       "    </tr>\n",
       "  </thead>\n",
       "  <tbody>\n",
       "    <tr>\n",
       "      <th>29</th>\n",
       "      <td>R15159B</td>\n",
       "      <td>Pulled Pork Rice Bowl</td>\n",
       "      <td>[Rice, Jasmine, Onion, Red, Bell Pepper, Green...</td>\n",
       "      <td>1.98</td>\n",
       "      <td>9.97</td>\n",
       "      <td>17</td>\n",
       "    </tr>\n",
       "    <tr>\n",
       "      <th>134</th>\n",
       "      <td>R60288</td>\n",
       "      <td>Roasted Vegetable Quesadillas</td>\n",
       "      <td>[Tortillas, 6-inch Flour, Squash, Zucchini, Li...</td>\n",
       "      <td>1.91</td>\n",
       "      <td>9.97</td>\n",
       "      <td>36</td>\n",
       "    </tr>\n",
       "    <tr>\n",
       "      <th>177</th>\n",
       "      <td>R90035A</td>\n",
       "      <td>Mexican Breakfast Pizza</td>\n",
       "      <td>[Bread, Flatbread, Mexican Spice Blend, Choriz...</td>\n",
       "      <td>0.97</td>\n",
       "      <td>9.96</td>\n",
       "      <td>12</td>\n",
       "    </tr>\n",
       "    <tr>\n",
       "      <th>66</th>\n",
       "      <td>R30023</td>\n",
       "      <td>Shrimp and Farro Bowl</td>\n",
       "      <td>[Shrimp, Farro, Shallot, Bell Pepper, Red/Oran...</td>\n",
       "      <td>2.07</td>\n",
       "      <td>9.93</td>\n",
       "      <td>26</td>\n",
       "    </tr>\n",
       "    <tr>\n",
       "      <th>4</th>\n",
       "      <td>R10125</td>\n",
       "      <td>Do the Dukkah Chicken with Sweet Potatoes and ...</td>\n",
       "      <td>[Chicken, Breasts, Spice, Dukkah - \"Nutty Sesa...</td>\n",
       "      <td>1.36</td>\n",
       "      <td>9.92</td>\n",
       "      <td>18</td>\n",
       "    </tr>\n",
       "  </tbody>\n",
       "</table>\n",
       "</div>"
      ],
      "text/plain": [
       "    Recipe_code                                        Recipe_name  \\\n",
       "29      R15159B                              Pulled Pork Rice Bowl   \n",
       "134      R60288                      Roasted Vegetable Quesadillas   \n",
       "177     R90035A                            Mexican Breakfast Pizza   \n",
       "66       R30023                              Shrimp and Farro Bowl   \n",
       "4        R10125  Do the Dukkah Chicken with Sweet Potatoes and ...   \n",
       "\n",
       "                                      ingredients_list  score  price  \\\n",
       "29   [Rice, Jasmine, Onion, Red, Bell Pepper, Green...   1.98   9.97   \n",
       "134  [Tortillas, 6-inch Flour, Squash, Zucchini, Li...   1.91   9.97   \n",
       "177  [Bread, Flatbread, Mexican Spice Blend, Choriz...   0.97   9.96   \n",
       "66   [Shrimp, Farro, Shallot, Bell Pepper, Red/Oran...   2.07   9.93   \n",
       "4    [Chicken, Breasts, Spice, Dukkah - \"Nutty Sesa...   1.36   9.92   \n",
       "\n",
       "     ingredients_count  \n",
       "29                  17  \n",
       "134                 36  \n",
       "177                 12  \n",
       "66                  26  \n",
       "4                   18  "
      ]
     },
     "execution_count": 7,
     "metadata": {},
     "output_type": "execute_result"
    }
   ],
   "source": [
    "df.sort_values(by='price',ascending=False)[:5]"
   ]
  },
  {
   "cell_type": "markdown",
   "metadata": {},
   "source": [
    "most frequently used ingredients in top 10 recipes"
   ]
  },
  {
   "cell_type": "code",
   "execution_count": 10,
   "metadata": {},
   "outputs": [
    {
     "name": "stdout",
     "output_type": "stream",
     "text": [
      "Green Beans;7\n",
      "Vinegar, Balsamic;7\n",
      "Rosemary;7\n",
      "Stock Concentrate, Beef;6\n",
      "Sour Cream;5\n"
     ]
    }
   ],
   "source": [
    "# most frequently used ingredients in top 10 recipes\n",
    "\n",
    "df_top10 = df.sort_values(by='score',ascending=False)[:10]\n",
    "ingridients_top10 = [item for sublist in df_top10['ingredients_list'].tolist() for item in sublist]\n",
    "\n",
    "fdist = nltk.FreqDist(ingridients_top10)\n",
    "for word, frequency in fdist.most_common(5):\n",
    "    print(u'{};{}'.format(word, frequency))"
   ]
  },
  {
   "cell_type": "markdown",
   "metadata": {},
   "source": [
    "most frequently used ingredients in all recipes"
   ]
  },
  {
   "cell_type": "code",
   "execution_count": 14,
   "metadata": {},
   "outputs": [
    {
     "name": "stdout",
     "output_type": "stream",
     "text": [
      "Garlic, Peeled;92\n",
      "Lemon;53\n",
      "Scallions;45\n",
      "Cheese, Shredded Parmesan;44\n",
      "Shallot;43\n"
     ]
    }
   ],
   "source": [
    "df_all_ingr = df.sort_values(by='score',ascending=False)\n",
    "ingridients_all = [item for sublist in df_all_ingr['ingredients_list'].tolist() for item in sublist]\n",
    "\n",
    "fdist = nltk.FreqDist(ingridients_all)\n",
    "for word, frequency in fdist.most_common(5):\n",
    "    print(u'{};{}'.format(word, frequency))"
   ]
  },
  {
   "cell_type": "code",
   "execution_count": 72,
   "metadata": {},
   "outputs": [
    {
     "data": {
      "text/plain": [
       "Recipe_code          0\n",
       "Recipe_name          0\n",
       "ingredients_list     0\n",
       "ingredients_count    0\n",
       "score                0\n",
       "new                  0\n",
       "price                0\n",
       "dtype: int64"
      ]
     },
     "execution_count": 72,
     "metadata": {},
     "output_type": "execute_result"
    }
   ],
   "source": [
    "df.isnull().sum()"
   ]
  },
  {
   "cell_type": "code",
   "execution_count": 70,
   "metadata": {},
   "outputs": [
    {
     "name": "stdout",
     "output_type": "stream",
     "text": [
      "grouping the ingridients dataset on recipe code and recipe name.. \n",
      "adding a feature column as ingredients_list and ingredients_count.. \n",
      "unique recipe codes in ingredients.csv:  257\n",
      "unique recipe codes in rating.csv:  222\n",
      "unique recipe codes in ingredients group:  222\n",
      "created a merged dataset with shape:  (222, 7)\n"
     ]
    }
   ],
   "source": [
    "df = datautil.preProcessData(path)\n",
    "df_pred = df.loc[df.new==1.0]\n",
    "df = df.loc[df.new==0.0]\n",
    "df_01 = df[['Recipe_code', 'Recipe_name', 'score', 'price','ingredients_count']]\n",
    "\n",
    "df_encoded = pd.get_dummies(df_01, columns=df_01.select_dtypes(include=['object']).columns, drop_first=True)\n",
    "df_encoded.dtypes\n",
    "\n",
    "dependentVar = 'score'\n",
    "y = df_encoded.loc[:,dependentVar]\n",
    "\n",
    "#labels = preprocessing.LabelEncoder().fit_transform(y)\n",
    "X = df_encoded.drop(dependentVar,1).values"
   ]
  },
  {
   "cell_type": "markdown",
   "metadata": {},
   "source": [
    "### Model the data"
   ]
  },
  {
   "cell_type": "code",
   "execution_count": 57,
   "metadata": {},
   "outputs": [],
   "source": [
    "df.head()\n",
    "df_01 = df[['Recipe_code', 'Recipe_name', 'score', 'price','ingredients_count']]"
   ]
  },
  {
   "cell_type": "markdown",
   "metadata": {},
   "source": [
    "dumy encoding and train test split and wrapping them to sklearn.pipeline "
   ]
  },
  {
   "cell_type": "code",
   "execution_count": 96,
   "metadata": {},
   "outputs": [
    {
     "name": "stdout",
     "output_type": "stream",
     "text": [
      "(125, 354)\n",
      "(54, 354)\n",
      "(125,)\n",
      "(54,)\n"
     ]
    }
   ],
   "source": [
    "print(X_train.shape)\n",
    "print(X_test.shape)\n",
    "print(y_train.shape)\n",
    "print(y_test.shape)"
   ]
  },
  {
   "cell_type": "code",
   "execution_count": 108,
   "metadata": {},
   "outputs": [
    {
     "data": {
      "text/plain": [
       "(54, 354)"
      ]
     },
     "execution_count": 108,
     "metadata": {},
     "output_type": "execute_result"
    }
   ],
   "source": [
    "import numpy as np\n",
    "#X_test.to_frame()\n",
    "X_test_2D = np.reshape(X_test, (-1, 354))\n",
    "X_test_2D.shape"
   ]
  },
  {
   "cell_type": "code",
   "execution_count": 126,
   "metadata": {},
   "outputs": [
    {
     "data": {
      "text/html": [
       "<div>\n",
       "<style scoped>\n",
       "    .dataframe tbody tr th:only-of-type {\n",
       "        vertical-align: middle;\n",
       "    }\n",
       "\n",
       "    .dataframe tbody tr th {\n",
       "        vertical-align: top;\n",
       "    }\n",
       "\n",
       "    .dataframe thead th {\n",
       "        text-align: right;\n",
       "    }\n",
       "</style>\n",
       "<table border=\"1\" class=\"dataframe\">\n",
       "  <thead>\n",
       "    <tr style=\"text-align: right;\">\n",
       "      <th></th>\n",
       "      <th>Recipe_code</th>\n",
       "      <th>Recipe_name</th>\n",
       "      <th>ingredients_list</th>\n",
       "      <th>ingredients_count</th>\n",
       "      <th>score</th>\n",
       "      <th>new</th>\n",
       "      <th>price</th>\n",
       "    </tr>\n",
       "  </thead>\n",
       "  <tbody>\n",
       "    <tr>\n",
       "      <th>0</th>\n",
       "      <td>R10030</td>\n",
       "      <td>Teriyaki Chicken with Coconut Rice and Bok Choy</td>\n",
       "      <td>[Chicken, Breasts, Rice, Basmati, Garlic, Peel...</td>\n",
       "      <td>11</td>\n",
       "      <td>2.37</td>\n",
       "      <td>0</td>\n",
       "      <td>7.28</td>\n",
       "    </tr>\n",
       "    <tr>\n",
       "      <th>1</th>\n",
       "      <td>R10082</td>\n",
       "      <td>Rosemary-Walnut Crusted Chicken</td>\n",
       "      <td>[Chicken, Breasts, Potato, Russet, Lettuce, Sp...</td>\n",
       "      <td>26</td>\n",
       "      <td>4.94</td>\n",
       "      <td>0</td>\n",
       "      <td>8.10</td>\n",
       "    </tr>\n",
       "  </tbody>\n",
       "</table>\n",
       "</div>"
      ],
      "text/plain": [
       "  Recipe_code                                      Recipe_name  \\\n",
       "0      R10030  Teriyaki Chicken with Coconut Rice and Bok Choy   \n",
       "1      R10082                  Rosemary-Walnut Crusted Chicken   \n",
       "\n",
       "                                    ingredients_list  ingredients_count  \\\n",
       "0  [Chicken, Breasts, Rice, Basmati, Garlic, Peel...                 11   \n",
       "1  [Chicken, Breasts, Potato, Russet, Lettuce, Sp...                 26   \n",
       "\n",
       "   score  new  price  \n",
       "0   2.37    0   7.28  \n",
       "1   4.94    0   8.10  "
      ]
     },
     "execution_count": 126,
     "metadata": {},
     "output_type": "execute_result"
    }
   ],
   "source": [
    "df[:2]"
   ]
  },
  {
   "cell_type": "code",
   "execution_count": 129,
   "metadata": {},
   "outputs": [
    {
     "ename": "TypeError",
     "evalue": "Can only merge Series or DataFrame objects, a <class 'numpy.ndarray'> was passed",
     "output_type": "error",
     "traceback": [
      "\u001b[1;31m---------------------------------------------------------------------------\u001b[0m",
      "\u001b[1;31mTypeError\u001b[0m                                 Traceback (most recent call last)",
      "\u001b[1;32m<ipython-input-129-7ebfefa12e5e>\u001b[0m in \u001b[0;36m<module>\u001b[1;34m\u001b[0m\n\u001b[1;32m----> 1\u001b[1;33m \u001b[0mdf_out\u001b[0m \u001b[1;33m=\u001b[0m \u001b[0mpd\u001b[0m\u001b[1;33m.\u001b[0m\u001b[0mmerge\u001b[0m\u001b[1;33m(\u001b[0m\u001b[0mdf\u001b[0m\u001b[1;33m,\u001b[0m\u001b[0my_pred\u001b[0m\u001b[1;33m,\u001b[0m\u001b[0mhow\u001b[0m \u001b[1;33m=\u001b[0m \u001b[1;34m'left'\u001b[0m\u001b[1;33m,\u001b[0m\u001b[0mleft_index\u001b[0m \u001b[1;33m=\u001b[0m \u001b[1;32mTrue\u001b[0m\u001b[1;33m,\u001b[0m \u001b[0mright_index\u001b[0m \u001b[1;33m=\u001b[0m \u001b[1;32mTrue\u001b[0m\u001b[1;33m)\u001b[0m\u001b[1;33m\u001b[0m\u001b[1;33m\u001b[0m\u001b[0m\n\u001b[0m\u001b[0;32m      2\u001b[0m \u001b[0mdf_out\u001b[0m\u001b[1;33m[\u001b[0m\u001b[1;33m:\u001b[0m\u001b[1;36m3\u001b[0m\u001b[1;33m]\u001b[0m\u001b[1;33m\u001b[0m\u001b[1;33m\u001b[0m\u001b[0m\n",
      "\u001b[1;32m~\\AppData\\Local\\Continuum\\anaconda3\\lib\\site-packages\\pandas\\core\\reshape\\merge.py\u001b[0m in \u001b[0;36mmerge\u001b[1;34m(left, right, how, on, left_on, right_on, left_index, right_index, sort, suffixes, copy, indicator, validate)\u001b[0m\n\u001b[0;32m     45\u001b[0m                          \u001b[0mright_index\u001b[0m\u001b[1;33m=\u001b[0m\u001b[0mright_index\u001b[0m\u001b[1;33m,\u001b[0m \u001b[0msort\u001b[0m\u001b[1;33m=\u001b[0m\u001b[0msort\u001b[0m\u001b[1;33m,\u001b[0m \u001b[0msuffixes\u001b[0m\u001b[1;33m=\u001b[0m\u001b[0msuffixes\u001b[0m\u001b[1;33m,\u001b[0m\u001b[1;33m\u001b[0m\u001b[1;33m\u001b[0m\u001b[0m\n\u001b[0;32m     46\u001b[0m                          \u001b[0mcopy\u001b[0m\u001b[1;33m=\u001b[0m\u001b[0mcopy\u001b[0m\u001b[1;33m,\u001b[0m \u001b[0mindicator\u001b[0m\u001b[1;33m=\u001b[0m\u001b[0mindicator\u001b[0m\u001b[1;33m,\u001b[0m\u001b[1;33m\u001b[0m\u001b[1;33m\u001b[0m\u001b[0m\n\u001b[1;32m---> 47\u001b[1;33m                          validate=validate)\n\u001b[0m\u001b[0;32m     48\u001b[0m     \u001b[1;32mreturn\u001b[0m \u001b[0mop\u001b[0m\u001b[1;33m.\u001b[0m\u001b[0mget_result\u001b[0m\u001b[1;33m(\u001b[0m\u001b[1;33m)\u001b[0m\u001b[1;33m\u001b[0m\u001b[1;33m\u001b[0m\u001b[0m\n\u001b[0;32m     49\u001b[0m \u001b[1;33m\u001b[0m\u001b[0m\n",
      "\u001b[1;32m~\\AppData\\Local\\Continuum\\anaconda3\\lib\\site-packages\\pandas\\core\\reshape\\merge.py\u001b[0m in \u001b[0;36m__init__\u001b[1;34m(self, left, right, how, on, left_on, right_on, axis, left_index, right_index, sort, suffixes, copy, indicator, validate)\u001b[0m\n\u001b[0;32m    478\u001b[0m                  validate=None):\n\u001b[0;32m    479\u001b[0m         \u001b[0mleft\u001b[0m \u001b[1;33m=\u001b[0m \u001b[0mvalidate_operand\u001b[0m\u001b[1;33m(\u001b[0m\u001b[0mleft\u001b[0m\u001b[1;33m)\u001b[0m\u001b[1;33m\u001b[0m\u001b[1;33m\u001b[0m\u001b[0m\n\u001b[1;32m--> 480\u001b[1;33m         \u001b[0mright\u001b[0m \u001b[1;33m=\u001b[0m \u001b[0mvalidate_operand\u001b[0m\u001b[1;33m(\u001b[0m\u001b[0mright\u001b[0m\u001b[1;33m)\u001b[0m\u001b[1;33m\u001b[0m\u001b[1;33m\u001b[0m\u001b[0m\n\u001b[0m\u001b[0;32m    481\u001b[0m         \u001b[0mself\u001b[0m\u001b[1;33m.\u001b[0m\u001b[0mleft\u001b[0m \u001b[1;33m=\u001b[0m \u001b[0mself\u001b[0m\u001b[1;33m.\u001b[0m\u001b[0morig_left\u001b[0m \u001b[1;33m=\u001b[0m \u001b[0mleft\u001b[0m\u001b[1;33m\u001b[0m\u001b[1;33m\u001b[0m\u001b[0m\n\u001b[0;32m    482\u001b[0m         \u001b[0mself\u001b[0m\u001b[1;33m.\u001b[0m\u001b[0mright\u001b[0m \u001b[1;33m=\u001b[0m \u001b[0mself\u001b[0m\u001b[1;33m.\u001b[0m\u001b[0morig_right\u001b[0m \u001b[1;33m=\u001b[0m \u001b[0mright\u001b[0m\u001b[1;33m\u001b[0m\u001b[1;33m\u001b[0m\u001b[0m\n",
      "\u001b[1;32m~\\AppData\\Local\\Continuum\\anaconda3\\lib\\site-packages\\pandas\\core\\reshape\\merge.py\u001b[0m in \u001b[0;36mvalidate_operand\u001b[1;34m(obj)\u001b[0m\n\u001b[0;32m   1750\u001b[0m     \u001b[1;32melse\u001b[0m\u001b[1;33m:\u001b[0m\u001b[1;33m\u001b[0m\u001b[1;33m\u001b[0m\u001b[0m\n\u001b[0;32m   1751\u001b[0m         raise TypeError('Can only merge Series or DataFrame objects, '\n\u001b[1;32m-> 1752\u001b[1;33m                         'a {obj} was passed'.format(obj=type(obj)))\n\u001b[0m",
      "\u001b[1;31mTypeError\u001b[0m: Can only merge Series or DataFrame objects, a <class 'numpy.ndarray'> was passed"
     ]
    }
   ],
   "source": [
    "df_out = pd.merge(df,y_test[['pred']],how = 'left',left_index = True, right_index = True)\n",
    "df_out[:3]"
   ]
  },
  {
   "cell_type": "markdown",
   "metadata": {},
   "source": [
    "Regression Analysis - Refrenced from the Regression Analysis Github"
   ]
  },
  {
   "cell_type": "code",
   "execution_count": 244,
   "metadata": {},
   "outputs": [
    {
     "data": {
      "text/html": [
       "<div>\n",
       "<style scoped>\n",
       "    .dataframe tbody tr th:only-of-type {\n",
       "        vertical-align: middle;\n",
       "    }\n",
       "\n",
       "    .dataframe tbody tr th {\n",
       "        vertical-align: top;\n",
       "    }\n",
       "\n",
       "    .dataframe thead th {\n",
       "        text-align: right;\n",
       "    }\n",
       "</style>\n",
       "<table border=\"1\" class=\"dataframe\">\n",
       "  <thead>\n",
       "    <tr style=\"text-align: right;\">\n",
       "      <th></th>\n",
       "      <th>Recipe_code</th>\n",
       "      <th>Recipe_name</th>\n",
       "      <th>ingredients_list</th>\n",
       "      <th>ingredients_count</th>\n",
       "      <th>score</th>\n",
       "      <th>new</th>\n",
       "      <th>price</th>\n",
       "    </tr>\n",
       "  </thead>\n",
       "  <tbody>\n",
       "    <tr>\n",
       "      <th>0</th>\n",
       "      <td>R10030</td>\n",
       "      <td>Teriyaki Chicken with Coconut Rice and Bok Choy</td>\n",
       "      <td>[Chicken, Breasts, Rice, Basmati, Garlic, Peeled, Ginger, Coconut Milk, Light, Honey .5oz, Soy Sauce]</td>\n",
       "      <td>11</td>\n",
       "      <td>2.37</td>\n",
       "      <td>0</td>\n",
       "      <td>7.28</td>\n",
       "    </tr>\n",
       "    <tr>\n",
       "      <th>2</th>\n",
       "      <td>R10118</td>\n",
       "      <td>UK Chicken with Mustard Sauce NOT FOR FAMILY</td>\n",
       "      <td>[Chicken, Breasts, Potato, Yukon B, Onion, Red, Parsley, Green Beans, Mustard, Whole Grain, Vinegar, Red Wine, Sour Cream, Chicken, Breasts, Potato, Yukon B, Onion, Red, Parsley, Green Beans, Mustard, Whole Grain, Vinegar, Red Wine, Sour Cream]</td>\n",
       "      <td>26</td>\n",
       "      <td>4.96</td>\n",
       "      <td>0</td>\n",
       "      <td>7.80</td>\n",
       "    </tr>\n",
       "  </tbody>\n",
       "</table>\n",
       "</div>"
      ],
      "text/plain": [
       "  Recipe_code                                      Recipe_name  \\\n",
       "0      R10030  Teriyaki Chicken with Coconut Rice and Bok Choy   \n",
       "2      R10118     UK Chicken with Mustard Sauce NOT FOR FAMILY   \n",
       "\n",
       "                                                                                                                                                                                                                                       ingredients_list  \\\n",
       "0                                                                                                                                                 [Chicken, Breasts, Rice, Basmati, Garlic, Peeled, Ginger, Coconut Milk, Light, Honey .5oz, Soy Sauce]   \n",
       "2  [Chicken, Breasts, Potato, Yukon B, Onion, Red, Parsley, Green Beans, Mustard, Whole Grain, Vinegar, Red Wine, Sour Cream, Chicken, Breasts, Potato, Yukon B, Onion, Red, Parsley, Green Beans, Mustard, Whole Grain, Vinegar, Red Wine, Sour Cream]   \n",
       "\n",
       "   ingredients_count  score  new  price  \n",
       "0                 11   2.37    0   7.28  \n",
       "2                 26   4.96    0   7.80  "
      ]
     },
     "execution_count": 244,
     "metadata": {},
     "output_type": "execute_result"
    }
   ],
   "source": [
    "pd.set_option('display.max_colwidth', 500)\n",
    "df.head()\n",
    "df.loc[df.Recipe_code.isin(['R10030','R10118'])]"
   ]
  },
  {
   "cell_type": "code",
   "execution_count": 255,
   "metadata": {},
   "outputs": [
    {
     "name": "stdout",
     "output_type": "stream",
     "text": [
      "grouping the ingridients dataset on recipe code and recipe name.. \n",
      "adding a feature column as ingredients_list and ingredients_count.. \n",
      "unique recipe codes in ingredients.csv:  257\n",
      "unique recipe codes in rating.csv:  222\n",
      "unique recipe codes in ingredients group:  222\n",
      "created a merged dataset with shape:  (222, 7)\n"
     ]
    },
    {
     "data": {
      "text/html": [
       "<table class=\"simpletable\">\n",
       "<caption>OLS Regression Results</caption>\n",
       "<tr>\n",
       "  <th>Dep. Variable:</th>          <td>score</td>      <th>  R-squared:         </th> <td>   1.000</td> \n",
       "</tr>\n",
       "<tr>\n",
       "  <th>Model:</th>                   <td>OLS</td>       <th>  Adj. R-squared:    </th> <td>   1.000</td> \n",
       "</tr>\n",
       "<tr>\n",
       "  <th>Method:</th>             <td>Least Squares</td>  <th>  F-statistic:       </th> <td>1.093e+04</td>\n",
       "</tr>\n",
       "<tr>\n",
       "  <th>Date:</th>             <td>Sun, 17 Nov 2019</td> <th>  Prob (F-statistic):</th> <td>9.15e-05</td> \n",
       "</tr>\n",
       "<tr>\n",
       "  <th>Time:</th>                 <td>14:14:18</td>     <th>  Log-Likelihood:    </th> <td>  953.49</td> \n",
       "</tr>\n",
       "<tr>\n",
       "  <th>No. Observations:</th>      <td>   179</td>      <th>  AIC:               </th> <td>  -1553.</td> \n",
       "</tr>\n",
       "<tr>\n",
       "  <th>Df Residuals:</th>          <td>     2</td>      <th>  BIC:               </th> <td>  -988.8</td> \n",
       "</tr>\n",
       "<tr>\n",
       "  <th>Df Model:</th>              <td>   176</td>      <th>                     </th>     <td> </td>    \n",
       "</tr>\n",
       "<tr>\n",
       "  <th>Covariance Type:</th>      <td>nonrobust</td>    <th>                     </th>     <td> </td>    \n",
       "</tr>\n",
       "</table>\n",
       "<table class=\"simpletable\">\n",
       "<tr>\n",
       "    <td></td>       <th>coef</th>     <th>std err</th>      <th>t</th>      <th>P>|t|</th>  <th>[0.025</th>    <th>0.975]</th>  \n",
       "</tr>\n",
       "<tr>\n",
       "  <th>const</th> <td>    3.8454</td> <td>    0.062</td> <td>   62.311</td> <td> 0.000</td> <td>    3.580</td> <td>    4.111</td>\n",
       "</tr>\n",
       "<tr>\n",
       "  <th>x1</th>    <td>    0.0153</td> <td>    0.007</td> <td>    2.296</td> <td> 0.149</td> <td>   -0.013</td> <td>    0.044</td>\n",
       "</tr>\n",
       "<tr>\n",
       "  <th>x2</th>    <td>    0.0147</td> <td>    0.001</td> <td>   12.235</td> <td> 0.007</td> <td>    0.010</td> <td>    0.020</td>\n",
       "</tr>\n",
       "<tr>\n",
       "  <th>x3</th>    <td>   -2.2407</td> <td>    0.017</td> <td> -134.104</td> <td> 0.000</td> <td>   -2.313</td> <td>   -2.169</td>\n",
       "</tr>\n",
       "<tr>\n",
       "  <th>x4</th>    <td>   -1.1292</td> <td>    0.019</td> <td>  -58.011</td> <td> 0.000</td> <td>   -1.213</td> <td>   -1.045</td>\n",
       "</tr>\n",
       "<tr>\n",
       "  <th>x5</th>    <td>   -2.1584</td> <td>    0.022</td> <td>  -98.333</td> <td> 0.000</td> <td>   -2.253</td> <td>   -2.064</td>\n",
       "</tr>\n",
       "<tr>\n",
       "  <th>x6</th>    <td>   -2.9879</td> <td>    0.019</td> <td> -159.582</td> <td> 0.000</td> <td>   -3.068</td> <td>   -2.907</td>\n",
       "</tr>\n",
       "<tr>\n",
       "  <th>x7</th>    <td>   -0.3621</td> <td>    0.016</td> <td>  -22.789</td> <td> 0.002</td> <td>   -0.431</td> <td>   -0.294</td>\n",
       "</tr>\n",
       "<tr>\n",
       "  <th>x8</th>    <td>   -2.7821</td> <td>    0.024</td> <td> -114.853</td> <td> 0.000</td> <td>   -2.886</td> <td>   -2.678</td>\n",
       "</tr>\n",
       "<tr>\n",
       "  <th>x9</th>    <td>   -1.7153</td> <td>    0.030</td> <td>  -57.668</td> <td> 0.000</td> <td>   -1.843</td> <td>   -1.587</td>\n",
       "</tr>\n",
       "<tr>\n",
       "  <th>x10</th>   <td>   -1.1652</td> <td>    0.019</td> <td>  -59.933</td> <td> 0.000</td> <td>   -1.249</td> <td>   -1.082</td>\n",
       "</tr>\n",
       "<tr>\n",
       "  <th>x11</th>   <td>    0.6981</td> <td>    0.021</td> <td>   32.909</td> <td> 0.001</td> <td>    0.607</td> <td>    0.789</td>\n",
       "</tr>\n",
       "<tr>\n",
       "  <th>x12</th>   <td>   -1.8804</td> <td>    0.017</td> <td> -113.378</td> <td> 0.000</td> <td>   -1.952</td> <td>   -1.809</td>\n",
       "</tr>\n",
       "<tr>\n",
       "  <th>x13</th>   <td>   -1.3140</td> <td>    0.016</td> <td>  -80.172</td> <td> 0.000</td> <td>   -1.384</td> <td>   -1.243</td>\n",
       "</tr>\n",
       "<tr>\n",
       "  <th>x14</th>   <td>   -1.6556</td> <td>    0.019</td> <td>  -87.355</td> <td> 0.000</td> <td>   -1.737</td> <td>   -1.574</td>\n",
       "</tr>\n",
       "<tr>\n",
       "  <th>x15</th>   <td>   -1.6502</td> <td>    0.017</td> <td>  -94.837</td> <td> 0.000</td> <td>   -1.725</td> <td>   -1.575</td>\n",
       "</tr>\n",
       "<tr>\n",
       "  <th>x16</th>   <td>   -1.9530</td> <td>    0.022</td> <td>  -90.672</td> <td> 0.000</td> <td>   -2.046</td> <td>   -1.860</td>\n",
       "</tr>\n",
       "<tr>\n",
       "  <th>x17</th>   <td>   -3.1214</td> <td>    0.016</td> <td> -195.875</td> <td> 0.000</td> <td>   -3.190</td> <td>   -3.053</td>\n",
       "</tr>\n",
       "<tr>\n",
       "  <th>x18</th>   <td>   -0.0963</td> <td>    0.024</td> <td>   -4.023</td> <td> 0.057</td> <td>   -0.199</td> <td>    0.007</td>\n",
       "</tr>\n",
       "<tr>\n",
       "  <th>x19</th>   <td>   -0.4786</td> <td>    0.016</td> <td>  -30.091</td> <td> 0.001</td> <td>   -0.547</td> <td>   -0.410</td>\n",
       "</tr>\n",
       "<tr>\n",
       "  <th>x20</th>   <td>   -0.0233</td> <td>    0.017</td> <td>   -1.366</td> <td> 0.305</td> <td>   -0.097</td> <td>    0.050</td>\n",
       "</tr>\n",
       "<tr>\n",
       "  <th>x21</th>   <td>   -1.9214</td> <td>    0.016</td> <td> -116.640</td> <td> 0.000</td> <td>   -1.992</td> <td>   -1.851</td>\n",
       "</tr>\n",
       "<tr>\n",
       "  <th>x22</th>   <td>   -2.5465</td> <td>    0.021</td> <td> -119.335</td> <td> 0.000</td> <td>   -2.638</td> <td>   -2.455</td>\n",
       "</tr>\n",
       "<tr>\n",
       "  <th>x23</th>   <td>   -1.1892</td> <td>    0.028</td> <td>  -42.395</td> <td> 0.001</td> <td>   -1.310</td> <td>   -1.069</td>\n",
       "</tr>\n",
       "<tr>\n",
       "  <th>x24</th>   <td>   -1.9518</td> <td>    0.017</td> <td> -117.973</td> <td> 0.000</td> <td>   -2.023</td> <td>   -1.881</td>\n",
       "</tr>\n",
       "<tr>\n",
       "  <th>x25</th>   <td>   -1.4095</td> <td>    0.017</td> <td>  -84.759</td> <td> 0.000</td> <td>   -1.481</td> <td>   -1.338</td>\n",
       "</tr>\n",
       "<tr>\n",
       "  <th>x26</th>   <td>   -2.0762</td> <td>    0.060</td> <td>  -34.722</td> <td> 0.001</td> <td>   -2.333</td> <td>   -1.819</td>\n",
       "</tr>\n",
       "<tr>\n",
       "  <th>x27</th>   <td>    1.4754</td> <td>    0.017</td> <td>   88.843</td> <td> 0.000</td> <td>    1.404</td> <td>    1.547</td>\n",
       "</tr>\n",
       "<tr>\n",
       "  <th>x28</th>   <td>   -2.5024</td> <td>    0.021</td> <td> -118.478</td> <td> 0.000</td> <td>   -2.593</td> <td>   -2.411</td>\n",
       "</tr>\n",
       "<tr>\n",
       "  <th>x29</th>   <td>    0.1020</td> <td>    0.016</td> <td>    6.425</td> <td> 0.023</td> <td>    0.034</td> <td>    0.170</td>\n",
       "</tr>\n",
       "<tr>\n",
       "  <th>x30</th>   <td>   -2.2041</td> <td>    0.018</td> <td> -125.227</td> <td> 0.000</td> <td>   -2.280</td> <td>   -2.128</td>\n",
       "</tr>\n",
       "<tr>\n",
       "  <th>x31</th>   <td>   -0.9267</td> <td>    0.018</td> <td>  -51.425</td> <td> 0.000</td> <td>   -1.004</td> <td>   -0.849</td>\n",
       "</tr>\n",
       "<tr>\n",
       "  <th>x32</th>   <td>   -2.5464</td> <td>    0.018</td> <td> -141.040</td> <td> 0.000</td> <td>   -2.624</td> <td>   -2.469</td>\n",
       "</tr>\n",
       "<tr>\n",
       "  <th>x33</th>   <td>   -2.2572</td> <td>    0.017</td> <td> -134.401</td> <td> 0.000</td> <td>   -2.329</td> <td>   -2.185</td>\n",
       "</tr>\n",
       "<tr>\n",
       "  <th>x34</th>   <td>   -2.0264</td> <td>    0.018</td> <td> -115.428</td> <td> 0.000</td> <td>   -2.102</td> <td>   -1.951</td>\n",
       "</tr>\n",
       "<tr>\n",
       "  <th>x35</th>   <td>   -0.5642</td> <td>    0.016</td> <td>  -35.537</td> <td> 0.001</td> <td>   -0.632</td> <td>   -0.496</td>\n",
       "</tr>\n",
       "<tr>\n",
       "  <th>x36</th>   <td>   -2.3295</td> <td>    0.016</td> <td> -146.333</td> <td> 0.000</td> <td>   -2.398</td> <td>   -2.261</td>\n",
       "</tr>\n",
       "<tr>\n",
       "  <th>x37</th>   <td>   -3.0171</td> <td>    0.021</td> <td> -143.800</td> <td> 0.000</td> <td>   -3.107</td> <td>   -2.927</td>\n",
       "</tr>\n",
       "<tr>\n",
       "  <th>x38</th>   <td>   -2.7992</td> <td>    0.021</td> <td> -131.484</td> <td> 0.000</td> <td>   -2.891</td> <td>   -2.708</td>\n",
       "</tr>\n",
       "<tr>\n",
       "  <th>x39</th>   <td>   -0.6808</td> <td>    0.051</td> <td>  -13.257</td> <td> 0.006</td> <td>   -0.902</td> <td>   -0.460</td>\n",
       "</tr>\n",
       "<tr>\n",
       "  <th>x40</th>   <td>   -2.9008</td> <td>    0.024</td> <td> -121.196</td> <td> 0.000</td> <td>   -3.004</td> <td>   -2.798</td>\n",
       "</tr>\n",
       "<tr>\n",
       "  <th>x41</th>   <td>   -0.5289</td> <td>    0.019</td> <td>  -27.390</td> <td> 0.001</td> <td>   -0.612</td> <td>   -0.446</td>\n",
       "</tr>\n",
       "<tr>\n",
       "  <th>x42</th>   <td>   -0.0794</td> <td>    0.018</td> <td>   -4.379</td> <td> 0.048</td> <td>   -0.157</td> <td>   -0.001</td>\n",
       "</tr>\n",
       "<tr>\n",
       "  <th>x43</th>   <td>   -2.6597</td> <td>    0.016</td> <td> -165.633</td> <td> 0.000</td> <td>   -2.729</td> <td>   -2.591</td>\n",
       "</tr>\n",
       "<tr>\n",
       "  <th>x44</th>   <td>   -2.3852</td> <td>    0.019</td> <td> -128.290</td> <td> 0.000</td> <td>   -2.465</td> <td>   -2.305</td>\n",
       "</tr>\n",
       "<tr>\n",
       "  <th>x45</th>   <td>   -1.3620</td> <td>    0.020</td> <td>  -68.417</td> <td> 0.000</td> <td>   -1.448</td> <td>   -1.276</td>\n",
       "</tr>\n",
       "<tr>\n",
       "  <th>x46</th>   <td>   -0.4912</td> <td>    0.024</td> <td>  -20.390</td> <td> 0.002</td> <td>   -0.595</td> <td>   -0.388</td>\n",
       "</tr>\n",
       "<tr>\n",
       "  <th>x47</th>   <td>   -2.2693</td> <td>    0.020</td> <td> -110.736</td> <td> 0.000</td> <td>   -2.357</td> <td>   -2.181</td>\n",
       "</tr>\n",
       "<tr>\n",
       "  <th>x48</th>   <td>   -2.7210</td> <td>    0.016</td> <td> -172.216</td> <td> 0.000</td> <td>   -2.789</td> <td>   -2.653</td>\n",
       "</tr>\n",
       "<tr>\n",
       "  <th>x49</th>   <td>   -0.2598</td> <td>    0.017</td> <td>  -15.614</td> <td> 0.004</td> <td>   -0.331</td> <td>   -0.188</td>\n",
       "</tr>\n",
       "<tr>\n",
       "  <th>x50</th>   <td>   -0.5249</td> <td>    0.019</td> <td>  -27.103</td> <td> 0.001</td> <td>   -0.608</td> <td>   -0.442</td>\n",
       "</tr>\n",
       "<tr>\n",
       "  <th>x51</th>   <td>   -1.5315</td> <td>    0.016</td> <td>  -96.999</td> <td> 0.000</td> <td>   -1.599</td> <td>   -1.464</td>\n",
       "</tr>\n",
       "<tr>\n",
       "  <th>x52</th>   <td>   -2.4283</td> <td>    0.017</td> <td> -142.392</td> <td> 0.000</td> <td>   -2.502</td> <td>   -2.355</td>\n",
       "</tr>\n",
       "<tr>\n",
       "  <th>x53</th>   <td>   -2.9589</td> <td>    0.019</td> <td> -157.127</td> <td> 0.000</td> <td>   -3.040</td> <td>   -2.878</td>\n",
       "</tr>\n",
       "<tr>\n",
       "  <th>x54</th>   <td>   -0.4988</td> <td>    0.017</td> <td>  -29.819</td> <td> 0.001</td> <td>   -0.571</td> <td>   -0.427</td>\n",
       "</tr>\n",
       "<tr>\n",
       "  <th>x55</th>   <td>    0.5096</td> <td>    0.016</td> <td>   32.154</td> <td> 0.001</td> <td>    0.441</td> <td>    0.578</td>\n",
       "</tr>\n",
       "<tr>\n",
       "  <th>x56</th>   <td>   -1.7810</td> <td>    0.016</td> <td> -112.160</td> <td> 0.000</td> <td>   -1.849</td> <td>   -1.713</td>\n",
       "</tr>\n",
       "<tr>\n",
       "  <th>x57</th>   <td>   -2.0572</td> <td>    0.017</td> <td> -121.606</td> <td> 0.000</td> <td>   -2.130</td> <td>   -1.984</td>\n",
       "</tr>\n",
       "<tr>\n",
       "  <th>x58</th>   <td>   -1.6442</td> <td>    0.016</td> <td> -100.954</td> <td> 0.000</td> <td>   -1.714</td> <td>   -1.574</td>\n",
       "</tr>\n",
       "<tr>\n",
       "  <th>x59</th>   <td>   -2.1496</td> <td>    0.016</td> <td> -131.622</td> <td> 0.000</td> <td>   -2.220</td> <td>   -2.079</td>\n",
       "</tr>\n",
       "<tr>\n",
       "  <th>x60</th>   <td>   -1.3721</td> <td>    0.018</td> <td>  -77.287</td> <td> 0.000</td> <td>   -1.448</td> <td>   -1.296</td>\n",
       "</tr>\n",
       "<tr>\n",
       "  <th>x61</th>   <td>   -2.2199</td> <td>    0.022</td> <td>  -99.027</td> <td> 0.000</td> <td>   -2.316</td> <td>   -2.123</td>\n",
       "</tr>\n",
       "<tr>\n",
       "  <th>x62</th>   <td>   -0.4373</td> <td>    0.026</td> <td>  -16.917</td> <td> 0.003</td> <td>   -0.549</td> <td>   -0.326</td>\n",
       "</tr>\n",
       "<tr>\n",
       "  <th>x63</th>   <td>    0.0160</td> <td>    0.016</td> <td>    0.992</td> <td> 0.426</td> <td>   -0.053</td> <td>    0.085</td>\n",
       "</tr>\n",
       "<tr>\n",
       "  <th>x64</th>   <td>   -2.1658</td> <td>    0.018</td> <td> -118.466</td> <td> 0.000</td> <td>   -2.244</td> <td>   -2.087</td>\n",
       "</tr>\n",
       "<tr>\n",
       "  <th>x65</th>   <td>   -3.2034</td> <td>    0.022</td> <td> -147.930</td> <td> 0.000</td> <td>   -3.297</td> <td>   -3.110</td>\n",
       "</tr>\n",
       "<tr>\n",
       "  <th>x66</th>   <td>   -0.1506</td> <td>    0.018</td> <td>   -8.398</td> <td> 0.014</td> <td>   -0.228</td> <td>   -0.073</td>\n",
       "</tr>\n",
       "<tr>\n",
       "  <th>x67</th>   <td>   -0.6454</td> <td>    0.017</td> <td>  -37.947</td> <td> 0.001</td> <td>   -0.719</td> <td>   -0.572</td>\n",
       "</tr>\n",
       "<tr>\n",
       "  <th>x68</th>   <td>   -2.7789</td> <td>    0.021</td> <td> -131.612</td> <td> 0.000</td> <td>   -2.870</td> <td>   -2.688</td>\n",
       "</tr>\n",
       "<tr>\n",
       "  <th>x69</th>   <td>   -0.3435</td> <td>    0.021</td> <td>  -16.675</td> <td> 0.004</td> <td>   -0.432</td> <td>   -0.255</td>\n",
       "</tr>\n",
       "<tr>\n",
       "  <th>x70</th>   <td>   -2.0502</td> <td>    0.019</td> <td> -109.005</td> <td> 0.000</td> <td>   -2.131</td> <td>   -1.969</td>\n",
       "</tr>\n",
       "<tr>\n",
       "  <th>x71</th>   <td>   -0.9216</td> <td>    0.016</td> <td>  -56.547</td> <td> 0.000</td> <td>   -0.992</td> <td>   -0.852</td>\n",
       "</tr>\n",
       "<tr>\n",
       "  <th>x72</th>   <td>   -2.2927</td> <td>    0.019</td> <td> -121.644</td> <td> 0.000</td> <td>   -2.374</td> <td>   -2.212</td>\n",
       "</tr>\n",
       "<tr>\n",
       "  <th>x73</th>   <td>   -2.4402</td> <td>    0.024</td> <td> -102.796</td> <td> 0.000</td> <td>   -2.542</td> <td>   -2.338</td>\n",
       "</tr>\n",
       "<tr>\n",
       "  <th>x74</th>   <td>   -0.3819</td> <td>    0.017</td> <td>  -22.465</td> <td> 0.002</td> <td>   -0.455</td> <td>   -0.309</td>\n",
       "</tr>\n",
       "<tr>\n",
       "  <th>x75</th>   <td>   -1.1200</td> <td>    0.020</td> <td>  -56.968</td> <td> 0.000</td> <td>   -1.205</td> <td>   -1.035</td>\n",
       "</tr>\n",
       "<tr>\n",
       "  <th>x76</th>   <td>   -2.3154</td> <td>    0.026</td> <td>  -89.734</td> <td> 0.000</td> <td>   -2.426</td> <td>   -2.204</td>\n",
       "</tr>\n",
       "<tr>\n",
       "  <th>x77</th>   <td>   -2.1577</td> <td>    0.021</td> <td> -103.476</td> <td> 0.000</td> <td>   -2.247</td> <td>   -2.068</td>\n",
       "</tr>\n",
       "<tr>\n",
       "  <th>x78</th>   <td>   -1.0925</td> <td>    0.019</td> <td>  -58.134</td> <td> 0.000</td> <td>   -1.173</td> <td>   -1.012</td>\n",
       "</tr>\n",
       "<tr>\n",
       "  <th>x79</th>   <td>   -1.1412</td> <td>    0.019</td> <td>  -61.619</td> <td> 0.000</td> <td>   -1.221</td> <td>   -1.062</td>\n",
       "</tr>\n",
       "<tr>\n",
       "  <th>x80</th>   <td>   -2.7546</td> <td>    0.016</td> <td> -170.613</td> <td> 0.000</td> <td>   -2.824</td> <td>   -2.685</td>\n",
       "</tr>\n",
       "<tr>\n",
       "  <th>x81</th>   <td>   -0.4045</td> <td>    0.016</td> <td>  -24.915</td> <td> 0.002</td> <td>   -0.474</td> <td>   -0.335</td>\n",
       "</tr>\n",
       "<tr>\n",
       "  <th>x82</th>   <td>   -2.1223</td> <td>    0.016</td> <td> -133.623</td> <td> 0.000</td> <td>   -2.191</td> <td>   -2.054</td>\n",
       "</tr>\n",
       "<tr>\n",
       "  <th>x83</th>   <td>   -0.3947</td> <td>    0.017</td> <td>  -23.246</td> <td> 0.002</td> <td>   -0.468</td> <td>   -0.322</td>\n",
       "</tr>\n",
       "<tr>\n",
       "  <th>x84</th>   <td>    0.2251</td> <td>    0.018</td> <td>   12.435</td> <td> 0.006</td> <td>    0.147</td> <td>    0.303</td>\n",
       "</tr>\n",
       "<tr>\n",
       "  <th>x85</th>   <td>   -1.1894</td> <td>    0.024</td> <td>  -49.298</td> <td> 0.000</td> <td>   -1.293</td> <td>   -1.086</td>\n",
       "</tr>\n",
       "<tr>\n",
       "  <th>x86</th>   <td>   -2.4524</td> <td>    0.019</td> <td> -132.422</td> <td> 0.000</td> <td>   -2.532</td> <td>   -2.373</td>\n",
       "</tr>\n",
       "<tr>\n",
       "  <th>x87</th>   <td>    0.5638</td> <td>    0.022</td> <td>   25.068</td> <td> 0.002</td> <td>    0.467</td> <td>    0.661</td>\n",
       "</tr>\n",
       "<tr>\n",
       "  <th>x88</th>   <td>    0.5866</td> <td>    0.017</td> <td>   34.485</td> <td> 0.001</td> <td>    0.513</td> <td>    0.660</td>\n",
       "</tr>\n",
       "<tr>\n",
       "  <th>x89</th>   <td>   -2.6966</td> <td>    0.030</td> <td>  -89.585</td> <td> 0.000</td> <td>   -2.826</td> <td>   -2.567</td>\n",
       "</tr>\n",
       "<tr>\n",
       "  <th>x90</th>   <td>   -0.4681</td> <td>    0.016</td> <td>  -29.470</td> <td> 0.001</td> <td>   -0.536</td> <td>   -0.400</td>\n",
       "</tr>\n",
       "<tr>\n",
       "  <th>x91</th>   <td>   -2.2669</td> <td>    0.024</td> <td>  -95.912</td> <td> 0.000</td> <td>   -2.369</td> <td>   -2.165</td>\n",
       "</tr>\n",
       "<tr>\n",
       "  <th>x92</th>   <td>    1.4060</td> <td>    0.016</td> <td>   87.379</td> <td> 0.000</td> <td>    1.337</td> <td>    1.475</td>\n",
       "</tr>\n",
       "<tr>\n",
       "  <th>x93</th>   <td>   -1.1805</td> <td>    0.020</td> <td>  -58.659</td> <td> 0.000</td> <td>   -1.267</td> <td>   -1.094</td>\n",
       "</tr>\n",
       "<tr>\n",
       "  <th>x94</th>   <td>   -0.5514</td> <td>    0.020</td> <td>  -26.995</td> <td> 0.001</td> <td>   -0.639</td> <td>   -0.463</td>\n",
       "</tr>\n",
       "<tr>\n",
       "  <th>x95</th>   <td>    1.1316</td> <td>    0.016</td> <td>   68.783</td> <td> 0.000</td> <td>    1.061</td> <td>    1.202</td>\n",
       "</tr>\n",
       "<tr>\n",
       "  <th>x96</th>   <td>   -0.8971</td> <td>    0.020</td> <td>  -45.021</td> <td> 0.000</td> <td>   -0.983</td> <td>   -0.811</td>\n",
       "</tr>\n",
       "<tr>\n",
       "  <th>x97</th>   <td>   -2.6964</td> <td>    0.023</td> <td> -119.619</td> <td> 0.000</td> <td>   -2.793</td> <td>   -2.599</td>\n",
       "</tr>\n",
       "<tr>\n",
       "  <th>x98</th>   <td>   -1.7757</td> <td>    0.019</td> <td>  -95.777</td> <td> 0.000</td> <td>   -1.856</td> <td>   -1.696</td>\n",
       "</tr>\n",
       "<tr>\n",
       "  <th>x99</th>   <td>   -1.5517</td> <td>    0.022</td> <td>  -70.760</td> <td> 0.000</td> <td>   -1.646</td> <td>   -1.457</td>\n",
       "</tr>\n",
       "<tr>\n",
       "  <th>x100</th>  <td>   -1.1372</td> <td>    0.020</td> <td>  -58.108</td> <td> 0.000</td> <td>   -1.221</td> <td>   -1.053</td>\n",
       "</tr>\n",
       "<tr>\n",
       "  <th>x101</th>  <td>   -2.6155</td> <td>    0.039</td> <td>  -66.493</td> <td> 0.000</td> <td>   -2.785</td> <td>   -2.446</td>\n",
       "</tr>\n",
       "<tr>\n",
       "  <th>x102</th>  <td>   -2.0907</td> <td>    0.020</td> <td> -102.369</td> <td> 0.000</td> <td>   -2.179</td> <td>   -2.003</td>\n",
       "</tr>\n",
       "<tr>\n",
       "  <th>x103</th>  <td>    0.5897</td> <td>    0.022</td> <td>   26.724</td> <td> 0.001</td> <td>    0.495</td> <td>    0.685</td>\n",
       "</tr>\n",
       "<tr>\n",
       "  <th>x104</th>  <td>   -3.4810</td> <td>    0.022</td> <td> -160.089</td> <td> 0.000</td> <td>   -3.575</td> <td>   -3.387</td>\n",
       "</tr>\n",
       "<tr>\n",
       "  <th>x105</th>  <td>   -2.0219</td> <td>    0.021</td> <td>  -95.308</td> <td> 0.000</td> <td>   -2.113</td> <td>   -1.931</td>\n",
       "</tr>\n",
       "<tr>\n",
       "  <th>x106</th>  <td>   -2.6428</td> <td>    0.016</td> <td> -160.183</td> <td> 0.000</td> <td>   -2.714</td> <td>   -2.572</td>\n",
       "</tr>\n",
       "<tr>\n",
       "  <th>x107</th>  <td>   -0.1095</td> <td>    0.035</td> <td>   -3.106</td> <td> 0.090</td> <td>   -0.261</td> <td>    0.042</td>\n",
       "</tr>\n",
       "<tr>\n",
       "  <th>x108</th>  <td>   -1.1491</td> <td>    0.018</td> <td>  -64.585</td> <td> 0.000</td> <td>   -1.226</td> <td>   -1.073</td>\n",
       "</tr>\n",
       "<tr>\n",
       "  <th>x109</th>  <td>    0.3477</td> <td>    0.016</td> <td>   21.752</td> <td> 0.002</td> <td>    0.279</td> <td>    0.416</td>\n",
       "</tr>\n",
       "<tr>\n",
       "  <th>x110</th>  <td>    0.1166</td> <td>    0.015</td> <td>    7.630</td> <td> 0.017</td> <td>    0.051</td> <td>    0.182</td>\n",
       "</tr>\n",
       "<tr>\n",
       "  <th>x111</th>  <td>   -1.0265</td> <td>    0.018</td> <td>  -58.416</td> <td> 0.000</td> <td>   -1.102</td> <td>   -0.951</td>\n",
       "</tr>\n",
       "<tr>\n",
       "  <th>x112</th>  <td>   -0.7672</td> <td>    0.017</td> <td>  -46.026</td> <td> 0.000</td> <td>   -0.839</td> <td>   -0.695</td>\n",
       "</tr>\n",
       "<tr>\n",
       "  <th>x113</th>  <td>   -1.4561</td> <td>    0.021</td> <td>  -68.464</td> <td> 0.000</td> <td>   -1.548</td> <td>   -1.365</td>\n",
       "</tr>\n",
       "<tr>\n",
       "  <th>x114</th>  <td>   -0.1510</td> <td>    0.016</td> <td>   -9.508</td> <td> 0.011</td> <td>   -0.219</td> <td>   -0.083</td>\n",
       "</tr>\n",
       "<tr>\n",
       "  <th>x115</th>  <td>    0.2439</td> <td>    0.019</td> <td>   12.566</td> <td> 0.006</td> <td>    0.160</td> <td>    0.327</td>\n",
       "</tr>\n",
       "<tr>\n",
       "  <th>x116</th>  <td>   -1.3471</td> <td>    0.022</td> <td>  -61.435</td> <td> 0.000</td> <td>   -1.441</td> <td>   -1.253</td>\n",
       "</tr>\n",
       "<tr>\n",
       "  <th>x117</th>  <td>   -2.4048</td> <td>    0.017</td> <td> -141.439</td> <td> 0.000</td> <td>   -2.478</td> <td>   -2.332</td>\n",
       "</tr>\n",
       "<tr>\n",
       "  <th>x118</th>  <td>    1.2077</td> <td>    0.019</td> <td>   64.384</td> <td> 0.000</td> <td>    1.127</td> <td>    1.288</td>\n",
       "</tr>\n",
       "<tr>\n",
       "  <th>x119</th>  <td>   -2.0652</td> <td>    0.016</td> <td> -129.943</td> <td> 0.000</td> <td>   -2.134</td> <td>   -1.997</td>\n",
       "</tr>\n",
       "<tr>\n",
       "  <th>x120</th>  <td>   -1.4822</td> <td>    0.027</td> <td>  -55.531</td> <td> 0.000</td> <td>   -1.597</td> <td>   -1.367</td>\n",
       "</tr>\n",
       "<tr>\n",
       "  <th>x121</th>  <td>   -1.5933</td> <td>    0.016</td> <td> -100.632</td> <td> 0.000</td> <td>   -1.661</td> <td>   -1.525</td>\n",
       "</tr>\n",
       "<tr>\n",
       "  <th>x122</th>  <td>   -2.3083</td> <td>    0.030</td> <td>  -77.566</td> <td> 0.000</td> <td>   -2.436</td> <td>   -2.180</td>\n",
       "</tr>\n",
       "<tr>\n",
       "  <th>x123</th>  <td>   -1.8508</td> <td>    0.019</td> <td>  -97.644</td> <td> 0.000</td> <td>   -1.932</td> <td>   -1.769</td>\n",
       "</tr>\n",
       "<tr>\n",
       "  <th>x124</th>  <td>   -2.0880</td> <td>    0.016</td> <td> -131.329</td> <td> 0.000</td> <td>   -2.156</td> <td>   -2.020</td>\n",
       "</tr>\n",
       "<tr>\n",
       "  <th>x125</th>  <td>   -0.9673</td> <td>    0.016</td> <td>  -60.130</td> <td> 0.000</td> <td>   -1.037</td> <td>   -0.898</td>\n",
       "</tr>\n",
       "<tr>\n",
       "  <th>x126</th>  <td>   -2.1762</td> <td>    0.016</td> <td> -132.648</td> <td> 0.000</td> <td>   -2.247</td> <td>   -2.106</td>\n",
       "</tr>\n",
       "<tr>\n",
       "  <th>x127</th>  <td>   -2.1526</td> <td>    0.018</td> <td> -119.841</td> <td> 0.000</td> <td>   -2.230</td> <td>   -2.075</td>\n",
       "</tr>\n",
       "<tr>\n",
       "  <th>x128</th>  <td>   -1.2985</td> <td>    0.016</td> <td>  -80.322</td> <td> 0.000</td> <td>   -1.368</td> <td>   -1.229</td>\n",
       "</tr>\n",
       "<tr>\n",
       "  <th>x129</th>  <td>    1.6516</td> <td>    0.020</td> <td>   81.506</td> <td> 0.000</td> <td>    1.564</td> <td>    1.739</td>\n",
       "</tr>\n",
       "<tr>\n",
       "  <th>x130</th>  <td>   -0.5177</td> <td>    0.019</td> <td>  -27.121</td> <td> 0.001</td> <td>   -0.600</td> <td>   -0.436</td>\n",
       "</tr>\n",
       "<tr>\n",
       "  <th>x131</th>  <td>   -0.7832</td> <td>    0.023</td> <td>  -34.061</td> <td> 0.001</td> <td>   -0.882</td> <td>   -0.684</td>\n",
       "</tr>\n",
       "<tr>\n",
       "  <th>x132</th>  <td>   -2.9429</td> <td>    0.016</td> <td> -182.871</td> <td> 0.000</td> <td>   -3.012</td> <td>   -2.874</td>\n",
       "</tr>\n",
       "<tr>\n",
       "  <th>x133</th>  <td>   -2.9884</td> <td>    0.017</td> <td> -174.047</td> <td> 0.000</td> <td>   -3.062</td> <td>   -2.914</td>\n",
       "</tr>\n",
       "<tr>\n",
       "  <th>x134</th>  <td>   -0.6141</td> <td>    0.016</td> <td>  -37.508</td> <td> 0.001</td> <td>   -0.685</td> <td>   -0.544</td>\n",
       "</tr>\n",
       "<tr>\n",
       "  <th>x135</th>  <td>   -1.9394</td> <td>    0.028</td> <td>  -69.953</td> <td> 0.000</td> <td>   -2.059</td> <td>   -1.820</td>\n",
       "</tr>\n",
       "<tr>\n",
       "  <th>x136</th>  <td>   -1.5411</td> <td>    0.021</td> <td>  -73.392</td> <td> 0.000</td> <td>   -1.631</td> <td>   -1.451</td>\n",
       "</tr>\n",
       "<tr>\n",
       "  <th>x137</th>  <td>   -2.0710</td> <td>    0.016</td> <td> -130.210</td> <td> 0.000</td> <td>   -2.139</td> <td>   -2.003</td>\n",
       "</tr>\n",
       "<tr>\n",
       "  <th>x138</th>  <td>   -2.8913</td> <td>    0.027</td> <td> -108.811</td> <td> 0.000</td> <td>   -3.006</td> <td>   -2.777</td>\n",
       "</tr>\n",
       "<tr>\n",
       "  <th>x139</th>  <td>   -0.3158</td> <td>    0.017</td> <td>  -18.828</td> <td> 0.003</td> <td>   -0.388</td> <td>   -0.244</td>\n",
       "</tr>\n",
       "<tr>\n",
       "  <th>x140</th>  <td>   -0.3434</td> <td>    0.020</td> <td>  -16.762</td> <td> 0.004</td> <td>   -0.431</td> <td>   -0.255</td>\n",
       "</tr>\n",
       "<tr>\n",
       "  <th>x141</th>  <td>    0.6679</td> <td>    0.035</td> <td>   18.909</td> <td> 0.003</td> <td>    0.516</td> <td>    0.820</td>\n",
       "</tr>\n",
       "<tr>\n",
       "  <th>x142</th>  <td>   -0.1746</td> <td>    0.019</td> <td>   -9.175</td> <td> 0.012</td> <td>   -0.256</td> <td>   -0.093</td>\n",
       "</tr>\n",
       "<tr>\n",
       "  <th>x143</th>  <td>   -2.7131</td> <td>    0.020</td> <td> -138.951</td> <td> 0.000</td> <td>   -2.797</td> <td>   -2.629</td>\n",
       "</tr>\n",
       "<tr>\n",
       "  <th>x144</th>  <td>   -2.5764</td> <td>    0.029</td> <td>  -88.239</td> <td> 0.000</td> <td>   -2.702</td> <td>   -2.451</td>\n",
       "</tr>\n",
       "<tr>\n",
       "  <th>x145</th>  <td>   -2.8565</td> <td>    0.016</td> <td> -174.860</td> <td> 0.000</td> <td>   -2.927</td> <td>   -2.786</td>\n",
       "</tr>\n",
       "<tr>\n",
       "  <th>x146</th>  <td>   -3.3410</td> <td>    0.016</td> <td> -210.404</td> <td> 0.000</td> <td>   -3.409</td> <td>   -3.273</td>\n",
       "</tr>\n",
       "<tr>\n",
       "  <th>x147</th>  <td>   -2.0937</td> <td>    0.022</td> <td>  -97.272</td> <td> 0.000</td> <td>   -2.186</td> <td>   -2.001</td>\n",
       "</tr>\n",
       "<tr>\n",
       "  <th>x148</th>  <td>   -2.8798</td> <td>    0.020</td> <td> -146.776</td> <td> 0.000</td> <td>   -2.964</td> <td>   -2.795</td>\n",
       "</tr>\n",
       "<tr>\n",
       "  <th>x149</th>  <td>   -0.9406</td> <td>    0.017</td> <td>  -55.676</td> <td> 0.000</td> <td>   -1.013</td> <td>   -0.868</td>\n",
       "</tr>\n",
       "<tr>\n",
       "  <th>x150</th>  <td>   -2.8887</td> <td>    0.016</td> <td> -179.927</td> <td> 0.000</td> <td>   -2.958</td> <td>   -2.820</td>\n",
       "</tr>\n",
       "<tr>\n",
       "  <th>x151</th>  <td>   -2.1470</td> <td>    0.016</td> <td> -131.473</td> <td> 0.000</td> <td>   -2.217</td> <td>   -2.077</td>\n",
       "</tr>\n",
       "<tr>\n",
       "  <th>x152</th>  <td>   -1.6133</td> <td>    0.017</td> <td>  -94.080</td> <td> 0.000</td> <td>   -1.687</td> <td>   -1.540</td>\n",
       "</tr>\n",
       "<tr>\n",
       "  <th>x153</th>  <td>   -1.7478</td> <td>    0.017</td> <td> -104.464</td> <td> 0.000</td> <td>   -1.820</td> <td>   -1.676</td>\n",
       "</tr>\n",
       "<tr>\n",
       "  <th>x154</th>  <td>   -1.4592</td> <td>    0.016</td> <td>  -90.654</td> <td> 0.000</td> <td>   -1.528</td> <td>   -1.390</td>\n",
       "</tr>\n",
       "<tr>\n",
       "  <th>x155</th>  <td>   -2.3048</td> <td>    0.016</td> <td> -145.012</td> <td> 0.000</td> <td>   -2.373</td> <td>   -2.236</td>\n",
       "</tr>\n",
       "<tr>\n",
       "  <th>x156</th>  <td>   -2.4916</td> <td>    0.018</td> <td> -142.066</td> <td> 0.000</td> <td>   -2.567</td> <td>   -2.416</td>\n",
       "</tr>\n",
       "<tr>\n",
       "  <th>x157</th>  <td>   -1.6840</td> <td>    0.017</td> <td>  -99.453</td> <td> 0.000</td> <td>   -1.757</td> <td>   -1.611</td>\n",
       "</tr>\n",
       "<tr>\n",
       "  <th>x158</th>  <td>   -0.0363</td> <td>    0.022</td> <td>   -1.628</td> <td> 0.245</td> <td>   -0.132</td> <td>    0.060</td>\n",
       "</tr>\n",
       "<tr>\n",
       "  <th>x159</th>  <td>   -1.8767</td> <td>    0.029</td> <td>  -63.634</td> <td> 0.000</td> <td>   -2.004</td> <td>   -1.750</td>\n",
       "</tr>\n",
       "<tr>\n",
       "  <th>x160</th>  <td>   -0.3337</td> <td>    0.016</td> <td>  -20.695</td> <td> 0.002</td> <td>   -0.403</td> <td>   -0.264</td>\n",
       "</tr>\n",
       "<tr>\n",
       "  <th>x161</th>  <td>   -0.2521</td> <td>    0.016</td> <td>  -15.475</td> <td> 0.004</td> <td>   -0.322</td> <td>   -0.182</td>\n",
       "</tr>\n",
       "<tr>\n",
       "  <th>x162</th>  <td>   -2.6779</td> <td>    0.020</td> <td> -133.057</td> <td> 0.000</td> <td>   -2.764</td> <td>   -2.591</td>\n",
       "</tr>\n",
       "<tr>\n",
       "  <th>x163</th>  <td>   -1.4433</td> <td>    0.025</td> <td>  -56.962</td> <td> 0.000</td> <td>   -1.552</td> <td>   -1.334</td>\n",
       "</tr>\n",
       "<tr>\n",
       "  <th>x164</th>  <td>    0.6142</td> <td>    0.021</td> <td>   28.965</td> <td> 0.001</td> <td>    0.523</td> <td>    0.705</td>\n",
       "</tr>\n",
       "<tr>\n",
       "  <th>x165</th>  <td>    0.3254</td> <td>    0.017</td> <td>   19.217</td> <td> 0.003</td> <td>    0.253</td> <td>    0.398</td>\n",
       "</tr>\n",
       "<tr>\n",
       "  <th>x166</th>  <td>    0.2381</td> <td>    0.033</td> <td>    7.296</td> <td> 0.018</td> <td>    0.098</td> <td>    0.379</td>\n",
       "</tr>\n",
       "<tr>\n",
       "  <th>x167</th>  <td>   -2.1537</td> <td>    0.015</td> <td> -141.750</td> <td> 0.000</td> <td>   -2.219</td> <td>   -2.088</td>\n",
       "</tr>\n",
       "<tr>\n",
       "  <th>x168</th>  <td>   -0.1161</td> <td>    0.018</td> <td>   -6.631</td> <td> 0.022</td> <td>   -0.191</td> <td>   -0.041</td>\n",
       "</tr>\n",
       "<tr>\n",
       "  <th>x169</th>  <td>   -0.3999</td> <td>    0.016</td> <td>  -24.513</td> <td> 0.002</td> <td>   -0.470</td> <td>   -0.330</td>\n",
       "</tr>\n",
       "<tr>\n",
       "  <th>x170</th>  <td>   -1.6515</td> <td>    0.016</td> <td> -100.470</td> <td> 0.000</td> <td>   -1.722</td> <td>   -1.581</td>\n",
       "</tr>\n",
       "<tr>\n",
       "  <th>x171</th>  <td>   -1.7246</td> <td>    0.017</td> <td> -104.448</td> <td> 0.000</td> <td>   -1.796</td> <td>   -1.654</td>\n",
       "</tr>\n",
       "<tr>\n",
       "  <th>x172</th>  <td>   -2.3835</td> <td>    0.016</td> <td> -144.662</td> <td> 0.000</td> <td>   -2.454</td> <td>   -2.313</td>\n",
       "</tr>\n",
       "<tr>\n",
       "  <th>x173</th>  <td>   -1.6914</td> <td>    0.020</td> <td>  -84.806</td> <td> 0.000</td> <td>   -1.777</td> <td>   -1.606</td>\n",
       "</tr>\n",
       "<tr>\n",
       "  <th>x174</th>  <td>    1.4092</td> <td>    0.018</td> <td>   77.667</td> <td> 0.000</td> <td>    1.331</td> <td>    1.487</td>\n",
       "</tr>\n",
       "<tr>\n",
       "  <th>x175</th>  <td>   -1.7253</td> <td>    0.020</td> <td>  -85.499</td> <td> 0.000</td> <td>   -1.812</td> <td>   -1.638</td>\n",
       "</tr>\n",
       "<tr>\n",
       "  <th>x176</th>  <td>   -1.3214</td> <td>    0.029</td> <td>  -46.158</td> <td> 0.000</td> <td>   -1.445</td> <td>   -1.198</td>\n",
       "</tr>\n",
       "</table>\n",
       "<table class=\"simpletable\">\n",
       "<tr>\n",
       "  <th>Omnibus:</th>       <td>93.660</td> <th>  Durbin-Watson:     </th> <td>   3.000</td> \n",
       "</tr>\n",
       "<tr>\n",
       "  <th>Prob(Omnibus):</th> <td> 0.000</td> <th>  Jarque-Bera (JB):  </th> <td>41526.461</td>\n",
       "</tr>\n",
       "<tr>\n",
       "  <th>Skew:</th>          <td>-0.000</td> <th>  Prob(JB):          </th> <td>    0.00</td> \n",
       "</tr>\n",
       "<tr>\n",
       "  <th>Kurtosis:</th>      <td>77.618</td> <th>  Cond. No.          </th> <td>4.98e+03</td> \n",
       "</tr>\n",
       "</table><br/><br/>Warnings:<br/>[1] Standard Errors assume that the covariance matrix of the errors is correctly specified.<br/>[2] The condition number is large, 4.98e+03. This might indicate that there are<br/>strong multicollinearity or other numerical problems."
      ],
      "text/plain": [
       "<class 'statsmodels.iolib.summary.Summary'>\n",
       "\"\"\"\n",
       "                            OLS Regression Results                            \n",
       "==============================================================================\n",
       "Dep. Variable:                  score   R-squared:                       1.000\n",
       "Model:                            OLS   Adj. R-squared:                  1.000\n",
       "Method:                 Least Squares   F-statistic:                 1.093e+04\n",
       "Date:                Sun, 17 Nov 2019   Prob (F-statistic):           9.15e-05\n",
       "Time:                        14:14:18   Log-Likelihood:                 953.49\n",
       "No. Observations:                 179   AIC:                            -1553.\n",
       "Df Residuals:                       2   BIC:                            -988.8\n",
       "Df Model:                         176                                         \n",
       "Covariance Type:            nonrobust                                         \n",
       "==============================================================================\n",
       "                 coef    std err          t      P>|t|      [0.025      0.975]\n",
       "------------------------------------------------------------------------------\n",
       "const          3.8454      0.062     62.311      0.000       3.580       4.111\n",
       "x1             0.0153      0.007      2.296      0.149      -0.013       0.044\n",
       "x2             0.0147      0.001     12.235      0.007       0.010       0.020\n",
       "x3            -2.2407      0.017   -134.104      0.000      -2.313      -2.169\n",
       "x4            -1.1292      0.019    -58.011      0.000      -1.213      -1.045\n",
       "x5            -2.1584      0.022    -98.333      0.000      -2.253      -2.064\n",
       "x6            -2.9879      0.019   -159.582      0.000      -3.068      -2.907\n",
       "x7            -0.3621      0.016    -22.789      0.002      -0.431      -0.294\n",
       "x8            -2.7821      0.024   -114.853      0.000      -2.886      -2.678\n",
       "x9            -1.7153      0.030    -57.668      0.000      -1.843      -1.587\n",
       "x10           -1.1652      0.019    -59.933      0.000      -1.249      -1.082\n",
       "x11            0.6981      0.021     32.909      0.001       0.607       0.789\n",
       "x12           -1.8804      0.017   -113.378      0.000      -1.952      -1.809\n",
       "x13           -1.3140      0.016    -80.172      0.000      -1.384      -1.243\n",
       "x14           -1.6556      0.019    -87.355      0.000      -1.737      -1.574\n",
       "x15           -1.6502      0.017    -94.837      0.000      -1.725      -1.575\n",
       "x16           -1.9530      0.022    -90.672      0.000      -2.046      -1.860\n",
       "x17           -3.1214      0.016   -195.875      0.000      -3.190      -3.053\n",
       "x18           -0.0963      0.024     -4.023      0.057      -0.199       0.007\n",
       "x19           -0.4786      0.016    -30.091      0.001      -0.547      -0.410\n",
       "x20           -0.0233      0.017     -1.366      0.305      -0.097       0.050\n",
       "x21           -1.9214      0.016   -116.640      0.000      -1.992      -1.851\n",
       "x22           -2.5465      0.021   -119.335      0.000      -2.638      -2.455\n",
       "x23           -1.1892      0.028    -42.395      0.001      -1.310      -1.069\n",
       "x24           -1.9518      0.017   -117.973      0.000      -2.023      -1.881\n",
       "x25           -1.4095      0.017    -84.759      0.000      -1.481      -1.338\n",
       "x26           -2.0762      0.060    -34.722      0.001      -2.333      -1.819\n",
       "x27            1.4754      0.017     88.843      0.000       1.404       1.547\n",
       "x28           -2.5024      0.021   -118.478      0.000      -2.593      -2.411\n",
       "x29            0.1020      0.016      6.425      0.023       0.034       0.170\n",
       "x30           -2.2041      0.018   -125.227      0.000      -2.280      -2.128\n",
       "x31           -0.9267      0.018    -51.425      0.000      -1.004      -0.849\n",
       "x32           -2.5464      0.018   -141.040      0.000      -2.624      -2.469\n",
       "x33           -2.2572      0.017   -134.401      0.000      -2.329      -2.185\n",
       "x34           -2.0264      0.018   -115.428      0.000      -2.102      -1.951\n",
       "x35           -0.5642      0.016    -35.537      0.001      -0.632      -0.496\n",
       "x36           -2.3295      0.016   -146.333      0.000      -2.398      -2.261\n",
       "x37           -3.0171      0.021   -143.800      0.000      -3.107      -2.927\n",
       "x38           -2.7992      0.021   -131.484      0.000      -2.891      -2.708\n",
       "x39           -0.6808      0.051    -13.257      0.006      -0.902      -0.460\n",
       "x40           -2.9008      0.024   -121.196      0.000      -3.004      -2.798\n",
       "x41           -0.5289      0.019    -27.390      0.001      -0.612      -0.446\n",
       "x42           -0.0794      0.018     -4.379      0.048      -0.157      -0.001\n",
       "x43           -2.6597      0.016   -165.633      0.000      -2.729      -2.591\n",
       "x44           -2.3852      0.019   -128.290      0.000      -2.465      -2.305\n",
       "x45           -1.3620      0.020    -68.417      0.000      -1.448      -1.276\n",
       "x46           -0.4912      0.024    -20.390      0.002      -0.595      -0.388\n",
       "x47           -2.2693      0.020   -110.736      0.000      -2.357      -2.181\n",
       "x48           -2.7210      0.016   -172.216      0.000      -2.789      -2.653\n",
       "x49           -0.2598      0.017    -15.614      0.004      -0.331      -0.188\n",
       "x50           -0.5249      0.019    -27.103      0.001      -0.608      -0.442\n",
       "x51           -1.5315      0.016    -96.999      0.000      -1.599      -1.464\n",
       "x52           -2.4283      0.017   -142.392      0.000      -2.502      -2.355\n",
       "x53           -2.9589      0.019   -157.127      0.000      -3.040      -2.878\n",
       "x54           -0.4988      0.017    -29.819      0.001      -0.571      -0.427\n",
       "x55            0.5096      0.016     32.154      0.001       0.441       0.578\n",
       "x56           -1.7810      0.016   -112.160      0.000      -1.849      -1.713\n",
       "x57           -2.0572      0.017   -121.606      0.000      -2.130      -1.984\n",
       "x58           -1.6442      0.016   -100.954      0.000      -1.714      -1.574\n",
       "x59           -2.1496      0.016   -131.622      0.000      -2.220      -2.079\n",
       "x60           -1.3721      0.018    -77.287      0.000      -1.448      -1.296\n",
       "x61           -2.2199      0.022    -99.027      0.000      -2.316      -2.123\n",
       "x62           -0.4373      0.026    -16.917      0.003      -0.549      -0.326\n",
       "x63            0.0160      0.016      0.992      0.426      -0.053       0.085\n",
       "x64           -2.1658      0.018   -118.466      0.000      -2.244      -2.087\n",
       "x65           -3.2034      0.022   -147.930      0.000      -3.297      -3.110\n",
       "x66           -0.1506      0.018     -8.398      0.014      -0.228      -0.073\n",
       "x67           -0.6454      0.017    -37.947      0.001      -0.719      -0.572\n",
       "x68           -2.7789      0.021   -131.612      0.000      -2.870      -2.688\n",
       "x69           -0.3435      0.021    -16.675      0.004      -0.432      -0.255\n",
       "x70           -2.0502      0.019   -109.005      0.000      -2.131      -1.969\n",
       "x71           -0.9216      0.016    -56.547      0.000      -0.992      -0.852\n",
       "x72           -2.2927      0.019   -121.644      0.000      -2.374      -2.212\n",
       "x73           -2.4402      0.024   -102.796      0.000      -2.542      -2.338\n",
       "x74           -0.3819      0.017    -22.465      0.002      -0.455      -0.309\n",
       "x75           -1.1200      0.020    -56.968      0.000      -1.205      -1.035\n",
       "x76           -2.3154      0.026    -89.734      0.000      -2.426      -2.204\n",
       "x77           -2.1577      0.021   -103.476      0.000      -2.247      -2.068\n",
       "x78           -1.0925      0.019    -58.134      0.000      -1.173      -1.012\n",
       "x79           -1.1412      0.019    -61.619      0.000      -1.221      -1.062\n",
       "x80           -2.7546      0.016   -170.613      0.000      -2.824      -2.685\n",
       "x81           -0.4045      0.016    -24.915      0.002      -0.474      -0.335\n",
       "x82           -2.1223      0.016   -133.623      0.000      -2.191      -2.054\n",
       "x83           -0.3947      0.017    -23.246      0.002      -0.468      -0.322\n",
       "x84            0.2251      0.018     12.435      0.006       0.147       0.303\n",
       "x85           -1.1894      0.024    -49.298      0.000      -1.293      -1.086\n",
       "x86           -2.4524      0.019   -132.422      0.000      -2.532      -2.373\n",
       "x87            0.5638      0.022     25.068      0.002       0.467       0.661\n",
       "x88            0.5866      0.017     34.485      0.001       0.513       0.660\n",
       "x89           -2.6966      0.030    -89.585      0.000      -2.826      -2.567\n",
       "x90           -0.4681      0.016    -29.470      0.001      -0.536      -0.400\n",
       "x91           -2.2669      0.024    -95.912      0.000      -2.369      -2.165\n",
       "x92            1.4060      0.016     87.379      0.000       1.337       1.475\n",
       "x93           -1.1805      0.020    -58.659      0.000      -1.267      -1.094\n",
       "x94           -0.5514      0.020    -26.995      0.001      -0.639      -0.463\n",
       "x95            1.1316      0.016     68.783      0.000       1.061       1.202\n",
       "x96           -0.8971      0.020    -45.021      0.000      -0.983      -0.811\n",
       "x97           -2.6964      0.023   -119.619      0.000      -2.793      -2.599\n",
       "x98           -1.7757      0.019    -95.777      0.000      -1.856      -1.696\n",
       "x99           -1.5517      0.022    -70.760      0.000      -1.646      -1.457\n",
       "x100          -1.1372      0.020    -58.108      0.000      -1.221      -1.053\n",
       "x101          -2.6155      0.039    -66.493      0.000      -2.785      -2.446\n",
       "x102          -2.0907      0.020   -102.369      0.000      -2.179      -2.003\n",
       "x103           0.5897      0.022     26.724      0.001       0.495       0.685\n",
       "x104          -3.4810      0.022   -160.089      0.000      -3.575      -3.387\n",
       "x105          -2.0219      0.021    -95.308      0.000      -2.113      -1.931\n",
       "x106          -2.6428      0.016   -160.183      0.000      -2.714      -2.572\n",
       "x107          -0.1095      0.035     -3.106      0.090      -0.261       0.042\n",
       "x108          -1.1491      0.018    -64.585      0.000      -1.226      -1.073\n",
       "x109           0.3477      0.016     21.752      0.002       0.279       0.416\n",
       "x110           0.1166      0.015      7.630      0.017       0.051       0.182\n",
       "x111          -1.0265      0.018    -58.416      0.000      -1.102      -0.951\n",
       "x112          -0.7672      0.017    -46.026      0.000      -0.839      -0.695\n",
       "x113          -1.4561      0.021    -68.464      0.000      -1.548      -1.365\n",
       "x114          -0.1510      0.016     -9.508      0.011      -0.219      -0.083\n",
       "x115           0.2439      0.019     12.566      0.006       0.160       0.327\n",
       "x116          -1.3471      0.022    -61.435      0.000      -1.441      -1.253\n",
       "x117          -2.4048      0.017   -141.439      0.000      -2.478      -2.332\n",
       "x118           1.2077      0.019     64.384      0.000       1.127       1.288\n",
       "x119          -2.0652      0.016   -129.943      0.000      -2.134      -1.997\n",
       "x120          -1.4822      0.027    -55.531      0.000      -1.597      -1.367\n",
       "x121          -1.5933      0.016   -100.632      0.000      -1.661      -1.525\n",
       "x122          -2.3083      0.030    -77.566      0.000      -2.436      -2.180\n",
       "x123          -1.8508      0.019    -97.644      0.000      -1.932      -1.769\n",
       "x124          -2.0880      0.016   -131.329      0.000      -2.156      -2.020\n",
       "x125          -0.9673      0.016    -60.130      0.000      -1.037      -0.898\n",
       "x126          -2.1762      0.016   -132.648      0.000      -2.247      -2.106\n",
       "x127          -2.1526      0.018   -119.841      0.000      -2.230      -2.075\n",
       "x128          -1.2985      0.016    -80.322      0.000      -1.368      -1.229\n",
       "x129           1.6516      0.020     81.506      0.000       1.564       1.739\n",
       "x130          -0.5177      0.019    -27.121      0.001      -0.600      -0.436\n",
       "x131          -0.7832      0.023    -34.061      0.001      -0.882      -0.684\n",
       "x132          -2.9429      0.016   -182.871      0.000      -3.012      -2.874\n",
       "x133          -2.9884      0.017   -174.047      0.000      -3.062      -2.914\n",
       "x134          -0.6141      0.016    -37.508      0.001      -0.685      -0.544\n",
       "x135          -1.9394      0.028    -69.953      0.000      -2.059      -1.820\n",
       "x136          -1.5411      0.021    -73.392      0.000      -1.631      -1.451\n",
       "x137          -2.0710      0.016   -130.210      0.000      -2.139      -2.003\n",
       "x138          -2.8913      0.027   -108.811      0.000      -3.006      -2.777\n",
       "x139          -0.3158      0.017    -18.828      0.003      -0.388      -0.244\n",
       "x140          -0.3434      0.020    -16.762      0.004      -0.431      -0.255\n",
       "x141           0.6679      0.035     18.909      0.003       0.516       0.820\n",
       "x142          -0.1746      0.019     -9.175      0.012      -0.256      -0.093\n",
       "x143          -2.7131      0.020   -138.951      0.000      -2.797      -2.629\n",
       "x144          -2.5764      0.029    -88.239      0.000      -2.702      -2.451\n",
       "x145          -2.8565      0.016   -174.860      0.000      -2.927      -2.786\n",
       "x146          -3.3410      0.016   -210.404      0.000      -3.409      -3.273\n",
       "x147          -2.0937      0.022    -97.272      0.000      -2.186      -2.001\n",
       "x148          -2.8798      0.020   -146.776      0.000      -2.964      -2.795\n",
       "x149          -0.9406      0.017    -55.676      0.000      -1.013      -0.868\n",
       "x150          -2.8887      0.016   -179.927      0.000      -2.958      -2.820\n",
       "x151          -2.1470      0.016   -131.473      0.000      -2.217      -2.077\n",
       "x152          -1.6133      0.017    -94.080      0.000      -1.687      -1.540\n",
       "x153          -1.7478      0.017   -104.464      0.000      -1.820      -1.676\n",
       "x154          -1.4592      0.016    -90.654      0.000      -1.528      -1.390\n",
       "x155          -2.3048      0.016   -145.012      0.000      -2.373      -2.236\n",
       "x156          -2.4916      0.018   -142.066      0.000      -2.567      -2.416\n",
       "x157          -1.6840      0.017    -99.453      0.000      -1.757      -1.611\n",
       "x158          -0.0363      0.022     -1.628      0.245      -0.132       0.060\n",
       "x159          -1.8767      0.029    -63.634      0.000      -2.004      -1.750\n",
       "x160          -0.3337      0.016    -20.695      0.002      -0.403      -0.264\n",
       "x161          -0.2521      0.016    -15.475      0.004      -0.322      -0.182\n",
       "x162          -2.6779      0.020   -133.057      0.000      -2.764      -2.591\n",
       "x163          -1.4433      0.025    -56.962      0.000      -1.552      -1.334\n",
       "x164           0.6142      0.021     28.965      0.001       0.523       0.705\n",
       "x165           0.3254      0.017     19.217      0.003       0.253       0.398\n",
       "x166           0.2381      0.033      7.296      0.018       0.098       0.379\n",
       "x167          -2.1537      0.015   -141.750      0.000      -2.219      -2.088\n",
       "x168          -0.1161      0.018     -6.631      0.022      -0.191      -0.041\n",
       "x169          -0.3999      0.016    -24.513      0.002      -0.470      -0.330\n",
       "x170          -1.6515      0.016   -100.470      0.000      -1.722      -1.581\n",
       "x171          -1.7246      0.017   -104.448      0.000      -1.796      -1.654\n",
       "x172          -2.3835      0.016   -144.662      0.000      -2.454      -2.313\n",
       "x173          -1.6914      0.020    -84.806      0.000      -1.777      -1.606\n",
       "x174           1.4092      0.018     77.667      0.000       1.331       1.487\n",
       "x175          -1.7253      0.020    -85.499      0.000      -1.812      -1.638\n",
       "x176          -1.3214      0.029    -46.158      0.000      -1.445      -1.198\n",
       "==============================================================================\n",
       "Omnibus:                       93.660   Durbin-Watson:                   3.000\n",
       "Prob(Omnibus):                  0.000   Jarque-Bera (JB):            41526.461\n",
       "Skew:                          -0.000   Prob(JB):                         0.00\n",
       "Kurtosis:                      77.618   Cond. No.                     4.98e+03\n",
       "==============================================================================\n",
       "\n",
       "Warnings:\n",
       "[1] Standard Errors assume that the covariance matrix of the errors is correctly specified.\n",
       "[2] The condition number is large, 4.98e+03. This might indicate that there are\n",
       "strong multicollinearity or other numerical problems.\n",
       "\"\"\""
      ]
     },
     "execution_count": 255,
     "metadata": {},
     "output_type": "execute_result"
    }
   ],
   "source": [
    "df = datautil.preProcessData(path)\n",
    "df_pred = df.loc[df.new==1.0]\n",
    "df = df.loc[df.new==0.0]\n",
    "df_01 = df[['Recipe_name', 'score', 'price','ingredients_count']]\n",
    "\n",
    "df_encoded = pd.get_dummies(df_01, columns=df_01.select_dtypes(include=['object']).columns, drop_first=True)\n",
    "df_encoded.dtypes\n",
    "\n",
    "dependentVar = 'score'\n",
    "y = df_encoded.loc[:,dependentVar]\n",
    "\n",
    "#labels = preprocessing.LabelEncoder().fit_transform(y)\n",
    "X = df_encoded.drop(dependentVar,1).values\n",
    "X_df = df_encoded.drop(dependentVar,1)\n",
    "\n",
    "Xc = sm.add_constant(X)\n",
    "\n",
    "linear_regression = sm.OLS(y, Xc)\n",
    "fitted_model = linear_regression.fit()\n",
    "\n",
    "fitted_model.summary()"
   ]
  },
  {
   "cell_type": "code",
   "execution_count": 302,
   "metadata": {},
   "outputs": [],
   "source": [
    "#df.loc[~df.ingredients_count>=35]['ingredients_count'].max()\n",
    "df_norm = df.loc[~(df.ingredients_count>=35.0)]"
   ]
  },
  {
   "cell_type": "code",
   "execution_count": 313,
   "metadata": {},
   "outputs": [
    {
     "data": {
      "image/png": "[encoded data removed]",
      "text/plain": [
       "<Figure size 432x288 with 1 Axes>"
      ]
     },
     "metadata": {
      "needs_background": "light"
     },
     "output_type": "display_data"
    }
   ],
   "source": [
    "ax = sns.regplot(x=\"ingredients_count\", y=\"score\", data=df_norm,scatter_kws={\"s\": 80},order=1, ci=None, truncate=True)"
   ]
  },
  {
   "cell_type": "code",
   "execution_count": 314,
   "metadata": {},
   "outputs": [
    {
     "data": {
      "image/png": "[encoded data removed]",
      "text/plain": [
       "<Figure size 432x288 with 1 Axes>"
      ]
     },
     "metadata": {
      "needs_background": "light"
     },
     "output_type": "display_data"
    }
   ],
   "source": [
    "ax = sns.regplot(x=\"price\", y=\"score\", data=df_norm,scatter_kws={\"s\": 80},order=1, ci=None, truncate=True)\n",
    "#ax = sns.regplot(x=\"price\", y=\"score\", data=df,x_estimator=np.mean)"
   ]
  },
  {
   "cell_type": "markdown",
   "metadata": {},
   "source": [
    "We'll test for higher degree polynomial transformations by looping through different degrees of PolynomialFeatures and calculating the R-squared measure for each"
   ]
  },
  {
   "cell_type": "code",
   "execution_count": 347,
   "metadata": {},
   "outputs": [
    {
     "data": {
      "text/html": [
       "<div>\n",
       "<style scoped>\n",
       "    .dataframe tbody tr th:only-of-type {\n",
       "        vertical-align: middle;\n",
       "    }\n",
       "\n",
       "    .dataframe tbody tr th {\n",
       "        vertical-align: top;\n",
       "    }\n",
       "\n",
       "    .dataframe thead th {\n",
       "        text-align: right;\n",
       "    }\n",
       "</style>\n",
       "<table border=\"1\" class=\"dataframe\">\n",
       "  <thead>\n",
       "    <tr style=\"text-align: right;\">\n",
       "      <th></th>\n",
       "      <th>R-squared</th>\n",
       "      <th>Difference</th>\n",
       "    </tr>\n",
       "  </thead>\n",
       "  <tbody>\n",
       "    <tr>\n",
       "      <th>1</th>\n",
       "      <td>0.0161853</td>\n",
       "      <td>NaN</td>\n",
       "    </tr>\n",
       "    <tr>\n",
       "      <th>2</th>\n",
       "      <td>0.0387579</td>\n",
       "      <td>0.0225727</td>\n",
       "    </tr>\n",
       "    <tr>\n",
       "      <th>3</th>\n",
       "      <td>0.0398042</td>\n",
       "      <td>0.00104625</td>\n",
       "    </tr>\n",
       "    <tr>\n",
       "      <th>5</th>\n",
       "      <td>0.0401067</td>\n",
       "      <td>0.000302482</td>\n",
       "    </tr>\n",
       "    <tr>\n",
       "      <th>15</th>\n",
       "      <td>0.0892061</td>\n",
       "      <td>0.0490995</td>\n",
       "    </tr>\n",
       "  </tbody>\n",
       "</table>\n",
       "</div>"
      ],
      "text/plain": [
       "    R-squared   Difference\n",
       "1   0.0161853          NaN\n",
       "2   0.0387579    0.0225727\n",
       "3   0.0398042   0.00104625\n",
       "5   0.0401067  0.000302482\n",
       "15  0.0892061    0.0490995"
      ]
     },
     "execution_count": 347,
     "metadata": {},
     "output_type": "execute_result"
    }
   ],
   "source": [
    "from sklearn.pipeline import make_pipeline\n",
    "\n",
    "predictor = 'price'\n",
    "x = X_df[predictor].values[:,np.newaxis]\n",
    "\n",
    "linear_regression = LinearRegression(normalize=False, fit_intercept=True)\n",
    "random_forest = RandomForestRegressor(n_estimators=50, random_state=0)\n",
    "\n",
    "df_higher_degree = pd.DataFrame(columns = ['R-squared'], index = [1,2,3,5,15])\n",
    "\n",
    "for degree in df_higher_degree.index:\n",
    "    polynomial_object = PolynomialFeatures(degree = degree, interaction_only=False, include_bias=False)\n",
    "    poly_pipeline = make_pipeline(polynomial_object, StandardScaler(), linear_regression)\n",
    "    model = poly_pipeline.fit(x,y)\n",
    "    R2_temp = r2_score(y, model.predict(x))\n",
    "    df_higher_degree.loc[degree, 'R-squared'] = R2_temp\n",
    "    \n",
    "df_higher_degree['Difference'] = df_higher_degree['R-squared'] - df_higher_degree['R-squared'].shift(1)\n",
    "df_higher_degree"
   ]
  },
  {
   "cell_type": "markdown",
   "metadata": {},
   "source": [
    "As we can see from the Difference column, adding a new degree of transformation to the model increases the R-squared initially, but the improvements are diminishing"
   ]
  },
  {
   "cell_type": "code",
   "execution_count": 355,
   "metadata": {},
   "outputs": [
    {
     "data": {
      "image/png": "[encoded data removed]",
      "text/plain": [
       "<Figure size 432x288 with 1 Axes>"
      ]
     },
     "metadata": {
      "needs_background": "light"
     },
     "output_type": "display_data"
    }
   ],
   "source": [
    "predictor = 'ingredients_count'\n",
    "target = 'score'\n",
    "df_temp = df[[predictor, target]].copy()\n",
    "\n",
    "for degree in df_higher_degree.index:\n",
    "    polynomial_object = PolynomialFeatures(degree = degree, interaction_only=False, include_bias=False)\n",
    "    poly_pipeline = make_pipeline(polynomial_object, StandardScaler(), linear_regression)\n",
    "    model = poly_pipeline.fit(x,y)\n",
    "    df_temp[degree] = model.predict(x)\n",
    "df_temp.set_index(predictor, inplace = True)\n",
    "\n",
    "df_temp.sort_index(inplace = True)\n",
    "x_vals = df_temp.index\n",
    "plt.scatter(x_vals, df_temp[target], color = 'y')\n",
    "plt.xlabel(''+predictor+'')\n",
    "plt.ylabel(''+target+'')\n",
    "for col in df_temp.iloc[:,1:].columns:\n",
    "    plt.plot(x_vals, df_temp.loc[:,col], label = col, lw = 4)\n",
    "plt.legend()\n",
    "plt.show()"
   ]
  },
  {
   "cell_type": "code",
   "execution_count": 232,
   "metadata": {},
   "outputs": [
    {
     "data": {
      "text/html": [
       "<div>\n",
       "<style scoped>\n",
       "    .dataframe tbody tr th:only-of-type {\n",
       "        vertical-align: middle;\n",
       "    }\n",
       "\n",
       "    .dataframe tbody tr th {\n",
       "        vertical-align: top;\n",
       "    }\n",
       "\n",
       "    .dataframe thead th {\n",
       "        text-align: right;\n",
       "    }\n",
       "</style>\n",
       "<table border=\"1\" class=\"dataframe\">\n",
       "  <thead>\n",
       "    <tr style=\"text-align: right;\">\n",
       "      <th></th>\n",
       "      <th>coef</th>\n",
       "    </tr>\n",
       "  </thead>\n",
       "  <tbody>\n",
       "    <tr>\n",
       "      <th>Recipe_name_Saag Paneer Flatbread</th>\n",
       "      <td>3.481049</td>\n",
       "    </tr>\n",
       "    <tr>\n",
       "      <th>Recipe_name_Super Cheesy Corn and Poblano Quesadillas</th>\n",
       "      <td>3.340981</td>\n",
       "    </tr>\n",
       "    <tr>\n",
       "      <th>Recipe_name_Mexican Breakfast Pizza</th>\n",
       "      <td>3.203395</td>\n",
       "    </tr>\n",
       "    <tr>\n",
       "      <th>Recipe_name_Breakfast Sausage Flatbread with Eggs</th>\n",
       "      <td>3.121365</td>\n",
       "    </tr>\n",
       "    <tr>\n",
       "      <th>Recipe_name_Cuban Rice with Halloumi, Poblano, and Salsa Verde</th>\n",
       "      <td>3.017050</td>\n",
       "    </tr>\n",
       "  </tbody>\n",
       "</table>\n",
       "</div>"
      ],
      "text/plain": [
       "                                                        coef\n",
       "Recipe_name_Saag Paneer Flatbread                   3.481049\n",
       "Recipe_name_Super Cheesy Corn and Poblano Quesa...  3.340981\n",
       "Recipe_name_Mexican Breakfast Pizza                 3.203395\n",
       "Recipe_name_Breakfast Sausage Flatbread with Eggs   3.121365\n",
       "Recipe_name_Cuban Rice with Halloumi, Poblano, ...  3.017050"
      ]
     },
     "execution_count": 232,
     "metadata": {},
     "output_type": "execute_result"
    }
   ],
   "source": [
    "from sklearn.linear_model import LinearRegression\n",
    "linear_regression = LinearRegression(normalize=False, fit_intercept=True)\n",
    "linear_regression.fit(X,y)\n",
    "(pd.DataFrame(linear_regression.coef_, index = X_df.columns, columns = ['coef']).abs()).sort_values('coef', ascending = 0)[:5]"
   ]
  },
  {
   "cell_type": "code",
   "execution_count": 239,
   "metadata": {},
   "outputs": [
    {
     "name": "stdout",
     "output_type": "stream",
     "text": [
      "['price', 'ingredients_count', 'Recipe_name_Apple turkey burger', 'Recipe_name_Apricot-Chili Glazed Chicken with Roasted Potatoes and Carrots', 'Recipe_name_Aritchoke Risotto ONLY VEGGIE', 'Recipe_name_Autumn Risotto with Butternut Squash, Sage, and Pepitas', 'Recipe_name_BBQ Pork Meatloaf with Cabbage and Sweet Potato', 'Recipe_name_BBQ Pulled Pork Flatbread', 'Recipe_name_Baked Parmesan Chicken Nuggets with Green Beans and Oven Fries', 'Recipe_name_Baked Veggie Pasta Parmesan', 'Recipe_name_Balsamic Fig Chicken - Summer', 'Recipe_name_Balsamic glazed pork with couscous - Dinner to Lunch', 'Recipe_name_Bangers and Mash with Thyme Gravy', 'Recipe_name_Beef And Pepper Tostadas', 'Recipe_name_Beef Fajitas with Kiwi Salsa', 'Recipe_name_Bell Pepper and Black Bean Quesadillas', 'Recipe_name_Breakfast Sausage Flatbread with Eggs', \"Recipe_name_Caramelized Onion Shepherd's Pie\", 'Recipe_name_Caramelized Pineapple Burgers with Slaw', 'Recipe_name_Caramelized Veggie Skewers', 'Recipe_name_Cauliflower Pancetta Mac & Cheese', 'Recipe_name_Chard & Wild Mushroom Penne', 'Recipe_name_Cheddar Frico Burger', 'Recipe_name_Cheesy Chicken Enchilada Casserole', 'Recipe_name_Cheesy Meatball Skillet', 'Recipe_name_Cheesy meatball bake', 'Recipe_name_Cherry-Balsamic Glazed Pork Tenderloin with Fingerlings and Broccoli', 'Recipe_name_Chicken Mozzarella Flatbread With Sriracha-Honey Buffalo Sauce And Ranch Sauce', 'Recipe_name_Chicken Paillard', 'Recipe_name_Chicken and Pineapple Quesadillas', 'Recipe_name_Chili Cashew Shrimp with Brown Rice', 'Recipe_name_Chimichurri Burger', 'Recipe_name_Chorizo, Avocado, and Egg sandwich with Potato Hash', 'Recipe_name_Crispy Chipotle Shrimp Tacos', 'Recipe_name_Crispy Spiced Tilapia Sandwich with Red Cabbage and Cucumber Slaw', 'Recipe_name_Cuban Pork with Warm Confetti Salad NOT IN FAMILY', 'Recipe_name_Cuban Rice with Halloumi, Poblano, and Salsa Verde', 'Recipe_name_Cumin Beef Stir Fry', 'Recipe_name_Dinner and Lunch Chili and Burrito', 'Recipe_name_Do the Dukkah Chicken with Sweet Potatoes and Snap Peas', 'Recipe_name_Duck Breast with Nectarine-Balsamic Sauce, Lemony Rice, and Watercress Salad', 'Recipe_name_Fatoush Salad with Crispy Chickpeas and Chips', 'Recipe_name_Flaming Pork Fajitas', 'Recipe_name_Freekeh & Brussels Sprouts Salad', 'Recipe_name_Fussiloni al Forno', 'Recipe_name_Grilled Chicken with Potato and Summer Squash Hash', 'Recipe_name_Grilled Zucchini and Asparagus Farro Bowl', 'Recipe_name_Halloumi Jumble with Chimichurri', 'Recipe_name_Hawaiian Pork Burgers with Salad', 'Recipe_name_Herb-Crusted Pork Tenderloin', 'Recipe_name_Hoisin Seared Ribeye with Scallion Sesame Pesto', 'Recipe_name_Hoisin-Glazed Meatballs with Green Beans and Rice', 'Recipe_name_Hoisin-Sriracha Grilled Salmon with Jasmine Rice, Grilled Baby Bok Choy, and Sriracha Butter', 'Recipe_name_Homestyle Meatloaf', 'Recipe_name_Honey-Ginger Glazed Chicken', 'Recipe_name_Jerk Chicken Skewers with Peach and Curried Rice', 'Recipe_name_Lemony Shrimp Linguine NOT FOR FAM', 'Recipe_name_Lobster Ravioli and Zucchini in Creamy Tomato Sauce', 'Recipe_name_Lobster Ravioli with Maitake Mushrooms', 'Recipe_name_Lobster Ravioli with Shrimp and Heirloom Tomatoes', 'Recipe_name_Macaroni a la Vodka', 'Recipe_name_Maple glazed chicken', 'Recipe_name_Meatloaf with Chive Mashed Potato', 'Recipe_name_Mediterranean Gyro bowl', 'Recipe_name_Mexican Breakfast Pizza', 'Recipe_name_Mushroom Ragu with Crispy Polenta Cakes and Tangy Arugula Salad', 'Recipe_name_Mustard Pork Chops with Roasted Green Beans and Latkes', 'Recipe_name_NL Couscous and Grilled Asparagus Salad', 'Recipe_name_NY Strip with Cauli Mash and Heirloom Tomatoes', 'Recipe_name_One sheet fish tacos', 'Recipe_name_One-Pot Sausage and Tortellini Soup', 'Recipe_name_One-Pot Tortelloni With Heirloom Tomato And Kale', 'Recipe_name_Oven-Baked Corn & Tomato Risotto with Pancetta, Thyme, and Parmesan NOT FOR FAM', 'Recipe_name_Pan-Seared Chicken with Yukon Potatoes, Green Beans, and Creamy Dill Sauce', 'Recipe_name_Pan-Seared Steak with Spring Veggie Succotash', 'Recipe_name_Parmesan Crusted Tilapia', 'Recipe_name_Pasta With Baby Broccoli, Basil, And Sun Dried Tomto Cream', 'Recipe_name_Pasta with Roasted Veggies and Goat Cheese', 'Recipe_name_Penne With a Kick - summer', 'Recipe_name_Pho Soup To Noodle Stir Fry', 'Recipe_name_Pineapple BBQ Pizza', 'Recipe_name_Polenta Cakes with Asparagus and Mushrooms', 'Recipe_name_Pork Chops with Arugula-Peach Salad and Couscous', 'Recipe_name_Pork Tenderloin with Potatoes and Tarragon Cream Sauce', 'Recipe_name_Pork al Mojo', 'Recipe_name_Pork and Chinese Eggplant Stir-Fry', 'Recipe_name_Pork carnitas (Classic version)', 'Recipe_name_Pork carnitas (non-romaine)', 'Recipe_name_Portobello & Orecchiette Primavera', 'Recipe_name_Prosciutto Wrapped Chicken over Truffle Mushroom Risotto', 'Recipe_name_Pulled Pork Rice Bowl', 'Recipe_name_Quick-Marinated Steak', 'Recipe_name_Quickest Chicken Parmesan', 'Recipe_name_RAPID: Maple-Balsamic Chicken with Sweet Potato and Brussels', 'Recipe_name_Ribeye with Bearnaise Style Sauce', 'Recipe_name_Roast Chicken Dinner', 'Recipe_name_Roasted Carrot and Avocado Salad with Israeli Couscous', 'Recipe_name_Roasted Eggplant Linguine with Sun-Dried Tomato and Chili', 'Recipe_name_Roasted Salmon with French Lentil Salad', 'Recipe_name_Roasted Salmon with Grape Tomatoes and Green Beans', 'Recipe_name_Roasted Vegetable Quesadillas', 'Recipe_name_Rosemary Beef Skewers with Garlic Bread and Blistered Green Beans', 'Recipe_name_Rosemary-Walnut Crusted Chicken', 'Recipe_name_Saag Paneer Flatbread', 'Recipe_name_Salmon With Creamy Lemon Dill Sauce (with stock)', 'Recipe_name_Salmon over Tomato Couscous with Lemon Crema', 'Recipe_name_Sausage Flatbreads with Pickled Jalapeno, Shallot, and Salad', 'Recipe_name_Sausage and Tomato Risotto', 'Recipe_name_Sauteed Chicken Breasts with Dijon Herb Sauce', 'Recipe_name_Seared Chicken with Fig-Balsamic', 'Recipe_name_Seared Pork Chops with Brussels Sprouts', 'Recipe_name_Seared Pork Tenderloin with Homemade Applesauce and green beans', 'Recipe_name_Seared Sausages with Warm Orzo Salad', 'Recipe_name_Seared Steak and Creamy Chipotle Pan-Sauce', 'Recipe_name_Seared Steak with Dijon Tomato Salad and Marble Potatoes', 'Recipe_name_Seitan Chili', 'Recipe_name_Seitan Tacos al Pastor with Poblano', 'Recipe_name_Sesame Pecan Chicken Tenders with Honey Mustard', 'Recipe_name_Sesame Shrimp with Jasmine Rice and Green Beans', 'Recipe_name_Shawarma Beef Meatballs w Bulgur and broiled vegetables', \"Recipe_name_Shepherd's Pie\", 'Recipe_name_Shrimp and Farro Bowl', 'Recipe_name_Shrimp and Snap Pea Risotto - Summer', 'Recipe_name_Smoky Chicken Fajitas with Charred Pepper and Onion, Garlic-Lime Crema', 'Recipe_name_Southern Pork Chops with Potato-Collard Hash', 'Recipe_name_Southwest Black Bean Burgers', 'Recipe_name_Southwest Lime Marinated Steak Fajitas with Spiced Crema', 'Recipe_name_Southwest Salmon Bowl', 'Recipe_name_Soy Glazed Steak', 'Recipe_name_Soy Shiitake Demi Glazed Steak over Wasabi Potatoes with Roasted Asparagus', 'Recipe_name_Soy Steak with Scalllion Mashed Potatoes and Sesame Snow Peas and Edamame', 'Recipe_name_Spaghetti with Fresh Tomatoes, Chorizo, Hot Chilies, and Basil', 'Recipe_name_Spiced Cashew Orange Chicken Stir Fry', 'Recipe_name_Spicy Korean Style Shrimp With Sesame Cucumber Salad Over Rice', 'Recipe_name_Spicy Shakshuka with Chickpeas', 'Recipe_name_Spinach Ricotta Ravioli with Chicken Sausage', 'Recipe_name_Spring Tortellini Gratin', 'Recipe_name_Squash Flatbread with Fresh Mozzarella', 'Recipe_name_Steak Caprese with Garlic-Roasted Potatoes (Classic)', 'Recipe_name_Steak Sheet Bake - Potatoes, Mini Bell Peppers, Orange Parsley Butter', 'Recipe_name_Steak Tagliata (Family Friendly)', 'Recipe_name_Steakhouse Classic Ny Strip With Truffle Mushroom Sauce, Roasted Carrots, And Stuffed Potato', 'Recipe_name_Stuffed Summer Squash Boats NOT FOR FAM', 'Recipe_name_Summer Ratatouille', 'Recipe_name_Summer Succotash-Stuffed Peppers', 'Recipe_name_Super Cheesy Corn and Poblano Quesadillas', 'Recipe_name_Sweet Italian Sausage and Broccolini Pasta', 'Recipe_name_Sweet Potato & Quinoa Bowl', 'Recipe_name_Sweet and Tangy Glazed Pork Chops', 'Recipe_name_Taco Pizza', 'Recipe_name_Tempura Fish Tacos', 'Recipe_name_Teriyaki Chicken and Snow Pea Stirfry', 'Recipe_name_Teriyaki Chicken with Coconut Rice and Bok Choy', 'Recipe_name_Thai Beef with Carrot Noodles', 'Recipe_name_Thai Pork Larb', 'Recipe_name_Tilapia with Scallion Pesto over Ginger Jasmine Rice with Green Beans', 'Recipe_name_Tortellini Gratin with Tomato-Basil Bolognese and Spinach', 'Recipe_name_Turkey Patty Melt with Mushrooms, Gruyere and Arugula', 'Recipe_name_Turkish Spiced Salmon With Orange Arugula Salad And Couscous', 'Recipe_name_Tuscan Pork Linguine (FAMILY ONLY)', 'Recipe_name_Tuscan Ribollita with Kale, Italian Sausage, and Parmesan Croutons CLASSIC ONLY', 'Recipe_name_UK Black Sesame Teriyaki Beef', 'Recipe_name_UK Cheesy Tomato Orzo Risotto', 'Recipe_name_UK Chicken with Mustard Sauce NOT FOR FAMILY', 'Recipe_name_UK Herbed Pork with Sicilian Caponata', 'Recipe_name_UK Homemade Pork Schnitzel', 'Recipe_name_UK Orecchiette with Herbed Pork (f)', 'Recipe_name_UK Peachy Pork Tacos', 'Recipe_name_UK Shredded Barbecue Chicken with Black Bean Salad', 'Recipe_name_UK Spiced Buttery Mahi Mahi', 'Recipe_name_UK Super Quick Creamy Pasta with Peas and Pancetta with Truffle', 'Recipe_name_Vegetarian Italian Subs', 'Recipe_name_Veggie Lo Mein with Mushrooms, Green Beans, and Sweet Ginger-Soy Sauce', 'Recipe_name_White BBQ Meatloaf', 'Recipe_name_Wild Mushroom Lo Mein']\n"
     ]
    },
    {
     "ename": "IndexError",
     "evalue": "only integers, slices (`:`), ellipsis (`...`), numpy.newaxis (`None`) and integer or boolean arrays are valid indices",
     "output_type": "error",
     "traceback": [
      "\u001b[1;31m---------------------------------------------------------------------------\u001b[0m",
      "\u001b[1;31mIndexError\u001b[0m                                Traceback (most recent call last)",
      "\u001b[1;32m<ipython-input-239-a34c54a7dd86>\u001b[0m in \u001b[0;36m<module>\u001b[1;34m\u001b[0m\n\u001b[0;32m      2\u001b[0m     \u001b[1;31m#cols = [x for x in X_df.columns if x!=variable]\u001b[0m\u001b[1;33m\u001b[0m\u001b[1;33m\u001b[0m\u001b[1;33m\u001b[0m\u001b[0m\n\u001b[0;32m      3\u001b[0m     \u001b[0mprint\u001b[0m\u001b[1;33m(\u001b[0m\u001b[0mcols\u001b[0m\u001b[1;33m)\u001b[0m\u001b[1;33m\u001b[0m\u001b[1;33m\u001b[0m\u001b[0m\n\u001b[1;32m----> 4\u001b[1;33m     \u001b[0mX_temp\u001b[0m \u001b[1;33m=\u001b[0m \u001b[0mX\u001b[0m\u001b[1;33m[\u001b[0m\u001b[0mvariable\u001b[0m\u001b[1;33m]\u001b[0m\u001b[1;33m.\u001b[0m\u001b[0mcopy\u001b[0m\u001b[1;33m(\u001b[0m\u001b[1;33m)\u001b[0m\u001b[1;33m\u001b[0m\u001b[1;33m\u001b[0m\u001b[0m\n\u001b[0m",
      "\u001b[1;31mIndexError\u001b[0m: only integers, slices (`:`), ellipsis (`...`), numpy.newaxis (`None`) and integer or boolean arrays are valid indices"
     ]
    }
   ],
   "source": [
    "for variable in X_df.columns:\n",
    "    #cols = [x for x in X_df.columns if x!=variable]\n",
    "    print(cols)\n",
    "    X_temp = X[variable].copy()"
   ]
  },
  {
   "cell_type": "code",
   "execution_count": 234,
   "metadata": {},
   "outputs": [
    {
     "ename": "IndexError",
     "evalue": "only integers, slices (`:`), ellipsis (`...`), numpy.newaxis (`None`) and integer or boolean arrays are valid indices",
     "output_type": "error",
     "traceback": [
      "\u001b[1;31m---------------------------------------------------------------------------\u001b[0m",
      "\u001b[1;31mIndexError\u001b[0m                                Traceback (most recent call last)",
      "\u001b[1;32m<ipython-input-234-5809a12c9f16>\u001b[0m in \u001b[0;36m<module>\u001b[1;34m\u001b[0m\n\u001b[0;32m      9\u001b[0m \u001b[1;32mfor\u001b[0m \u001b[0mvariable\u001b[0m \u001b[1;32min\u001b[0m \u001b[0mX_df\u001b[0m\u001b[1;33m.\u001b[0m\u001b[0mcolumns\u001b[0m\u001b[1;33m:\u001b[0m\u001b[1;33m\u001b[0m\u001b[1;33m\u001b[0m\u001b[0m\n\u001b[0;32m     10\u001b[0m     \u001b[0mcols\u001b[0m \u001b[1;33m=\u001b[0m \u001b[1;33m[\u001b[0m\u001b[0mx\u001b[0m \u001b[1;32mfor\u001b[0m \u001b[0mx\u001b[0m \u001b[1;32min\u001b[0m \u001b[0mX_df\u001b[0m\u001b[1;33m.\u001b[0m\u001b[0mcolumns\u001b[0m \u001b[1;32mif\u001b[0m \u001b[0mx\u001b[0m\u001b[1;33m!=\u001b[0m\u001b[0mvariable\u001b[0m\u001b[1;33m]\u001b[0m\u001b[1;33m\u001b[0m\u001b[1;33m\u001b[0m\u001b[0m\n\u001b[1;32m---> 11\u001b[1;33m     \u001b[0mX_temp\u001b[0m \u001b[1;33m=\u001b[0m \u001b[0mX\u001b[0m\u001b[1;33m[\u001b[0m\u001b[0mcols\u001b[0m\u001b[1;33m]\u001b[0m\u001b[1;33m.\u001b[0m\u001b[0mcopy\u001b[0m\u001b[1;33m(\u001b[0m\u001b[1;33m)\u001b[0m\u001b[1;33m\u001b[0m\u001b[1;33m\u001b[0m\u001b[0m\n\u001b[0m\u001b[0;32m     12\u001b[0m     \u001b[0mR2\u001b[0m \u001b[1;33m=\u001b[0m \u001b[0mr2_score\u001b[0m\u001b[1;33m(\u001b[0m\u001b[0my\u001b[0m\u001b[1;33m,\u001b[0m \u001b[0mlinear_regression\u001b[0m\u001b[1;33m.\u001b[0m\u001b[0mfit\u001b[0m\u001b[1;33m(\u001b[0m\u001b[0mX_temp\u001b[0m\u001b[1;33m,\u001b[0m\u001b[0my\u001b[0m\u001b[1;33m)\u001b[0m\u001b[1;33m.\u001b[0m\u001b[0mpredict\u001b[0m\u001b[1;33m(\u001b[0m\u001b[0mX_temp\u001b[0m\u001b[1;33m)\u001b[0m\u001b[1;33m)\u001b[0m\u001b[1;33m\u001b[0m\u001b[1;33m\u001b[0m\u001b[0m\n\u001b[0;32m     13\u001b[0m     \u001b[0mdifference\u001b[0m \u001b[1;33m=\u001b[0m \u001b[0mbaseline_R2\u001b[0m \u001b[1;33m-\u001b[0m \u001b[0mR2\u001b[0m\u001b[1;33m\u001b[0m\u001b[1;33m\u001b[0m\u001b[0m\n",
      "\u001b[1;31mIndexError\u001b[0m: only integers, slices (`:`), ellipsis (`...`), numpy.newaxis (`None`) and integer or boolean arrays are valid indices"
     ]
    }
   ],
   "source": [
    "from sklearn.metrics import r2_score\n",
    "\n",
    "linear_regression = LinearRegression(normalize=False, fit_intercept=True)\n",
    "baseline_R2 = r2_score(y, linear_regression.fit(X,y).predict(X))\n",
    "baseline_R2\n",
    "\n",
    "df_R2 = pd.DataFrame(index = X_df.columns, columns = ['Difference'])\n",
    "\n",
    "for variable in X_df.columns:\n",
    "    cols = [x for x in X_df.columns if x!=variable]\n",
    "    X_temp = X[cols].copy()\n",
    "    R2 = r2_score(y, linear_regression.fit(X_temp,y).predict(X_temp))\n",
    "    difference = baseline_R2 - R2\n",
    "    df_R2.loc[variable, 'Difference'] = difference\n",
    "df_R2.sort_values('Difference', ascending = 0)"
   ]
  },
  {
   "cell_type": "code",
   "execution_count": 214,
   "metadata": {},
   "outputs": [
    {
     "name": "stdout",
     "output_type": "stream",
     "text": [
      "Accuracy: -0.24 (+/- 0.37)\n"
     ]
    }
   ],
   "source": [
    "from sklearn.model_selection import cross_val_score\n",
    "scores = cross_val_score(rfr, X_train, y_train, cv=5)\n",
    "scores\n",
    "print(\"Accuracy: %0.2f (+/- %0.2f)\" % (scores.mean(), scores.std() * 2))"
   ]
  },
  {
   "cell_type": "code",
   "execution_count": 210,
   "metadata": {},
   "outputs": [
    {
     "name": "stdout",
     "output_type": "stream",
     "text": [
      "grouping the ingridients dataset on recipe code and recipe name.. \n",
      "adding a feature column as ingredients_list and ingredients_count.. \n",
      "unique recipe codes in ingredients.csv:  257\n",
      "unique recipe codes in rating.csv:  222\n",
      "unique recipe codes in ingredients group:  222\n",
      "created a merged dataset with shape:  (222, 7)\n",
      "(125, 440)\n",
      "(54, 440)\n",
      "(125,)\n",
      "(54,)\n",
      "(54, 1)\n",
      "----------\n",
      "(54, 1)\n",
      "R-squared for Train: 0.84\n",
      "R-squared for Test: -0.22\n"
     ]
    },
    {
     "ename": "ValueError",
     "evalue": "Number of features of the model must match the input. Model n_features is 440 and input n_features is 1 ",
     "output_type": "error",
     "traceback": [
      "\u001b[1;31m---------------------------------------------------------------------------\u001b[0m",
      "\u001b[1;31mValueError\u001b[0m                                Traceback (most recent call last)",
      "\u001b[1;32m<ipython-input-210-170412b91cfa>\u001b[0m in \u001b[0;36m<module>\u001b[1;34m\u001b[0m\n\u001b[0;32m     28\u001b[0m \u001b[0mprint\u001b[0m \u001b[1;33m(\u001b[0m\u001b[1;34m\"R-squared for Train: %.2f\"\u001b[0m \u001b[1;33m%\u001b[0m\u001b[0mrfr\u001b[0m\u001b[1;33m.\u001b[0m\u001b[0mscore\u001b[0m\u001b[1;33m(\u001b[0m\u001b[0mX_train\u001b[0m\u001b[1;33m,\u001b[0m \u001b[0my_train\u001b[0m\u001b[1;33m)\u001b[0m\u001b[1;33m)\u001b[0m\u001b[1;33m\u001b[0m\u001b[1;33m\u001b[0m\u001b[0m\n\u001b[0;32m     29\u001b[0m \u001b[0mprint\u001b[0m \u001b[1;33m(\u001b[0m\u001b[1;34m\"R-squared for Test: %.2f\"\u001b[0m \u001b[1;33m%\u001b[0m\u001b[0mrfr\u001b[0m\u001b[1;33m.\u001b[0m\u001b[0mscore\u001b[0m\u001b[1;33m(\u001b[0m\u001b[0mX_test\u001b[0m\u001b[1;33m,\u001b[0m \u001b[0my_test\u001b[0m\u001b[1;33m)\u001b[0m\u001b[1;33m)\u001b[0m\u001b[1;33m\u001b[0m\u001b[1;33m\u001b[0m\u001b[0m\n\u001b[1;32m---> 30\u001b[1;33m \u001b[0mprint\u001b[0m \u001b[1;33m(\u001b[0m\u001b[1;34m\"R-squared for Test: %.2f\"\u001b[0m \u001b[1;33m%\u001b[0m\u001b[0mrfr\u001b[0m\u001b[1;33m.\u001b[0m\u001b[0mscore\u001b[0m\u001b[1;33m(\u001b[0m\u001b[0my_test\u001b[0m\u001b[1;33m.\u001b[0m\u001b[0mvalues\u001b[0m\u001b[1;33m.\u001b[0m\u001b[0mreshape\u001b[0m\u001b[1;33m(\u001b[0m\u001b[1;33m-\u001b[0m\u001b[1;36m1\u001b[0m\u001b[1;33m,\u001b[0m\u001b[1;36m1\u001b[0m\u001b[1;33m)\u001b[0m\u001b[1;33m,\u001b[0m \u001b[0my_pred\u001b[0m\u001b[1;33m.\u001b[0m\u001b[0mreshape\u001b[0m\u001b[1;33m(\u001b[0m\u001b[1;33m-\u001b[0m\u001b[1;36m1\u001b[0m\u001b[1;33m,\u001b[0m\u001b[1;36m1\u001b[0m\u001b[1;33m)\u001b[0m\u001b[1;33m)\u001b[0m\u001b[1;33m)\u001b[0m\u001b[1;33m\u001b[0m\u001b[1;33m\u001b[0m\u001b[0m\n\u001b[0m\u001b[0;32m     31\u001b[0m \u001b[1;31m#y_test['pred'] = y_pred\u001b[0m\u001b[1;33m\u001b[0m\u001b[1;33m\u001b[0m\u001b[1;33m\u001b[0m\u001b[0m\n\u001b[0;32m     32\u001b[0m \u001b[1;31m#print (\"R-squared for Test: %.2f\" %rfr.score(y_test.to_numpy().reshape(-1,1), y_pred.reshape(-1,1)))\u001b[0m\u001b[1;33m\u001b[0m\u001b[1;33m\u001b[0m\u001b[1;33m\u001b[0m\u001b[0m\n",
      "\u001b[1;32m~\\AppData\\Local\\Continuum\\anaconda3\\lib\\site-packages\\sklearn\\base.py\u001b[0m in \u001b[0;36mscore\u001b[1;34m(self, X, y, sample_weight)\u001b[0m\n\u001b[0;32m    406\u001b[0m         \u001b[1;32mfrom\u001b[0m \u001b[1;33m.\u001b[0m\u001b[0mmetrics\u001b[0m \u001b[1;32mimport\u001b[0m \u001b[0mr2_score\u001b[0m\u001b[1;33m\u001b[0m\u001b[1;33m\u001b[0m\u001b[0m\n\u001b[0;32m    407\u001b[0m         \u001b[1;32mfrom\u001b[0m \u001b[1;33m.\u001b[0m\u001b[0mmetrics\u001b[0m\u001b[1;33m.\u001b[0m\u001b[0mregression\u001b[0m \u001b[1;32mimport\u001b[0m \u001b[0m_check_reg_targets\u001b[0m\u001b[1;33m\u001b[0m\u001b[1;33m\u001b[0m\u001b[0m\n\u001b[1;32m--> 408\u001b[1;33m         \u001b[0my_pred\u001b[0m \u001b[1;33m=\u001b[0m \u001b[0mself\u001b[0m\u001b[1;33m.\u001b[0m\u001b[0mpredict\u001b[0m\u001b[1;33m(\u001b[0m\u001b[0mX\u001b[0m\u001b[1;33m)\u001b[0m\u001b[1;33m\u001b[0m\u001b[1;33m\u001b[0m\u001b[0m\n\u001b[0m\u001b[0;32m    409\u001b[0m         \u001b[1;31m# XXX: Remove the check in 0.23\u001b[0m\u001b[1;33m\u001b[0m\u001b[1;33m\u001b[0m\u001b[1;33m\u001b[0m\u001b[0m\n\u001b[0;32m    410\u001b[0m         \u001b[0my_type\u001b[0m\u001b[1;33m,\u001b[0m \u001b[0m_\u001b[0m\u001b[1;33m,\u001b[0m \u001b[0m_\u001b[0m\u001b[1;33m,\u001b[0m \u001b[0m_\u001b[0m \u001b[1;33m=\u001b[0m \u001b[0m_check_reg_targets\u001b[0m\u001b[1;33m(\u001b[0m\u001b[0my\u001b[0m\u001b[1;33m,\u001b[0m \u001b[0my_pred\u001b[0m\u001b[1;33m,\u001b[0m \u001b[1;32mNone\u001b[0m\u001b[1;33m)\u001b[0m\u001b[1;33m\u001b[0m\u001b[1;33m\u001b[0m\u001b[0m\n",
      "\u001b[1;32m~\\AppData\\Local\\Continuum\\anaconda3\\lib\\site-packages\\sklearn\\ensemble\\forest.py\u001b[0m in \u001b[0;36mpredict\u001b[1;34m(self, X)\u001b[0m\n\u001b[0;32m    691\u001b[0m         \u001b[0mcheck_is_fitted\u001b[0m\u001b[1;33m(\u001b[0m\u001b[0mself\u001b[0m\u001b[1;33m,\u001b[0m \u001b[1;34m'estimators_'\u001b[0m\u001b[1;33m)\u001b[0m\u001b[1;33m\u001b[0m\u001b[1;33m\u001b[0m\u001b[0m\n\u001b[0;32m    692\u001b[0m         \u001b[1;31m# Check data\u001b[0m\u001b[1;33m\u001b[0m\u001b[1;33m\u001b[0m\u001b[1;33m\u001b[0m\u001b[0m\n\u001b[1;32m--> 693\u001b[1;33m         \u001b[0mX\u001b[0m \u001b[1;33m=\u001b[0m \u001b[0mself\u001b[0m\u001b[1;33m.\u001b[0m\u001b[0m_validate_X_predict\u001b[0m\u001b[1;33m(\u001b[0m\u001b[0mX\u001b[0m\u001b[1;33m)\u001b[0m\u001b[1;33m\u001b[0m\u001b[1;33m\u001b[0m\u001b[0m\n\u001b[0m\u001b[0;32m    694\u001b[0m \u001b[1;33m\u001b[0m\u001b[0m\n\u001b[0;32m    695\u001b[0m         \u001b[1;31m# Assign chunk of trees to jobs\u001b[0m\u001b[1;33m\u001b[0m\u001b[1;33m\u001b[0m\u001b[1;33m\u001b[0m\u001b[0m\n",
      "\u001b[1;32m~\\AppData\\Local\\Continuum\\anaconda3\\lib\\site-packages\\sklearn\\ensemble\\forest.py\u001b[0m in \u001b[0;36m_validate_X_predict\u001b[1;34m(self, X)\u001b[0m\n\u001b[0;32m    357\u001b[0m                                  \"call `fit` before exploiting the model.\")\n\u001b[0;32m    358\u001b[0m \u001b[1;33m\u001b[0m\u001b[0m\n\u001b[1;32m--> 359\u001b[1;33m         \u001b[1;32mreturn\u001b[0m \u001b[0mself\u001b[0m\u001b[1;33m.\u001b[0m\u001b[0mestimators_\u001b[0m\u001b[1;33m[\u001b[0m\u001b[1;36m0\u001b[0m\u001b[1;33m]\u001b[0m\u001b[1;33m.\u001b[0m\u001b[0m_validate_X_predict\u001b[0m\u001b[1;33m(\u001b[0m\u001b[0mX\u001b[0m\u001b[1;33m,\u001b[0m \u001b[0mcheck_input\u001b[0m\u001b[1;33m=\u001b[0m\u001b[1;32mTrue\u001b[0m\u001b[1;33m)\u001b[0m\u001b[1;33m\u001b[0m\u001b[1;33m\u001b[0m\u001b[0m\n\u001b[0m\u001b[0;32m    360\u001b[0m \u001b[1;33m\u001b[0m\u001b[0m\n\u001b[0;32m    361\u001b[0m     \u001b[1;33m@\u001b[0m\u001b[0mproperty\u001b[0m\u001b[1;33m\u001b[0m\u001b[1;33m\u001b[0m\u001b[0m\n",
      "\u001b[1;32m~\\AppData\\Local\\Continuum\\anaconda3\\lib\\site-packages\\sklearn\\tree\\tree.py\u001b[0m in \u001b[0;36m_validate_X_predict\u001b[1;34m(self, X, check_input)\u001b[0m\n\u001b[0;32m    400\u001b[0m                              \u001b[1;34m\"match the input. Model n_features is %s and \"\u001b[0m\u001b[1;33m\u001b[0m\u001b[1;33m\u001b[0m\u001b[0m\n\u001b[0;32m    401\u001b[0m                              \u001b[1;34m\"input n_features is %s \"\u001b[0m\u001b[1;33m\u001b[0m\u001b[1;33m\u001b[0m\u001b[0m\n\u001b[1;32m--> 402\u001b[1;33m                              % (self.n_features_, n_features))\n\u001b[0m\u001b[0;32m    403\u001b[0m \u001b[1;33m\u001b[0m\u001b[0m\n\u001b[0;32m    404\u001b[0m         \u001b[1;32mreturn\u001b[0m \u001b[0mX\u001b[0m\u001b[1;33m\u001b[0m\u001b[1;33m\u001b[0m\u001b[0m\n",
      "\u001b[1;31mValueError\u001b[0m: Number of features of the model must match the input. Model n_features is 440 and input n_features is 1 "
     ]
    }
   ],
   "source": [
    "df = datautil.preProcessData(path)\n",
    "df_01 = df[['Recipe_code', 'Recipe_name', 'score','new', 'price','ingredients_count']]\n",
    "\n",
    "df_encoded = pd.get_dummies(df_01, columns=df_01.select_dtypes(include=['object']).columns, drop_first=True)\n",
    "\n",
    "df_encoded_pred = df_encoded.loc[df_encoded.new==1.0]\n",
    "df_encoded = df_encoded.loc[df_encoded.new==0.0]\n",
    "\n",
    "y = df_encoded.loc[:,dependentVar]\n",
    "#labels = preprocessing.LabelEncoder().fit_transform(y)\n",
    "X = df_encoded.drop(dependentVar,1)\n",
    "X_train, X_test, y_train, y_test = train_test_split(X, y, test_size = 0.3, random_state=42)\n",
    "#y_train, y_test = y_train.reshape(-1,1), y_test.reshape(-1,1)\n",
    "print(X_train.shape)\n",
    "print(X_test.shape)\n",
    "print(y_train.shape)\n",
    "print(y_test.shape)    \n",
    "\n",
    "rfr = RandomForestRegressor(n_estimators=50, random_state=0)\n",
    "rfr.fit(X_train, y_train)\n",
    "y_pred = rfr.predict(X_test)\n",
    "print(y_pred.reshape(-1,1).shape)\n",
    "print(\"----------\")\n",
    "print(y_test.values.reshape(-1,1).shape)\n",
    "\n",
    "# Score model\n",
    "\n",
    "print (\"R-squared for Train: %.2f\" %rfr.score(X_train, y_train)) \n",
    "print (\"R-squared for Test: %.2f\" %rfr.score(X_test, y_test))\n",
    "print (\"R-squared for Test: %.2f\" %rfr.score(y_test.values.reshape(-1,1), y_pred.reshape(-1,1)))\n",
    "#y_test['pred'] = y_pred\n",
    "#print (\"R-squared for Test: %.2f\" %rfr.score(y_test.to_numpy().reshape(-1,1), y_pred.reshape(-1,1)))\n"
   ]
  },
  {
   "cell_type": "code",
   "execution_count": 202,
   "metadata": {},
   "outputs": [
    {
     "name": "stdout",
     "output_type": "stream",
     "text": [
      "grouping the ingridients dataset on recipe code and recipe name.. \n",
      "adding a feature column as ingredients_list and ingredients_count.. \n",
      "unique recipe codes in ingredients.csv:  257\n",
      "unique recipe codes in rating.csv:  222\n",
      "unique recipe codes in ingredients group:  222\n",
      "created a merged dataset with shape:  (222, 7)\n",
      "(125, 440)\n",
      "(54, 440)\n",
      "(125,)\n",
      "(54,)\n",
      "[[2.0286]\n",
      " [2.8022]\n",
      " [2.3476]\n",
      " [2.675 ]\n",
      " [2.692 ]\n",
      " [1.7906]\n",
      " [2.8908]\n",
      " [2.3534]\n",
      " [1.9738]\n",
      " [1.8122]\n",
      " [2.9752]\n",
      " [2.3892]\n",
      " [2.4566]\n",
      " [2.0806]\n",
      " [1.9502]\n",
      " [2.3294]\n",
      " [2.3146]\n",
      " [1.9208]\n",
      " [2.5016]\n",
      " [2.754 ]\n",
      " [2.036 ]\n",
      " [2.3676]\n",
      " [2.6802]\n",
      " [2.7046]\n",
      " [2.8576]\n",
      " [1.9784]\n",
      " [2.7678]\n",
      " [2.2524]\n",
      " [2.239 ]\n",
      " [3.1938]\n",
      " [2.8478]\n",
      " [2.3676]\n",
      " [2.4336]\n",
      " [2.1272]\n",
      " [1.6988]\n",
      " [2.0966]\n",
      " [2.239 ]\n",
      " [2.4622]\n",
      " [2.9186]\n",
      " [2.688 ]\n",
      " [2.1512]\n",
      " [2.6906]\n",
      " [2.2452]\n",
      " [2.0046]\n",
      " [2.3812]\n",
      " [2.5516]\n",
      " [2.017 ]\n",
      " [2.4738]\n",
      " [2.222 ]\n",
      " [2.4756]\n",
      " [2.906 ]\n",
      " [2.8044]\n",
      " [2.458 ]\n",
      " [2.4908]]\n",
      "----------\n",
      "[[2.15]\n",
      " [4.55]\n",
      " [2.34]\n",
      " [4.58]\n",
      " [2.57]\n",
      " [4.18]\n",
      " [4.38]\n",
      " [4.18]\n",
      " [2.07]\n",
      " [1.14]\n",
      " [4.19]\n",
      " [3.88]\n",
      " [2.01]\n",
      " [2.89]\n",
      " [2.08]\n",
      " [3.56]\n",
      " [2.12]\n",
      " [5.28]\n",
      " [2.09]\n",
      " [3.99]\n",
      " [1.16]\n",
      " [4.31]\n",
      " [2.71]\n",
      " [4.87]\n",
      " [3.08]\n",
      " [2.24]\n",
      " [1.73]\n",
      " [2.21]\n",
      " [3.13]\n",
      " [2.83]\n",
      " [3.72]\n",
      " [3.74]\n",
      " [2.77]\n",
      " [1.74]\n",
      " [1.98]\n",
      " [1.9 ]\n",
      " [1.87]\n",
      " [1.71]\n",
      " [4.27]\n",
      " [2.56]\n",
      " [3.85]\n",
      " [1.5 ]\n",
      " [4.12]\n",
      " [4.19]\n",
      " [1.49]\n",
      " [2.04]\n",
      " [3.8 ]\n",
      " [4.1 ]\n",
      " [1.9 ]\n",
      " [4.96]\n",
      " [3.98]\n",
      " [1.56]\n",
      " [4.16]\n",
      " [1.44]]\n",
      "R-squared for Train: 0.84\n",
      "R-squared for Test: -0.22\n"
     ]
    },
    {
     "ename": "ValueError",
     "evalue": "Number of features of the model must match the input. Model n_features is 440 and input n_features is 1 ",
     "output_type": "error",
     "traceback": [
      "\u001b[1;31m---------------------------------------------------------------------------\u001b[0m",
      "\u001b[1;31mValueError\u001b[0m                                Traceback (most recent call last)",
      "\u001b[1;32m<ipython-input-202-121422db98b9>\u001b[0m in \u001b[0;36m<module>\u001b[1;34m\u001b[0m\n\u001b[0;32m     28\u001b[0m \u001b[0mprint\u001b[0m \u001b[1;33m(\u001b[0m\u001b[1;34m\"R-squared for Train: %.2f\"\u001b[0m \u001b[1;33m%\u001b[0m\u001b[0mrfr\u001b[0m\u001b[1;33m.\u001b[0m\u001b[0mscore\u001b[0m\u001b[1;33m(\u001b[0m\u001b[0mX_train\u001b[0m\u001b[1;33m,\u001b[0m \u001b[0my_train\u001b[0m\u001b[1;33m)\u001b[0m\u001b[1;33m)\u001b[0m\u001b[1;33m\u001b[0m\u001b[1;33m\u001b[0m\u001b[0m\n\u001b[0;32m     29\u001b[0m \u001b[0mprint\u001b[0m \u001b[1;33m(\u001b[0m\u001b[1;34m\"R-squared for Test: %.2f\"\u001b[0m \u001b[1;33m%\u001b[0m\u001b[0mrfr\u001b[0m\u001b[1;33m.\u001b[0m\u001b[0mscore\u001b[0m\u001b[1;33m(\u001b[0m\u001b[0mX_test\u001b[0m\u001b[1;33m,\u001b[0m \u001b[0my_test\u001b[0m\u001b[1;33m)\u001b[0m\u001b[1;33m)\u001b[0m\u001b[1;33m\u001b[0m\u001b[1;33m\u001b[0m\u001b[0m\n\u001b[1;32m---> 30\u001b[1;33m \u001b[0mprint\u001b[0m \u001b[1;33m(\u001b[0m\u001b[1;34m\"R-squared for Test: %.2f\"\u001b[0m \u001b[1;33m%\u001b[0m\u001b[0mrfr\u001b[0m\u001b[1;33m.\u001b[0m\u001b[0mscore\u001b[0m\u001b[1;33m(\u001b[0m\u001b[0my_test\u001b[0m\u001b[1;33m.\u001b[0m\u001b[0mreshape\u001b[0m\u001b[1;33m(\u001b[0m\u001b[1;33m-\u001b[0m\u001b[1;36m1\u001b[0m\u001b[1;33m,\u001b[0m\u001b[1;36m1\u001b[0m\u001b[1;33m)\u001b[0m\u001b[1;33m,\u001b[0m \u001b[0my_pred\u001b[0m\u001b[1;33m)\u001b[0m\u001b[1;33m)\u001b[0m\u001b[1;33m\u001b[0m\u001b[1;33m\u001b[0m\u001b[0m\n\u001b[0m\u001b[0;32m     31\u001b[0m \u001b[1;31m#y_test['pred'] = y_pred\u001b[0m\u001b[1;33m\u001b[0m\u001b[1;33m\u001b[0m\u001b[1;33m\u001b[0m\u001b[0m\n\u001b[0;32m     32\u001b[0m \u001b[1;31m#print (\"R-squared for Test: %.2f\" %rfr.score(y_test.to_numpy().reshape(-1,1), y_pred.reshape(-1,1)))\u001b[0m\u001b[1;33m\u001b[0m\u001b[1;33m\u001b[0m\u001b[1;33m\u001b[0m\u001b[0m\n",
      "\u001b[1;32m~\\AppData\\Local\\Continuum\\anaconda3\\lib\\site-packages\\sklearn\\base.py\u001b[0m in \u001b[0;36mscore\u001b[1;34m(self, X, y, sample_weight)\u001b[0m\n\u001b[0;32m    406\u001b[0m         \u001b[1;32mfrom\u001b[0m \u001b[1;33m.\u001b[0m\u001b[0mmetrics\u001b[0m \u001b[1;32mimport\u001b[0m \u001b[0mr2_score\u001b[0m\u001b[1;33m\u001b[0m\u001b[1;33m\u001b[0m\u001b[0m\n\u001b[0;32m    407\u001b[0m         \u001b[1;32mfrom\u001b[0m \u001b[1;33m.\u001b[0m\u001b[0mmetrics\u001b[0m\u001b[1;33m.\u001b[0m\u001b[0mregression\u001b[0m \u001b[1;32mimport\u001b[0m \u001b[0m_check_reg_targets\u001b[0m\u001b[1;33m\u001b[0m\u001b[1;33m\u001b[0m\u001b[0m\n\u001b[1;32m--> 408\u001b[1;33m         \u001b[0my_pred\u001b[0m \u001b[1;33m=\u001b[0m \u001b[0mself\u001b[0m\u001b[1;33m.\u001b[0m\u001b[0mpredict\u001b[0m\u001b[1;33m(\u001b[0m\u001b[0mX\u001b[0m\u001b[1;33m)\u001b[0m\u001b[1;33m\u001b[0m\u001b[1;33m\u001b[0m\u001b[0m\n\u001b[0m\u001b[0;32m    409\u001b[0m         \u001b[1;31m# XXX: Remove the check in 0.23\u001b[0m\u001b[1;33m\u001b[0m\u001b[1;33m\u001b[0m\u001b[1;33m\u001b[0m\u001b[0m\n\u001b[0;32m    410\u001b[0m         \u001b[0my_type\u001b[0m\u001b[1;33m,\u001b[0m \u001b[0m_\u001b[0m\u001b[1;33m,\u001b[0m \u001b[0m_\u001b[0m\u001b[1;33m,\u001b[0m \u001b[0m_\u001b[0m \u001b[1;33m=\u001b[0m \u001b[0m_check_reg_targets\u001b[0m\u001b[1;33m(\u001b[0m\u001b[0my\u001b[0m\u001b[1;33m,\u001b[0m \u001b[0my_pred\u001b[0m\u001b[1;33m,\u001b[0m \u001b[1;32mNone\u001b[0m\u001b[1;33m)\u001b[0m\u001b[1;33m\u001b[0m\u001b[1;33m\u001b[0m\u001b[0m\n",
      "\u001b[1;32m~\\AppData\\Local\\Continuum\\anaconda3\\lib\\site-packages\\sklearn\\ensemble\\forest.py\u001b[0m in \u001b[0;36mpredict\u001b[1;34m(self, X)\u001b[0m\n\u001b[0;32m    691\u001b[0m         \u001b[0mcheck_is_fitted\u001b[0m\u001b[1;33m(\u001b[0m\u001b[0mself\u001b[0m\u001b[1;33m,\u001b[0m \u001b[1;34m'estimators_'\u001b[0m\u001b[1;33m)\u001b[0m\u001b[1;33m\u001b[0m\u001b[1;33m\u001b[0m\u001b[0m\n\u001b[0;32m    692\u001b[0m         \u001b[1;31m# Check data\u001b[0m\u001b[1;33m\u001b[0m\u001b[1;33m\u001b[0m\u001b[1;33m\u001b[0m\u001b[0m\n\u001b[1;32m--> 693\u001b[1;33m         \u001b[0mX\u001b[0m \u001b[1;33m=\u001b[0m \u001b[0mself\u001b[0m\u001b[1;33m.\u001b[0m\u001b[0m_validate_X_predict\u001b[0m\u001b[1;33m(\u001b[0m\u001b[0mX\u001b[0m\u001b[1;33m)\u001b[0m\u001b[1;33m\u001b[0m\u001b[1;33m\u001b[0m\u001b[0m\n\u001b[0m\u001b[0;32m    694\u001b[0m \u001b[1;33m\u001b[0m\u001b[0m\n\u001b[0;32m    695\u001b[0m         \u001b[1;31m# Assign chunk of trees to jobs\u001b[0m\u001b[1;33m\u001b[0m\u001b[1;33m\u001b[0m\u001b[1;33m\u001b[0m\u001b[0m\n",
      "\u001b[1;32m~\\AppData\\Local\\Continuum\\anaconda3\\lib\\site-packages\\sklearn\\ensemble\\forest.py\u001b[0m in \u001b[0;36m_validate_X_predict\u001b[1;34m(self, X)\u001b[0m\n\u001b[0;32m    357\u001b[0m                                  \"call `fit` before exploiting the model.\")\n\u001b[0;32m    358\u001b[0m \u001b[1;33m\u001b[0m\u001b[0m\n\u001b[1;32m--> 359\u001b[1;33m         \u001b[1;32mreturn\u001b[0m \u001b[0mself\u001b[0m\u001b[1;33m.\u001b[0m\u001b[0mestimators_\u001b[0m\u001b[1;33m[\u001b[0m\u001b[1;36m0\u001b[0m\u001b[1;33m]\u001b[0m\u001b[1;33m.\u001b[0m\u001b[0m_validate_X_predict\u001b[0m\u001b[1;33m(\u001b[0m\u001b[0mX\u001b[0m\u001b[1;33m,\u001b[0m \u001b[0mcheck_input\u001b[0m\u001b[1;33m=\u001b[0m\u001b[1;32mTrue\u001b[0m\u001b[1;33m)\u001b[0m\u001b[1;33m\u001b[0m\u001b[1;33m\u001b[0m\u001b[0m\n\u001b[0m\u001b[0;32m    360\u001b[0m \u001b[1;33m\u001b[0m\u001b[0m\n\u001b[0;32m    361\u001b[0m     \u001b[1;33m@\u001b[0m\u001b[0mproperty\u001b[0m\u001b[1;33m\u001b[0m\u001b[1;33m\u001b[0m\u001b[0m\n",
      "\u001b[1;32m~\\AppData\\Local\\Continuum\\anaconda3\\lib\\site-packages\\sklearn\\tree\\tree.py\u001b[0m in \u001b[0;36m_validate_X_predict\u001b[1;34m(self, X, check_input)\u001b[0m\n\u001b[0;32m    400\u001b[0m                              \u001b[1;34m\"match the input. Model n_features is %s and \"\u001b[0m\u001b[1;33m\u001b[0m\u001b[1;33m\u001b[0m\u001b[0m\n\u001b[0;32m    401\u001b[0m                              \u001b[1;34m\"input n_features is %s \"\u001b[0m\u001b[1;33m\u001b[0m\u001b[1;33m\u001b[0m\u001b[0m\n\u001b[1;32m--> 402\u001b[1;33m                              % (self.n_features_, n_features))\n\u001b[0m\u001b[0;32m    403\u001b[0m \u001b[1;33m\u001b[0m\u001b[0m\n\u001b[0;32m    404\u001b[0m         \u001b[1;32mreturn\u001b[0m \u001b[0mX\u001b[0m\u001b[1;33m\u001b[0m\u001b[1;33m\u001b[0m\u001b[0m\n",
      "\u001b[1;31mValueError\u001b[0m: Number of features of the model must match the input. Model n_features is 440 and input n_features is 1 "
     ]
    }
   ],
   "source": [
    "df = datautil.preProcessData(path)\n",
    "df_01 = df[['Recipe_code', 'Recipe_name', 'score','new', 'price','ingredients_count']]\n",
    "\n",
    "df_encoded = pd.get_dummies(df_01, columns=df_01.select_dtypes(include=['object']).columns, drop_first=True)\n",
    "\n",
    "df_encoded_pred = df_encoded.loc[df_encoded.new==1.0]\n",
    "df_encoded = df_encoded.loc[df_encoded.new==0.0]\n",
    "\n",
    "y = df_encoded.loc[:,dependentVar].values\n",
    "#labels = preprocessing.LabelEncoder().fit_transform(y)\n",
    "X = df_encoded.drop(dependentVar,1).values\n",
    "X_train, X_test, y_train, y_test = train_test_split(X, y, test_size = 0.3, random_state=42)\n",
    "#y_train, y_test = y_train.reshape(-1,1), y_test.reshape(-1,1)\n",
    "print(X_train.shape)\n",
    "print(X_test.shape)\n",
    "print(y_train.shape)\n",
    "print(y_test.shape)    \n",
    "\n",
    "rfr = RandomForestRegressor(n_estimators=50, random_state=0)\n",
    "rfr.fit(X_train, y_train)\n",
    "y_pred = rfr.predict(X_test)\n",
    "print(y_pred.reshape(-1,1))\n",
    "print(\"----------\")\n",
    "print(y_test.reshape(-1,1))\n",
    "\n",
    "# Score model\n",
    "\n",
    "print (\"R-squared for Train: %.2f\" %rfr.score(X_train, y_train)) \n",
    "print (\"R-squared for Test: %.2f\" %rfr.score(X_test, y_test))\n",
    "print (\"R-squared for Test: %.2f\" %rfr.score(y_test.reshape(-1,1), y_pred))\n",
    "#y_test['pred'] = y_pred\n",
    "#print (\"R-squared for Test: %.2f\" %rfr.score(y_test.to_numpy().reshape(-1,1), y_pred.reshape(-1,1)))\n"
   ]
  },
  {
   "cell_type": "code",
   "execution_count": 117,
   "metadata": {},
   "outputs": [
    {
     "name": "stdout",
     "output_type": "stream",
     "text": [
      "102    2.15\n",
      "22     4.55\n",
      "82     2.34\n",
      "146    4.58\n",
      "98     2.57\n",
      "26     4.18\n",
      "154    4.38\n",
      "32     4.18\n",
      "83     2.07\n",
      "189    1.14\n",
      "58     4.19\n",
      "54     3.88\n",
      "142    2.01\n",
      "108    2.89\n",
      "84     2.08\n",
      "20     3.56\n",
      "145    2.12\n",
      "204    5.28\n",
      "87     2.09\n",
      "150    3.99\n",
      "176    1.16\n",
      "40     4.31\n",
      "13     2.71\n",
      "151    4.87\n",
      "192    3.08\n",
      "24     2.24\n",
      "166    1.73\n",
      "88     2.21\n",
      "123    3.13\n",
      "155    2.83\n",
      "127    3.72\n",
      "208    3.74\n",
      "129    2.77\n",
      "173    1.74\n",
      "39     1.98\n",
      "147    1.90\n",
      "197    1.87\n",
      "42     1.71\n",
      "17     4.27\n",
      "66     2.56\n",
      "53     3.85\n",
      "112    1.50\n",
      "121    4.12\n",
      "71     4.19\n",
      "50     1.49\n",
      "178    2.04\n",
      "118    3.80\n",
      "175    4.10\n",
      "183    1.90\n",
      "2      4.96\n",
      "134    3.98\n",
      "161    1.56\n",
      "180    4.16\n",
      "70     1.44\n",
      "Name: score, dtype: float64\n"
     ]
    }
   ],
   "source": [
    "print(y_test)"
   ]
  },
  {
   "cell_type": "code",
   "execution_count": 119,
   "metadata": {},
   "outputs": [
    {
     "name": "stdout",
     "output_type": "stream",
     "text": [
      "[[2.148 ]\n",
      " [2.8092]\n",
      " [2.3416]\n",
      " [2.6998]\n",
      " [2.697 ]\n",
      " [1.8166]\n",
      " [2.9184]\n",
      " [2.4114]\n",
      " [1.949 ]\n",
      " [1.84  ]\n",
      " [2.9282]\n",
      " [2.3818]\n",
      " [2.44  ]\n",
      " [2.109 ]\n",
      " [1.9434]\n",
      " [2.3586]\n",
      " [2.342 ]\n",
      " [1.922 ]\n",
      " [2.524 ]\n",
      " [2.733 ]\n",
      " [2.0128]\n",
      " [2.3384]\n",
      " [2.7024]\n",
      " [2.7034]\n",
      " [2.8292]\n",
      " [1.983 ]\n",
      " [2.76  ]\n",
      " [2.233 ]\n",
      " [2.2674]\n",
      " [3.218 ]\n",
      " [2.8232]\n",
      " [2.3384]\n",
      " [2.4406]\n",
      " [2.0602]\n",
      " [1.7216]\n",
      " [2.0942]\n",
      " [2.2576]\n",
      " [2.4754]\n",
      " [3.0154]\n",
      " [2.6976]\n",
      " [2.1798]\n",
      " [2.6424]\n",
      " [2.2146]\n",
      " [2.0164]\n",
      " [2.4312]\n",
      " [2.5574]\n",
      " [2.0434]\n",
      " [2.4694]\n",
      " [2.288 ]\n",
      " [2.46  ]\n",
      " [2.9208]\n",
      " [2.7912]\n",
      " [2.4264]\n",
      " [2.484 ]]\n"
     ]
    }
   ],
   "source": [
    "print(y_pred.reshape(-1,1))"
   ]
  },
  {
   "cell_type": "code",
   "execution_count": 155,
   "metadata": {},
   "outputs": [
    {
     "data": {
      "text/plain": [
       "array([2.148 , 2.8092, 2.3416, 2.6998, 2.697 , 1.8166, 2.9184, 2.4114,\n",
       "       1.949 , 1.84  , 2.9282, 2.3818, 2.44  , 2.109 , 1.9434, 2.3586,\n",
       "       2.342 , 1.922 , 2.524 , 2.733 , 2.0128, 2.3384, 2.7024, 2.7034,\n",
       "       2.8292, 1.983 , 2.76  , 2.233 , 2.2674, 3.218 , 2.8232, 2.3384,\n",
       "       2.4406, 2.0602, 1.7216, 2.0942, 2.2576, 2.4754, 3.0154, 2.6976,\n",
       "       2.1798, 2.6424, 2.2146, 2.0164, 2.4312, 2.5574, 2.0434, 2.4694,\n",
       "       2.288 , 2.46  , 2.9208, 2.7912, 2.4264, 2.484 ])"
      ]
     },
     "execution_count": 155,
     "metadata": {},
     "output_type": "execute_result"
    }
   ],
   "source": [
    "y_pred"
   ]
  },
  {
   "cell_type": "code",
   "execution_count": 154,
   "metadata": {},
   "outputs": [
    {
     "data": {
      "text/plain": [
       "array([2.15, 4.55, 2.34, 4.58, 2.57, 4.18, 4.38, 4.18, 2.07, 1.14, 4.19,\n",
       "       3.88, 2.01, 2.89, 2.08, 3.56, 2.12, 5.28, 2.09, 3.99, 1.16, 4.31,\n",
       "       2.71, 4.87, 3.08, 2.24, 1.73, 2.21, 3.13, 2.83, 3.72, 3.74, 2.77,\n",
       "       1.74, 1.98, 1.9, 1.87, 1.71, 4.27, 2.56, 3.85, 1.5, 4.12, 4.19,\n",
       "       1.49, 2.04, 3.8, 4.1, 1.9, 4.96, 3.98, 1.56, 4.16, 1.44,\n",
       "       array([2.148 , 2.8092, 2.3416, 2.6998, 2.697 , 1.8166, 2.9184, 2.4114,\n",
       "       1.949 , 1.84  , 2.9282, 2.3818, 2.44  , 2.109 , 1.9434, 2.3586,\n",
       "       2.342 , 1.922 , 2.524 , 2.733 , 2.0128, 2.3384, 2.7024, 2.7034,\n",
       "       2.8292, 1.983 , 2.76  , 2.233 , 2.2674, 3.218 , 2.8232, 2.3384,\n",
       "       2.4406, 2.0602, 1.7216, 2.0942, 2.2576, 2.4754, 3.0154, 2.6976,\n",
       "       2.1798, 2.6424, 2.2146, 2.0164, 2.4312, 2.5574, 2.0434, 2.4694,\n",
       "       2.288 , 2.46  , 2.9208, 2.7912, 2.4264, 2.484 ])], dtype=object)"
      ]
     },
     "execution_count": 154,
     "metadata": {},
     "output_type": "execute_result"
    }
   ],
   "source": [
    "y_test.to_numpy()\n",
    "#y_pred.shape\n",
    "#type(pd.Series(pipe.predict(X_test).reshape(-1,1)))\n",
    "#type(pipe.predict(X_test).reshape(-1,1))"
   ]
  },
  {
   "cell_type": "code",
   "execution_count": 149,
   "metadata": {},
   "outputs": [
    {
     "name": "stdout",
     "output_type": "stream",
     "text": [
      "(125, 355)\n",
      "(54, 355)\n",
      "(125,)\n",
      "(54,)\n"
     ]
    },
    {
     "ename": "ValueError",
     "evalue": "setting an array element with a sequence.",
     "output_type": "error",
     "traceback": [
      "\u001b[1;31m---------------------------------------------------------------------------\u001b[0m",
      "\u001b[1;31mValueError\u001b[0m                                Traceback (most recent call last)",
      "\u001b[1;32m<ipython-input-149-d72a4c6e2a64>\u001b[0m in \u001b[0;36m<module>\u001b[1;34m\u001b[0m\n\u001b[0;32m     22\u001b[0m \u001b[0mpipe\u001b[0m\u001b[1;33m.\u001b[0m\u001b[0mfit\u001b[0m\u001b[1;33m(\u001b[0m\u001b[0mX_train\u001b[0m\u001b[1;33m,\u001b[0m \u001b[0my_train\u001b[0m\u001b[1;33m)\u001b[0m\u001b[1;33m\u001b[0m\u001b[1;33m\u001b[0m\u001b[0m\n\u001b[0;32m     23\u001b[0m \u001b[0my_pred\u001b[0m \u001b[1;33m=\u001b[0m \u001b[0mpipe\u001b[0m\u001b[1;33m.\u001b[0m\u001b[0mpredict\u001b[0m\u001b[1;33m(\u001b[0m\u001b[0mX_test\u001b[0m\u001b[1;33m)\u001b[0m\u001b[1;33m\u001b[0m\u001b[1;33m\u001b[0m\u001b[0m\n\u001b[1;32m---> 24\u001b[1;33m \u001b[0mpipe\u001b[0m\u001b[1;33m.\u001b[0m\u001b[0mscore\u001b[0m\u001b[1;33m(\u001b[0m\u001b[0my_test\u001b[0m\u001b[1;33m.\u001b[0m\u001b[0mto_numpy\u001b[0m\u001b[1;33m(\u001b[0m\u001b[1;33m)\u001b[0m\u001b[1;33m,\u001b[0m\u001b[0my_pred\u001b[0m\u001b[1;33m)\u001b[0m\u001b[1;33m\u001b[0m\u001b[1;33m\u001b[0m\u001b[0m\n\u001b[0m",
      "\u001b[1;32m~\\AppData\\Local\\Continuum\\anaconda3\\lib\\site-packages\\sklearn\\utils\\metaestimators.py\u001b[0m in \u001b[0;36m<lambda>\u001b[1;34m(*args, **kwargs)\u001b[0m\n\u001b[0;32m    114\u001b[0m \u001b[1;33m\u001b[0m\u001b[0m\n\u001b[0;32m    115\u001b[0m         \u001b[1;31m# lambda, but not partial, allows help() to work with update_wrapper\u001b[0m\u001b[1;33m\u001b[0m\u001b[1;33m\u001b[0m\u001b[1;33m\u001b[0m\u001b[0m\n\u001b[1;32m--> 116\u001b[1;33m         \u001b[0mout\u001b[0m \u001b[1;33m=\u001b[0m \u001b[1;32mlambda\u001b[0m \u001b[1;33m*\u001b[0m\u001b[0margs\u001b[0m\u001b[1;33m,\u001b[0m \u001b[1;33m**\u001b[0m\u001b[0mkwargs\u001b[0m\u001b[1;33m:\u001b[0m \u001b[0mself\u001b[0m\u001b[1;33m.\u001b[0m\u001b[0mfn\u001b[0m\u001b[1;33m(\u001b[0m\u001b[0mobj\u001b[0m\u001b[1;33m,\u001b[0m \u001b[1;33m*\u001b[0m\u001b[0margs\u001b[0m\u001b[1;33m,\u001b[0m \u001b[1;33m**\u001b[0m\u001b[0mkwargs\u001b[0m\u001b[1;33m)\u001b[0m\u001b[1;33m\u001b[0m\u001b[1;33m\u001b[0m\u001b[0m\n\u001b[0m\u001b[0;32m    117\u001b[0m         \u001b[1;31m# update the docstring of the returned function\u001b[0m\u001b[1;33m\u001b[0m\u001b[1;33m\u001b[0m\u001b[1;33m\u001b[0m\u001b[0m\n\u001b[0;32m    118\u001b[0m         \u001b[0mupdate_wrapper\u001b[0m\u001b[1;33m(\u001b[0m\u001b[0mout\u001b[0m\u001b[1;33m,\u001b[0m \u001b[0mself\u001b[0m\u001b[1;33m.\u001b[0m\u001b[0mfn\u001b[0m\u001b[1;33m)\u001b[0m\u001b[1;33m\u001b[0m\u001b[1;33m\u001b[0m\u001b[0m\n",
      "\u001b[1;32m~\\AppData\\Local\\Continuum\\anaconda3\\lib\\site-packages\\sklearn\\pipeline.py\u001b[0m in \u001b[0;36mscore\u001b[1;34m(self, X, y, sample_weight)\u001b[0m\n\u001b[0;32m    600\u001b[0m         \u001b[1;32mif\u001b[0m \u001b[0msample_weight\u001b[0m \u001b[1;32mis\u001b[0m \u001b[1;32mnot\u001b[0m \u001b[1;32mNone\u001b[0m\u001b[1;33m:\u001b[0m\u001b[1;33m\u001b[0m\u001b[1;33m\u001b[0m\u001b[0m\n\u001b[0;32m    601\u001b[0m             \u001b[0mscore_params\u001b[0m\u001b[1;33m[\u001b[0m\u001b[1;34m'sample_weight'\u001b[0m\u001b[1;33m]\u001b[0m \u001b[1;33m=\u001b[0m \u001b[0msample_weight\u001b[0m\u001b[1;33m\u001b[0m\u001b[1;33m\u001b[0m\u001b[0m\n\u001b[1;32m--> 602\u001b[1;33m         \u001b[1;32mreturn\u001b[0m \u001b[0mself\u001b[0m\u001b[1;33m.\u001b[0m\u001b[0msteps\u001b[0m\u001b[1;33m[\u001b[0m\u001b[1;33m-\u001b[0m\u001b[1;36m1\u001b[0m\u001b[1;33m]\u001b[0m\u001b[1;33m[\u001b[0m\u001b[1;33m-\u001b[0m\u001b[1;36m1\u001b[0m\u001b[1;33m]\u001b[0m\u001b[1;33m.\u001b[0m\u001b[0mscore\u001b[0m\u001b[1;33m(\u001b[0m\u001b[0mXt\u001b[0m\u001b[1;33m,\u001b[0m \u001b[0my\u001b[0m\u001b[1;33m,\u001b[0m \u001b[1;33m**\u001b[0m\u001b[0mscore_params\u001b[0m\u001b[1;33m)\u001b[0m\u001b[1;33m\u001b[0m\u001b[1;33m\u001b[0m\u001b[0m\n\u001b[0m\u001b[0;32m    603\u001b[0m \u001b[1;33m\u001b[0m\u001b[0m\n\u001b[0;32m    604\u001b[0m     \u001b[1;33m@\u001b[0m\u001b[0mproperty\u001b[0m\u001b[1;33m\u001b[0m\u001b[1;33m\u001b[0m\u001b[0m\n",
      "\u001b[1;32m~\\AppData\\Local\\Continuum\\anaconda3\\lib\\site-packages\\sklearn\\base.py\u001b[0m in \u001b[0;36mscore\u001b[1;34m(self, X, y, sample_weight)\u001b[0m\n\u001b[0;32m    406\u001b[0m         \u001b[1;32mfrom\u001b[0m \u001b[1;33m.\u001b[0m\u001b[0mmetrics\u001b[0m \u001b[1;32mimport\u001b[0m \u001b[0mr2_score\u001b[0m\u001b[1;33m\u001b[0m\u001b[1;33m\u001b[0m\u001b[0m\n\u001b[0;32m    407\u001b[0m         \u001b[1;32mfrom\u001b[0m \u001b[1;33m.\u001b[0m\u001b[0mmetrics\u001b[0m\u001b[1;33m.\u001b[0m\u001b[0mregression\u001b[0m \u001b[1;32mimport\u001b[0m \u001b[0m_check_reg_targets\u001b[0m\u001b[1;33m\u001b[0m\u001b[1;33m\u001b[0m\u001b[0m\n\u001b[1;32m--> 408\u001b[1;33m         \u001b[0my_pred\u001b[0m \u001b[1;33m=\u001b[0m \u001b[0mself\u001b[0m\u001b[1;33m.\u001b[0m\u001b[0mpredict\u001b[0m\u001b[1;33m(\u001b[0m\u001b[0mX\u001b[0m\u001b[1;33m)\u001b[0m\u001b[1;33m\u001b[0m\u001b[1;33m\u001b[0m\u001b[0m\n\u001b[0m\u001b[0;32m    409\u001b[0m         \u001b[1;31m# XXX: Remove the check in 0.23\u001b[0m\u001b[1;33m\u001b[0m\u001b[1;33m\u001b[0m\u001b[1;33m\u001b[0m\u001b[0m\n\u001b[0;32m    410\u001b[0m         \u001b[0my_type\u001b[0m\u001b[1;33m,\u001b[0m \u001b[0m_\u001b[0m\u001b[1;33m,\u001b[0m \u001b[0m_\u001b[0m\u001b[1;33m,\u001b[0m \u001b[0m_\u001b[0m \u001b[1;33m=\u001b[0m \u001b[0m_check_reg_targets\u001b[0m\u001b[1;33m(\u001b[0m\u001b[0my\u001b[0m\u001b[1;33m,\u001b[0m \u001b[0my_pred\u001b[0m\u001b[1;33m,\u001b[0m \u001b[1;32mNone\u001b[0m\u001b[1;33m)\u001b[0m\u001b[1;33m\u001b[0m\u001b[1;33m\u001b[0m\u001b[0m\n",
      "\u001b[1;32m~\\AppData\\Local\\Continuum\\anaconda3\\lib\\site-packages\\sklearn\\ensemble\\forest.py\u001b[0m in \u001b[0;36mpredict\u001b[1;34m(self, X)\u001b[0m\n\u001b[0;32m    691\u001b[0m         \u001b[0mcheck_is_fitted\u001b[0m\u001b[1;33m(\u001b[0m\u001b[0mself\u001b[0m\u001b[1;33m,\u001b[0m \u001b[1;34m'estimators_'\u001b[0m\u001b[1;33m)\u001b[0m\u001b[1;33m\u001b[0m\u001b[1;33m\u001b[0m\u001b[0m\n\u001b[0;32m    692\u001b[0m         \u001b[1;31m# Check data\u001b[0m\u001b[1;33m\u001b[0m\u001b[1;33m\u001b[0m\u001b[1;33m\u001b[0m\u001b[0m\n\u001b[1;32m--> 693\u001b[1;33m         \u001b[0mX\u001b[0m \u001b[1;33m=\u001b[0m \u001b[0mself\u001b[0m\u001b[1;33m.\u001b[0m\u001b[0m_validate_X_predict\u001b[0m\u001b[1;33m(\u001b[0m\u001b[0mX\u001b[0m\u001b[1;33m)\u001b[0m\u001b[1;33m\u001b[0m\u001b[1;33m\u001b[0m\u001b[0m\n\u001b[0m\u001b[0;32m    694\u001b[0m \u001b[1;33m\u001b[0m\u001b[0m\n\u001b[0;32m    695\u001b[0m         \u001b[1;31m# Assign chunk of trees to jobs\u001b[0m\u001b[1;33m\u001b[0m\u001b[1;33m\u001b[0m\u001b[1;33m\u001b[0m\u001b[0m\n",
      "\u001b[1;32m~\\AppData\\Local\\Continuum\\anaconda3\\lib\\site-packages\\sklearn\\ensemble\\forest.py\u001b[0m in \u001b[0;36m_validate_X_predict\u001b[1;34m(self, X)\u001b[0m\n\u001b[0;32m    357\u001b[0m                                  \"call `fit` before exploiting the model.\")\n\u001b[0;32m    358\u001b[0m \u001b[1;33m\u001b[0m\u001b[0m\n\u001b[1;32m--> 359\u001b[1;33m         \u001b[1;32mreturn\u001b[0m \u001b[0mself\u001b[0m\u001b[1;33m.\u001b[0m\u001b[0mestimators_\u001b[0m\u001b[1;33m[\u001b[0m\u001b[1;36m0\u001b[0m\u001b[1;33m]\u001b[0m\u001b[1;33m.\u001b[0m\u001b[0m_validate_X_predict\u001b[0m\u001b[1;33m(\u001b[0m\u001b[0mX\u001b[0m\u001b[1;33m,\u001b[0m \u001b[0mcheck_input\u001b[0m\u001b[1;33m=\u001b[0m\u001b[1;32mTrue\u001b[0m\u001b[1;33m)\u001b[0m\u001b[1;33m\u001b[0m\u001b[1;33m\u001b[0m\u001b[0m\n\u001b[0m\u001b[0;32m    360\u001b[0m \u001b[1;33m\u001b[0m\u001b[0m\n\u001b[0;32m    361\u001b[0m     \u001b[1;33m@\u001b[0m\u001b[0mproperty\u001b[0m\u001b[1;33m\u001b[0m\u001b[1;33m\u001b[0m\u001b[0m\n",
      "\u001b[1;32m~\\AppData\\Local\\Continuum\\anaconda3\\lib\\site-packages\\sklearn\\tree\\tree.py\u001b[0m in \u001b[0;36m_validate_X_predict\u001b[1;34m(self, X, check_input)\u001b[0m\n\u001b[0;32m    389\u001b[0m         \u001b[1;34m\"\"\"Validate X whenever one tries to predict, apply, predict_proba\"\"\"\u001b[0m\u001b[1;33m\u001b[0m\u001b[1;33m\u001b[0m\u001b[0m\n\u001b[0;32m    390\u001b[0m         \u001b[1;32mif\u001b[0m \u001b[0mcheck_input\u001b[0m\u001b[1;33m:\u001b[0m\u001b[1;33m\u001b[0m\u001b[1;33m\u001b[0m\u001b[0m\n\u001b[1;32m--> 391\u001b[1;33m             \u001b[0mX\u001b[0m \u001b[1;33m=\u001b[0m \u001b[0mcheck_array\u001b[0m\u001b[1;33m(\u001b[0m\u001b[0mX\u001b[0m\u001b[1;33m,\u001b[0m \u001b[0mdtype\u001b[0m\u001b[1;33m=\u001b[0m\u001b[0mDTYPE\u001b[0m\u001b[1;33m,\u001b[0m \u001b[0maccept_sparse\u001b[0m\u001b[1;33m=\u001b[0m\u001b[1;34m\"csr\"\u001b[0m\u001b[1;33m)\u001b[0m\u001b[1;33m\u001b[0m\u001b[1;33m\u001b[0m\u001b[0m\n\u001b[0m\u001b[0;32m    392\u001b[0m             if issparse(X) and (X.indices.dtype != np.intc or\n\u001b[0;32m    393\u001b[0m                                 X.indptr.dtype != np.intc):\n",
      "\u001b[1;32m~\\AppData\\Local\\Continuum\\anaconda3\\lib\\site-packages\\sklearn\\utils\\validation.py\u001b[0m in \u001b[0;36mcheck_array\u001b[1;34m(array, accept_sparse, accept_large_sparse, dtype, order, copy, force_all_finite, ensure_2d, allow_nd, ensure_min_samples, ensure_min_features, warn_on_dtype, estimator)\u001b[0m\n\u001b[0;32m    494\u001b[0m             \u001b[1;32mtry\u001b[0m\u001b[1;33m:\u001b[0m\u001b[1;33m\u001b[0m\u001b[1;33m\u001b[0m\u001b[0m\n\u001b[0;32m    495\u001b[0m                 \u001b[0mwarnings\u001b[0m\u001b[1;33m.\u001b[0m\u001b[0msimplefilter\u001b[0m\u001b[1;33m(\u001b[0m\u001b[1;34m'error'\u001b[0m\u001b[1;33m,\u001b[0m \u001b[0mComplexWarning\u001b[0m\u001b[1;33m)\u001b[0m\u001b[1;33m\u001b[0m\u001b[1;33m\u001b[0m\u001b[0m\n\u001b[1;32m--> 496\u001b[1;33m                 \u001b[0marray\u001b[0m \u001b[1;33m=\u001b[0m \u001b[0mnp\u001b[0m\u001b[1;33m.\u001b[0m\u001b[0masarray\u001b[0m\u001b[1;33m(\u001b[0m\u001b[0marray\u001b[0m\u001b[1;33m,\u001b[0m \u001b[0mdtype\u001b[0m\u001b[1;33m=\u001b[0m\u001b[0mdtype\u001b[0m\u001b[1;33m,\u001b[0m \u001b[0morder\u001b[0m\u001b[1;33m=\u001b[0m\u001b[0morder\u001b[0m\u001b[1;33m)\u001b[0m\u001b[1;33m\u001b[0m\u001b[1;33m\u001b[0m\u001b[0m\n\u001b[0m\u001b[0;32m    497\u001b[0m             \u001b[1;32mexcept\u001b[0m \u001b[0mComplexWarning\u001b[0m\u001b[1;33m:\u001b[0m\u001b[1;33m\u001b[0m\u001b[1;33m\u001b[0m\u001b[0m\n\u001b[0;32m    498\u001b[0m                 raise ValueError(\"Complex data not supported\\n\"\n",
      "\u001b[1;32m~\\AppData\\Local\\Continuum\\anaconda3\\lib\\site-packages\\numpy\\core\\numeric.py\u001b[0m in \u001b[0;36masarray\u001b[1;34m(a, dtype, order)\u001b[0m\n\u001b[0;32m    536\u001b[0m \u001b[1;33m\u001b[0m\u001b[0m\n\u001b[0;32m    537\u001b[0m     \"\"\"\n\u001b[1;32m--> 538\u001b[1;33m     \u001b[1;32mreturn\u001b[0m \u001b[0marray\u001b[0m\u001b[1;33m(\u001b[0m\u001b[0ma\u001b[0m\u001b[1;33m,\u001b[0m \u001b[0mdtype\u001b[0m\u001b[1;33m,\u001b[0m \u001b[0mcopy\u001b[0m\u001b[1;33m=\u001b[0m\u001b[1;32mFalse\u001b[0m\u001b[1;33m,\u001b[0m \u001b[0morder\u001b[0m\u001b[1;33m=\u001b[0m\u001b[0morder\u001b[0m\u001b[1;33m)\u001b[0m\u001b[1;33m\u001b[0m\u001b[1;33m\u001b[0m\u001b[0m\n\u001b[0m\u001b[0;32m    539\u001b[0m \u001b[1;33m\u001b[0m\u001b[0m\n\u001b[0;32m    540\u001b[0m \u001b[1;33m\u001b[0m\u001b[0m\n",
      "\u001b[1;31mValueError\u001b[0m: setting an array element with a sequence."
     ]
    }
   ],
   "source": [
    "def preModelSteps(df,dependentVar):\n",
    "    df_encoded = pd.get_dummies(df, columns=df.select_dtypes(include=['object']).columns, drop_first=True)\n",
    "    \n",
    "    df_encoded_pred = df_encoded.loc[df_encoded.new==1.0]\n",
    "    df_encoded = df_encoded.loc[df_encoded.new==0.0]\n",
    "    \n",
    "    y = df_encoded.loc[:,dependentVar]\n",
    "    #labels = preprocessing.LabelEncoder().fit_transform(y)\n",
    "    X = df_encoded.drop(dependentVar,1).values\n",
    "    X_train, X_test, y_train, y_test = train_test_split(X, y, test_size = 0.3, random_state=42)\n",
    "    print(X_train.shape)\n",
    "    print(X_test.shape)\n",
    "    print(y_train.shape)\n",
    "    print(y_test.shape)\n",
    "    \n",
    "\n",
    "df_01 = df[['Recipe_code', 'Recipe_name', 'score','new', 'price','ingredients_count']]\n",
    "    \n",
    "from sklearn.pipeline import Pipeline\n",
    "pipe = Pipeline([('pre', preModelSteps(df_01,'score')),('reg', RandomForestRegressor(n_estimators=50, random_state=0))])\n",
    "\n",
    "pipe.fit(X_train, y_train)\n",
    "y_pred = pipe.predict(X_test)\n",
    "pipe.score(y_test.to_numpy(),y_pred)"
   ]
  },
  {
   "cell_type": "code",
   "execution_count": 32,
   "metadata": {},
   "outputs": [
    {
     "name": "stderr",
     "output_type": "stream",
     "text": [
      "C:\\Users\\abhranshu\\AppData\\Local\\Continuum\\anaconda3\\lib\\site-packages\\sklearn\\model_selection\\_split.py:1978: FutureWarning: The default value of cv will change from 3 to 5 in version 0.22. Specify it explicitly to silence this warning.\n",
      "  warnings.warn(CV_WARNING, FutureWarning)\n"
     ]
    },
    {
     "name": "stdout",
     "output_type": "stream",
     "text": [
      "GridSearchCV(cv='warn', error_score='raise-deprecating',\n",
      "             estimator=RandomForestRegressor(bootstrap=True, criterion='mse',\n",
      "                                             max_depth=None,\n",
      "                                             max_features='auto',\n",
      "                                             max_leaf_nodes=None,\n",
      "                                             min_impurity_decrease=0.0,\n",
      "                                             min_impurity_split=None,\n",
      "                                             min_samples_leaf=1,\n",
      "                                             min_samples_split=2,\n",
      "                                             min_weight_fraction_leaf=0.0,\n",
      "                                             n_estimators=50, n_jobs=None,\n",
      "                                             oob_score=False, random_state=0,\n",
      "                                             verbose=0, warm_start=False),\n",
      "             iid='warn', n_jobs=None,\n",
      "             param_grid={'bootstrap': [True, False],\n",
      "                         'max_features': ['auto', 'sqrt', 'log2'],\n",
      "                         'min_samples_split': [2, 4, 8],\n",
      "                         'n_estimators': [10, 20, 30]},\n",
      "             pre_dispatch='2*n_jobs', refit=True, return_train_score=False,\n",
      "             scoring=None, verbose=0)\n",
      "-0.006976087437683708\n",
      "{'bootstrap': True, 'max_features': 'log2', 'min_samples_split': 2, 'n_estimators': 30}\n"
     ]
    },
    {
     "name": "stderr",
     "output_type": "stream",
     "text": [
      "C:\\Users\\abhranshu\\AppData\\Local\\Continuum\\anaconda3\\lib\\site-packages\\sklearn\\model_selection\\_search.py:813: DeprecationWarning: The default of the `iid` parameter will change from True to False in version 0.22 and will be removed in 0.24. This will change numeric results when test-set sizes are unequal.\n",
      "  DeprecationWarning)\n"
     ]
    }
   ],
   "source": [
    "import numpy as np\n",
    "from sklearn.ensemble import RandomForestRegressor\n",
    "from sklearn.model_selection import GridSearchCV\n",
    "\n",
    "#alphas = np.array([1,0.1,0.01,0.001])\n",
    "param_dict = { \n",
    "            \"n_estimators\"      : [10,20,30],\n",
    "            \"max_features\"      : [\"auto\", \"sqrt\", \"log2\"],\n",
    "            \"min_samples_split\" : [2,4,8],\n",
    "            \"bootstrap\": [True, False],\n",
    "            }\n",
    "\n",
    "# create and fit a ridge regression model, testing each alpha\n",
    "model = RandomForestRegressor(n_estimators=50, random_state=0)\n",
    "grid = GridSearchCV(estimator=model, param_grid=param_dict)\n",
    "grid.fit(X_train, y_train)\n",
    "print(grid)\n",
    "# summarize the results of the grid search\n",
    "print(grid.best_score_)\n",
    "print(grid.best_params_)"
   ]
  },
  {
   "cell_type": "markdown",
   "metadata": {},
   "source": [
    "Prediction on test dataset"
   ]
  },
  {
   "cell_type": "code",
   "execution_count": 23,
   "metadata": {},
   "outputs": [
    {
     "name": "stdout",
     "output_type": "stream",
     "text": [
      "R-squared for Train: 0.84\n",
      "R-squared for Test: -0.22\n"
     ]
    }
   ],
   "source": [
    "rfr = RandomForestRegressor(n_estimators=50, random_state=0)\n",
    "rfr.fit(X_train, y_train)\n",
    "\n",
    "# Score model\n",
    "print (\"R-squared for Train: %.2f\" %rfr.score(X_train, y_train)) \n",
    "print (\"R-squared for Test: %.2f\" %rfr.score(X_test, y_test))\n"
   ]
  },
  {
   "cell_type": "code",
   "execution_count": 94,
   "metadata": {},
   "outputs": [
    {
     "data": {
      "text/plain": [
       "(54, 354)"
      ]
     },
     "execution_count": 94,
     "metadata": {},
     "output_type": "execute_result"
    }
   ],
   "source": [
    "X_test.shape"
   ]
  },
  {
   "cell_type": "code",
   "execution_count": 92,
   "metadata": {},
   "outputs": [
    {
     "data": {
      "text/plain": [
       "(54,)"
      ]
     },
     "execution_count": 92,
     "metadata": {},
     "output_type": "execute_result"
    }
   ],
   "source": [
    "y_pred.shape"
   ]
  },
  {
   "cell_type": "code",
   "execution_count": 91,
   "metadata": {},
   "outputs": [
    {
     "name": "stdout",
     "output_type": "stream",
     "text": [
      "R-squared for Train: 0.71\n",
      "R-squared for Test: -0.01\n"
     ]
    },
    {
     "ename": "ValueError",
     "evalue": "Expected 2D array, got 1D array instead:\narray=[2.15 4.55 2.34 4.58 2.57 4.18 4.38 4.18 2.07 1.14 4.19 3.88 2.01 2.89\n 2.08 3.56 2.12 5.28 2.09 3.99 1.16 4.31 2.71 4.87 3.08 2.24 1.73 2.21\n 3.13 2.83 3.72 3.74 2.77 1.74 1.98 1.9  1.87 1.71 4.27 2.56 3.85 1.5\n 4.12 4.19 1.49 2.04 3.8  4.1  1.9  4.96 3.98 1.56 4.16 1.44].\nReshape your data either using array.reshape(-1, 1) if your data has a single feature or array.reshape(1, -1) if it contains a single sample.",
     "output_type": "error",
     "traceback": [
      "\u001b[1;31m---------------------------------------------------------------------------\u001b[0m",
      "\u001b[1;31mValueError\u001b[0m                                Traceback (most recent call last)",
      "\u001b[1;32m<ipython-input-91-0c2a0d81ef7b>\u001b[0m in \u001b[0;36m<module>\u001b[1;34m\u001b[0m\n\u001b[0;32m      7\u001b[0m \u001b[0mprint\u001b[0m \u001b[1;33m(\u001b[0m\u001b[1;34m\"R-squared for Train: %.2f\"\u001b[0m \u001b[1;33m%\u001b[0m\u001b[0mgbr\u001b[0m\u001b[1;33m.\u001b[0m\u001b[0mscore\u001b[0m\u001b[1;33m(\u001b[0m\u001b[0mX_train\u001b[0m\u001b[1;33m,\u001b[0m \u001b[0my_train\u001b[0m\u001b[1;33m)\u001b[0m\u001b[1;33m)\u001b[0m\u001b[1;33m\u001b[0m\u001b[1;33m\u001b[0m\u001b[0m\n\u001b[0;32m      8\u001b[0m \u001b[0mprint\u001b[0m \u001b[1;33m(\u001b[0m\u001b[1;34m\"R-squared for Test: %.2f\"\u001b[0m \u001b[1;33m%\u001b[0m\u001b[0mgbr\u001b[0m\u001b[1;33m.\u001b[0m\u001b[0mscore\u001b[0m\u001b[1;33m(\u001b[0m\u001b[0mX_test\u001b[0m\u001b[1;33m,\u001b[0m \u001b[0my_test\u001b[0m\u001b[1;33m)\u001b[0m\u001b[1;33m)\u001b[0m\u001b[1;33m\u001b[0m\u001b[1;33m\u001b[0m\u001b[0m\n\u001b[1;32m----> 9\u001b[1;33m \u001b[0mprint\u001b[0m \u001b[1;33m(\u001b[0m\u001b[1;34m\"R-squared for Test: %.2f\"\u001b[0m \u001b[1;33m%\u001b[0m\u001b[0mgbr\u001b[0m\u001b[1;33m.\u001b[0m\u001b[0mscore\u001b[0m\u001b[1;33m(\u001b[0m\u001b[0my_test\u001b[0m\u001b[1;33m,\u001b[0m\u001b[0my_pred\u001b[0m\u001b[1;33m)\u001b[0m\u001b[1;33m)\u001b[0m\u001b[1;33m\u001b[0m\u001b[1;33m\u001b[0m\u001b[0m\n\u001b[0m",
      "\u001b[1;32m~\\AppData\\Local\\Continuum\\anaconda3\\lib\\site-packages\\sklearn\\base.py\u001b[0m in \u001b[0;36mscore\u001b[1;34m(self, X, y, sample_weight)\u001b[0m\n\u001b[0;32m    406\u001b[0m         \u001b[1;32mfrom\u001b[0m \u001b[1;33m.\u001b[0m\u001b[0mmetrics\u001b[0m \u001b[1;32mimport\u001b[0m \u001b[0mr2_score\u001b[0m\u001b[1;33m\u001b[0m\u001b[1;33m\u001b[0m\u001b[0m\n\u001b[0;32m    407\u001b[0m         \u001b[1;32mfrom\u001b[0m \u001b[1;33m.\u001b[0m\u001b[0mmetrics\u001b[0m\u001b[1;33m.\u001b[0m\u001b[0mregression\u001b[0m \u001b[1;32mimport\u001b[0m \u001b[0m_check_reg_targets\u001b[0m\u001b[1;33m\u001b[0m\u001b[1;33m\u001b[0m\u001b[0m\n\u001b[1;32m--> 408\u001b[1;33m         \u001b[0my_pred\u001b[0m \u001b[1;33m=\u001b[0m \u001b[0mself\u001b[0m\u001b[1;33m.\u001b[0m\u001b[0mpredict\u001b[0m\u001b[1;33m(\u001b[0m\u001b[0mX\u001b[0m\u001b[1;33m)\u001b[0m\u001b[1;33m\u001b[0m\u001b[1;33m\u001b[0m\u001b[0m\n\u001b[0m\u001b[0;32m    409\u001b[0m         \u001b[1;31m# XXX: Remove the check in 0.23\u001b[0m\u001b[1;33m\u001b[0m\u001b[1;33m\u001b[0m\u001b[1;33m\u001b[0m\u001b[0m\n\u001b[0;32m    410\u001b[0m         \u001b[0my_type\u001b[0m\u001b[1;33m,\u001b[0m \u001b[0m_\u001b[0m\u001b[1;33m,\u001b[0m \u001b[0m_\u001b[0m\u001b[1;33m,\u001b[0m \u001b[0m_\u001b[0m \u001b[1;33m=\u001b[0m \u001b[0m_check_reg_targets\u001b[0m\u001b[1;33m(\u001b[0m\u001b[0my\u001b[0m\u001b[1;33m,\u001b[0m \u001b[0my_pred\u001b[0m\u001b[1;33m,\u001b[0m \u001b[1;32mNone\u001b[0m\u001b[1;33m)\u001b[0m\u001b[1;33m\u001b[0m\u001b[1;33m\u001b[0m\u001b[0m\n",
      "\u001b[1;32m~\\AppData\\Local\\Continuum\\anaconda3\\lib\\site-packages\\sklearn\\ensemble\\gradient_boosting.py\u001b[0m in \u001b[0;36mpredict\u001b[1;34m(self, X)\u001b[0m\n\u001b[0;32m   2528\u001b[0m             \u001b[0mThe\u001b[0m \u001b[0mpredicted\u001b[0m \u001b[0mvalues\u001b[0m\u001b[1;33m.\u001b[0m\u001b[1;33m\u001b[0m\u001b[1;33m\u001b[0m\u001b[0m\n\u001b[0;32m   2529\u001b[0m         \"\"\"\n\u001b[1;32m-> 2530\u001b[1;33m         \u001b[0mX\u001b[0m \u001b[1;33m=\u001b[0m \u001b[0mcheck_array\u001b[0m\u001b[1;33m(\u001b[0m\u001b[0mX\u001b[0m\u001b[1;33m,\u001b[0m \u001b[0mdtype\u001b[0m\u001b[1;33m=\u001b[0m\u001b[0mDTYPE\u001b[0m\u001b[1;33m,\u001b[0m \u001b[0morder\u001b[0m\u001b[1;33m=\u001b[0m\u001b[1;34m\"C\"\u001b[0m\u001b[1;33m,\u001b[0m \u001b[0maccept_sparse\u001b[0m\u001b[1;33m=\u001b[0m\u001b[1;34m'csr'\u001b[0m\u001b[1;33m)\u001b[0m\u001b[1;33m\u001b[0m\u001b[1;33m\u001b[0m\u001b[0m\n\u001b[0m\u001b[0;32m   2531\u001b[0m         \u001b[1;31m# In regression we can directly return the raw value from the trees.\u001b[0m\u001b[1;33m\u001b[0m\u001b[1;33m\u001b[0m\u001b[1;33m\u001b[0m\u001b[0m\n\u001b[0;32m   2532\u001b[0m         \u001b[1;32mreturn\u001b[0m \u001b[0mself\u001b[0m\u001b[1;33m.\u001b[0m\u001b[0m_raw_predict\u001b[0m\u001b[1;33m(\u001b[0m\u001b[0mX\u001b[0m\u001b[1;33m)\u001b[0m\u001b[1;33m.\u001b[0m\u001b[0mravel\u001b[0m\u001b[1;33m(\u001b[0m\u001b[1;33m)\u001b[0m\u001b[1;33m\u001b[0m\u001b[1;33m\u001b[0m\u001b[0m\n",
      "\u001b[1;32m~\\AppData\\Local\\Continuum\\anaconda3\\lib\\site-packages\\sklearn\\utils\\validation.py\u001b[0m in \u001b[0;36mcheck_array\u001b[1;34m(array, accept_sparse, accept_large_sparse, dtype, order, copy, force_all_finite, ensure_2d, allow_nd, ensure_min_samples, ensure_min_features, warn_on_dtype, estimator)\u001b[0m\n\u001b[0;32m    519\u001b[0m                     \u001b[1;34m\"Reshape your data either using array.reshape(-1, 1) if \"\u001b[0m\u001b[1;33m\u001b[0m\u001b[1;33m\u001b[0m\u001b[0m\n\u001b[0;32m    520\u001b[0m                     \u001b[1;34m\"your data has a single feature or array.reshape(1, -1) \"\u001b[0m\u001b[1;33m\u001b[0m\u001b[1;33m\u001b[0m\u001b[0m\n\u001b[1;32m--> 521\u001b[1;33m                     \"if it contains a single sample.\".format(array))\n\u001b[0m\u001b[0;32m    522\u001b[0m \u001b[1;33m\u001b[0m\u001b[0m\n\u001b[0;32m    523\u001b[0m         \u001b[1;31m# in the future np.flexible dtypes will be handled like object dtypes\u001b[0m\u001b[1;33m\u001b[0m\u001b[1;33m\u001b[0m\u001b[1;33m\u001b[0m\u001b[0m\n",
      "\u001b[1;31mValueError\u001b[0m: Expected 2D array, got 1D array instead:\narray=[2.15 4.55 2.34 4.58 2.57 4.18 4.38 4.18 2.07 1.14 4.19 3.88 2.01 2.89\n 2.08 3.56 2.12 5.28 2.09 3.99 1.16 4.31 2.71 4.87 3.08 2.24 1.73 2.21\n 3.13 2.83 3.72 3.74 2.77 1.74 1.98 1.9  1.87 1.71 4.27 2.56 3.85 1.5\n 4.12 4.19 1.49 2.04 3.8  4.1  1.9  4.96 3.98 1.56 4.16 1.44].\nReshape your data either using array.reshape(-1, 1) if your data has a single feature or array.reshape(1, -1) if it contains a single sample."
     ]
    }
   ],
   "source": [
    "gbr = GradientBoostingRegressor(random_state=0, max_depth=3)\n",
    "gbr.fit(X_train, y_train)\n",
    "# make predictions for test data and evaluate\n",
    "y_pred = gbr.predict(X_test)\n",
    "predictions = [round(value) for value in y_pred]\n",
    "#print (\"Feature Importances.... \",model.feature_importances_)\n",
    "print (\"R-squared for Train: %.2f\" %gbr.score(X_train, y_train)) \n",
    "print (\"R-squared for Test: %.2f\" %gbr.score(X_test, y_test))\n",
    "print (\"R-squared for Test: %.2f\" %gbr.score(y_test,y_pred))"
   ]
  },
  {
   "cell_type": "code",
   "execution_count": 31,
   "metadata": {},
   "outputs": [
    {
     "data": {
      "text/plain": [
       "['finalized_model.sav']"
      ]
     },
     "execution_count": 31,
     "metadata": {},
     "output_type": "execute_result"
    }
   ],
   "source": [
    "# pickle model to disk\n",
    "filename = 'finalized_model.sav'\n",
    "joblib.dump(gbr, filename)"
   ]
  },
  {
   "cell_type": "code",
   "execution_count": 33,
   "metadata": {},
   "outputs": [
    {
     "name": "stdout",
     "output_type": "stream",
     "text": [
      "-0.01261422163139403\n"
     ]
    }
   ],
   "source": [
    "# load the model from disk\n",
    "loaded_model = joblib.load(filename)\n",
    "result = loaded_model.score(X_test, y_test)\n",
    "print(result)"
   ]
  },
  {
   "cell_type": "code",
   "execution_count": 35,
   "metadata": {},
   "outputs": [
    {
     "data": {
      "text/plain": [
       "(54, 354)"
      ]
     },
     "execution_count": 35,
     "metadata": {},
     "output_type": "execute_result"
    }
   ],
   "source": [
    "X_test.shape"
   ]
  },
  {
   "cell_type": "code",
   "execution_count": 38,
   "metadata": {},
   "outputs": [
    {
     "data": {
      "text/plain": [
       "Index(['Recipe_code', 'Recipe_name', 'ingredients_list', 'ingredients_count',\n",
       "       'score', 'new', 'price'],\n",
       "      dtype='object')"
      ]
     },
     "execution_count": 38,
     "metadata": {},
     "output_type": "execute_result"
    }
   ],
   "source": [
    "df_pred.columns"
   ]
  },
  {
   "cell_type": "code",
   "execution_count": 36,
   "metadata": {},
   "outputs": [
    {
     "data": {
      "text/html": [
       "<div>\n",
       "<style scoped>\n",
       "    .dataframe tbody tr th:only-of-type {\n",
       "        vertical-align: middle;\n",
       "    }\n",
       "\n",
       "    .dataframe tbody tr th {\n",
       "        vertical-align: top;\n",
       "    }\n",
       "\n",
       "    .dataframe thead th {\n",
       "        text-align: right;\n",
       "    }\n",
       "</style>\n",
       "<table border=\"1\" class=\"dataframe\">\n",
       "  <thead>\n",
       "    <tr style=\"text-align: right;\">\n",
       "      <th></th>\n",
       "      <th>Recipe_code</th>\n",
       "      <th>Recipe_name</th>\n",
       "      <th>ingredients_list</th>\n",
       "      <th>ingredients_count</th>\n",
       "      <th>score</th>\n",
       "      <th>new</th>\n",
       "      <th>price</th>\n",
       "    </tr>\n",
       "  </thead>\n",
       "  <tbody>\n",
       "    <tr>\n",
       "      <th>5</th>\n",
       "      <td>R10128</td>\n",
       "      <td>UK Hearty Roasted Chicken with Dijon Mushroom ...</td>\n",
       "      <td>[Chicken, Breasts, Rice, Brown, Mushrooms, But...</td>\n",
       "      <td>15</td>\n",
       "      <td>NaN</td>\n",
       "      <td>1</td>\n",
       "      <td>8.18</td>\n",
       "    </tr>\n",
       "    <tr>\n",
       "      <th>6</th>\n",
       "      <td>R10130</td>\n",
       "      <td>HDP Chicken with Farro Caprese</td>\n",
       "      <td>[Chicken, Breasts, Farro, Tomato, Grape, Spice...</td>\n",
       "      <td>13</td>\n",
       "      <td>NaN</td>\n",
       "      <td>1</td>\n",
       "      <td>9.68</td>\n",
       "    </tr>\n",
       "    <tr>\n",
       "      <th>7</th>\n",
       "      <td>R10133</td>\n",
       "      <td>AU Zucchini and Parmesan Topped Chicken</td>\n",
       "      <td>[Squash, Zucchini, Chicken, Breasts, Cheese, S...</td>\n",
       "      <td>11</td>\n",
       "      <td>NaN</td>\n",
       "      <td>1</td>\n",
       "      <td>8.89</td>\n",
       "    </tr>\n",
       "    <tr>\n",
       "      <th>10</th>\n",
       "      <td>R10139</td>\n",
       "      <td>UK Pesto Roulades with Roasted Potatoes</td>\n",
       "      <td>[Potato, Yukon B, Breadcrumbs, Panko, Chicken,...</td>\n",
       "      <td>13</td>\n",
       "      <td>NaN</td>\n",
       "      <td>1</td>\n",
       "      <td>8.73</td>\n",
       "    </tr>\n",
       "    <tr>\n",
       "      <th>15</th>\n",
       "      <td>R10174</td>\n",
       "      <td>Pan Roasted Chicken with Dijon Mustard Sauce</td>\n",
       "      <td>[Chicken, Breasts, Couscous, Israeli, Mushroom...</td>\n",
       "      <td>16</td>\n",
       "      <td>NaN</td>\n",
       "      <td>1</td>\n",
       "      <td>7.07</td>\n",
       "    </tr>\n",
       "  </tbody>\n",
       "</table>\n",
       "</div>"
      ],
      "text/plain": [
       "   Recipe_code                                        Recipe_name  \\\n",
       "5       R10128  UK Hearty Roasted Chicken with Dijon Mushroom ...   \n",
       "6       R10130                     HDP Chicken with Farro Caprese   \n",
       "7       R10133            AU Zucchini and Parmesan Topped Chicken   \n",
       "10      R10139            UK Pesto Roulades with Roasted Potatoes   \n",
       "15      R10174       Pan Roasted Chicken with Dijon Mustard Sauce   \n",
       "\n",
       "                                     ingredients_list  ingredients_count  \\\n",
       "5   [Chicken, Breasts, Rice, Brown, Mushrooms, But...                 15   \n",
       "6   [Chicken, Breasts, Farro, Tomato, Grape, Spice...                 13   \n",
       "7   [Squash, Zucchini, Chicken, Breasts, Cheese, S...                 11   \n",
       "10  [Potato, Yukon B, Breadcrumbs, Panko, Chicken,...                 13   \n",
       "15  [Chicken, Breasts, Couscous, Israeli, Mushroom...                 16   \n",
       "\n",
       "    score  new  price  \n",
       "5     NaN    1   8.18  \n",
       "6     NaN    1   9.68  \n",
       "7     NaN    1   8.89  \n",
       "10    NaN    1   8.73  \n",
       "15    NaN    1   7.07  "
      ]
     },
     "execution_count": 36,
     "metadata": {},
     "output_type": "execute_result"
    }
   ],
   "source": [
    "df_pred.head()"
   ]
  },
  {
   "cell_type": "code",
   "execution_count": 40,
   "metadata": {},
   "outputs": [
    {
     "data": {
      "text/plain": [
       "(43, 87)"
      ]
     },
     "execution_count": 40,
     "metadata": {},
     "output_type": "execute_result"
    }
   ],
   "source": [
    "df_pred = df_pred[['Recipe_code', 'Recipe_name', 'ingredients_count','score', 'new', 'price']]\n",
    "df_encoded = pd.get_dummies(df_pred, columns=df_pred.select_dtypes(include=['object']).columns, drop_first=True)\n",
    "\n",
    "dependentVar = 'score'\n",
    "\n",
    "# Remove the dependent variable from training sets\n",
    "X_pred = df_encoded.drop(dependentVar,1).values\n",
    "X_pred.shape"
   ]
  },
  {
   "cell_type": "code",
   "execution_count": null,
   "metadata": {},
   "outputs": [],
   "source": [
    "pipe_svm = Pipeline([('scl', StandardScaler()),('pca', PCA(n_components=2)),('clf', svm.SVC(random_state=42))])"
   ]
  },
  {
   "cell_type": "code",
   "execution_count": 42,
   "metadata": {},
   "outputs": [],
   "source": [
    "#loaded_model.predict(X_pred)"
   ]
  },
  {
   "cell_type": "code",
   "execution_count": 77,
   "metadata": {},
   "outputs": [
    {
     "data": {
      "text/plain": [
       "(143,)"
      ]
     },
     "execution_count": 77,
     "metadata": {},
     "output_type": "execute_result"
    }
   ],
   "source": [
    "#X.shape\n",
    "X_train.shape\n",
    "#y_train[:1]\n",
    "y_train.shape"
   ]
  },
  {
   "cell_type": "code",
   "execution_count": 83,
   "metadata": {},
   "outputs": [
    {
     "name": "stdout",
     "output_type": "stream",
     "text": [
      "Build and fit a model...\n"
     ]
    },
    {
     "name": "stderr",
     "output_type": "stream",
     "text": [
      "C:\\Users\\abhranshu\\AppData\\Local\\Continuum\\anaconda3\\lib\\site-packages\\sklearn\\ensemble\\forest.py:245: FutureWarning: The default value of n_estimators will change from 10 in version 0.20 to 100 in 0.22.\n",
      "  \"10 in version 0.20 to 100 in 0.22.\", FutureWarning)\n"
     ]
    },
    {
     "ename": "ValueError",
     "evalue": "Expected 2D array, got 1D array instead:\narray=[1.845 4.398 2.666 3.101 3.006 2.067 2.61  4.02  1.959 2.374 2.838 2.56\n 2.324 2.158 2.856 2.856 4.489 2.712 1.848 4.31  2.376 2.625 3.223 4.065\n 2.005 2.611 2.498 2.071 3.029 2.896 2.198 2.297 2.454 2.682 1.844 1.906\n 1.479 2.043 2.436 3.439 2.016 3.705 2.024 2.088 3.372 3.099 3.582 2.203\n 2.929 2.807 3.315 2.176 2.73  2.153 4.928 2.351 2.487 2.081 1.687 1.432\n 3.13  3.751 2.967 3.02  2.719 1.99  2.212 3.373 1.858 5.58  1.874 2.191\n 4.197 2.683 2.047 2.781 4.495 1.475 2.382 1.838 3.026 3.214 3.404 3.508\n 1.187 2.31  3.522 2.537 2.201 2.412 2.003 2.491 2.594 3.142 2.296 1.889\n 1.604 3.089 3.065 3.909 3.16  2.579 3.177 2.654 2.847 0.986 3.38  4.356\n 3.178 2.224 1.88  2.168 2.313 3.076 3.171 3.149 2.102 1.686 2.166 2.411\n 2.089 2.802 3.961 2.207 3.205].\nReshape your data either using array.reshape(-1, 1) if your data has a single feature or array.reshape(1, -1) if it contains a single sample.",
     "output_type": "error",
     "traceback": [
      "\u001b[1;31m---------------------------------------------------------------------------\u001b[0m",
      "\u001b[1;31mValueError\u001b[0m                                Traceback (most recent call last)",
      "\u001b[1;32m<ipython-input-83-a2faa322dbad>\u001b[0m in \u001b[0;36m<module>\u001b[1;34m\u001b[0m\n\u001b[0;32m     52\u001b[0m \u001b[0mX_train\u001b[0m\u001b[1;33m,\u001b[0m \u001b[0mX_test\u001b[0m\u001b[1;33m,\u001b[0m \u001b[0my_train\u001b[0m\u001b[1;33m,\u001b[0m \u001b[0my_test\u001b[0m \u001b[1;33m=\u001b[0m \u001b[0mtrain_test_split\u001b[0m\u001b[1;33m(\u001b[0m\u001b[0mX\u001b[0m\u001b[1;33m,\u001b[0m \u001b[0my\u001b[0m\u001b[1;33m,\u001b[0m \u001b[0mtest_size\u001b[0m \u001b[1;33m=\u001b[0m \u001b[1;36m0.3\u001b[0m\u001b[1;33m,\u001b[0m \u001b[0mrandom_state\u001b[0m\u001b[1;33m=\u001b[0m\u001b[1;36m42\u001b[0m\u001b[1;33m)\u001b[0m\u001b[1;33m\u001b[0m\u001b[1;33m\u001b[0m\u001b[0m\n\u001b[0;32m     53\u001b[0m \u001b[1;33m\u001b[0m\u001b[0m\n\u001b[1;32m---> 54\u001b[1;33m \u001b[0mmodel\u001b[0m\u001b[1;33m.\u001b[0m\u001b[0mfit\u001b[0m\u001b[1;33m(\u001b[0m\u001b[0mX_train\u001b[0m\u001b[1;33m,\u001b[0m \u001b[0my_train\u001b[0m\u001b[1;33m)\u001b[0m\u001b[1;33m\u001b[0m\u001b[1;33m\u001b[0m\u001b[0m\n\u001b[0m\u001b[0;32m     55\u001b[0m \u001b[0mscore\u001b[0m \u001b[1;33m=\u001b[0m \u001b[0mmodel\u001b[0m\u001b[1;33m.\u001b[0m\u001b[0mscore\u001b[0m\u001b[1;33m(\u001b[0m\u001b[0mX_test\u001b[0m\u001b[1;33m,\u001b[0m \u001b[0my_test\u001b[0m\u001b[1;33m)\u001b[0m\u001b[1;33m\u001b[0m\u001b[1;33m\u001b[0m\u001b[0m\n\u001b[0;32m     56\u001b[0m \u001b[1;33m\u001b[0m\u001b[0m\n",
      "\u001b[1;32m~\\AppData\\Local\\Continuum\\anaconda3\\lib\\site-packages\\sklearn\\pipeline.py\u001b[0m in \u001b[0;36mfit\u001b[1;34m(self, X, y, **fit_params)\u001b[0m\n\u001b[0;32m    354\u001b[0m                                  self._log_message(len(self.steps) - 1)):\n\u001b[0;32m    355\u001b[0m             \u001b[1;32mif\u001b[0m \u001b[0mself\u001b[0m\u001b[1;33m.\u001b[0m\u001b[0m_final_estimator\u001b[0m \u001b[1;33m!=\u001b[0m \u001b[1;34m'passthrough'\u001b[0m\u001b[1;33m:\u001b[0m\u001b[1;33m\u001b[0m\u001b[1;33m\u001b[0m\u001b[0m\n\u001b[1;32m--> 356\u001b[1;33m                 \u001b[0mself\u001b[0m\u001b[1;33m.\u001b[0m\u001b[0m_final_estimator\u001b[0m\u001b[1;33m.\u001b[0m\u001b[0mfit\u001b[0m\u001b[1;33m(\u001b[0m\u001b[0mXt\u001b[0m\u001b[1;33m,\u001b[0m \u001b[0my\u001b[0m\u001b[1;33m,\u001b[0m \u001b[1;33m**\u001b[0m\u001b[0mfit_params\u001b[0m\u001b[1;33m)\u001b[0m\u001b[1;33m\u001b[0m\u001b[1;33m\u001b[0m\u001b[0m\n\u001b[0m\u001b[0;32m    357\u001b[0m         \u001b[1;32mreturn\u001b[0m \u001b[0mself\u001b[0m\u001b[1;33m\u001b[0m\u001b[1;33m\u001b[0m\u001b[0m\n\u001b[0;32m    358\u001b[0m \u001b[1;33m\u001b[0m\u001b[0m\n",
      "\u001b[1;32m~\\AppData\\Local\\Continuum\\anaconda3\\lib\\site-packages\\sklearn\\ensemble\\forest.py\u001b[0m in \u001b[0;36mfit\u001b[1;34m(self, X, y, sample_weight)\u001b[0m\n\u001b[0;32m    247\u001b[0m \u001b[1;33m\u001b[0m\u001b[0m\n\u001b[0;32m    248\u001b[0m         \u001b[1;31m# Validate or convert input data\u001b[0m\u001b[1;33m\u001b[0m\u001b[1;33m\u001b[0m\u001b[1;33m\u001b[0m\u001b[0m\n\u001b[1;32m--> 249\u001b[1;33m         \u001b[0mX\u001b[0m \u001b[1;33m=\u001b[0m \u001b[0mcheck_array\u001b[0m\u001b[1;33m(\u001b[0m\u001b[0mX\u001b[0m\u001b[1;33m,\u001b[0m \u001b[0maccept_sparse\u001b[0m\u001b[1;33m=\u001b[0m\u001b[1;34m\"csc\"\u001b[0m\u001b[1;33m,\u001b[0m \u001b[0mdtype\u001b[0m\u001b[1;33m=\u001b[0m\u001b[0mDTYPE\u001b[0m\u001b[1;33m)\u001b[0m\u001b[1;33m\u001b[0m\u001b[1;33m\u001b[0m\u001b[0m\n\u001b[0m\u001b[0;32m    250\u001b[0m         \u001b[0my\u001b[0m \u001b[1;33m=\u001b[0m \u001b[0mcheck_array\u001b[0m\u001b[1;33m(\u001b[0m\u001b[0my\u001b[0m\u001b[1;33m,\u001b[0m \u001b[0maccept_sparse\u001b[0m\u001b[1;33m=\u001b[0m\u001b[1;34m'csc'\u001b[0m\u001b[1;33m,\u001b[0m \u001b[0mensure_2d\u001b[0m\u001b[1;33m=\u001b[0m\u001b[1;32mFalse\u001b[0m\u001b[1;33m,\u001b[0m \u001b[0mdtype\u001b[0m\u001b[1;33m=\u001b[0m\u001b[1;32mNone\u001b[0m\u001b[1;33m)\u001b[0m\u001b[1;33m\u001b[0m\u001b[1;33m\u001b[0m\u001b[0m\n\u001b[0;32m    251\u001b[0m         \u001b[1;32mif\u001b[0m \u001b[0msample_weight\u001b[0m \u001b[1;32mis\u001b[0m \u001b[1;32mnot\u001b[0m \u001b[1;32mNone\u001b[0m\u001b[1;33m:\u001b[0m\u001b[1;33m\u001b[0m\u001b[1;33m\u001b[0m\u001b[0m\n",
      "\u001b[1;32m~\\AppData\\Local\\Continuum\\anaconda3\\lib\\site-packages\\sklearn\\utils\\validation.py\u001b[0m in \u001b[0;36mcheck_array\u001b[1;34m(array, accept_sparse, accept_large_sparse, dtype, order, copy, force_all_finite, ensure_2d, allow_nd, ensure_min_samples, ensure_min_features, warn_on_dtype, estimator)\u001b[0m\n\u001b[0;32m    519\u001b[0m                     \u001b[1;34m\"Reshape your data either using array.reshape(-1, 1) if \"\u001b[0m\u001b[1;33m\u001b[0m\u001b[1;33m\u001b[0m\u001b[0m\n\u001b[0;32m    520\u001b[0m                     \u001b[1;34m\"your data has a single feature or array.reshape(1, -1) \"\u001b[0m\u001b[1;33m\u001b[0m\u001b[1;33m\u001b[0m\u001b[0m\n\u001b[1;32m--> 521\u001b[1;33m                     \"if it contains a single sample.\".format(array))\n\u001b[0m\u001b[0;32m    522\u001b[0m \u001b[1;33m\u001b[0m\u001b[0m\n\u001b[0;32m    523\u001b[0m         \u001b[1;31m# in the future np.flexible dtypes will be handled like object dtypes\u001b[0m\u001b[1;33m\u001b[0m\u001b[1;33m\u001b[0m\u001b[1;33m\u001b[0m\u001b[0m\n",
      "\u001b[1;31mValueError\u001b[0m: Expected 2D array, got 1D array instead:\narray=[1.845 4.398 2.666 3.101 3.006 2.067 2.61  4.02  1.959 2.374 2.838 2.56\n 2.324 2.158 2.856 2.856 4.489 2.712 1.848 4.31  2.376 2.625 3.223 4.065\n 2.005 2.611 2.498 2.071 3.029 2.896 2.198 2.297 2.454 2.682 1.844 1.906\n 1.479 2.043 2.436 3.439 2.016 3.705 2.024 2.088 3.372 3.099 3.582 2.203\n 2.929 2.807 3.315 2.176 2.73  2.153 4.928 2.351 2.487 2.081 1.687 1.432\n 3.13  3.751 2.967 3.02  2.719 1.99  2.212 3.373 1.858 5.58  1.874 2.191\n 4.197 2.683 2.047 2.781 4.495 1.475 2.382 1.838 3.026 3.214 3.404 3.508\n 1.187 2.31  3.522 2.537 2.201 2.412 2.003 2.491 2.594 3.142 2.296 1.889\n 1.604 3.089 3.065 3.909 3.16  2.579 3.177 2.654 2.847 0.986 3.38  4.356\n 3.178 2.224 1.88  2.168 2.313 3.076 3.171 3.149 2.102 1.686 2.166 2.411\n 2.089 2.802 3.961 2.207 3.205].\nReshape your data either using array.reshape(-1, 1) if your data has a single feature or array.reshape(1, -1) if it contains a single sample."
     ]
    }
   ],
   "source": [
    "\n",
    "from sklearn.base import TransformerMixin\n",
    "from sklearn.pipeline import Pipeline, FeatureUnion\n",
    "from sklearn.model_selection import train_test_split\n",
    "from sklearn.ensemble import RandomForestRegressor\n",
    "from sklearn.neighbors import KNeighborsRegressor\n",
    "from sklearn.preprocessing import StandardScaler, PolynomialFeatures\n",
    "from sklearn.linear_model import LinearRegression, Ridge\n",
    "\n",
    "class RidgeTransformer(Ridge, TransformerMixin):\n",
    "\n",
    "    def transform(self, X, *_):\n",
    "        return self.predict(X)\n",
    "\n",
    "class RandomForestTransformer(RandomForestRegressor, TransformerMixin):\n",
    "\n",
    "    def transform(self, X, *_):\n",
    "        return self.predict(X)\n",
    "\n",
    "class KNeighborsTransformer(KNeighborsRegressor, TransformerMixin):\n",
    "\n",
    "    def transform(self, X, *_):\n",
    "        return self.predict(X)\n",
    "    \n",
    "def build_model():\n",
    "    ridge_transformer = Pipeline(steps=[\n",
    "        ('scaler', StandardScaler()),\n",
    "        ('poly_feats', PolynomialFeatures())\n",
    "    ])\n",
    "\n",
    "    pred_union = FeatureUnion(\n",
    "        transformer_list=[\n",
    "            ('ridge', ridge_transformer)\n",
    "            \n",
    "        ],\n",
    "        n_jobs=2\n",
    "    )\n",
    "\n",
    "    model = Pipeline(steps=[\n",
    "        ('pred_union', pred_union),\n",
    "        ('rfr', RandomForestRegressor())\n",
    "    ])\n",
    "\n",
    "    return model\n",
    "\n",
    "print('Build and fit a model...')\n",
    "\n",
    "model = build_model()\n",
    "\n",
    "#X, y = make_regression(n_features=10, n_targets=2)\n",
    "#X_train, X_test, y_train, y_test = train_test_split(X, y, test_size=0.2)\n",
    "X_train, X_test, y_train, y_test = train_test_split(X, y, test_size = 0.3, random_state=42)\n",
    "\n",
    "model.fit(X_train, y_train)\n",
    "score = model.score(X_test, y_test)\n",
    "\n",
    "print('Done. Score:', score)"
   ]
  },
  {
   "cell_type": "code",
   "execution_count": 17,
   "metadata": {},
   "outputs": [
    {
     "name": "stdout",
     "output_type": "stream",
     "text": [
      "{'vect__max_df': [0.25, 0.5, 0.6, 0.7, 1.0], 'vect__ngram_range': [(1, 1), (1, 2), (2, 3), (1, 3), (1, 4), (1, 5)], 'vect__use_idf': [True, False], 'clf__C': [0.1, 1, 10, 20, 30]}\n",
      "Fitting 3 folds for each of 300 candidates, totalling 900 fits\n"
     ]
    },
    {
     "name": "stderr",
     "output_type": "stream",
     "text": [
      "C:\\Users\\abhranshu\\AppData\\Local\\Continuum\\anaconda3\\lib\\site-packages\\ipykernel_launcher.py:29: FutureWarning: Method .as_matrix will be removed in a future version. Use .values instead.\n",
      "C:\\Users\\abhranshu\\AppData\\Local\\Continuum\\anaconda3\\lib\\site-packages\\sklearn\\model_selection\\_split.py:1978: FutureWarning: The default value of cv will change from 3 to 5 in version 0.22. Specify it explicitly to silence this warning.\n",
      "  warnings.warn(CV_WARNING, FutureWarning)\n",
      "[Parallel(n_jobs=3)]: Using backend LokyBackend with 3 concurrent workers.\n"
     ]
    },
    {
     "ename": "AttributeError",
     "evalue": "'list' object has no attribute 'lower'",
     "output_type": "error",
     "traceback": [
      "\u001b[1;31m---------------------------------------------------------------------------\u001b[0m",
      "\u001b[1;31m_RemoteTraceback\u001b[0m                          Traceback (most recent call last)",
      "\u001b[1;31m_RemoteTraceback\u001b[0m: \n\"\"\"\nTraceback (most recent call last):\n  File \"C:\\Users\\abhranshu\\AppData\\Local\\Continuum\\anaconda3\\lib\\site-packages\\joblib\\externals\\loky\\process_executor.py\", line 418, in _process_worker\n    r = call_item()\n  File \"C:\\Users\\abhranshu\\AppData\\Local\\Continuum\\anaconda3\\lib\\site-packages\\joblib\\externals\\loky\\process_executor.py\", line 272, in __call__\n    return self.fn(*self.args, **self.kwargs)\n  File \"C:\\Users\\abhranshu\\AppData\\Local\\Continuum\\anaconda3\\lib\\site-packages\\joblib\\_parallel_backends.py\", line 567, in __call__\n    return self.func(*args, **kwargs)\n  File \"C:\\Users\\abhranshu\\AppData\\Local\\Continuum\\anaconda3\\lib\\site-packages\\joblib\\parallel.py\", line 225, in __call__\n    for func, args, kwargs in self.items]\n  File \"C:\\Users\\abhranshu\\AppData\\Local\\Continuum\\anaconda3\\lib\\site-packages\\joblib\\parallel.py\", line 225, in <listcomp>\n    for func, args, kwargs in self.items]\n  File \"C:\\Users\\abhranshu\\AppData\\Local\\Continuum\\anaconda3\\lib\\site-packages\\sklearn\\model_selection\\_validation.py\", line 514, in _fit_and_score\n    estimator.fit(X_train, y_train, **fit_params)\n  File \"C:\\Users\\abhranshu\\AppData\\Local\\Continuum\\anaconda3\\lib\\site-packages\\sklearn\\pipeline.py\", line 352, in fit\n    Xt, fit_params = self._fit(X, y, **fit_params)\n  File \"C:\\Users\\abhranshu\\AppData\\Local\\Continuum\\anaconda3\\lib\\site-packages\\sklearn\\pipeline.py\", line 317, in _fit\n    **fit_params_steps[name])\n  File \"C:\\Users\\abhranshu\\AppData\\Local\\Continuum\\anaconda3\\lib\\site-packages\\joblib\\memory.py\", line 355, in __call__\n    return self.func(*args, **kwargs)\n  File \"C:\\Users\\abhranshu\\AppData\\Local\\Continuum\\anaconda3\\lib\\site-packages\\sklearn\\pipeline.py\", line 716, in _fit_transform_one\n    res = transformer.fit_transform(X, y, **fit_params)\n  File \"C:\\Users\\abhranshu\\AppData\\Local\\Continuum\\anaconda3\\lib\\site-packages\\sklearn\\feature_extraction\\text.py\", line 1652, in fit_transform\n    X = super().fit_transform(raw_documents)\n  File \"C:\\Users\\abhranshu\\AppData\\Local\\Continuum\\anaconda3\\lib\\site-packages\\sklearn\\feature_extraction\\text.py\", line 1058, in fit_transform\n    self.fixed_vocabulary_)\n  File \"C:\\Users\\abhranshu\\AppData\\Local\\Continuum\\anaconda3\\lib\\site-packages\\sklearn\\feature_extraction\\text.py\", line 970, in _count_vocab\n    for feature in analyze(doc):\n  File \"C:\\Users\\abhranshu\\AppData\\Local\\Continuum\\anaconda3\\lib\\site-packages\\sklearn\\feature_extraction\\text.py\", line 352, in <lambda>\n    tokenize(preprocess(self.decode(doc))), stop_words)\n  File \"C:\\Users\\abhranshu\\AppData\\Local\\Continuum\\anaconda3\\lib\\site-packages\\sklearn\\feature_extraction\\text.py\", line 256, in <lambda>\n    return lambda x: strip_accents(x.lower())\nAttributeError: 'list' object has no attribute 'lower'\n\"\"\"",
      "\nThe above exception was the direct cause of the following exception:\n",
      "\u001b[1;31mAttributeError\u001b[0m                            Traceback (most recent call last)",
      "\u001b[1;32m<ipython-input-17-4a8fe358829e>\u001b[0m in \u001b[0;36m<module>\u001b[1;34m\u001b[0m\n\u001b[0;32m     80\u001b[0m \u001b[1;33m\u001b[0m\u001b[0m\n\u001b[0;32m     81\u001b[0m \u001b[1;32mif\u001b[0m \u001b[0m__name__\u001b[0m \u001b[1;33m==\u001b[0m \u001b[1;34m'__main__'\u001b[0m\u001b[1;33m:\u001b[0m\u001b[1;33m\u001b[0m\u001b[1;33m\u001b[0m\u001b[0m\n\u001b[1;32m---> 82\u001b[1;33m     \u001b[0mmain\u001b[0m\u001b[1;33m(\u001b[0m\u001b[1;33m)\u001b[0m\u001b[1;33m\u001b[0m\u001b[1;33m\u001b[0m\u001b[0m\n\u001b[0m",
      "\u001b[1;32m<ipython-input-17-4a8fe358829e>\u001b[0m in \u001b[0;36mmain\u001b[1;34m()\u001b[0m\n\u001b[0;32m     68\u001b[0m \u001b[1;33m\u001b[0m\u001b[0m\n\u001b[0;32m     69\u001b[0m     \u001b[1;31m# Get best set of parameters and evaluate validation set accuracy\u001b[0m\u001b[1;33m\u001b[0m\u001b[1;33m\u001b[0m\u001b[1;33m\u001b[0m\u001b[0m\n\u001b[1;32m---> 70\u001b[1;33m     \u001b[0mbestParameters\u001b[0m \u001b[1;33m=\u001b[0m \u001b[0mgetBestParameters\u001b[0m\u001b[1;33m(\u001b[0m\u001b[0mpipeline\u001b[0m\u001b[1;33m,\u001b[0m\u001b[0mparameters\u001b[0m\u001b[1;33m)\u001b[0m\u001b[1;33m\u001b[0m\u001b[1;33m\u001b[0m\u001b[0m\n\u001b[0m\u001b[0;32m     71\u001b[0m \u001b[1;33m\u001b[0m\u001b[0m\n\u001b[0;32m     72\u001b[0m     \u001b[1;31m# Save best parameter set\u001b[0m\u001b[1;33m\u001b[0m\u001b[1;33m\u001b[0m\u001b[1;33m\u001b[0m\u001b[0m\n",
      "\u001b[1;32m<ipython-input-17-4a8fe358829e>\u001b[0m in \u001b[0;36mgetBestParameters\u001b[1;34m(pipeline, parameters)\u001b[0m\n\u001b[0;32m     33\u001b[0m     \u001b[0mgridSearchClassifier\u001b[0m \u001b[1;33m=\u001b[0m \u001b[0mhfutil\u001b[0m\u001b[1;33m.\u001b[0m\u001b[0mgetGridSearchCv\u001b[0m\u001b[1;33m(\u001b[0m\u001b[0mpipeline\u001b[0m\u001b[1;33m,\u001b[0m \u001b[0mparameters\u001b[0m\u001b[1;33m)\u001b[0m\u001b[1;33m\u001b[0m\u001b[1;33m\u001b[0m\u001b[0m\n\u001b[0;32m     34\u001b[0m     \u001b[1;31m# Fit/train the gridSearchClassifier on Training Set\u001b[0m\u001b[1;33m\u001b[0m\u001b[1;33m\u001b[0m\u001b[1;33m\u001b[0m\u001b[0m\n\u001b[1;32m---> 35\u001b[1;33m     \u001b[0mgridSearchClassifier\u001b[0m\u001b[1;33m.\u001b[0m\u001b[0mfit\u001b[0m\u001b[1;33m(\u001b[0m\u001b[0mXtrain\u001b[0m\u001b[1;33m,\u001b[0m \u001b[0mytrain\u001b[0m\u001b[1;33m)\u001b[0m\u001b[1;33m\u001b[0m\u001b[1;33m\u001b[0m\u001b[0m\n\u001b[0m\u001b[0;32m     36\u001b[0m     \u001b[1;31m# Make predictions on validation set and calculate best set of parameters\u001b[0m\u001b[1;33m\u001b[0m\u001b[1;33m\u001b[0m\u001b[1;33m\u001b[0m\u001b[0m\n\u001b[0;32m     37\u001b[0m     \u001b[1;31m##>  bestParameters,predictions=cookVal.validate(parameters, gridSearchClassifier, Xvalidate, yValidate)\u001b[0m\u001b[1;33m\u001b[0m\u001b[1;33m\u001b[0m\u001b[1;33m\u001b[0m\u001b[0m\n",
      "\u001b[1;32m~\\AppData\\Local\\Continuum\\anaconda3\\lib\\site-packages\\sklearn\\model_selection\\_search.py\u001b[0m in \u001b[0;36mfit\u001b[1;34m(self, X, y, groups, **fit_params)\u001b[0m\n\u001b[0;32m    685\u001b[0m                 \u001b[1;32mreturn\u001b[0m \u001b[0mresults\u001b[0m\u001b[1;33m\u001b[0m\u001b[1;33m\u001b[0m\u001b[0m\n\u001b[0;32m    686\u001b[0m \u001b[1;33m\u001b[0m\u001b[0m\n\u001b[1;32m--> 687\u001b[1;33m             \u001b[0mself\u001b[0m\u001b[1;33m.\u001b[0m\u001b[0m_run_search\u001b[0m\u001b[1;33m(\u001b[0m\u001b[0mevaluate_candidates\u001b[0m\u001b[1;33m)\u001b[0m\u001b[1;33m\u001b[0m\u001b[1;33m\u001b[0m\u001b[0m\n\u001b[0m\u001b[0;32m    688\u001b[0m \u001b[1;33m\u001b[0m\u001b[0m\n\u001b[0;32m    689\u001b[0m         \u001b[1;31m# For multi-metric evaluation, store the best_index_, best_params_ and\u001b[0m\u001b[1;33m\u001b[0m\u001b[1;33m\u001b[0m\u001b[1;33m\u001b[0m\u001b[0m\n",
      "\u001b[1;32m~\\AppData\\Local\\Continuum\\anaconda3\\lib\\site-packages\\sklearn\\model_selection\\_search.py\u001b[0m in \u001b[0;36m_run_search\u001b[1;34m(self, evaluate_candidates)\u001b[0m\n\u001b[0;32m   1146\u001b[0m     \u001b[1;32mdef\u001b[0m \u001b[0m_run_search\u001b[0m\u001b[1;33m(\u001b[0m\u001b[0mself\u001b[0m\u001b[1;33m,\u001b[0m \u001b[0mevaluate_candidates\u001b[0m\u001b[1;33m)\u001b[0m\u001b[1;33m:\u001b[0m\u001b[1;33m\u001b[0m\u001b[1;33m\u001b[0m\u001b[0m\n\u001b[0;32m   1147\u001b[0m         \u001b[1;34m\"\"\"Search all candidates in param_grid\"\"\"\u001b[0m\u001b[1;33m\u001b[0m\u001b[1;33m\u001b[0m\u001b[0m\n\u001b[1;32m-> 1148\u001b[1;33m         \u001b[0mevaluate_candidates\u001b[0m\u001b[1;33m(\u001b[0m\u001b[0mParameterGrid\u001b[0m\u001b[1;33m(\u001b[0m\u001b[0mself\u001b[0m\u001b[1;33m.\u001b[0m\u001b[0mparam_grid\u001b[0m\u001b[1;33m)\u001b[0m\u001b[1;33m)\u001b[0m\u001b[1;33m\u001b[0m\u001b[1;33m\u001b[0m\u001b[0m\n\u001b[0m\u001b[0;32m   1149\u001b[0m \u001b[1;33m\u001b[0m\u001b[0m\n\u001b[0;32m   1150\u001b[0m \u001b[1;33m\u001b[0m\u001b[0m\n",
      "\u001b[1;32m~\\AppData\\Local\\Continuum\\anaconda3\\lib\\site-packages\\sklearn\\model_selection\\_search.py\u001b[0m in \u001b[0;36mevaluate_candidates\u001b[1;34m(candidate_params)\u001b[0m\n\u001b[0;32m    664\u001b[0m                                \u001b[1;32mfor\u001b[0m \u001b[0mparameters\u001b[0m\u001b[1;33m,\u001b[0m \u001b[1;33m(\u001b[0m\u001b[0mtrain\u001b[0m\u001b[1;33m,\u001b[0m \u001b[0mtest\u001b[0m\u001b[1;33m)\u001b[0m\u001b[1;33m\u001b[0m\u001b[1;33m\u001b[0m\u001b[0m\n\u001b[0;32m    665\u001b[0m                                in product(candidate_params,\n\u001b[1;32m--> 666\u001b[1;33m                                           cv.split(X, y, groups)))\n\u001b[0m\u001b[0;32m    667\u001b[0m \u001b[1;33m\u001b[0m\u001b[0m\n\u001b[0;32m    668\u001b[0m                 \u001b[1;32mif\u001b[0m \u001b[0mlen\u001b[0m\u001b[1;33m(\u001b[0m\u001b[0mout\u001b[0m\u001b[1;33m)\u001b[0m \u001b[1;33m<\u001b[0m \u001b[1;36m1\u001b[0m\u001b[1;33m:\u001b[0m\u001b[1;33m\u001b[0m\u001b[1;33m\u001b[0m\u001b[0m\n",
      "\u001b[1;32m~\\AppData\\Local\\Continuum\\anaconda3\\lib\\site-packages\\joblib\\parallel.py\u001b[0m in \u001b[0;36m__call__\u001b[1;34m(self, iterable)\u001b[0m\n\u001b[0;32m    932\u001b[0m \u001b[1;33m\u001b[0m\u001b[0m\n\u001b[0;32m    933\u001b[0m             \u001b[1;32mwith\u001b[0m \u001b[0mself\u001b[0m\u001b[1;33m.\u001b[0m\u001b[0m_backend\u001b[0m\u001b[1;33m.\u001b[0m\u001b[0mretrieval_context\u001b[0m\u001b[1;33m(\u001b[0m\u001b[1;33m)\u001b[0m\u001b[1;33m:\u001b[0m\u001b[1;33m\u001b[0m\u001b[1;33m\u001b[0m\u001b[0m\n\u001b[1;32m--> 934\u001b[1;33m                 \u001b[0mself\u001b[0m\u001b[1;33m.\u001b[0m\u001b[0mretrieve\u001b[0m\u001b[1;33m(\u001b[0m\u001b[1;33m)\u001b[0m\u001b[1;33m\u001b[0m\u001b[1;33m\u001b[0m\u001b[0m\n\u001b[0m\u001b[0;32m    935\u001b[0m             \u001b[1;31m# Make sure that we get a last message telling us we are done\u001b[0m\u001b[1;33m\u001b[0m\u001b[1;33m\u001b[0m\u001b[1;33m\u001b[0m\u001b[0m\n\u001b[0;32m    936\u001b[0m             \u001b[0melapsed_time\u001b[0m \u001b[1;33m=\u001b[0m \u001b[0mtime\u001b[0m\u001b[1;33m.\u001b[0m\u001b[0mtime\u001b[0m\u001b[1;33m(\u001b[0m\u001b[1;33m)\u001b[0m \u001b[1;33m-\u001b[0m \u001b[0mself\u001b[0m\u001b[1;33m.\u001b[0m\u001b[0m_start_time\u001b[0m\u001b[1;33m\u001b[0m\u001b[1;33m\u001b[0m\u001b[0m\n",
      "\u001b[1;32m~\\AppData\\Local\\Continuum\\anaconda3\\lib\\site-packages\\joblib\\parallel.py\u001b[0m in \u001b[0;36mretrieve\u001b[1;34m(self)\u001b[0m\n\u001b[0;32m    831\u001b[0m             \u001b[1;32mtry\u001b[0m\u001b[1;33m:\u001b[0m\u001b[1;33m\u001b[0m\u001b[1;33m\u001b[0m\u001b[0m\n\u001b[0;32m    832\u001b[0m                 \u001b[1;32mif\u001b[0m \u001b[0mgetattr\u001b[0m\u001b[1;33m(\u001b[0m\u001b[0mself\u001b[0m\u001b[1;33m.\u001b[0m\u001b[0m_backend\u001b[0m\u001b[1;33m,\u001b[0m \u001b[1;34m'supports_timeout'\u001b[0m\u001b[1;33m,\u001b[0m \u001b[1;32mFalse\u001b[0m\u001b[1;33m)\u001b[0m\u001b[1;33m:\u001b[0m\u001b[1;33m\u001b[0m\u001b[1;33m\u001b[0m\u001b[0m\n\u001b[1;32m--> 833\u001b[1;33m                     \u001b[0mself\u001b[0m\u001b[1;33m.\u001b[0m\u001b[0m_output\u001b[0m\u001b[1;33m.\u001b[0m\u001b[0mextend\u001b[0m\u001b[1;33m(\u001b[0m\u001b[0mjob\u001b[0m\u001b[1;33m.\u001b[0m\u001b[0mget\u001b[0m\u001b[1;33m(\u001b[0m\u001b[0mtimeout\u001b[0m\u001b[1;33m=\u001b[0m\u001b[0mself\u001b[0m\u001b[1;33m.\u001b[0m\u001b[0mtimeout\u001b[0m\u001b[1;33m)\u001b[0m\u001b[1;33m)\u001b[0m\u001b[1;33m\u001b[0m\u001b[1;33m\u001b[0m\u001b[0m\n\u001b[0m\u001b[0;32m    834\u001b[0m                 \u001b[1;32melse\u001b[0m\u001b[1;33m:\u001b[0m\u001b[1;33m\u001b[0m\u001b[1;33m\u001b[0m\u001b[0m\n\u001b[0;32m    835\u001b[0m                     \u001b[0mself\u001b[0m\u001b[1;33m.\u001b[0m\u001b[0m_output\u001b[0m\u001b[1;33m.\u001b[0m\u001b[0mextend\u001b[0m\u001b[1;33m(\u001b[0m\u001b[0mjob\u001b[0m\u001b[1;33m.\u001b[0m\u001b[0mget\u001b[0m\u001b[1;33m(\u001b[0m\u001b[1;33m)\u001b[0m\u001b[1;33m)\u001b[0m\u001b[1;33m\u001b[0m\u001b[1;33m\u001b[0m\u001b[0m\n",
      "\u001b[1;32m~\\AppData\\Local\\Continuum\\anaconda3\\lib\\site-packages\\joblib\\_parallel_backends.py\u001b[0m in \u001b[0;36mwrap_future_result\u001b[1;34m(future, timeout)\u001b[0m\n\u001b[0;32m    519\u001b[0m         AsyncResults.get from multiprocessing.\"\"\"\n\u001b[0;32m    520\u001b[0m         \u001b[1;32mtry\u001b[0m\u001b[1;33m:\u001b[0m\u001b[1;33m\u001b[0m\u001b[1;33m\u001b[0m\u001b[0m\n\u001b[1;32m--> 521\u001b[1;33m             \u001b[1;32mreturn\u001b[0m \u001b[0mfuture\u001b[0m\u001b[1;33m.\u001b[0m\u001b[0mresult\u001b[0m\u001b[1;33m(\u001b[0m\u001b[0mtimeout\u001b[0m\u001b[1;33m=\u001b[0m\u001b[0mtimeout\u001b[0m\u001b[1;33m)\u001b[0m\u001b[1;33m\u001b[0m\u001b[1;33m\u001b[0m\u001b[0m\n\u001b[0m\u001b[0;32m    522\u001b[0m         \u001b[1;32mexcept\u001b[0m \u001b[0mLokyTimeoutError\u001b[0m\u001b[1;33m:\u001b[0m\u001b[1;33m\u001b[0m\u001b[1;33m\u001b[0m\u001b[0m\n\u001b[0;32m    523\u001b[0m             \u001b[1;32mraise\u001b[0m \u001b[0mTimeoutError\u001b[0m\u001b[1;33m(\u001b[0m\u001b[1;33m)\u001b[0m\u001b[1;33m\u001b[0m\u001b[1;33m\u001b[0m\u001b[0m\n",
      "\u001b[1;32m~\\AppData\\Local\\Continuum\\anaconda3\\lib\\concurrent\\futures\\_base.py\u001b[0m in \u001b[0;36mresult\u001b[1;34m(self, timeout)\u001b[0m\n\u001b[0;32m    430\u001b[0m                 \u001b[1;32mraise\u001b[0m \u001b[0mCancelledError\u001b[0m\u001b[1;33m(\u001b[0m\u001b[1;33m)\u001b[0m\u001b[1;33m\u001b[0m\u001b[1;33m\u001b[0m\u001b[0m\n\u001b[0;32m    431\u001b[0m             \u001b[1;32melif\u001b[0m \u001b[0mself\u001b[0m\u001b[1;33m.\u001b[0m\u001b[0m_state\u001b[0m \u001b[1;33m==\u001b[0m \u001b[0mFINISHED\u001b[0m\u001b[1;33m:\u001b[0m\u001b[1;33m\u001b[0m\u001b[1;33m\u001b[0m\u001b[0m\n\u001b[1;32m--> 432\u001b[1;33m                 \u001b[1;32mreturn\u001b[0m \u001b[0mself\u001b[0m\u001b[1;33m.\u001b[0m\u001b[0m__get_result\u001b[0m\u001b[1;33m(\u001b[0m\u001b[1;33m)\u001b[0m\u001b[1;33m\u001b[0m\u001b[1;33m\u001b[0m\u001b[0m\n\u001b[0m\u001b[0;32m    433\u001b[0m             \u001b[1;32melse\u001b[0m\u001b[1;33m:\u001b[0m\u001b[1;33m\u001b[0m\u001b[1;33m\u001b[0m\u001b[0m\n\u001b[0;32m    434\u001b[0m                 \u001b[1;32mraise\u001b[0m \u001b[0mTimeoutError\u001b[0m\u001b[1;33m(\u001b[0m\u001b[1;33m)\u001b[0m\u001b[1;33m\u001b[0m\u001b[1;33m\u001b[0m\u001b[0m\n",
      "\u001b[1;32m~\\AppData\\Local\\Continuum\\anaconda3\\lib\\concurrent\\futures\\_base.py\u001b[0m in \u001b[0;36m__get_result\u001b[1;34m(self)\u001b[0m\n\u001b[0;32m    382\u001b[0m     \u001b[1;32mdef\u001b[0m \u001b[0m__get_result\u001b[0m\u001b[1;33m(\u001b[0m\u001b[0mself\u001b[0m\u001b[1;33m)\u001b[0m\u001b[1;33m:\u001b[0m\u001b[1;33m\u001b[0m\u001b[1;33m\u001b[0m\u001b[0m\n\u001b[0;32m    383\u001b[0m         \u001b[1;32mif\u001b[0m \u001b[0mself\u001b[0m\u001b[1;33m.\u001b[0m\u001b[0m_exception\u001b[0m\u001b[1;33m:\u001b[0m\u001b[1;33m\u001b[0m\u001b[1;33m\u001b[0m\u001b[0m\n\u001b[1;32m--> 384\u001b[1;33m             \u001b[1;32mraise\u001b[0m \u001b[0mself\u001b[0m\u001b[1;33m.\u001b[0m\u001b[0m_exception\u001b[0m\u001b[1;33m\u001b[0m\u001b[1;33m\u001b[0m\u001b[0m\n\u001b[0m\u001b[0;32m    385\u001b[0m         \u001b[1;32melse\u001b[0m\u001b[1;33m:\u001b[0m\u001b[1;33m\u001b[0m\u001b[1;33m\u001b[0m\u001b[0m\n\u001b[0;32m    386\u001b[0m             \u001b[1;32mreturn\u001b[0m \u001b[0mself\u001b[0m\u001b[1;33m.\u001b[0m\u001b[0m_result\u001b[0m\u001b[1;33m\u001b[0m\u001b[1;33m\u001b[0m\u001b[0m\n",
      "\u001b[1;31mAttributeError\u001b[0m: 'list' object has no attribute 'lower'"
     ]
    }
   ],
   "source": [
    "# Set sys path for importing util modules\n",
    "import sys\n",
    "sys.path.append('../src/')\n",
    "\n",
    "import pandas as pd\n",
    "import re\n",
    "import pickle\n",
    "#import cookValidate as cookVal\n",
    "from HFresh import hfreshUtil as hfutil \n",
    "from nltk.stem import WordNetLemmatizer\n",
    "from sklearn.model_selection import train_test_split\n",
    "\n",
    "'''\n",
    "This method calculates and displays the best set of parameters for the sklearn Pipeline\n",
    "It also shows the accuracy of the classifier on the validation set\n",
    "Arguments:\n",
    "pipeline <=> sklearn Pipeline with TfidfVectorizer and LogisticRegression\n",
    "parameters <=> Parameters for initializing Pipeline components\n",
    "Returns:\n",
    "bestParameters <=> Best set of parameters for sklearn Pipeline after retraining with feedback data\n",
    "'''\n",
    "def getBestParameters(pipeline,parameters):\n",
    "\n",
    "    traindf = df    \n",
    "    \n",
    "    # Remove everything but alphabets and then Lemmatize. Also remove extra whitespace\n",
    "    #traindf['properIngredients'] = [' '.join([WordNetLemmatizer().lemmatize(re.sub('[^A-Za-z]', ' ', line)) for line in lists]).strip() for lists in traindf['Ingredient']]       \n",
    "    # Create learning matrix\n",
    "    X, y = traindf['ingredients_list'], traindf['score'].as_matrix()\n",
    "    # Split into Training and Validation Sets\n",
    "    Xtrain, Xvalidate, ytrain, yValidate = train_test_split(X, y, train_size=0.7)\n",
    "    # Initialize gridSearchClassifierCV Classifier with parameters\n",
    "    gridSearchClassifier = hfutil.getGridSearchCv(pipeline, parameters)\n",
    "    # Fit/train the gridSearchClassifier on Training Set\n",
    "    gridSearchClassifier.fit(Xtrain, ytrain)\n",
    "    # Make predictions on validation set and calculate best set of parameters  \n",
    "    ##>  bestParameters,predictions=cookVal.validate(parameters, gridSearchClassifier, Xvalidate, yValidate)\n",
    "    # Initialize DataFrame for feedback loop\n",
    "    valdf = pd.DataFrame(index = Xvalidate.index.values)\n",
    "    # Add ingredients column\n",
    "    valdf=valdf.join(Xvalidate)\n",
    "    # Add correct cuisine\n",
    "    valdf[\"score\"] = yValidate\n",
    "    # Add predictions column\n",
    "    valdf[\"pred_cuisine\"] = predictions\n",
    "    # Add check column. This column would be false for incorrect predictions\n",
    "    valdf[\"check\"] = valdf.pred_cuisine==valdf.cuisine\n",
    "    # Store DataFrame for feedback\n",
    "    valdf.to_csv(\"./feedback.csv\")\n",
    "    # Create joint DataFrame to incorporate feedback data. As of now, this will only have the ingredients and cuisine columns from the training set\n",
    "    ultimateTraindf = pd.DataFrame(index = Xtrain.index.values)\n",
    "    ultimateTraindf=ultimateTraindf.join(Xtrain)\n",
    "    ultimateTraindf[\"score\"] = ytrain\n",
    "    # Calculate best set of parameters after retraining with feedback data. Make predictions on validation set \n",
    "    ##> bestParameters,predictions = cookVal.feedback(pipeline,parameters,ultimateTraindf)\n",
    "    # Return best set of parameters\n",
    "    return bestParameters\n",
    "    \n",
    "def main():\n",
    "    \n",
    "    # Get Pipeline components\n",
    "    pipeline = hfutil.getPipeline()\n",
    "    \n",
    "    # Get parameter options for Pipeline components\n",
    "    parameters = hfutil.getParameters()\n",
    "    \n",
    "    print(parameters)\n",
    "    \n",
    "    # Get best set of parameters and evaluate validation set accuracy\n",
    "    bestParameters = getBestParameters(pipeline,parameters)\n",
    "\n",
    "    # Save best parameter set\n",
    "    res = open(\"./res.txt\", 'w')\n",
    "    res.write ('best parameters set:\\n')\n",
    "    \n",
    "    for paramName in sorted(parameters.keys()):\n",
    "        res.write('\\t %s: %r\\n' % (paramName, bestParameters[paramName]))\n",
    "    \n",
    "    #pickle.dump(bestParameters,open(\"../../picks/bestParams.pkl\",\"wb\"))\n",
    "    \n",
    "if __name__ == '__main__':\n",
    "    main()"
   ]
  }
 ],
 "metadata": {
  "kernelspec": {
   "display_name": "Python 3",
   "language": "python",
   "name": "python3"
  },
  "language_info": {
   "codemirror_mode": {
    "name": "ipython",
    "version": 3
   },
   "file_extension": ".py",
   "mimetype": "text/x-python",
   "name": "python",
   "nbconvert_exporter": "python",
   "pygments_lexer": "ipython3",
   "version": "3.7.3"
  }
 },
 "nbformat": 4,
 "nbformat_minor": 2
}
