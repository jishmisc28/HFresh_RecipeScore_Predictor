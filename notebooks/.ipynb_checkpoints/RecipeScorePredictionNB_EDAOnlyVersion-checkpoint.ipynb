{
 "cells": [
  {
   "cell_type": "markdown",
   "metadata": {},
   "source": [
    "## Exploratory Data Analysis - Notebook"
   ]
  },
  {
   "cell_type": "code",
   "execution_count": 1,
   "metadata": {},
   "outputs": [],
   "source": [
    "import sys\n",
    "sys.path.append('../src/')\n",
    "\n",
    "import nltk\n",
    "import numpy as np\n",
    "import pandas as pd\n",
    "\n",
    "import matplotlib.pyplot as plt\n",
    "import seaborn as sns\n",
    "import joblib\n",
    "\n",
    "import statsmodels.api as sm\n",
    "import statsmodels.formula.api as smf\n",
    "\n",
    "from HFresh import dataUtil as datautil\n",
    "\n",
    "from sklearn.linear_model import LinearRegression\n",
    "from sklearn.ensemble import RandomForestRegressor\n",
    "from sklearn.ensemble import GradientBoostingRegressor\n",
    "from sklearn.metrics import r2_score\n",
    "\n",
    "from sklearn.pipeline import make_pipeline\n",
    "from sklearn.preprocessing import StandardScaler, PolynomialFeatures\n",
    "\n",
    "from sklearn import preprocessing, decomposition, svm, model_selection\n",
    "from sklearn.model_selection import KFold, cross_val_score, train_test_split"
   ]
  },
  {
   "cell_type": "markdown",
   "metadata": {},
   "source": [
    "#### Load dataset"
   ]
  },
  {
   "cell_type": "code",
   "execution_count": 2,
   "metadata": {},
   "outputs": [
    {
     "name": "stdout",
     "output_type": "stream",
     "text": [
      "We have recipe ingredients data in ingredients.csv\n",
      "We have recipe score data in recipe_ratings.csv\n",
      "................\n",
      "unique recipe codes in ingredients.csv:  257\n",
      "unique recipe codes in rating.csv:  222\n",
      "................\n",
      "grouping the ingridients dataset on recipe code and recipe name.. \n",
      "adding a feature column as ingredients_list and ingredients_count.. \n",
      "................\n",
      "unique recipe codes in merged and unfied dataset:  222\n",
      "created a merged dataset with shape:  (222, 7)\n",
      "................\n",
      "unique count in the unified dataset\n",
      "Recipe_code          222\n",
      "Recipe_name          217\n",
      "price                154\n",
      "score                147\n",
      "ingredients_count     25\n",
      "dtype: int64\n",
      "................\n",
      "There are 43 records in the unified dataset where target variable (score) are NaNs\n",
      "We will save these 43 records in separate dataframe to be used for prediction in later steps\n"
     ]
    }
   ],
   "source": [
    "path = 'C:\\\\Users\\\\abhranshu\\\\Desktop\\\\Incubating\\\\Ab_ML_Notebooks\\\\HFresh_Submission'\n",
    "\n",
    "print (\"We have recipe ingredients data in ingredients.csv\")\n",
    "print (\"We have recipe score data in recipe_ratings.csv\")\n",
    "ingredients = pd.read_csv(path+'/data/ingredients.csv')\n",
    "rating = pd.read_csv(path+'/data/recipe_ratings.csv')\n",
    "print (\"................\")\n",
    "print (\"unique recipe codes in ingredients.csv: \",ingredients.Recipe_code.nunique())\n",
    "print (\"unique recipe codes in rating.csv: \",rating.Recipe_code.nunique())\n",
    "\n",
    "\n",
    "print (\"................\")\n",
    "print (\"grouping the ingridients dataset on recipe code and recipe name.. \")\n",
    "print (\"adding a feature column as ingredients_list and ingredients_count.. \")\n",
    "ingredients_grp = ingredients.groupby(['Recipe_code','Recipe_name'])['Ingredient'].apply(list).reset_index(name='ingredients_list')\n",
    "ingredients_grp['ing_list2'] = ingredients_grp.ingredients_list.astype('str').str.split(',')\n",
    "ingredients_grp['ingredients_count'] = ingredients_grp.ing_list2.str.len()\n",
    "ingredients_grp.drop(['ing_list2'], axis=1,inplace=True)\n",
    "\n",
    "print (\"................\")\n",
    "print (\"unique recipe codes in merged and unfied dataset: \",ingredients_grp.Recipe_code.nunique())    \n",
    "\n",
    "data = pd.merge(ingredients_grp,rating,how='left',on='Recipe_code')    \n",
    "print (\"created a merged dataset with shape: \",data.shape)\n",
    "print (\"................\")\n",
    "print (\"unique count in the unified dataset\")\n",
    "print(data[['Recipe_code', 'Recipe_name', 'score', 'price','ingredients_count']].apply(pd.Series.nunique).sort_values(ascending=False))\n",
    "print (\"................\")\n",
    "print (\"There are %r records in the unified dataset where target variable (score) are NaNs\"%(len(data.loc[data.new==1.0])))\n",
    "print (\"We will save these %r records in separate dataframe to be used for prediction in later steps\"%(len(data.loc[data.new==1.0])))"
   ]
  },
  {
   "cell_type": "markdown",
   "metadata": {},
   "source": [
    "### Few notes on the Predictive Modelling approach undertaken "
   ]
  },
  {
   "cell_type": "markdown",
   "metadata": {},
   "source": [
    "1. We have created a Train set containing ~80% samples, Validation set containing ~20% samples and a Test set for 43 records containing new==1.0\n",
    "2. We wil use Train dataset to train our model using best parameters through GridSearch and Validation set to validate the model's accuracy. \n",
    "3. Finally, we will use Test dataset to generate the submission file containing prediction for unseen data."
   ]
  },
  {
   "cell_type": "markdown",
   "metadata": {},
   "source": [
    "### EDA steps on the dataset"
   ]
  },
  {
   "cell_type": "code",
   "execution_count": 3,
   "metadata": {},
   "outputs": [
    {
     "name": "stdout",
     "output_type": "stream",
     "text": [
      "shape of the dataset:  (222, 7)\n"
     ]
    },
    {
     "data": {
      "text/html": [
       "<div>\n",
       "<style scoped>\n",
       "    .dataframe tbody tr th:only-of-type {\n",
       "        vertical-align: middle;\n",
       "    }\n",
       "\n",
       "    .dataframe tbody tr th {\n",
       "        vertical-align: top;\n",
       "    }\n",
       "\n",
       "    .dataframe thead th {\n",
       "        text-align: right;\n",
       "    }\n",
       "</style>\n",
       "<table border=\"1\" class=\"dataframe\">\n",
       "  <thead>\n",
       "    <tr style=\"text-align: right;\">\n",
       "      <th></th>\n",
       "      <th>Recipe_code</th>\n",
       "      <th>Recipe_name</th>\n",
       "      <th>ingredients_list</th>\n",
       "      <th>ingredients_count</th>\n",
       "      <th>score</th>\n",
       "      <th>new</th>\n",
       "      <th>price</th>\n",
       "    </tr>\n",
       "  </thead>\n",
       "  <tbody>\n",
       "    <tr>\n",
       "      <th>0</th>\n",
       "      <td>R10030</td>\n",
       "      <td>Teriyaki Chicken with Coconut Rice and Bok Choy</td>\n",
       "      <td>[Chicken, Breasts, Rice, Basmati, Garlic, Peel...</td>\n",
       "      <td>11</td>\n",
       "      <td>2.37</td>\n",
       "      <td>0</td>\n",
       "      <td>7.28</td>\n",
       "    </tr>\n",
       "    <tr>\n",
       "      <th>1</th>\n",
       "      <td>R10082</td>\n",
       "      <td>Rosemary-Walnut Crusted Chicken</td>\n",
       "      <td>[Chicken, Breasts, Potato, Russet, Lettuce, Sp...</td>\n",
       "      <td>26</td>\n",
       "      <td>4.94</td>\n",
       "      <td>0</td>\n",
       "      <td>8.10</td>\n",
       "    </tr>\n",
       "    <tr>\n",
       "      <th>2</th>\n",
       "      <td>R10118</td>\n",
       "      <td>UK Chicken with Mustard Sauce NOT FOR FAMILY</td>\n",
       "      <td>[Chicken, Breasts, Potato, Yukon B, Onion, Red...</td>\n",
       "      <td>26</td>\n",
       "      <td>4.96</td>\n",
       "      <td>0</td>\n",
       "      <td>7.80</td>\n",
       "    </tr>\n",
       "    <tr>\n",
       "      <th>3</th>\n",
       "      <td>R10123B</td>\n",
       "      <td>Smoky Chicken Fajitas with Charred Pepper and ...</td>\n",
       "      <td>[Chicken, Stir Fry, Onion, Red, Bell Pepper, R...</td>\n",
       "      <td>16</td>\n",
       "      <td>2.11</td>\n",
       "      <td>0</td>\n",
       "      <td>7.73</td>\n",
       "    </tr>\n",
       "    <tr>\n",
       "      <th>4</th>\n",
       "      <td>R10125</td>\n",
       "      <td>Do the Dukkah Chicken with Sweet Potatoes and ...</td>\n",
       "      <td>[Chicken, Breasts, Spice, Dukkah - \"Nutty Sesa...</td>\n",
       "      <td>18</td>\n",
       "      <td>1.36</td>\n",
       "      <td>0</td>\n",
       "      <td>9.92</td>\n",
       "    </tr>\n",
       "  </tbody>\n",
       "</table>\n",
       "</div>"
      ],
      "text/plain": [
       "  Recipe_code                                        Recipe_name  \\\n",
       "0      R10030    Teriyaki Chicken with Coconut Rice and Bok Choy   \n",
       "1      R10082                    Rosemary-Walnut Crusted Chicken   \n",
       "2      R10118       UK Chicken with Mustard Sauce NOT FOR FAMILY   \n",
       "3     R10123B  Smoky Chicken Fajitas with Charred Pepper and ...   \n",
       "4      R10125  Do the Dukkah Chicken with Sweet Potatoes and ...   \n",
       "\n",
       "                                    ingredients_list  ingredients_count  \\\n",
       "0  [Chicken, Breasts, Rice, Basmati, Garlic, Peel...                 11   \n",
       "1  [Chicken, Breasts, Potato, Russet, Lettuce, Sp...                 26   \n",
       "2  [Chicken, Breasts, Potato, Yukon B, Onion, Red...                 26   \n",
       "3  [Chicken, Stir Fry, Onion, Red, Bell Pepper, R...                 16   \n",
       "4  [Chicken, Breasts, Spice, Dukkah - \"Nutty Sesa...                 18   \n",
       "\n",
       "   score  new  price  \n",
       "0   2.37    0   7.28  \n",
       "1   4.94    0   8.10  \n",
       "2   4.96    0   7.80  \n",
       "3   2.11    0   7.73  \n",
       "4   1.36    0   9.92  "
      ]
     },
     "execution_count": 3,
     "metadata": {},
     "output_type": "execute_result"
    }
   ],
   "source": [
    "df = data\n",
    "print (\"shape of the dataset: \",df.shape)\n",
    "df.head()"
   ]
  },
  {
   "cell_type": "markdown",
   "metadata": {},
   "source": [
    "how many unique elements present in the obtained dataset?"
   ]
  },
  {
   "cell_type": "code",
   "execution_count": 4,
   "metadata": {},
   "outputs": [
    {
     "data": {
      "text/plain": [
       "Recipe_code          222\n",
       "Recipe_name          217\n",
       "price                154\n",
       "score                147\n",
       "ingredients_count     25\n",
       "dtype: int64"
      ]
     },
     "metadata": {},
     "output_type": "display_data"
    }
   ],
   "source": [
    "display(df[['Recipe_code', 'Recipe_name', 'score', 'price','ingredients_count']].apply(pd.Series.nunique).sort_values(ascending=False))"
   ]
  },
  {
   "cell_type": "markdown",
   "metadata": {},
   "source": [
    "Checking for nulls present in the train dataset"
   ]
  },
  {
   "cell_type": "code",
   "execution_count": 5,
   "metadata": {},
   "outputs": [
    {
     "data": {
      "text/plain": [
       "Recipe_code           0\n",
       "Recipe_name           0\n",
       "ingredients_list      0\n",
       "ingredients_count     0\n",
       "score                43\n",
       "new                   0\n",
       "price                 0\n",
       "dtype: int64"
      ]
     },
     "execution_count": 5,
     "metadata": {},
     "output_type": "execute_result"
    }
   ],
   "source": [
    "df.isnull().sum()"
   ]
  },
  {
   "cell_type": "code",
   "execution_count": 6,
   "metadata": {},
   "outputs": [
    {
     "name": "stdout",
     "output_type": "stream",
     "text": [
      "There are 43 records with score as null \n",
      "................\n",
      "let's see if these are the records with new=1.0\n",
      "let's ballpark these records to use in prediction\n",
      "................\n",
      "we will create a separate dataframe for these 43 records\n",
      "The remaining 179 recipes will be used as our EDA dataframe\n"
     ]
    }
   ],
   "source": [
    "print(\"There are %r records with score as null \"%(df['score'].isnull().sum()))\n",
    "print (\"................\")\n",
    "print(\"let's see if these are the records with new=1.0\")\n",
    "df.loc[df['score'].isnull()]['new'].nunique()\n",
    "\n",
    "print(\"let's ballpark these records to use in prediction\")\n",
    "print (\"................\")\n",
    "print(\"we will create a separate dataframe for these %r records\"%(df['score'].isnull().sum()))\n",
    "\n",
    "df_pred = df.loc[df.new==1.0]\n",
    "df = df.loc[df.new==0.0]\n",
    "\n",
    "print(\"The remaining %r recipes will be used as our EDA dataframe\"%(len(df['score'])))"
   ]
  },
  {
   "cell_type": "markdown",
   "metadata": {},
   "source": [
    "null imputation steps on the data - can skip this step!"
   ]
  },
  {
   "cell_type": "code",
   "execution_count": 7,
   "metadata": {},
   "outputs": [
    {
     "name": "stdout",
     "output_type": "stream",
     "text": [
      "null imputation on the obtained dataset should not yeild anything as we have no nulls present \n",
      "................\n",
      "we can skip this step.. \n",
      ".................................. \n"
     ]
    },
    {
     "data": {
      "text/plain": [
       "Recipe_code          0\n",
       "Recipe_name          0\n",
       "ingredients_list     0\n",
       "score                0\n",
       "price                0\n",
       "ingredients_count    0\n",
       "new                  0\n",
       "dtype: int64"
      ]
     },
     "execution_count": 7,
     "metadata": {},
     "output_type": "execute_result"
    }
   ],
   "source": [
    "print (\"null imputation on the obtained dataset should not yeild anything as we have no nulls present \")\n",
    "print (\"................\")\n",
    "print (\"we can skip this step.. \")\n",
    "print (\".................................. \")\n",
    "data_cat = df.select_dtypes(include=['object']).fillna(method ='ffill')\n",
    "data_num_float = df.select_dtypes(include=[np.float64]).fillna(0)\n",
    "data_num_int = df.select_dtypes(include=[np.int64]).fillna(0)\n",
    "df = pd.concat([data_cat,data_num_float,data_num_int],axis=1)\n",
    "df.isnull().sum()"
   ]
  },
  {
   "cell_type": "code",
   "execution_count": 8,
   "metadata": {},
   "outputs": [
    {
     "name": "stdout",
     "output_type": "stream",
     "text": [
      "maximum score in the dataset is 5.9\n",
      "minimum score in the dataset is 0.72\n",
      "maximum price in the dataset is 9.97\n"
     ]
    }
   ],
   "source": [
    "print(\"maximum score in the dataset is %r\" %(df['score'].max()))\n",
    "print(\"minimum score in the dataset is %r\" %(df['score'].min()))\n",
    "print(\"maximum price in the dataset is %r\" %(df['price'].max()))"
   ]
  },
  {
   "cell_type": "markdown",
   "metadata": {},
   "source": [
    "let's see the normal distribution of recipe score"
   ]
  },
  {
   "cell_type": "code",
   "execution_count": 9,
   "metadata": {},
   "outputs": [
    {
     "name": "stdout",
     "output_type": "stream",
     "text": [
      "Skewness: 0.490653\n",
      "Kurtosis: -0.528273\n"
     ]
    },
    {
     "data": {
      "image/png": "[encoded data removed]",
      "text/plain": [
       "<Figure size 432x288 with 1 Axes>"
      ]
     },
     "metadata": {
      "needs_background": "light"
     },
     "output_type": "display_data"
    }
   ],
   "source": [
    "sns.distplot(df.score)\n",
    "\n",
    "#skewness and kurtosis\n",
    "print(\"Skewness: %f\" % df['score'].skew())\n",
    "print(\"Kurtosis: %f\" % df['score'].kurt())"
   ]
  },
  {
   "cell_type": "markdown",
   "metadata": {},
   "source": [
    "1. Normal distribution peaks around score of 2; looks like lot of recipes are scored low.\n",
    "2. The distribution is right skewed and Skewness score of 0.49 shows this pattern.\n",
    "3. Kurtosis describes the extreme values in tails. It is actually the measure of outliers present in the distribution."
   ]
  },
  {
   "cell_type": "markdown",
   "metadata": {},
   "source": [
    "let's look at distribution of the number of ingredients found in a recipe"
   ]
  },
  {
   "cell_type": "code",
   "execution_count": 10,
   "metadata": {},
   "outputs": [
    {
     "data": {
      "text/plain": [
       "Text(0, 0.5, '#Recipes containing this numer of ingredients')"
      ]
     },
     "execution_count": 10,
     "metadata": {},
     "output_type": "execute_result"
    },
    {
     "data": {
      "image/png": "[encoded data removed]",
      "text/plain": [
       "<Figure size 432x288 with 1 Axes>"
      ]
     },
     "metadata": {
      "needs_background": "light"
     },
     "output_type": "display_data"
    }
   ],
   "source": [
    "ax = sns.countplot(x=\"ingredients_count\",data=df)\n",
    "#plt.figure(figsize=(16,4))\n",
    "plt.title('Histogram: distribution of the number of ingredients found in a recipe')\n",
    "plt.xlabel('#Ingredients in a recipe')\n",
    "plt.ylabel('#Recipes containing this numer of ingredients')\n",
    "#df.groupby(['ingredients_count']).size().to_frame('count').reset_index().sort_values(['count'],ascending=False)"
   ]
  },
  {
   "cell_type": "markdown",
   "metadata": {},
   "source": [
    "1. Look's like there are more recipes with low ingridient count.\n",
    "2. There are only few recipes with ingridient count as high as 35 and above.\n",
    "3. Let's plot normal distribution to unerstand the case more clear"
   ]
  },
  {
   "cell_type": "code",
   "execution_count": 11,
   "metadata": {},
   "outputs": [
    {
     "name": "stdout",
     "output_type": "stream",
     "text": [
      "mean of #Ingredients in a recipe is:  17.145251396648046\n",
      "std deviation of #Ingredients in a recipe is:  7.205734086724231\n",
      "................\n",
      "Skewness: 0.490653\n",
      "Kurtosis: -0.528273\n"
     ]
    },
    {
     "data": {
      "image/png": "[encoded data removed]",
      "text/plain": [
       "<Figure size 432x288 with 1 Axes>"
      ]
     },
     "metadata": {
      "needs_background": "light"
     },
     "output_type": "display_data"
    }
   ],
   "source": [
    "sns.distplot(df.ingredients_count,norm_hist=True)\n",
    "plt.title('Normal distribution of the number of ingredients found in a recipe')\n",
    "plt.xlabel('#Ingredients in a recipe')\n",
    "#df.Recipe_name.nunique()\n",
    "print(\"mean of #Ingredients in a recipe is: \",df.ingredients_count.mean())\n",
    "print(\"std deviation of #Ingredients in a recipe is: \",df.ingredients_count.std())   \n",
    "print (\"................\")\n",
    "#skewness and kurtosis\n",
    "print(\"Skewness: %f\" % df['score'].skew())\n",
    "print(\"Kurtosis: %f\" % df['score'].kurt())"
   ]
  },
  {
   "cell_type": "markdown",
   "metadata": {},
   "source": [
    "1. From distribution it is evident that there are more recipes with low ingridient count with mean of 17 std. deviation of 7.\n",
    "2. The distribution is right skewed and Skewness score of 0.49 shows this pattern.\n",
    "3. Kurtosis describes the extreme values in tails. It is actually the measure of outliers present in the distribution."
   ]
  },
  {
   "cell_type": "markdown",
   "metadata": {},
   "source": [
    "This looks like candidate for the log transformation of the ingredients_count variable"
   ]
  },
  {
   "cell_type": "code",
   "execution_count": 12,
   "metadata": {},
   "outputs": [
    {
     "data": {
      "text/plain": [
       "<matplotlib.axes._subplots.AxesSubplot at 0x1c8d7405198>"
      ]
     },
     "execution_count": 12,
     "metadata": {},
     "output_type": "execute_result"
    },
    {
     "data": {
      "image/png": "[encoded data removed]",
      "text/plain": [
       "<Figure size 432x288 with 1 Axes>"
      ]
     },
     "metadata": {
      "needs_background": "light"
     },
     "output_type": "display_data"
    }
   ],
   "source": [
    "y_trans = np.log1p(df.ingredients_count)\n",
    "sns.distplot(y_trans,norm_hist=True)"
   ]
  },
  {
   "cell_type": "markdown",
   "metadata": {},
   "source": [
    "let's try scatter plot to see the distribution of ingredients_count with price along the score to see if high amount \n",
    "of ingridients guarantee higher price?"
   ]
  },
  {
   "cell_type": "code",
   "execution_count": 13,
   "metadata": {},
   "outputs": [
    {
     "data": {
      "image/png": "[encoded data removed]",
      "text/plain": [
       "<Figure size 432x288 with 1 Axes>"
      ]
     },
     "metadata": {
      "needs_background": "light"
     },
     "output_type": "display_data"
    }
   ],
   "source": [
    "#ax = sns.scatterplot(x=\"ingredients_count\", y=y_trans,hue=\"price\",data=df)\n",
    "ax = sns.scatterplot(x=\"ingredients_count\", y=\"price\",hue=\"score\",data=df)"
   ]
  },
  {
   "cell_type": "code",
   "execution_count": 14,
   "metadata": {},
   "outputs": [
    {
     "data": {
      "image/png": "[encoded data removed]",
      "text/plain": [
       "<Figure size 432x288 with 1 Axes>"
      ]
     },
     "metadata": {
      "needs_background": "light"
     },
     "output_type": "display_data"
    }
   ],
   "source": [
    "ax = sns.scatterplot(x=\"score\", y=\"ingredients_count\", hue=\"price\",data=df)"
   ]
  },
  {
   "cell_type": "markdown",
   "metadata": {},
   "source": [
    "1. Looks like there are few recipes with ingridient count as high as 50 and above.\n",
    "2. In general most recipes have ingridient counts clustered between 10 to 20.\n",
    "3. It shows high qunatities of ingridient does not guarantee high recipe score."
   ]
  },
  {
   "cell_type": "markdown",
   "metadata": {},
   "source": [
    "let's find out the most frequently used ingredients in overall recipes with top 10 scores"
   ]
  },
  {
   "cell_type": "code",
   "execution_count": 15,
   "metadata": {},
   "outputs": [
    {
     "data": {
      "text/plain": [
       "(array([ 0,  1,  2,  3,  4,  5,  6,  7,  8,  9, 10, 11, 12, 13, 14, 15, 16,\n",
       "        17, 18, 19, 20, 21, 22, 23, 24, 25, 26, 27, 28, 29, 30, 31, 32, 33,\n",
       "        34, 35, 36, 37, 38, 39, 40, 41, 42, 43, 44, 45, 46, 47, 48, 49, 50,\n",
       "        51, 52, 53, 54, 55, 56, 57, 58]),\n",
       " <a list of 59 Text xticklabel objects>)"
      ]
     },
     "execution_count": 15,
     "metadata": {},
     "output_type": "execute_result"
    },
    {
     "data": {
      "image/png": "[encoded data removed]",
      "text/plain": [
       "<Figure size 432x288 with 1 Axes>"
      ]
     },
     "metadata": {
      "needs_background": "light"
     },
     "output_type": "display_data"
    }
   ],
   "source": [
    "df_top100 = df.sort_values(by='score',ascending=False)[:10]\n",
    "ingridients_top100 = [item for sublist in df_top100['ingredients_list'].tolist() for item in sublist]\n",
    "\n",
    "fdist = nltk.FreqDist(ingridients_top100)\n",
    "df_fdist = pd.DataFrame.from_dict(fdist, orient='index')\n",
    "df_fdist.reset_index(inplace=True)\n",
    "df_fdist.columns = ['ingredient','frequency']\n",
    "df_fdist.head()\n",
    "\n",
    "g=sns.barplot(x='ingredient',y='frequency',data=df_fdist)\n",
    "#plt.figure(figsize=(16,4))\n",
    "plt.title('Histogram: distribution of the number of ingredients found in a recipe')\n",
    "plt.xlabel('#Ingredients in a recipe')\n",
    "plt.ylabel('#Recipes containing this numer of ingredients')\n",
    "# Rotate x-labels\n",
    "plt.xticks(rotation=-45)"
   ]
  },
  {
   "cell_type": "code",
   "execution_count": 16,
   "metadata": {},
   "outputs": [
    {
     "data": {
      "text/html": [
       "<div>\n",
       "<style scoped>\n",
       "    .dataframe tbody tr th:only-of-type {\n",
       "        vertical-align: middle;\n",
       "    }\n",
       "\n",
       "    .dataframe tbody tr th {\n",
       "        vertical-align: top;\n",
       "    }\n",
       "\n",
       "    .dataframe thead th {\n",
       "        text-align: right;\n",
       "    }\n",
       "</style>\n",
       "<table border=\"1\" class=\"dataframe\">\n",
       "  <thead>\n",
       "    <tr style=\"text-align: right;\">\n",
       "      <th></th>\n",
       "      <th>ingredient</th>\n",
       "      <th>frequency</th>\n",
       "    </tr>\n",
       "  </thead>\n",
       "  <tbody>\n",
       "    <tr>\n",
       "      <th>9</th>\n",
       "      <td>Green Beans</td>\n",
       "      <td>7</td>\n",
       "    </tr>\n",
       "    <tr>\n",
       "      <th>28</th>\n",
       "      <td>Rosemary</td>\n",
       "      <td>7</td>\n",
       "    </tr>\n",
       "    <tr>\n",
       "      <th>13</th>\n",
       "      <td>Vinegar, Balsamic</td>\n",
       "      <td>7</td>\n",
       "    </tr>\n",
       "    <tr>\n",
       "      <th>11</th>\n",
       "      <td>Stock Concentrate, Beef</td>\n",
       "      <td>6</td>\n",
       "    </tr>\n",
       "    <tr>\n",
       "      <th>4</th>\n",
       "      <td>Sour Cream</td>\n",
       "      <td>5</td>\n",
       "    </tr>\n",
       "    <tr>\n",
       "      <th>6</th>\n",
       "      <td>Vinegar, White Wine</td>\n",
       "      <td>5</td>\n",
       "    </tr>\n",
       "    <tr>\n",
       "      <th>7</th>\n",
       "      <td>Garlic, Peeled</td>\n",
       "      <td>5</td>\n",
       "    </tr>\n",
       "  </tbody>\n",
       "</table>\n",
       "</div>"
      ],
      "text/plain": [
       "                 ingredient  frequency\n",
       "9               Green Beans          7\n",
       "28                 Rosemary          7\n",
       "13        Vinegar, Balsamic          7\n",
       "11  Stock Concentrate, Beef          6\n",
       "4                Sour Cream          5\n",
       "6       Vinegar, White Wine          5\n",
       "7            Garlic, Peeled          5"
      ]
     },
     "execution_count": 16,
     "metadata": {},
     "output_type": "execute_result"
    }
   ],
   "source": [
    "df_fdist.sort_values(by='frequency',ascending=False)[:7]"
   ]
  },
  {
   "cell_type": "markdown",
   "metadata": {},
   "source": [
    "And the most frequently used ingredients in overall recipes"
   ]
  },
  {
   "cell_type": "code",
   "execution_count": 17,
   "metadata": {},
   "outputs": [
    {
     "name": "stdout",
     "output_type": "stream",
     "text": [
      "Garlic, Peeled;92\n",
      "Lemon;53\n",
      "Scallions;45\n",
      "Cheese, Shredded Parmesan;44\n",
      "Shallot;43\n"
     ]
    }
   ],
   "source": [
    "df_all_ingr = df.sort_values(by='score',ascending=False)\n",
    "ingridients_all = [item for sublist in df_all_ingr['ingredients_list'].tolist() for item in sublist]\n",
    "\n",
    "fdist = nltk.FreqDist(ingridients_all)\n",
    "for word, frequency in fdist.most_common(5):\n",
    "    print(u'{};{}'.format(word, frequency))"
   ]
  },
  {
   "cell_type": "markdown",
   "metadata": {},
   "source": [
    "Regression plot of price vs Score"
   ]
  },
  {
   "cell_type": "code",
   "execution_count": 19,
   "metadata": {},
   "outputs": [
    {
     "data": {
      "image/png": "[encoded data removed]",
      "text/plain": [
       "<Figure size 432x288 with 1 Axes>"
      ]
     },
     "metadata": {
      "needs_background": "light"
     },
     "output_type": "display_data"
    }
   ],
   "source": [
    "ax = sns.regplot(x=\"price\", y=\"score\", data=df,scatter_kws={\"s\": 80},order=1, ci=None, truncate=True)"
   ]
  },
  {
   "cell_type": "markdown",
   "metadata": {},
   "source": [
    "Regression plot of ingredients_count vs log tranform of score"
   ]
  },
  {
   "cell_type": "code",
   "execution_count": 20,
   "metadata": {},
   "outputs": [
    {
     "data": {
      "image/png": "[encoded data removed]",
      "text/plain": [
       "<Figure size 432x288 with 1 Axes>"
      ]
     },
     "metadata": {
      "needs_background": "light"
     },
     "output_type": "display_data"
    }
   ],
   "source": [
    "df_norm = df.loc[~(df.ingredients_count>=35.0)]\n",
    "y_trans = np.log1p(df_norm.score)\n",
    "ax = sns.regplot(x=\"ingredients_count\", y=y_trans, data=df_norm,scatter_kws={\"s\": 80},order=1, ci=None, truncate=True)"
   ]
  },
  {
   "cell_type": "markdown",
   "metadata": {},
   "source": [
    "__feature engineering__ aka adding new features based on EDA: \n",
    "1. combination of price and ingridient_count could be a good interaction feature\n",
    "2. combination of new and price could be another good interaction feature\n",
    "3. combination of new and ingridient_count could be another good interaction feature"
   ]
  },
  {
   "cell_type": "markdown",
   "metadata": {},
   "source": [
    "__Create a Train set containing ~80% samples, Validation set containing ~20% samples and a Test set for 43 records containing new==1.0__\n",
    "\n",
    "For this section we will load and work on the training set"
   ]
  },
  {
   "cell_type": "code",
   "execution_count": 24,
   "metadata": {},
   "outputs": [
    {
     "name": "stdout",
     "output_type": "stream",
     "text": [
      "................\n",
      "grouping the ingridients dataset on recipe code and recipe name.. \n",
      "adding a feature column as ingredients_list and ingredients_count.. \n",
      "................\n",
      "unique recipe codes in ingredients.csv:  257\n",
      "unique recipe codes in rating.csv:  222\n",
      "unique recipe codes in merged and unfied dataset:  222\n",
      "created a merged dataset with shape:  (222, 6)\n",
      "................\n",
      "unique count in the unified dataset\n",
      "Recipe_code          222\n",
      "Recipe_name          217\n",
      "price                154\n",
      "score                147\n",
      "ingredients_count     25\n",
      "dtype: int64\n",
      "................\n",
      "There are 43 records in the unified dataset where target variable (score) are NaNs\n",
      "................\n",
      "applying OHE on the dataset\n",
      "................\n",
      "Creating a train, validation and test set csv files..\n",
      "created feature matrix X with shape: (143, 220)\n",
      "created target labels with shape: (143,)\n",
      "................\n",
      "................\n",
      "Our obtained R2 score is 81.36%\n"
     ]
    }
   ],
   "source": [
    "#load training dataset\n",
    "df = datautil.preProcessData(path)\n",
    "\n",
    "#creating new features basis EDA\n",
    "new_features = []\n",
    "new_features.append('priceXing_count')\n",
    "df['priceXing_count'] = df['price']*df['ingredients_count']\n",
    "\n",
    "constant = 'Recipe_code'\n",
    "dependentVar = 'score'\n",
    "\n",
    "y = df.loc[:,dependentVar]\n",
    "X = df.drop([dependentVar,constant],1)\n",
    "#y = np.log1p(y)\n",
    "print (\"created feature matrix X with shape:\",(X.shape))\n",
    "print (\"created target labels with shape:\",(y.shape))\n",
    "\n",
    "rf = GradientBoostingRegressor(random_state=0, max_depth=4)\n",
    "rf.fit(X,y)\n",
    "\n",
    "featured_R2 = r2_score(y,rf.fit(X,y).predict(X))\n",
    "featured_R2\n",
    "print (\"................\")\n",
    "print (\"................\")\n",
    "print(\"Our obtained R2 score is %.2f%%\"%(featured_R2*100))"
   ]
  },
  {
   "cell_type": "markdown",
   "metadata": {},
   "source": []
  },
  {
   "cell_type": "markdown",
   "metadata": {},
   "source": [
    "#### Next, we will do EDA stpes for building Model"
   ]
  },
  {
   "cell_type": "markdown",
   "metadata": {},
   "source": [
    "__let's delve into feature importance from model__\n",
    "1. we will fit a linear regression model and generate the summary to see the coef of different recipes\n",
    "2. basis the coef obtained we will compare models by R square to see which features are more important\n",
    "3. basis the feature immportance we will create a optimized dataset for our training model fitting"
   ]
  },
  {
   "cell_type": "markdown",
   "metadata": {},
   "source": [
    "1. Generate LR model summary and save obtained coef into a dataframe"
   ]
  },
  {
   "cell_type": "code",
   "execution_count": 25,
   "metadata": {},
   "outputs": [
    {
     "name": "stderr",
     "output_type": "stream",
     "text": [
      "C:\\Users\\abhranshu\\AppData\\Local\\Continuum\\anaconda3\\lib\\site-packages\\numpy\\core\\fromnumeric.py:2389: FutureWarning: Method .ptp is deprecated and will be removed in a future version. Use numpy.ptp instead.\n",
      "  return ptp(axis=axis, out=out, **kwargs)\n",
      "C:\\Users\\abhranshu\\AppData\\Local\\Continuum\\anaconda3\\lib\\site-packages\\statsmodels\\regression\\linear_model.py:1648: RuntimeWarning: divide by zero encountered in true_divide\n",
      "  return 1 - (np.divide(self.nobs - self.k_constant, self.df_resid)\n",
      "C:\\Users\\abhranshu\\AppData\\Local\\Continuum\\anaconda3\\lib\\site-packages\\statsmodels\\regression\\linear_model.py:1649: RuntimeWarning: invalid value encountered in double_scalars\n",
      "  * (1 - self.rsquared))\n",
      "C:\\Users\\abhranshu\\AppData\\Local\\Continuum\\anaconda3\\lib\\site-packages\\statsmodels\\regression\\linear_model.py:1665: RuntimeWarning: divide by zero encountered in double_scalars\n",
      "  return self.ssr/self.df_resid\n",
      "C:\\Users\\abhranshu\\AppData\\Local\\Continuum\\anaconda3\\lib\\site-packages\\statsmodels\\regression\\linear_model.py:1578: RuntimeWarning: divide by zero encountered in double_scalars\n",
      "  return np.dot(wresid, wresid) / self.df_resid\n",
      "C:\\Users\\abhranshu\\AppData\\Local\\Continuum\\anaconda3\\lib\\site-packages\\statsmodels\\base\\model.py:1376: RuntimeWarning: invalid value encountered in multiply\n",
      "  cov_p = self.normalized_cov_params * scale\n",
      "C:\\Users\\abhranshu\\AppData\\Local\\Continuum\\anaconda3\\lib\\site-packages\\scipy\\stats\\_distn_infrastructure.py:877: RuntimeWarning: invalid value encountered in greater\n",
      "  return (self.a < x) & (x < self.b)\n",
      "C:\\Users\\abhranshu\\AppData\\Local\\Continuum\\anaconda3\\lib\\site-packages\\scipy\\stats\\_distn_infrastructure.py:877: RuntimeWarning: invalid value encountered in less\n",
      "  return (self.a < x) & (x < self.b)\n",
      "C:\\Users\\abhranshu\\AppData\\Local\\Continuum\\anaconda3\\lib\\site-packages\\scipy\\stats\\_distn_infrastructure.py:1831: RuntimeWarning: invalid value encountered in less_equal\n",
      "  cond2 = cond0 & (x <= self.a)\n"
     ]
    },
    {
     "data": {
      "text/html": [
       "<table class=\"simpletable\">\n",
       "<caption>OLS Regression Results</caption>\n",
       "<tr>\n",
       "  <th>Dep. Variable:</th>          <td>score</td>      <th>  R-squared:         </th> <td>   1.000</td>\n",
       "</tr>\n",
       "<tr>\n",
       "  <th>Model:</th>                   <td>OLS</td>       <th>  Adj. R-squared:    </th> <td>     nan</td>\n",
       "</tr>\n",
       "<tr>\n",
       "  <th>Method:</th>             <td>Least Squares</td>  <th>  F-statistic:       </th> <td>   0.000</td>\n",
       "</tr>\n",
       "<tr>\n",
       "  <th>Date:</th>             <td>Tue, 19 Nov 2019</td> <th>  Prob (F-statistic):</th>  <td>   nan</td> \n",
       "</tr>\n",
       "<tr>\n",
       "  <th>Time:</th>                 <td>14:06:07</td>     <th>  Log-Likelihood:    </th> <td>  4082.3</td>\n",
       "</tr>\n",
       "<tr>\n",
       "  <th>No. Observations:</th>      <td>   143</td>      <th>  AIC:               </th> <td>  -7879.</td>\n",
       "</tr>\n",
       "<tr>\n",
       "  <th>Df Residuals:</th>          <td>     0</td>      <th>  BIC:               </th> <td>  -7455.</td>\n",
       "</tr>\n",
       "<tr>\n",
       "  <th>Df Model:</th>              <td>   142</td>      <th>                     </th>     <td> </td>   \n",
       "</tr>\n",
       "<tr>\n",
       "  <th>Covariance Type:</th>      <td>nonrobust</td>    <th>                     </th>     <td> </td>   \n",
       "</tr>\n",
       "</table>\n",
       "<table class=\"simpletable\">\n",
       "<tr>\n",
       "                                                         <td></td>                                                           <th>coef</th>     <th>std err</th>      <th>t</th>      <th>P>|t|</th>  <th>[0.025</th>    <th>0.975]</th>  \n",
       "</tr>\n",
       "<tr>\n",
       "  <th>const</th>                                                                                                          <td>    2.1838</td> <td>      inf</td> <td>        0</td> <td>   nan</td> <td>      nan</td> <td>      nan</td>\n",
       "</tr>\n",
       "<tr>\n",
       "  <th>ingredients_count</th>                                                                                              <td>    0.1468</td> <td>      inf</td> <td>        0</td> <td>   nan</td> <td>      nan</td> <td>      nan</td>\n",
       "</tr>\n",
       "<tr>\n",
       "  <th>new</th>                                                                                                            <td>-4.086e-13</td> <td>      inf</td> <td>       -0</td> <td>   nan</td> <td>      nan</td> <td>      nan</td>\n",
       "</tr>\n",
       "<tr>\n",
       "  <th>price</th>                                                                                                          <td>    0.2762</td> <td>      inf</td> <td>        0</td> <td>   nan</td> <td>      nan</td> <td>      nan</td>\n",
       "</tr>\n",
       "<tr>\n",
       "  <th>Recipe_name_AU Zucchini and Parmesan Topped Chicken</th>                                                            <td> -3.37e-14</td> <td>      inf</td> <td>       -0</td> <td>   nan</td> <td>      nan</td> <td>      nan</td>\n",
       "</tr>\n",
       "<tr>\n",
       "  <th>Recipe_name_Apple turkey burger</th>                                                                                <td>   -2.1357</td> <td>      inf</td> <td>       -0</td> <td>   nan</td> <td>      nan</td> <td>      nan</td>\n",
       "</tr>\n",
       "<tr>\n",
       "  <th>Recipe_name_Apricot-Chili Glazed Chicken with Roasted Potatoes and Carrots</th>                                     <td>   -1.1649</td> <td>      inf</td> <td>       -0</td> <td>   nan</td> <td>      nan</td> <td>      nan</td>\n",
       "</tr>\n",
       "<tr>\n",
       "  <th>Recipe_name_Aritchoke Risotto ONLY VEGGIE</th>                                                                      <td>   -1.9996</td> <td>      inf</td> <td>       -0</td> <td>   nan</td> <td>      nan</td> <td>      nan</td>\n",
       "</tr>\n",
       "<tr>\n",
       "  <th>Recipe_name_Autumn Risotto with Butternut Squash, Sage, and Pepitas</th>                                            <td>-3.292e-14</td> <td>      inf</td> <td>       -0</td> <td>   nan</td> <td>      nan</td> <td>      nan</td>\n",
       "</tr>\n",
       "<tr>\n",
       "  <th>Recipe_name_BBQ Pork Meatloaf with Cabbage and Sweet Potato</th>                                                    <td>   -0.3867</td> <td>      inf</td> <td>       -0</td> <td>   nan</td> <td>      nan</td> <td>      nan</td>\n",
       "</tr>\n",
       "<tr>\n",
       "  <th>Recipe_name_BBQ Pulled Pork Flatbread</th>                                                                          <td>   -2.2875</td> <td>      inf</td> <td>       -0</td> <td>   nan</td> <td>      nan</td> <td>      nan</td>\n",
       "</tr>\n",
       "<tr>\n",
       "  <th>Recipe_name_BE Pearl Barley Salad</th>                                                                              <td>-7.591e-15</td> <td>      inf</td> <td>       -0</td> <td>   nan</td> <td>      nan</td> <td>      nan</td>\n",
       "</tr>\n",
       "<tr>\n",
       "  <th>Recipe_name_Baked Parmesan Chicken Nuggets with Green Beans and Oven Fries</th>                                     <td>   -0.8429</td> <td>      inf</td> <td>       -0</td> <td>   nan</td> <td>      nan</td> <td>      nan</td>\n",
       "</tr>\n",
       "<tr>\n",
       "  <th>Recipe_name_Baked Veggie Pasta Parmesan</th>                                                                        <td>   -0.9620</td> <td>      inf</td> <td>       -0</td> <td>   nan</td> <td>      nan</td> <td>      nan</td>\n",
       "</tr>\n",
       "<tr>\n",
       "  <th>Recipe_name_Balsamic Fig Chicken - Summer</th>                                                                      <td>    0.5961</td> <td>      inf</td> <td>        0</td> <td>   nan</td> <td>      nan</td> <td>      nan</td>\n",
       "</tr>\n",
       "<tr>\n",
       "  <th>Recipe_name_Balsamic glazed pork with couscous - Dinner to Lunch</th>                                               <td>   -1.9332</td> <td>      inf</td> <td>       -0</td> <td>   nan</td> <td>      nan</td> <td>      nan</td>\n",
       "</tr>\n",
       "<tr>\n",
       "  <th>Recipe_name_Bangers and Mash with Thyme Gravy</th>                                                                  <td>   -1.3546</td> <td>      inf</td> <td>       -0</td> <td>   nan</td> <td>      nan</td> <td>      nan</td>\n",
       "</tr>\n",
       "<tr>\n",
       "  <th>Recipe_name_Beef And Pepper Tostadas</th>                                                                           <td>-2.818e-15</td> <td>      inf</td> <td>       -0</td> <td>   nan</td> <td>      nan</td> <td>      nan</td>\n",
       "</tr>\n",
       "<tr>\n",
       "  <th>Recipe_name_Beef Fajitas with Kiwi Salsa</th>                                                                       <td>   -1.5663</td> <td>      inf</td> <td>       -0</td> <td>   nan</td> <td>      nan</td> <td>      nan</td>\n",
       "</tr>\n",
       "<tr>\n",
       "  <th>Recipe_name_Bell Pepper and Black Bean Quesadillas</th>                                                             <td> 3.168e-15</td> <td>      inf</td> <td>        0</td> <td>   nan</td> <td>      nan</td> <td>      nan</td>\n",
       "</tr>\n",
       "<tr>\n",
       "  <th>Recipe_name_Blackened Fish Sandwiches</th>                                                                          <td>-4.332e-15</td> <td>      inf</td> <td>       -0</td> <td>   nan</td> <td>      nan</td> <td>      nan</td>\n",
       "</tr>\n",
       "<tr>\n",
       "  <th>Recipe_name_Breakfast Sausage Flatbread with Eggs</th>                                                              <td>   -3.1470</td> <td>      inf</td> <td>       -0</td> <td>   nan</td> <td>      nan</td> <td>      nan</td>\n",
       "</tr>\n",
       "<tr>\n",
       "  <th>Recipe_name_Brioche Shrimp Rolls</th>                                                                               <td>-3.647e-15</td> <td>      inf</td> <td>       -0</td> <td>   nan</td> <td>      nan</td> <td>      nan</td>\n",
       "</tr>\n",
       "<tr>\n",
       "  <th>Recipe_name_Brown Sugar Pork</th>                                                                                   <td> 1.629e-15</td> <td>      inf</td> <td>        0</td> <td>   nan</td> <td>      nan</td> <td>      nan</td>\n",
       "</tr>\n",
       "<tr>\n",
       "  <th>Recipe_name_Bulgogi Tacos</th>                                                                                      <td> 1.239e-14</td> <td>      inf</td> <td>        0</td> <td>   nan</td> <td>      nan</td> <td>      nan</td>\n",
       "</tr>\n",
       "<tr>\n",
       "  <th>Recipe_name_Burger With Garlic-Rosemary Mayo And Lemon Butter Corn</th>                                             <td> 5.443e-16</td> <td>      inf</td> <td>        0</td> <td>   nan</td> <td>      nan</td> <td>      nan</td>\n",
       "</tr>\n",
       "<tr>\n",
       "  <th>Recipe_name_Caramelized Onion Shepherd's Pie</th>                                                                   <td>    0.3136</td> <td>      inf</td> <td>        0</td> <td>   nan</td> <td>      nan</td> <td>      nan</td>\n",
       "</tr>\n",
       "<tr>\n",
       "  <th>Recipe_name_Caramelized Pineapple Burgers with Slaw</th>                                                            <td>   -0.4839</td> <td>      inf</td> <td>       -0</td> <td>   nan</td> <td>      nan</td> <td>      nan</td>\n",
       "</tr>\n",
       "<tr>\n",
       "  <th>Recipe_name_Caramelized Veggie Skewers</th>                                                                         <td>    0.0993</td> <td>      inf</td> <td>        0</td> <td>   nan</td> <td>      nan</td> <td>      nan</td>\n",
       "</tr>\n",
       "<tr>\n",
       "  <th>Recipe_name_Cauliflower Pancetta Mac & Cheese</th>                                                                  <td>   -1.9756</td> <td>      inf</td> <td>       -0</td> <td>   nan</td> <td>      nan</td> <td>      nan</td>\n",
       "</tr>\n",
       "<tr>\n",
       "  <th>Recipe_name_Char-Broiled BBQ Chicken with Summery Potato & Green Bean Salad</th>                                    <td>-3.263e-15</td> <td>      inf</td> <td>       -0</td> <td>   nan</td> <td>      nan</td> <td>      nan</td>\n",
       "</tr>\n",
       "<tr>\n",
       "  <th>Recipe_name_Chard & Wild Mushroom Penne</th>                                                                        <td>   -2.2380</td> <td>      inf</td> <td>       -0</td> <td>   nan</td> <td>      nan</td> <td>      nan</td>\n",
       "</tr>\n",
       "<tr>\n",
       "  <th>Recipe_name_Cheddar Frico Burger</th>                                                                               <td>   -0.4553</td> <td>      inf</td> <td>       -0</td> <td>   nan</td> <td>      nan</td> <td>      nan</td>\n",
       "</tr>\n",
       "<tr>\n",
       "  <th>Recipe_name_Cheesy Chicken Enchilada Casserole</th>                                                                 <td>   -1.9189</td> <td>      inf</td> <td>       -0</td> <td>   nan</td> <td>      nan</td> <td>      nan</td>\n",
       "</tr>\n",
       "<tr>\n",
       "  <th>Recipe_name_Cheesy Meatball Skillet</th>                                                                            <td> 3.761e-15</td> <td>      inf</td> <td>        0</td> <td>   nan</td> <td>      nan</td> <td>      nan</td>\n",
       "</tr>\n",
       "<tr>\n",
       "  <th>Recipe_name_Cheesy meatball bake</th>                                                                               <td>   -0.1724</td> <td>      inf</td> <td>       -0</td> <td>   nan</td> <td>      nan</td> <td>      nan</td>\n",
       "</tr>\n",
       "<tr>\n",
       "  <th>Recipe_name_Cherry-Balsamic Glazed Pork Tenderloin with Fingerlings and Broccoli</th>                               <td>    1.4377</td> <td>      inf</td> <td>        0</td> <td>   nan</td> <td>      nan</td> <td>      nan</td>\n",
       "</tr>\n",
       "<tr>\n",
       "  <th>Recipe_name_Chicken & Poblano Tacos with Tomatillo Salsa and Lime Crema</th>                                        <td> 9.057e-16</td> <td>      inf</td> <td>        0</td> <td>   nan</td> <td>      nan</td> <td>      nan</td>\n",
       "</tr>\n",
       "<tr>\n",
       "  <th>Recipe_name_Chicken Mozzarella Flatbread With Sriracha-Honey Buffalo Sauce And Ranch Sauce</th>                     <td>   -2.4120</td> <td>      inf</td> <td>       -0</td> <td>   nan</td> <td>      nan</td> <td>      nan</td>\n",
       "</tr>\n",
       "<tr>\n",
       "  <th>Recipe_name_Chicken Paillard</th>                                                                                   <td>    0.1343</td> <td>      inf</td> <td>        0</td> <td>   nan</td> <td>      nan</td> <td>      nan</td>\n",
       "</tr>\n",
       "<tr>\n",
       "  <th>Recipe_name_Chicken and Pineapple Quesadillas</th>                                                                  <td>-2.116e-15</td> <td>      inf</td> <td>       -0</td> <td>   nan</td> <td>      nan</td> <td>      nan</td>\n",
       "</tr>\n",
       "<tr>\n",
       "  <th>Recipe_name_Chili Cashew Shrimp with Brown Rice</th>                                                                <td>   -0.9152</td> <td>      inf</td> <td>       -0</td> <td>   nan</td> <td>      nan</td> <td>      nan</td>\n",
       "</tr>\n",
       "<tr>\n",
       "  <th>Recipe_name_Chimichurri Burger</th>                                                                                 <td>-3.926e-16</td> <td>      inf</td> <td>       -0</td> <td>   nan</td> <td>      nan</td> <td>      nan</td>\n",
       "</tr>\n",
       "<tr>\n",
       "  <th>Recipe_name_Chorizo, Avocado, and Egg sandwich with Potato Hash</th>                                                <td> 1.695e-15</td> <td>      inf</td> <td>        0</td> <td>   nan</td> <td>      nan</td> <td>      nan</td>\n",
       "</tr>\n",
       "<tr>\n",
       "  <th>Recipe_name_Creamy Linguine with Wild Mushrooms and Tarragon</th>                                                   <td> 2.131e-15</td> <td>      inf</td> <td>        0</td> <td>   nan</td> <td>      nan</td> <td>      nan</td>\n",
       "</tr>\n",
       "<tr>\n",
       "  <th>Recipe_name_Creamy Tagliatelle with Mushrooms and Tarragon</th>                                                     <td> 3.521e-15</td> <td>      inf</td> <td>        0</td> <td>   nan</td> <td>      nan</td> <td>      nan</td>\n",
       "</tr>\n",
       "<tr>\n",
       "  <th>Recipe_name_Crispy Chipotle Shrimp Tacos</th>                                                                       <td>   -1.8831</td> <td>      inf</td> <td>       -0</td> <td>   nan</td> <td>      nan</td> <td>      nan</td>\n",
       "</tr>\n",
       "<tr>\n",
       "  <th>Recipe_name_Crispy Spiced Tilapia Sandwich with Red Cabbage and Cucumber Slaw</th>                                  <td>   -0.6034</td> <td>      inf</td> <td>       -0</td> <td>   nan</td> <td>      nan</td> <td>      nan</td>\n",
       "</tr>\n",
       "<tr>\n",
       "  <th>Recipe_name_Crispy southwest tilapia</th>                                                                           <td> 3.821e-16</td> <td>      inf</td> <td>        0</td> <td>   nan</td> <td>      nan</td> <td>      nan</td>\n",
       "</tr>\n",
       "<tr>\n",
       "  <th>Recipe_name_Cuban Pork with Warm Confetti Salad NOT IN FAMILY</th>                                                  <td>   -2.2890</td> <td>      inf</td> <td>       -0</td> <td>   nan</td> <td>      nan</td> <td>      nan</td>\n",
       "</tr>\n",
       "<tr>\n",
       "  <th>Recipe_name_Cuban Rice with Halloumi, Poblano, and Salsa Verde</th>                                                 <td>   -3.1861</td> <td>      inf</td> <td>       -0</td> <td>   nan</td> <td>      nan</td> <td>      nan</td>\n",
       "</tr>\n",
       "<tr>\n",
       "  <th>Recipe_name_Cumin Beef Stir Fry</th>                                                                                <td>   -2.5967</td> <td>      inf</td> <td>       -0</td> <td>   nan</td> <td>      nan</td> <td>      nan</td>\n",
       "</tr>\n",
       "<tr>\n",
       "  <th>Recipe_name_Dinner and Lunch Chili and Burrito</th>                                                                 <td>    1.3656</td> <td>      inf</td> <td>        0</td> <td>   nan</td> <td>      nan</td> <td>      nan</td>\n",
       "</tr>\n",
       "<tr>\n",
       "  <th>Recipe_name_Do the Dukkah Chicken with Sweet Potatoes and Snap Peas</th>                                            <td>   -2.5922</td> <td>      inf</td> <td>       -0</td> <td>   nan</td> <td>      nan</td> <td>      nan</td>\n",
       "</tr>\n",
       "<tr>\n",
       "  <th>Recipe_name_Duck Breast with Nectarine-Balsamic Sauce, Lemony Rice, and Watercress Salad</th>                       <td>   -0.4091</td> <td>      inf</td> <td>       -0</td> <td>   nan</td> <td>      nan</td> <td>      nan</td>\n",
       "</tr>\n",
       "<tr>\n",
       "  <th>Recipe_name_Eastern Carolina Pulled Chicken</th>                                                                    <td> 1.205e-14</td> <td>      inf</td> <td>        0</td> <td>   nan</td> <td>      nan</td> <td>      nan</td>\n",
       "</tr>\n",
       "<tr>\n",
       "  <th>Recipe_name_Edamame and Soba Noodle Bowl</th>                                                                       <td>-7.625e-16</td> <td>      inf</td> <td>       -0</td> <td>   nan</td> <td>      nan</td> <td>      nan</td>\n",
       "</tr>\n",
       "<tr>\n",
       "  <th>Recipe_name_Fatoush Salad with Crispy Chickpeas and Chips</th>                                                      <td>-4.485e-16</td> <td>      inf</td> <td>       -0</td> <td>   nan</td> <td>      nan</td> <td>      nan</td>\n",
       "</tr>\n",
       "<tr>\n",
       "  <th>Recipe_name_Flaming Pork Fajitas</th>                                                                               <td>   -2.6878</td> <td>      inf</td> <td>       -0</td> <td>   nan</td> <td>      nan</td> <td>      nan</td>\n",
       "</tr>\n",
       "<tr>\n",
       "  <th>Recipe_name_Freekeh & Brussels Sprouts Salad</th>                                                                   <td>-3.042e-15</td> <td>      inf</td> <td>       -0</td> <td>   nan</td> <td>      nan</td> <td>      nan</td>\n",
       "</tr>\n",
       "<tr>\n",
       "  <th>Recipe_name_Fussiloni al Forno</th>                                                                                 <td>   -1.0872</td> <td>      inf</td> <td>       -0</td> <td>   nan</td> <td>      nan</td> <td>      nan</td>\n",
       "</tr>\n",
       "<tr>\n",
       "  <th>Recipe_name_Gnocchi with Chorizo Bolognese</th>                                                                     <td> 2.745e-15</td> <td>      inf</td> <td>        0</td> <td>   nan</td> <td>      nan</td> <td>      nan</td>\n",
       "</tr>\n",
       "<tr>\n",
       "  <th>Recipe_name_Grilled Chicken with Potato and Summer Squash Hash</th>                                                 <td> -6.59e-15</td> <td>      inf</td> <td>       -0</td> <td>   nan</td> <td>      nan</td> <td>      nan</td>\n",
       "</tr>\n",
       "<tr>\n",
       "  <th>Recipe_name_Grilled Tuscan Chicken & Broccoli with Spicy Lemon Pasta</th>                                           <td> 8.714e-16</td> <td>      inf</td> <td>        0</td> <td>   nan</td> <td>      nan</td> <td>      nan</td>\n",
       "</tr>\n",
       "<tr>\n",
       "  <th>Recipe_name_Grilled Zucchini and Asparagus Farro Bowl</th>                                                          <td>   -2.3682</td> <td>      inf</td> <td>       -0</td> <td>   nan</td> <td>      nan</td> <td>      nan</td>\n",
       "</tr>\n",
       "<tr>\n",
       "  <th>Recipe_name_HDP Chicken with Farro Caprese</th>                                                                     <td> 1.158e-15</td> <td>      inf</td> <td>        0</td> <td>   nan</td> <td>      nan</td> <td>      nan</td>\n",
       "</tr>\n",
       "<tr>\n",
       "  <th>Recipe_name_Halloumi Jumble with Chimichurri</th>                                                                   <td>   -2.7162</td> <td>      inf</td> <td>       -0</td> <td>   nan</td> <td>      nan</td> <td>      nan</td>\n",
       "</tr>\n",
       "<tr>\n",
       "  <th>Recipe_name_Hawaiian Pork Burgers with Salad</th>                                                                   <td>   -0.1936</td> <td>      inf</td> <td>       -0</td> <td>   nan</td> <td>      nan</td> <td>      nan</td>\n",
       "</tr>\n",
       "<tr>\n",
       "  <th>Recipe_name_Herb-Crusted Pork Tenderloin</th>                                                                       <td>   -0.3238</td> <td>      inf</td> <td>       -0</td> <td>   nan</td> <td>      nan</td> <td>      nan</td>\n",
       "</tr>\n",
       "<tr>\n",
       "  <th>Recipe_name_Hoisin Seared Ribeye with Scallion Sesame Pesto</th>                                                    <td>   -1.5248</td> <td>      inf</td> <td>       -0</td> <td>   nan</td> <td>      nan</td> <td>      nan</td>\n",
       "</tr>\n",
       "<tr>\n",
       "  <th>Recipe_name_Hoisin-Glazed Meatballs with Green Beans and Rice</th>                                                  <td>   -2.3524</td> <td>      inf</td> <td>       -0</td> <td>   nan</td> <td>      nan</td> <td>      nan</td>\n",
       "</tr>\n",
       "<tr>\n",
       "  <th>Recipe_name_Hoisin-Sriracha Grilled Salmon with Jasmine Rice, Grilled Baby Bok Choy, and Sriracha Butter</th>       <td>   -3.2166</td> <td>      inf</td> <td>       -0</td> <td>   nan</td> <td>      nan</td> <td>      nan</td>\n",
       "</tr>\n",
       "<tr>\n",
       "  <th>Recipe_name_Homestyle Meatloaf</th>                                                                                 <td>   -0.4076</td> <td>      inf</td> <td>       -0</td> <td>   nan</td> <td>      nan</td> <td>      nan</td>\n",
       "</tr>\n",
       "<tr>\n",
       "  <th>Recipe_name_Honey-Ginger Glazed Chicken</th>                                                                        <td>    0.4972</td> <td>      inf</td> <td>        0</td> <td>   nan</td> <td>      nan</td> <td>      nan</td>\n",
       "</tr>\n",
       "<tr>\n",
       "  <th>Recipe_name_Italian Ciabatta Burgers with Caramelized Onion, Mozzarella, and Sweet-and-Tangy Arugula Salad (f)</th> <td> -7.23e-16</td> <td>      inf</td> <td>       -0</td> <td>   nan</td> <td>      nan</td> <td>      nan</td>\n",
       "</tr>\n",
       "<tr>\n",
       "  <th>Recipe_name_Jerk Chicken Skewers with Peach and Curried Rice</th>                                                   <td> 8.878e-16</td> <td>      inf</td> <td>        0</td> <td>   nan</td> <td>      nan</td> <td>      nan</td>\n",
       "</tr>\n",
       "<tr>\n",
       "  <th>Recipe_name_Lemony Shrimp Linguine NOT FOR FAM</th>                                                                 <td>   -2.1765</td> <td>      inf</td> <td>       -0</td> <td>   nan</td> <td>      nan</td> <td>      nan</td>\n",
       "</tr>\n",
       "<tr>\n",
       "  <th>Recipe_name_Lobster Ravioli and Zucchini in Creamy Tomato Sauce</th>                                                <td>   -1.6007</td> <td>      inf</td> <td>       -0</td> <td>   nan</td> <td>      nan</td> <td>      nan</td>\n",
       "</tr>\n",
       "<tr>\n",
       "  <th>Recipe_name_Lobster Ravioli with Maitake Mushrooms</th>                                                             <td>   -2.2497</td> <td>      inf</td> <td>       -0</td> <td>   nan</td> <td>      nan</td> <td>      nan</td>\n",
       "</tr>\n",
       "<tr>\n",
       "  <th>Recipe_name_Lobster Ravioli with Shrimp and Heirloom Tomatoes</th>                                                  <td>   -1.2805</td> <td>      inf</td> <td>       -0</td> <td>   nan</td> <td>      nan</td> <td>      nan</td>\n",
       "</tr>\n",
       "<tr>\n",
       "  <th>Recipe_name_Macaroni a la Vodka</th>                                                                                <td>   -2.0548</td> <td>      inf</td> <td>       -0</td> <td>   nan</td> <td>      nan</td> <td>      nan</td>\n",
       "</tr>\n",
       "<tr>\n",
       "  <th>Recipe_name_Maple Glazed Duck with Blood Orange Salad</th>                                                          <td> 2.596e-15</td> <td>      inf</td> <td>        0</td> <td>   nan</td> <td>      nan</td> <td>      nan</td>\n",
       "</tr>\n",
       "<tr>\n",
       "  <th>Recipe_name_Maple glazed chicken</th>                                                                               <td>    0.1200</td> <td>      inf</td> <td>        0</td> <td>   nan</td> <td>      nan</td> <td>      nan</td>\n",
       "</tr>\n",
       "<tr>\n",
       "  <th>Recipe_name_Meatloaf Burger</th>                                                                                    <td>-5.941e-16</td> <td>      inf</td> <td>       -0</td> <td>   nan</td> <td>      nan</td> <td>      nan</td>\n",
       "</tr>\n",
       "<tr>\n",
       "  <th>Recipe_name_Meatloaf with Chive Mashed Potato</th>                                                                  <td>    0.0089</td> <td>      inf</td> <td>        0</td> <td>   nan</td> <td>      nan</td> <td>      nan</td>\n",
       "</tr>\n",
       "<tr>\n",
       "  <th>Recipe_name_Mediterranean Gyro bowl</th>                                                                            <td>   -2.3065</td> <td>      inf</td> <td>       -0</td> <td>   nan</td> <td>      nan</td> <td>      nan</td>\n",
       "</tr>\n",
       "<tr>\n",
       "  <th>Recipe_name_Mexican Breakfast Pizza</th>                                                                            <td>   -3.3072</td> <td>      inf</td> <td>       -0</td> <td>   nan</td> <td>      nan</td> <td>      nan</td>\n",
       "</tr>\n",
       "<tr>\n",
       "  <th>Recipe_name_Mushroom Ragu with Crispy Polenta Cakes and Tangy Arugula Salad</th>                                    <td> 8.688e-16</td> <td>      inf</td> <td>        0</td> <td>   nan</td> <td>      nan</td> <td>      nan</td>\n",
       "</tr>\n",
       "<tr>\n",
       "  <th>Recipe_name_Mustard Pork Chops with Roasted Green Beans and Latkes</th>                                             <td> 1.457e-16</td> <td>      inf</td> <td>        0</td> <td>   nan</td> <td>      nan</td> <td>      nan</td>\n",
       "</tr>\n",
       "<tr>\n",
       "  <th>Recipe_name_NL Couscous and Grilled Asparagus Salad</th>                                                            <td>   -2.7495</td> <td>      inf</td> <td>       -0</td> <td>   nan</td> <td>      nan</td> <td>      nan</td>\n",
       "</tr>\n",
       "<tr>\n",
       "  <th>Recipe_name_NY Strip with Cauli Mash and Heirloom Tomatoes</th>                                                     <td>   -0.3785</td> <td>      inf</td> <td>       -0</td> <td>   nan</td> <td>      nan</td> <td>      nan</td>\n",
       "</tr>\n",
       "<tr>\n",
       "  <th>Recipe_name_One sheet fish tacos</th>                                                                               <td>   -2.0336</td> <td>      inf</td> <td>       -0</td> <td>   nan</td> <td>      nan</td> <td>      nan</td>\n",
       "</tr>\n",
       "<tr>\n",
       "  <th>Recipe_name_One-Pan Crispy Tilapia</th>                                                                             <td>-3.072e-16</td> <td>      inf</td> <td>       -0</td> <td>   nan</td> <td>      nan</td> <td>      nan</td>\n",
       "</tr>\n",
       "<tr>\n",
       "  <th>Recipe_name_One-Pot Sausage and Tortellini Soup</th>                                                                <td>   -0.8991</td> <td>      inf</td> <td>       -0</td> <td>   nan</td> <td>      nan</td> <td>      nan</td>\n",
       "</tr>\n",
       "<tr>\n",
       "  <th>Recipe_name_One-Pot Tortelloni With Heirloom Tomato And Kale</th>                                                   <td>   -2.3839</td> <td>      inf</td> <td>       -0</td> <td>   nan</td> <td>      nan</td> <td>      nan</td>\n",
       "</tr>\n",
       "<tr>\n",
       "  <th>Recipe_name_Orange Chicken With Rice Pilaf And Buttery Broccoli To Garlic And Meditteranean Chicken Pasta</th>      <td> 8.283e-16</td> <td>      inf</td> <td>        0</td> <td>   nan</td> <td>      nan</td> <td>      nan</td>\n",
       "</tr>\n",
       "<tr>\n",
       "  <th>Recipe_name_Oven-Baked Corn & Tomato Risotto with Pancetta, Thyme, and Parmesan NOT FOR FAM</th>                    <td>   -2.1357</td> <td>      inf</td> <td>       -0</td> <td>   nan</td> <td>      nan</td> <td>      nan</td>\n",
       "</tr>\n",
       "<tr>\n",
       "  <th>Recipe_name_Pan Roasted Chicken with Dijon Mustard Sauce</th>                                                       <td> 1.093e-16</td> <td>      inf</td> <td>        0</td> <td>   nan</td> <td>      nan</td> <td>      nan</td>\n",
       "</tr>\n",
       "<tr>\n",
       "  <th>Recipe_name_Pan-Seared Chicken with Yukon Potatoes, Green Beans, and Creamy Dill Sauce</th>                         <td>   -0.5397</td> <td>      inf</td> <td>       -0</td> <td>   nan</td> <td>      nan</td> <td>      nan</td>\n",
       "</tr>\n",
       "<tr>\n",
       "  <th>Recipe_name_Pan-Seared Steak with Spring Veggie Succotash</th>                                                      <td> 5.446e-16</td> <td>      inf</td> <td>        0</td> <td>   nan</td> <td>      nan</td> <td>      nan</td>\n",
       "</tr>\n",
       "<tr>\n",
       "  <th>Recipe_name_Parmesan Crusted Tilapia</th>                                                                           <td>   -1.6780</td> <td>      inf</td> <td>       -0</td> <td>   nan</td> <td>      nan</td> <td>      nan</td>\n",
       "</tr>\n",
       "<tr>\n",
       "  <th>Recipe_name_Pasta With Baby Broccoli, Basil, And Sun Dried Tomto Cream</th>                                         <td>   -1.9634</td> <td>      inf</td> <td>       -0</td> <td>   nan</td> <td>      nan</td> <td>      nan</td>\n",
       "</tr>\n",
       "<tr>\n",
       "  <th>Recipe_name_Pasta with Roasted Veggies and Goat Cheese</th>                                                         <td>   -0.9079</td> <td>      inf</td> <td>       -0</td> <td>   nan</td> <td>      nan</td> <td>      nan</td>\n",
       "</tr>\n",
       "<tr>\n",
       "  <th>Recipe_name_Pasta with Spicy Shrimp and Garlic Herb Butter</th>                                                     <td>-7.913e-16</td> <td>      inf</td> <td>       -0</td> <td>   nan</td> <td>      nan</td> <td>      nan</td>\n",
       "</tr>\n",
       "<tr>\n",
       "  <th>Recipe_name_Penne With a Kick - summer</th>                                                                         <td>   -0.9649</td> <td>      inf</td> <td>       -0</td> <td>   nan</td> <td>      nan</td> <td>      nan</td>\n",
       "</tr>\n",
       "<tr>\n",
       "  <th>Recipe_name_Pho Soup To Noodle Stir Fry</th>                                                                        <td>   -2.7608</td> <td>      inf</td> <td>       -0</td> <td>   nan</td> <td>      nan</td> <td>      nan</td>\n",
       "</tr>\n",
       "<tr>\n",
       "  <th>Recipe_name_Pineapple BBQ Pizza</th>                                                                                <td>   -0.3366</td> <td>      inf</td> <td>       -0</td> <td>   nan</td> <td>      nan</td> <td>      nan</td>\n",
       "</tr>\n",
       "<tr>\n",
       "  <th>Recipe_name_Polenta Cakes with Asparagus and Mushrooms</th>                                                         <td>-3.152e-16</td> <td>      inf</td> <td>       -0</td> <td>   nan</td> <td>      nan</td> <td>      nan</td>\n",
       "</tr>\n",
       "<tr>\n",
       "  <th>Recipe_name_Pork Chops with Arugula-Peach Salad and Couscous</th>                                                   <td>   -0.3537</td> <td>      inf</td> <td>       -0</td> <td>   nan</td> <td>      nan</td> <td>      nan</td>\n",
       "</tr>\n",
       "<tr>\n",
       "  <th>Recipe_name_Pork Tenderloin with Potatoes and Tarragon Cream Sauce</th>                                             <td>    0.1020</td> <td>      inf</td> <td>        0</td> <td>   nan</td> <td>      nan</td> <td>      nan</td>\n",
       "</tr>\n",
       "<tr>\n",
       "  <th>Recipe_name_Pork al Mojo</th>                                                                                       <td>   -0.7324</td> <td>      inf</td> <td>       -0</td> <td>   nan</td> <td>      nan</td> <td>      nan</td>\n",
       "</tr>\n",
       "<tr>\n",
       "  <th>Recipe_name_Pork and Chinese Eggplant Stir-Fry</th>                                                                 <td>-3.334e-16</td> <td>      inf</td> <td>       -0</td> <td>   nan</td> <td>      nan</td> <td>      nan</td>\n",
       "</tr>\n",
       "<tr>\n",
       "  <th>Recipe_name_Pork carnitas (Classic version)</th>                                                                    <td>    0.9866</td> <td>      inf</td> <td>        0</td> <td>   nan</td> <td>      nan</td> <td>      nan</td>\n",
       "</tr>\n",
       "<tr>\n",
       "  <th>Recipe_name_Pork carnitas (non-romaine)</th>                                                                        <td>    0.6565</td> <td>      inf</td> <td>        0</td> <td>   nan</td> <td>      nan</td> <td>      nan</td>\n",
       "</tr>\n",
       "<tr>\n",
       "  <th>Recipe_name_Portobello & Orecchiette Primavera</th>                                                                 <td>   -1.7965</td> <td>      inf</td> <td>       -0</td> <td>   nan</td> <td>      nan</td> <td>      nan</td>\n",
       "</tr>\n",
       "<tr>\n",
       "  <th>Recipe_name_Prosciutto Wrapped Chicken over Truffle Mushroom Risotto</th>                                           <td>   -0.4351</td> <td>      inf</td> <td>       -0</td> <td>   nan</td> <td>      nan</td> <td>      nan</td>\n",
       "</tr>\n",
       "<tr>\n",
       "  <th>Recipe_name_Pulled Pork Rice Bowl</th>                                                                              <td>   -2.0227</td> <td>      inf</td> <td>       -0</td> <td>   nan</td> <td>      nan</td> <td>      nan</td>\n",
       "</tr>\n",
       "<tr>\n",
       "  <th>Recipe_name_Quick-Marinated Steak</th>                                                                              <td>    1.3989</td> <td>      inf</td> <td>        0</td> <td>   nan</td> <td>      nan</td> <td>      nan</td>\n",
       "</tr>\n",
       "<tr>\n",
       "  <th>Recipe_name_Quickest Chicken Parmesan</th>                                                                          <td>   -0.9244</td> <td>      inf</td> <td>       -0</td> <td>   nan</td> <td>      nan</td> <td>      nan</td>\n",
       "</tr>\n",
       "<tr>\n",
       "  <th>Recipe_name_RAPID: Maple-Balsamic Chicken with Sweet Potato and Brussels</th>                                       <td>   -0.9111</td> <td>      inf</td> <td>       -0</td> <td>   nan</td> <td>      nan</td> <td>      nan</td>\n",
       "</tr>\n",
       "<tr>\n",
       "  <th>Recipe_name_Ranch Steak With Creamy Peppercorn Sauce</th>                                                           <td>  7.64e-16</td> <td>      inf</td> <td>        0</td> <td>   nan</td> <td>      nan</td> <td>      nan</td>\n",
       "</tr>\n",
       "<tr>\n",
       "  <th>Recipe_name_Ribeye with Bearnaise Style Sauce</th>                                                                  <td>    1.0574</td> <td>      inf</td> <td>        0</td> <td>   nan</td> <td>      nan</td> <td>      nan</td>\n",
       "</tr>\n",
       "<tr>\n",
       "  <th>Recipe_name_Ribeye with Maitre D' Butter Roasted Baby Carrots over Truffle Mashed Potatoes</th>                     <td> -8.98e-16</td> <td>      inf</td> <td>       -0</td> <td>   nan</td> <td>      nan</td> <td>      nan</td>\n",
       "</tr>\n",
       "<tr>\n",
       "  <th>Recipe_name_Roast Chicken Dinner</th>                                                                               <td> 1.995e-15</td> <td>      inf</td> <td>        0</td> <td>   nan</td> <td>      nan</td> <td>      nan</td>\n",
       "</tr>\n",
       "<tr>\n",
       "  <th>Recipe_name_Roasted Carrot and Avocado Salad with Israeli Couscous</th>                                             <td>   -2.4177</td> <td>      inf</td> <td>       -0</td> <td>   nan</td> <td>      nan</td> <td>      nan</td>\n",
       "</tr>\n",
       "<tr>\n",
       "  <th>Recipe_name_Roasted Eggplant Linguine with Sun-Dried Tomato and Chili</th>                                          <td>   -1.6691</td> <td>      inf</td> <td>       -0</td> <td>   nan</td> <td>      nan</td> <td>      nan</td>\n",
       "</tr>\n",
       "<tr>\n",
       "  <th>Recipe_name_Roasted Salmon with French Lentil Salad</th>                                                            <td> 5.198e-16</td> <td>      inf</td> <td>        0</td> <td>   nan</td> <td>      nan</td> <td>      nan</td>\n",
       "</tr>\n",
       "<tr>\n",
       "  <th>Recipe_name_Roasted Salmon with Grape Tomatoes and Green Beans</th>                                                 <td> 8.975e-17</td> <td>      inf</td> <td>        0</td> <td>   nan</td> <td>      nan</td> <td>      nan</td>\n",
       "</tr>\n",
       "<tr>\n",
       "  <th>Recipe_name_Roasted Vegetable Quesadillas</th>                                                                      <td>-8.594e-16</td> <td>      inf</td> <td>       -0</td> <td>   nan</td> <td>      nan</td> <td>      nan</td>\n",
       "</tr>\n",
       "<tr>\n",
       "  <th>Recipe_name_Rosemary Beef Skewers with Garlic Bread and Blistered Green Beans</th>                                  <td>   -2.3205</td> <td>      inf</td> <td>       -0</td> <td>   nan</td> <td>      nan</td> <td>      nan</td>\n",
       "</tr>\n",
       "<tr>\n",
       "  <th>Recipe_name_Rosemary-Walnut Crusted Chicken</th>                                                                    <td> 1.094e-15</td> <td>      inf</td> <td>        0</td> <td>   nan</td> <td>      nan</td> <td>      nan</td>\n",
       "</tr>\n",
       "<tr>\n",
       "  <th>Recipe_name_Saag Paneer Flatbread</th>                                                                              <td>   -3.4485</td> <td>      inf</td> <td>       -0</td> <td>   nan</td> <td>      nan</td> <td>      nan</td>\n",
       "</tr>\n",
       "<tr>\n",
       "  <th>Recipe_name_Salmon With Creamy Lemon Dill Sauce (with stock)</th>                                                   <td>   -2.1239</td> <td>      inf</td> <td>       -0</td> <td>   nan</td> <td>      nan</td> <td>      nan</td>\n",
       "</tr>\n",
       "<tr>\n",
       "  <th>Recipe_name_Salmon over Tomato Couscous with Lemon Crema</th>                                                       <td>   -2.7509</td> <td>      inf</td> <td>       -0</td> <td>   nan</td> <td>      nan</td> <td>      nan</td>\n",
       "</tr>\n",
       "<tr>\n",
       "  <th>Recipe_name_Sausage Flatbreads with Pickled Jalapeno, Shallot, and Salad</th>                                       <td>    1.1304</td> <td>      inf</td> <td>        0</td> <td>   nan</td> <td>      nan</td> <td>      nan</td>\n",
       "</tr>\n",
       "<tr>\n",
       "  <th>Recipe_name_Sausage and Tomato Risotto</th>                                                                         <td>   -1.0958</td> <td>      inf</td> <td>       -0</td> <td>   nan</td> <td>      nan</td> <td>      nan</td>\n",
       "</tr>\n",
       "<tr>\n",
       "  <th>Recipe_name_Sauteed Chicken Breasts with Dijon Herb Sauce</th>                                                      <td>    0.3492</td> <td>      inf</td> <td>        0</td> <td>   nan</td> <td>      nan</td> <td>      nan</td>\n",
       "</tr>\n",
       "<tr>\n",
       "  <th>Recipe_name_Seared Chicken with Fig-Balsamic</th>                                                                   <td>    0.0794</td> <td>      inf</td> <td>        0</td> <td>   nan</td> <td>      nan</td> <td>      nan</td>\n",
       "</tr>\n",
       "<tr>\n",
       "  <th>Recipe_name_Seared Pork Chops with Brussels Sprouts</th>                                                            <td>   -1.1102</td> <td>      inf</td> <td>       -0</td> <td>   nan</td> <td>      nan</td> <td>      nan</td>\n",
       "</tr>\n",
       "<tr>\n",
       "  <th>Recipe_name_Seared Pork Tenderloin with Homemade Applesauce and green beans</th>                                    <td>   -0.9069</td> <td>      inf</td> <td>       -0</td> <td>   nan</td> <td>      nan</td> <td>      nan</td>\n",
       "</tr>\n",
       "<tr>\n",
       "  <th>Recipe_name_Seared Sausages with Warm Orzo Salad</th>                                                               <td>   -1.3067</td> <td>      inf</td> <td>       -0</td> <td>   nan</td> <td>      nan</td> <td>      nan</td>\n",
       "</tr>\n",
       "<tr>\n",
       "  <th>Recipe_name_Seared Steak and Creamy Chipotle Pan-Sauce</th>                                                         <td>   -0.1625</td> <td>      inf</td> <td>       -0</td> <td>   nan</td> <td>      nan</td> <td>      nan</td>\n",
       "</tr>\n",
       "<tr>\n",
       "  <th>Recipe_name_Seared Steak with Dijon Tomato Salad and Marble Potatoes</th>                                           <td>    0.3168</td> <td>      inf</td> <td>        0</td> <td>   nan</td> <td>      nan</td> <td>      nan</td>\n",
       "</tr>\n",
       "<tr>\n",
       "  <th>Recipe_name_Seitan Chili</th>                                                                                       <td>   -1.0378</td> <td>      inf</td> <td>       -0</td> <td>   nan</td> <td>      nan</td> <td>      nan</td>\n",
       "</tr>\n",
       "<tr>\n",
       "  <th>Recipe_name_Seitan Tacos al Pastor with Poblano</th>                                                                <td>   -2.3635</td> <td>      inf</td> <td>       -0</td> <td>   nan</td> <td>      nan</td> <td>      nan</td>\n",
       "</tr>\n",
       "<tr>\n",
       "  <th>Recipe_name_Sesame Pecan Chicken Tenders with Honey Mustard</th>                                                    <td>    1.3912</td> <td>      inf</td> <td>        0</td> <td>   nan</td> <td>      nan</td> <td>      nan</td>\n",
       "</tr>\n",
       "<tr>\n",
       "  <th>Recipe_name_Sesame Shrimp with Jasmine Rice and Green Beans</th>                                                    <td>         0</td> <td>      nan</td> <td>      nan</td> <td>   nan</td> <td>      nan</td> <td>      nan</td>\n",
       "</tr>\n",
       "<tr>\n",
       "  <th>Recipe_name_Shawarma Beef Meatballs w Bulgur and broiled vegetables</th>                                            <td>   -1.2845</td> <td>      inf</td> <td>       -0</td> <td>   nan</td> <td>      nan</td> <td>      nan</td>\n",
       "</tr>\n",
       "<tr>\n",
       "  <th>Recipe_name_Shepherd's Pie</th>                                                                                     <td>         0</td> <td>      nan</td> <td>      nan</td> <td>   nan</td> <td>      nan</td> <td>      nan</td>\n",
       "</tr>\n",
       "<tr>\n",
       "  <th>Recipe_name_Shrimp and Chorizo Paella</th>                                                                          <td>         0</td> <td>      nan</td> <td>      nan</td> <td>   nan</td> <td>      nan</td> <td>      nan</td>\n",
       "</tr>\n",
       "<tr>\n",
       "  <th>Recipe_name_Shrimp and Farro Bowl</th>                                                                              <td>   -1.4481</td> <td>      inf</td> <td>       -0</td> <td>   nan</td> <td>      nan</td> <td>      nan</td>\n",
       "</tr>\n",
       "<tr>\n",
       "  <th>Recipe_name_Shrimp and Snap Pea Risotto - Summer</th>                                                               <td>   -1.8333</td> <td>      inf</td> <td>       -0</td> <td>   nan</td> <td>      nan</td> <td>      nan</td>\n",
       "</tr>\n",
       "<tr>\n",
       "  <th>Recipe_name_Skirt Steak with Mushroom Sauce and Arugula, Pear, Ricotta Salata Salad</th>                            <td>         0</td> <td>      nan</td> <td>      nan</td> <td>   nan</td> <td>      nan</td> <td>      nan</td>\n",
       "</tr>\n",
       "<tr>\n",
       "  <th>Recipe_name_Smoky Brown Sugar Salmon with Sweet Potatoes and Sunflower Seed Salad</th>                              <td>         0</td> <td>      nan</td> <td>      nan</td> <td>   nan</td> <td>      nan</td> <td>      nan</td>\n",
       "</tr>\n",
       "<tr>\n",
       "  <th>Recipe_name_Smoky Chicken Fajitas with Charred Pepper and Onion, Garlic-Lime Crema</th>                             <td>   -2.0543</td> <td>      inf</td> <td>       -0</td> <td>   nan</td> <td>      nan</td> <td>      nan</td>\n",
       "</tr>\n",
       "<tr>\n",
       "  <th>Recipe_name_Smothered Chicken Enchiladas With Poblano Pepper, Onion, And Sour Cream</th>                            <td>         0</td> <td>      nan</td> <td>      nan</td> <td>   nan</td> <td>      nan</td> <td>      nan</td>\n",
       "</tr>\n",
       "<tr>\n",
       "  <th>Recipe_name_Southern Pork Chops with Potato-Collard Hash</th>                                                       <td>   -1.0075</td> <td>      inf</td> <td>       -0</td> <td>   nan</td> <td>      nan</td> <td>      nan</td>\n",
       "</tr>\n",
       "<tr>\n",
       "  <th>Recipe_name_Southwest Black Bean Burgers</th>                                                                       <td>   -2.0991</td> <td>      inf</td> <td>       -0</td> <td>   nan</td> <td>      nan</td> <td>      nan</td>\n",
       "</tr>\n",
       "<tr>\n",
       "  <th>Recipe_name_Southwest Lime Marinated Steak Fajitas with Spiced Crema</th>                                           <td>   -2.1892</td> <td>      inf</td> <td>       -0</td> <td>   nan</td> <td>      nan</td> <td>      nan</td>\n",
       "</tr>\n",
       "<tr>\n",
       "  <th>Recipe_name_Southwest Salmon Bowl</th>                                                                              <td>   -1.2747</td> <td>      inf</td> <td>       -0</td> <td>   nan</td> <td>      nan</td> <td>      nan</td>\n",
       "</tr>\n",
       "<tr>\n",
       "  <th>Recipe_name_Soy Glazed Steak</th>                                                                                   <td>    1.8765</td> <td>      inf</td> <td>        0</td> <td>   nan</td> <td>      nan</td> <td>      nan</td>\n",
       "</tr>\n",
       "<tr>\n",
       "  <th>Recipe_name_Soy Shiitake Demi Glazed Steak over Wasabi Potatoes with Roasted Asparagus</th>                         <td>   -0.5536</td> <td>      inf</td> <td>       -0</td> <td>   nan</td> <td>      nan</td> <td>      nan</td>\n",
       "</tr>\n",
       "<tr>\n",
       "  <th>Recipe_name_Soy Steak with Scalllion Mashed Potatoes and Sesame Snow Peas and Edamame</th>                          <td>   -0.4021</td> <td>      inf</td> <td>       -0</td> <td>   nan</td> <td>      nan</td> <td>      nan</td>\n",
       "</tr>\n",
       "<tr>\n",
       "  <th>Recipe_name_Spaghetti with Fresh Tomatoes, Chorizo, Hot Chilies, and Basil</th>                                     <td>         0</td> <td>      nan</td> <td>      nan</td> <td>   nan</td> <td>      nan</td> <td>      nan</td>\n",
       "</tr>\n",
       "<tr>\n",
       "  <th>Recipe_name_Spice Rubbed Pork with Sweet Potato Fries and Pineapple-Avocado Salsa</th>                              <td>         0</td> <td>      nan</td> <td>      nan</td> <td>   nan</td> <td>      nan</td> <td>      nan</td>\n",
       "</tr>\n",
       "<tr>\n",
       "  <th>Recipe_name_Spiced Cashew Orange Chicken Stir Fry</th>                                                              <td>         0</td> <td>      nan</td> <td>      nan</td> <td>   nan</td> <td>      nan</td> <td>      nan</td>\n",
       "</tr>\n",
       "<tr>\n",
       "  <th>Recipe_name_Spicy Korean Style Shrimp With Sesame Cucumber Salad Over Rice</th>                                     <td>   -0.6547</td> <td>      inf</td> <td>       -0</td> <td>   nan</td> <td>      nan</td> <td>      nan</td>\n",
       "</tr>\n",
       "<tr>\n",
       "  <th>Recipe_name_Spicy Poblano Chili - Family</th>                                                                       <td>         0</td> <td>      nan</td> <td>      nan</td> <td>   nan</td> <td>      nan</td> <td>      nan</td>\n",
       "</tr>\n",
       "<tr>\n",
       "  <th>Recipe_name_Spicy Shakshuka with Chickpeas</th>                                                                     <td>   -1.3468</td> <td>      inf</td> <td>       -0</td> <td>   nan</td> <td>      nan</td> <td>      nan</td>\n",
       "</tr>\n",
       "<tr>\n",
       "  <th>Recipe_name_Spinach Ricotta Ravioli with Chicken Sausage</th>                                                       <td>   -1.6422</td> <td>      inf</td> <td>       -0</td> <td>   nan</td> <td>      nan</td> <td>      nan</td>\n",
       "</tr>\n",
       "<tr>\n",
       "  <th>Recipe_name_Spring Tortellini Gratin</th>                                                                           <td>   -2.1106</td> <td>      inf</td> <td>       -0</td> <td>   nan</td> <td>      nan</td> <td>      nan</td>\n",
       "</tr>\n",
       "<tr>\n",
       "  <th>Recipe_name_Squash Flatbread with Fresh Mozzarella</th>                                                             <td>   -2.7192</td> <td>      inf</td> <td>       -0</td> <td>   nan</td> <td>      nan</td> <td>      nan</td>\n",
       "</tr>\n",
       "<tr>\n",
       "  <th>Recipe_name_Steak Caprese with Garlic-Roasted Potatoes (Classic)</th>                                               <td>   -0.3533</td> <td>      inf</td> <td>       -0</td> <td>   nan</td> <td>      nan</td> <td>      nan</td>\n",
       "</tr>\n",
       "<tr>\n",
       "  <th>Recipe_name_Steak Sheet Bake - Potatoes, Mini Bell Peppers, Orange Parsley Butter</th>                              <td>   -0.2053</td> <td>      inf</td> <td>       -0</td> <td>   nan</td> <td>      nan</td> <td>      nan</td>\n",
       "</tr>\n",
       "<tr>\n",
       "  <th>Recipe_name_Steak Tagliata (Family Friendly)</th>                                                                   <td>    1.8235</td> <td>      inf</td> <td>        0</td> <td>   nan</td> <td>      nan</td> <td>      nan</td>\n",
       "</tr>\n",
       "<tr>\n",
       "  <th>Recipe_name_Steakhouse Classic Ny Strip With Truffle Mushroom Sauce, Roasted Carrots, And Stuffed Potato</th>       <td>   -0.1059</td> <td>      inf</td> <td>       -0</td> <td>   nan</td> <td>      nan</td> <td>      nan</td>\n",
       "</tr>\n",
       "<tr>\n",
       "  <th>Recipe_name_Stuffed Summer Squash Boats NOT FOR FAM</th>                                                            <td>         0</td> <td>      nan</td> <td>      nan</td> <td>   nan</td> <td>      nan</td> <td>      nan</td>\n",
       "</tr>\n",
       "<tr>\n",
       "  <th>Recipe_name_Summer Ratatouille</th>                                                                                 <td>   -1.9814</td> <td>      inf</td> <td>       -0</td> <td>   nan</td> <td>      nan</td> <td>      nan</td>\n",
       "</tr>\n",
       "<tr>\n",
       "  <th>Recipe_name_Summer Succotash-Stuffed Peppers</th>                                                                   <td>   -2.8600</td> <td>      inf</td> <td>       -0</td> <td>   nan</td> <td>      nan</td> <td>      nan</td>\n",
       "</tr>\n",
       "<tr>\n",
       "  <th>Recipe_name_Super Cheesy Corn and Poblano Quesadillas</th>                                                          <td>         0</td> <td>      nan</td> <td>      nan</td> <td>   nan</td> <td>      nan</td> <td>      nan</td>\n",
       "</tr>\n",
       "<tr>\n",
       "  <th>Recipe_name_Sweet Italian Sausage and Broccolini Pasta</th>                                                         <td>   -1.9995</td> <td>      inf</td> <td>       -0</td> <td>   nan</td> <td>      nan</td> <td>      nan</td>\n",
       "</tr>\n",
       "<tr>\n",
       "  <th>Recipe_name_Sweet Potato & Quinoa Bowl</th>                                                                         <td>         0</td> <td>      nan</td> <td>      nan</td> <td>   nan</td> <td>      nan</td> <td>      nan</td>\n",
       "</tr>\n",
       "<tr>\n",
       "  <th>Recipe_name_Sweet and Smoky Pork Tenderloin with Cherry Sauce, Apple-Carrot Slaw and Mashed Potatoes</th>           <td>         0</td> <td>      nan</td> <td>      nan</td> <td>   nan</td> <td>      nan</td> <td>      nan</td>\n",
       "</tr>\n",
       "<tr>\n",
       "  <th>Recipe_name_Sweet and Tangy Glazed Pork Chops</th>                                                                  <td>   -0.9380</td> <td>      inf</td> <td>       -0</td> <td>   nan</td> <td>      nan</td> <td>      nan</td>\n",
       "</tr>\n",
       "<tr>\n",
       "  <th>Recipe_name_Taco Pizza</th>                                                                                         <td>   -2.8653</td> <td>      inf</td> <td>       -0</td> <td>   nan</td> <td>      nan</td> <td>      nan</td>\n",
       "</tr>\n",
       "<tr>\n",
       "  <th>Recipe_name_Tempura Fish Tacos</th>                                                                                 <td>   -2.2196</td> <td>      inf</td> <td>       -0</td> <td>   nan</td> <td>      nan</td> <td>      nan</td>\n",
       "</tr>\n",
       "<tr>\n",
       "  <th>Recipe_name_Teriyaki Chicken and Snow Pea Stirfry</th>                                                              <td>   -1.6997</td> <td>      inf</td> <td>       -0</td> <td>   nan</td> <td>      nan</td> <td>      nan</td>\n",
       "</tr>\n",
       "<tr>\n",
       "  <th>Recipe_name_Teriyaki Chicken with Coconut Rice and Bok Choy</th>                                                    <td>   -1.8184</td> <td>      inf</td> <td>       -0</td> <td>   nan</td> <td>      nan</td> <td>      nan</td>\n",
       "</tr>\n",
       "<tr>\n",
       "  <th>Recipe_name_Teriyaki Salmon with Ginger Scallion Rice and Snap Peas</th>                                            <td>         0</td> <td>      nan</td> <td>      nan</td> <td>   nan</td> <td>      nan</td> <td>      nan</td>\n",
       "</tr>\n",
       "<tr>\n",
       "  <th>Recipe_name_Thai Beef with Carrot Noodles</th>                                                                      <td>   -1.4880</td> <td>      inf</td> <td>       -0</td> <td>   nan</td> <td>      nan</td> <td>      nan</td>\n",
       "</tr>\n",
       "<tr>\n",
       "  <th>Recipe_name_Thai Pork Larb</th>                                                                                     <td>         0</td> <td>      nan</td> <td>      nan</td> <td>   nan</td> <td>      nan</td> <td>      nan</td>\n",
       "</tr>\n",
       "<tr>\n",
       "  <th>Recipe_name_Tilapia with Scallion Pesto over Ginger Jasmine Rice with Green Beans</th>                              <td>         0</td> <td>      nan</td> <td>      nan</td> <td>   nan</td> <td>      nan</td> <td>      nan</td>\n",
       "</tr>\n",
       "<tr>\n",
       "  <th>Recipe_name_Tomato Garlic Ragu (family version)</th>                                                                <td>         0</td> <td>      nan</td> <td>      nan</td> <td>   nan</td> <td>      nan</td> <td>      nan</td>\n",
       "</tr>\n",
       "<tr>\n",
       "  <th>Recipe_name_Tomato Ricotta Flatbread</th>                                                                           <td>         0</td> <td>      nan</td> <td>      nan</td> <td>   nan</td> <td>      nan</td> <td>      nan</td>\n",
       "</tr>\n",
       "<tr>\n",
       "  <th>Recipe_name_Tortellini Gratin with Tomato-Basil Bolognese and Spinach</th>                                          <td>   -1.5614</td> <td>      inf</td> <td>       -0</td> <td>   nan</td> <td>      nan</td> <td>      nan</td>\n",
       "</tr>\n",
       "<tr>\n",
       "  <th>Recipe_name_Turkey Patty Melt with Mushrooms, Gruyere and Arugula</th>                                              <td>    0.0651</td> <td>      inf</td> <td>        0</td> <td>   nan</td> <td>      nan</td> <td>      nan</td>\n",
       "</tr>\n",
       "<tr>\n",
       "  <th>Recipe_name_Turkish Spiced Salmon With Orange Arugula Salad And Couscous</th>                                       <td>   -1.0985</td> <td>      inf</td> <td>       -0</td> <td>   nan</td> <td>      nan</td> <td>      nan</td>\n",
       "</tr>\n",
       "<tr>\n",
       "  <th>Recipe_name_Tuscan Pork Linguine (FAMILY ONLY)</th>                                                                 <td>   -0.2762</td> <td>      inf</td> <td>       -0</td> <td>   nan</td> <td>      nan</td> <td>      nan</td>\n",
       "</tr>\n",
       "<tr>\n",
       "  <th>Recipe_name_Tuscan Ribollita with Kale, Italian Sausage, and Parmesan Croutons CLASSIC ONLY</th>                    <td>   -0.2258</td> <td>      inf</td> <td>       -0</td> <td>   nan</td> <td>      nan</td> <td>      nan</td>\n",
       "</tr>\n",
       "<tr>\n",
       "  <th>Recipe_name_UK Black Sesame Teriyaki Beef</th>                                                                      <td>   -2.7752</td> <td>      inf</td> <td>       -0</td> <td>   nan</td> <td>      nan</td> <td>      nan</td>\n",
       "</tr>\n",
       "<tr>\n",
       "  <th>Recipe_name_UK Cheesy Tomato Orzo Risotto</th>                                                                      <td>   -0.9452</td> <td>      inf</td> <td>       -0</td> <td>   nan</td> <td>      nan</td> <td>      nan</td>\n",
       "</tr>\n",
       "<tr>\n",
       "  <th>Recipe_name_UK Chicken with Mustard Sauce NOT FOR FAMILY</th>                                                       <td>    0.9095</td> <td>      inf</td> <td>        0</td> <td>   nan</td> <td>      nan</td> <td>      nan</td>\n",
       "</tr>\n",
       "<tr>\n",
       "  <th>Recipe_name_UK Hearty Roasted Chicken with Dijon Mushroom Sauce</th>                                                <td>         0</td> <td>      nan</td> <td>      nan</td> <td>   nan</td> <td>      nan</td> <td>      nan</td>\n",
       "</tr>\n",
       "<tr>\n",
       "  <th>Recipe_name_UK Herbed Pork with Sicilian Caponata</th>                                                              <td>    0.4362</td> <td>      inf</td> <td>        0</td> <td>   nan</td> <td>      nan</td> <td>      nan</td>\n",
       "</tr>\n",
       "<tr>\n",
       "  <th>Recipe_name_UK Herby Sea Bass with Salsa Verde</th>                                                                 <td>         0</td> <td>      nan</td> <td>      nan</td> <td>   nan</td> <td>      nan</td> <td>      nan</td>\n",
       "</tr>\n",
       "<tr>\n",
       "  <th>Recipe_name_UK Homemade Pork Schnitzel</th>                                                                         <td>    1.0805</td> <td>      inf</td> <td>        0</td> <td>   nan</td> <td>      nan</td> <td>      nan</td>\n",
       "</tr>\n",
       "<tr>\n",
       "  <th>Recipe_name_UK Orecchiette with Herbed Pork (f)</th>                                                                <td>   -2.2768</td> <td>      inf</td> <td>       -0</td> <td>   nan</td> <td>      nan</td> <td>      nan</td>\n",
       "</tr>\n",
       "<tr>\n",
       "  <th>Recipe_name_UK Peachy Pork Tacos</th>                                                                               <td>    0.0251</td> <td>      inf</td> <td>        0</td> <td>   nan</td> <td>      nan</td> <td>      nan</td>\n",
       "</tr>\n",
       "<tr>\n",
       "  <th>Recipe_name_UK Pesto Roulades with Roasted Potatoes</th>                                                            <td>         0</td> <td>      nan</td> <td>      nan</td> <td>   nan</td> <td>      nan</td> <td>      nan</td>\n",
       "</tr>\n",
       "<tr>\n",
       "  <th>Recipe_name_UK Shredded Barbecue Chicken with Black Bean Salad</th>                                                 <td>   -0.3722</td> <td>      inf</td> <td>       -0</td> <td>   nan</td> <td>      nan</td> <td>      nan</td>\n",
       "</tr>\n",
       "<tr>\n",
       "  <th>Recipe_name_UK Spiced Buttery Mahi Mahi</th>                                                                        <td>   -1.7313</td> <td>      inf</td> <td>       -0</td> <td>   nan</td> <td>      nan</td> <td>      nan</td>\n",
       "</tr>\n",
       "<tr>\n",
       "  <th>Recipe_name_UK Super Quick Creamy Pasta with Peas and Pancetta</th>                                                 <td>         0</td> <td>      nan</td> <td>      nan</td> <td>   nan</td> <td>      nan</td> <td>      nan</td>\n",
       "</tr>\n",
       "<tr>\n",
       "  <th>Recipe_name_UK Super Quick Creamy Pasta with Peas and Pancetta with Truffle</th>                                    <td>   -1.6639</td> <td>      inf</td> <td>       -0</td> <td>   nan</td> <td>      nan</td> <td>      nan</td>\n",
       "</tr>\n",
       "<tr>\n",
       "  <th>Recipe_name_Vegetarian Italian Subs</th>                                                                            <td>         0</td> <td>      nan</td> <td>      nan</td> <td>   nan</td> <td>      nan</td> <td>      nan</td>\n",
       "</tr>\n",
       "<tr>\n",
       "  <th>Recipe_name_Veggie \"Carnitas\"</th>                                                                                  <td>         0</td> <td>      nan</td> <td>      nan</td> <td>   nan</td> <td>      nan</td> <td>      nan</td>\n",
       "</tr>\n",
       "<tr>\n",
       "  <th>Recipe_name_Veggie Lo Mein with Mushrooms, Green Beans, and Sweet Ginger-Soy Sauce</th>                             <td>   -1.5615</td> <td>      inf</td> <td>       -0</td> <td>   nan</td> <td>      nan</td> <td>      nan</td>\n",
       "</tr>\n",
       "<tr>\n",
       "  <th>Recipe_name_Veggie Lovers Flatbread with Spinach Salad</th>                                                         <td>         0</td> <td>      nan</td> <td>      nan</td> <td>   nan</td> <td>      nan</td> <td>      nan</td>\n",
       "</tr>\n",
       "<tr>\n",
       "  <th>Recipe_name_White BBQ Meatloaf</th>                                                                                 <td>         0</td> <td>      nan</td> <td>      nan</td> <td>   nan</td> <td>      nan</td> <td>      nan</td>\n",
       "</tr>\n",
       "<tr>\n",
       "  <th>Recipe_name_Wild Mushroom Lo Mein</th>                                                                              <td>         0</td> <td>      nan</td> <td>      nan</td> <td>   nan</td> <td>      nan</td> <td>      nan</td>\n",
       "</tr>\n",
       "<tr>\n",
       "  <th>Recipe_name_lemongrass pork tenderloin</th>                                                                         <td>         0</td> <td>      nan</td> <td>      nan</td> <td>   nan</td> <td>      nan</td> <td>      nan</td>\n",
       "</tr>\n",
       "<tr>\n",
       "  <th>priceXing_count</th>                                                                                                <td>   -0.0202</td> <td>      inf</td> <td>       -0</td> <td>   nan</td> <td>      nan</td> <td>      nan</td>\n",
       "</tr>\n",
       "</table>\n",
       "<table class=\"simpletable\">\n",
       "<tr>\n",
       "  <th>Omnibus:</th>       <td>112.459</td> <th>  Durbin-Watson:     </th> <td>   1.695</td> \n",
       "</tr>\n",
       "<tr>\n",
       "  <th>Prob(Omnibus):</th> <td> 0.000</td>  <th>  Jarque-Bera (JB):  </th> <td> 980.508</td> \n",
       "</tr>\n",
       "<tr>\n",
       "  <th>Skew:</th>          <td>-2.833</td>  <th>  Prob(JB):          </th> <td>1.22e-213</td>\n",
       "</tr>\n",
       "<tr>\n",
       "  <th>Kurtosis:</th>      <td>14.509</td>  <th>  Cond. No.          </th> <td>3.57e+05</td> \n",
       "</tr>\n",
       "</table><br/><br/>Warnings:<br/>[1] Standard Errors assume that the covariance matrix of the errors is correctly specified.<br/>[2] The input rank is higher than the number of observations.<br/>[3] The condition number is large, 3.57e+05. This might indicate that there are<br/>strong multicollinearity or other numerical problems."
      ],
      "text/plain": [
       "<class 'statsmodels.iolib.summary.Summary'>\n",
       "\"\"\"\n",
       "                            OLS Regression Results                            \n",
       "==============================================================================\n",
       "Dep. Variable:                  score   R-squared:                       1.000\n",
       "Model:                            OLS   Adj. R-squared:                    nan\n",
       "Method:                 Least Squares   F-statistic:                     0.000\n",
       "Date:                Tue, 19 Nov 2019   Prob (F-statistic):                nan\n",
       "Time:                        14:06:07   Log-Likelihood:                 4082.3\n",
       "No. Observations:                 143   AIC:                            -7879.\n",
       "Df Residuals:                       0   BIC:                            -7455.\n",
       "Df Model:                         142                                         \n",
       "Covariance Type:            nonrobust                                         \n",
       "==================================================================================================================================================================================\n",
       "                                                                                                                     coef    std err          t      P>|t|      [0.025      0.975]\n",
       "----------------------------------------------------------------------------------------------------------------------------------------------------------------------------------\n",
       "const                                                                                                              2.1838        inf          0        nan         nan         nan\n",
       "ingredients_count                                                                                                  0.1468        inf          0        nan         nan         nan\n",
       "new                                                                                                            -4.086e-13        inf         -0        nan         nan         nan\n",
       "price                                                                                                              0.2762        inf          0        nan         nan         nan\n",
       "Recipe_name_AU Zucchini and Parmesan Topped Chicken                                                             -3.37e-14        inf         -0        nan         nan         nan\n",
       "Recipe_name_Apple turkey burger                                                                                   -2.1357        inf         -0        nan         nan         nan\n",
       "Recipe_name_Apricot-Chili Glazed Chicken with Roasted Potatoes and Carrots                                        -1.1649        inf         -0        nan         nan         nan\n",
       "Recipe_name_Aritchoke Risotto ONLY VEGGIE                                                                         -1.9996        inf         -0        nan         nan         nan\n",
       "Recipe_name_Autumn Risotto with Butternut Squash, Sage, and Pepitas                                            -3.292e-14        inf         -0        nan         nan         nan\n",
       "Recipe_name_BBQ Pork Meatloaf with Cabbage and Sweet Potato                                                       -0.3867        inf         -0        nan         nan         nan\n",
       "Recipe_name_BBQ Pulled Pork Flatbread                                                                             -2.2875        inf         -0        nan         nan         nan\n",
       "Recipe_name_BE Pearl Barley Salad                                                                              -7.591e-15        inf         -0        nan         nan         nan\n",
       "Recipe_name_Baked Parmesan Chicken Nuggets with Green Beans and Oven Fries                                        -0.8429        inf         -0        nan         nan         nan\n",
       "Recipe_name_Baked Veggie Pasta Parmesan                                                                           -0.9620        inf         -0        nan         nan         nan\n",
       "Recipe_name_Balsamic Fig Chicken - Summer                                                                          0.5961        inf          0        nan         nan         nan\n",
       "Recipe_name_Balsamic glazed pork with couscous - Dinner to Lunch                                                  -1.9332        inf         -0        nan         nan         nan\n",
       "Recipe_name_Bangers and Mash with Thyme Gravy                                                                     -1.3546        inf         -0        nan         nan         nan\n",
       "Recipe_name_Beef And Pepper Tostadas                                                                           -2.818e-15        inf         -0        nan         nan         nan\n",
       "Recipe_name_Beef Fajitas with Kiwi Salsa                                                                          -1.5663        inf         -0        nan         nan         nan\n",
       "Recipe_name_Bell Pepper and Black Bean Quesadillas                                                              3.168e-15        inf          0        nan         nan         nan\n",
       "Recipe_name_Blackened Fish Sandwiches                                                                          -4.332e-15        inf         -0        nan         nan         nan\n",
       "Recipe_name_Breakfast Sausage Flatbread with Eggs                                                                 -3.1470        inf         -0        nan         nan         nan\n",
       "Recipe_name_Brioche Shrimp Rolls                                                                               -3.647e-15        inf         -0        nan         nan         nan\n",
       "Recipe_name_Brown Sugar Pork                                                                                    1.629e-15        inf          0        nan         nan         nan\n",
       "Recipe_name_Bulgogi Tacos                                                                                       1.239e-14        inf          0        nan         nan         nan\n",
       "Recipe_name_Burger With Garlic-Rosemary Mayo And Lemon Butter Corn                                              5.443e-16        inf          0        nan         nan         nan\n",
       "Recipe_name_Caramelized Onion Shepherd's Pie                                                                       0.3136        inf          0        nan         nan         nan\n",
       "Recipe_name_Caramelized Pineapple Burgers with Slaw                                                               -0.4839        inf         -0        nan         nan         nan\n",
       "Recipe_name_Caramelized Veggie Skewers                                                                             0.0993        inf          0        nan         nan         nan\n",
       "Recipe_name_Cauliflower Pancetta Mac & Cheese                                                                     -1.9756        inf         -0        nan         nan         nan\n",
       "Recipe_name_Char-Broiled BBQ Chicken with Summery Potato & Green Bean Salad                                    -3.263e-15        inf         -0        nan         nan         nan\n",
       "Recipe_name_Chard & Wild Mushroom Penne                                                                           -2.2380        inf         -0        nan         nan         nan\n",
       "Recipe_name_Cheddar Frico Burger                                                                                  -0.4553        inf         -0        nan         nan         nan\n",
       "Recipe_name_Cheesy Chicken Enchilada Casserole                                                                    -1.9189        inf         -0        nan         nan         nan\n",
       "Recipe_name_Cheesy Meatball Skillet                                                                             3.761e-15        inf          0        nan         nan         nan\n",
       "Recipe_name_Cheesy meatball bake                                                                                  -0.1724        inf         -0        nan         nan         nan\n",
       "Recipe_name_Cherry-Balsamic Glazed Pork Tenderloin with Fingerlings and Broccoli                                   1.4377        inf          0        nan         nan         nan\n",
       "Recipe_name_Chicken & Poblano Tacos with Tomatillo Salsa and Lime Crema                                         9.057e-16        inf          0        nan         nan         nan\n",
       "Recipe_name_Chicken Mozzarella Flatbread With Sriracha-Honey Buffalo Sauce And Ranch Sauce                        -2.4120        inf         -0        nan         nan         nan\n",
       "Recipe_name_Chicken Paillard                                                                                       0.1343        inf          0        nan         nan         nan\n",
       "Recipe_name_Chicken and Pineapple Quesadillas                                                                  -2.116e-15        inf         -0        nan         nan         nan\n",
       "Recipe_name_Chili Cashew Shrimp with Brown Rice                                                                   -0.9152        inf         -0        nan         nan         nan\n",
       "Recipe_name_Chimichurri Burger                                                                                 -3.926e-16        inf         -0        nan         nan         nan\n",
       "Recipe_name_Chorizo, Avocado, and Egg sandwich with Potato Hash                                                 1.695e-15        inf          0        nan         nan         nan\n",
       "Recipe_name_Creamy Linguine with Wild Mushrooms and Tarragon                                                    2.131e-15        inf          0        nan         nan         nan\n",
       "Recipe_name_Creamy Tagliatelle with Mushrooms and Tarragon                                                      3.521e-15        inf          0        nan         nan         nan\n",
       "Recipe_name_Crispy Chipotle Shrimp Tacos                                                                          -1.8831        inf         -0        nan         nan         nan\n",
       "Recipe_name_Crispy Spiced Tilapia Sandwich with Red Cabbage and Cucumber Slaw                                     -0.6034        inf         -0        nan         nan         nan\n",
       "Recipe_name_Crispy southwest tilapia                                                                            3.821e-16        inf          0        nan         nan         nan\n",
       "Recipe_name_Cuban Pork with Warm Confetti Salad NOT IN FAMILY                                                     -2.2890        inf         -0        nan         nan         nan\n",
       "Recipe_name_Cuban Rice with Halloumi, Poblano, and Salsa Verde                                                    -3.1861        inf         -0        nan         nan         nan\n",
       "Recipe_name_Cumin Beef Stir Fry                                                                                   -2.5967        inf         -0        nan         nan         nan\n",
       "Recipe_name_Dinner and Lunch Chili and Burrito                                                                     1.3656        inf          0        nan         nan         nan\n",
       "Recipe_name_Do the Dukkah Chicken with Sweet Potatoes and Snap Peas                                               -2.5922        inf         -0        nan         nan         nan\n",
       "Recipe_name_Duck Breast with Nectarine-Balsamic Sauce, Lemony Rice, and Watercress Salad                          -0.4091        inf         -0        nan         nan         nan\n",
       "Recipe_name_Eastern Carolina Pulled Chicken                                                                     1.205e-14        inf          0        nan         nan         nan\n",
       "Recipe_name_Edamame and Soba Noodle Bowl                                                                       -7.625e-16        inf         -0        nan         nan         nan\n",
       "Recipe_name_Fatoush Salad with Crispy Chickpeas and Chips                                                      -4.485e-16        inf         -0        nan         nan         nan\n",
       "Recipe_name_Flaming Pork Fajitas                                                                                  -2.6878        inf         -0        nan         nan         nan\n",
       "Recipe_name_Freekeh & Brussels Sprouts Salad                                                                   -3.042e-15        inf         -0        nan         nan         nan\n",
       "Recipe_name_Fussiloni al Forno                                                                                    -1.0872        inf         -0        nan         nan         nan\n",
       "Recipe_name_Gnocchi with Chorizo Bolognese                                                                      2.745e-15        inf          0        nan         nan         nan\n",
       "Recipe_name_Grilled Chicken with Potato and Summer Squash Hash                                                  -6.59e-15        inf         -0        nan         nan         nan\n",
       "Recipe_name_Grilled Tuscan Chicken & Broccoli with Spicy Lemon Pasta                                            8.714e-16        inf          0        nan         nan         nan\n",
       "Recipe_name_Grilled Zucchini and Asparagus Farro Bowl                                                             -2.3682        inf         -0        nan         nan         nan\n",
       "Recipe_name_HDP Chicken with Farro Caprese                                                                      1.158e-15        inf          0        nan         nan         nan\n",
       "Recipe_name_Halloumi Jumble with Chimichurri                                                                      -2.7162        inf         -0        nan         nan         nan\n",
       "Recipe_name_Hawaiian Pork Burgers with Salad                                                                      -0.1936        inf         -0        nan         nan         nan\n",
       "Recipe_name_Herb-Crusted Pork Tenderloin                                                                          -0.3238        inf         -0        nan         nan         nan\n",
       "Recipe_name_Hoisin Seared Ribeye with Scallion Sesame Pesto                                                       -1.5248        inf         -0        nan         nan         nan\n",
       "Recipe_name_Hoisin-Glazed Meatballs with Green Beans and Rice                                                     -2.3524        inf         -0        nan         nan         nan\n",
       "Recipe_name_Hoisin-Sriracha Grilled Salmon with Jasmine Rice, Grilled Baby Bok Choy, and Sriracha Butter          -3.2166        inf         -0        nan         nan         nan\n",
       "Recipe_name_Homestyle Meatloaf                                                                                    -0.4076        inf         -0        nan         nan         nan\n",
       "Recipe_name_Honey-Ginger Glazed Chicken                                                                            0.4972        inf          0        nan         nan         nan\n",
       "Recipe_name_Italian Ciabatta Burgers with Caramelized Onion, Mozzarella, and Sweet-and-Tangy Arugula Salad (f)  -7.23e-16        inf         -0        nan         nan         nan\n",
       "Recipe_name_Jerk Chicken Skewers with Peach and Curried Rice                                                    8.878e-16        inf          0        nan         nan         nan\n",
       "Recipe_name_Lemony Shrimp Linguine NOT FOR FAM                                                                    -2.1765        inf         -0        nan         nan         nan\n",
       "Recipe_name_Lobster Ravioli and Zucchini in Creamy Tomato Sauce                                                   -1.6007        inf         -0        nan         nan         nan\n",
       "Recipe_name_Lobster Ravioli with Maitake Mushrooms                                                                -2.2497        inf         -0        nan         nan         nan\n",
       "Recipe_name_Lobster Ravioli with Shrimp and Heirloom Tomatoes                                                     -1.2805        inf         -0        nan         nan         nan\n",
       "Recipe_name_Macaroni a la Vodka                                                                                   -2.0548        inf         -0        nan         nan         nan\n",
       "Recipe_name_Maple Glazed Duck with Blood Orange Salad                                                           2.596e-15        inf          0        nan         nan         nan\n",
       "Recipe_name_Maple glazed chicken                                                                                   0.1200        inf          0        nan         nan         nan\n",
       "Recipe_name_Meatloaf Burger                                                                                    -5.941e-16        inf         -0        nan         nan         nan\n",
       "Recipe_name_Meatloaf with Chive Mashed Potato                                                                      0.0089        inf          0        nan         nan         nan\n",
       "Recipe_name_Mediterranean Gyro bowl                                                                               -2.3065        inf         -0        nan         nan         nan\n",
       "Recipe_name_Mexican Breakfast Pizza                                                                               -3.3072        inf         -0        nan         nan         nan\n",
       "Recipe_name_Mushroom Ragu with Crispy Polenta Cakes and Tangy Arugula Salad                                     8.688e-16        inf          0        nan         nan         nan\n",
       "Recipe_name_Mustard Pork Chops with Roasted Green Beans and Latkes                                              1.457e-16        inf          0        nan         nan         nan\n",
       "Recipe_name_NL Couscous and Grilled Asparagus Salad                                                               -2.7495        inf         -0        nan         nan         nan\n",
       "Recipe_name_NY Strip with Cauli Mash and Heirloom Tomatoes                                                        -0.3785        inf         -0        nan         nan         nan\n",
       "Recipe_name_One sheet fish tacos                                                                                  -2.0336        inf         -0        nan         nan         nan\n",
       "Recipe_name_One-Pan Crispy Tilapia                                                                             -3.072e-16        inf         -0        nan         nan         nan\n",
       "Recipe_name_One-Pot Sausage and Tortellini Soup                                                                   -0.8991        inf         -0        nan         nan         nan\n",
       "Recipe_name_One-Pot Tortelloni With Heirloom Tomato And Kale                                                      -2.3839        inf         -0        nan         nan         nan\n",
       "Recipe_name_Orange Chicken With Rice Pilaf And Buttery Broccoli To Garlic And Meditteranean Chicken Pasta       8.283e-16        inf          0        nan         nan         nan\n",
       "Recipe_name_Oven-Baked Corn & Tomato Risotto with Pancetta, Thyme, and Parmesan NOT FOR FAM                       -2.1357        inf         -0        nan         nan         nan\n",
       "Recipe_name_Pan Roasted Chicken with Dijon Mustard Sauce                                                        1.093e-16        inf          0        nan         nan         nan\n",
       "Recipe_name_Pan-Seared Chicken with Yukon Potatoes, Green Beans, and Creamy Dill Sauce                            -0.5397        inf         -0        nan         nan         nan\n",
       "Recipe_name_Pan-Seared Steak with Spring Veggie Succotash                                                       5.446e-16        inf          0        nan         nan         nan\n",
       "Recipe_name_Parmesan Crusted Tilapia                                                                              -1.6780        inf         -0        nan         nan         nan\n",
       "Recipe_name_Pasta With Baby Broccoli, Basil, And Sun Dried Tomto Cream                                            -1.9634        inf         -0        nan         nan         nan\n",
       "Recipe_name_Pasta with Roasted Veggies and Goat Cheese                                                            -0.9079        inf         -0        nan         nan         nan\n",
       "Recipe_name_Pasta with Spicy Shrimp and Garlic Herb Butter                                                     -7.913e-16        inf         -0        nan         nan         nan\n",
       "Recipe_name_Penne With a Kick - summer                                                                            -0.9649        inf         -0        nan         nan         nan\n",
       "Recipe_name_Pho Soup To Noodle Stir Fry                                                                           -2.7608        inf         -0        nan         nan         nan\n",
       "Recipe_name_Pineapple BBQ Pizza                                                                                   -0.3366        inf         -0        nan         nan         nan\n",
       "Recipe_name_Polenta Cakes with Asparagus and Mushrooms                                                         -3.152e-16        inf         -0        nan         nan         nan\n",
       "Recipe_name_Pork Chops with Arugula-Peach Salad and Couscous                                                      -0.3537        inf         -0        nan         nan         nan\n",
       "Recipe_name_Pork Tenderloin with Potatoes and Tarragon Cream Sauce                                                 0.1020        inf          0        nan         nan         nan\n",
       "Recipe_name_Pork al Mojo                                                                                          -0.7324        inf         -0        nan         nan         nan\n",
       "Recipe_name_Pork and Chinese Eggplant Stir-Fry                                                                 -3.334e-16        inf         -0        nan         nan         nan\n",
       "Recipe_name_Pork carnitas (Classic version)                                                                        0.9866        inf          0        nan         nan         nan\n",
       "Recipe_name_Pork carnitas (non-romaine)                                                                            0.6565        inf          0        nan         nan         nan\n",
       "Recipe_name_Portobello & Orecchiette Primavera                                                                    -1.7965        inf         -0        nan         nan         nan\n",
       "Recipe_name_Prosciutto Wrapped Chicken over Truffle Mushroom Risotto                                              -0.4351        inf         -0        nan         nan         nan\n",
       "Recipe_name_Pulled Pork Rice Bowl                                                                                 -2.0227        inf         -0        nan         nan         nan\n",
       "Recipe_name_Quick-Marinated Steak                                                                                  1.3989        inf          0        nan         nan         nan\n",
       "Recipe_name_Quickest Chicken Parmesan                                                                             -0.9244        inf         -0        nan         nan         nan\n",
       "Recipe_name_RAPID: Maple-Balsamic Chicken with Sweet Potato and Brussels                                          -0.9111        inf         -0        nan         nan         nan\n",
       "Recipe_name_Ranch Steak With Creamy Peppercorn Sauce                                                             7.64e-16        inf          0        nan         nan         nan\n",
       "Recipe_name_Ribeye with Bearnaise Style Sauce                                                                      1.0574        inf          0        nan         nan         nan\n",
       "Recipe_name_Ribeye with Maitre D' Butter Roasted Baby Carrots over Truffle Mashed Potatoes                      -8.98e-16        inf         -0        nan         nan         nan\n",
       "Recipe_name_Roast Chicken Dinner                                                                                1.995e-15        inf          0        nan         nan         nan\n",
       "Recipe_name_Roasted Carrot and Avocado Salad with Israeli Couscous                                                -2.4177        inf         -0        nan         nan         nan\n",
       "Recipe_name_Roasted Eggplant Linguine with Sun-Dried Tomato and Chili                                             -1.6691        inf         -0        nan         nan         nan\n",
       "Recipe_name_Roasted Salmon with French Lentil Salad                                                             5.198e-16        inf          0        nan         nan         nan\n",
       "Recipe_name_Roasted Salmon with Grape Tomatoes and Green Beans                                                  8.975e-17        inf          0        nan         nan         nan\n",
       "Recipe_name_Roasted Vegetable Quesadillas                                                                      -8.594e-16        inf         -0        nan         nan         nan\n",
       "Recipe_name_Rosemary Beef Skewers with Garlic Bread and Blistered Green Beans                                     -2.3205        inf         -0        nan         nan         nan\n",
       "Recipe_name_Rosemary-Walnut Crusted Chicken                                                                     1.094e-15        inf          0        nan         nan         nan\n",
       "Recipe_name_Saag Paneer Flatbread                                                                                 -3.4485        inf         -0        nan         nan         nan\n",
       "Recipe_name_Salmon With Creamy Lemon Dill Sauce (with stock)                                                      -2.1239        inf         -0        nan         nan         nan\n",
       "Recipe_name_Salmon over Tomato Couscous with Lemon Crema                                                          -2.7509        inf         -0        nan         nan         nan\n",
       "Recipe_name_Sausage Flatbreads with Pickled Jalapeno, Shallot, and Salad                                           1.1304        inf          0        nan         nan         nan\n",
       "Recipe_name_Sausage and Tomato Risotto                                                                            -1.0958        inf         -0        nan         nan         nan\n",
       "Recipe_name_Sauteed Chicken Breasts with Dijon Herb Sauce                                                          0.3492        inf          0        nan         nan         nan\n",
       "Recipe_name_Seared Chicken with Fig-Balsamic                                                                       0.0794        inf          0        nan         nan         nan\n",
       "Recipe_name_Seared Pork Chops with Brussels Sprouts                                                               -1.1102        inf         -0        nan         nan         nan\n",
       "Recipe_name_Seared Pork Tenderloin with Homemade Applesauce and green beans                                       -0.9069        inf         -0        nan         nan         nan\n",
       "Recipe_name_Seared Sausages with Warm Orzo Salad                                                                  -1.3067        inf         -0        nan         nan         nan\n",
       "Recipe_name_Seared Steak and Creamy Chipotle Pan-Sauce                                                            -0.1625        inf         -0        nan         nan         nan\n",
       "Recipe_name_Seared Steak with Dijon Tomato Salad and Marble Potatoes                                               0.3168        inf          0        nan         nan         nan\n",
       "Recipe_name_Seitan Chili                                                                                          -1.0378        inf         -0        nan         nan         nan\n",
       "Recipe_name_Seitan Tacos al Pastor with Poblano                                                                   -2.3635        inf         -0        nan         nan         nan\n",
       "Recipe_name_Sesame Pecan Chicken Tenders with Honey Mustard                                                        1.3912        inf          0        nan         nan         nan\n",
       "Recipe_name_Sesame Shrimp with Jasmine Rice and Green Beans                                                             0        nan        nan        nan         nan         nan\n",
       "Recipe_name_Shawarma Beef Meatballs w Bulgur and broiled vegetables                                               -1.2845        inf         -0        nan         nan         nan\n",
       "Recipe_name_Shepherd's Pie                                                                                              0        nan        nan        nan         nan         nan\n",
       "Recipe_name_Shrimp and Chorizo Paella                                                                                   0        nan        nan        nan         nan         nan\n",
       "Recipe_name_Shrimp and Farro Bowl                                                                                 -1.4481        inf         -0        nan         nan         nan\n",
       "Recipe_name_Shrimp and Snap Pea Risotto - Summer                                                                  -1.8333        inf         -0        nan         nan         nan\n",
       "Recipe_name_Skirt Steak with Mushroom Sauce and Arugula, Pear, Ricotta Salata Salad                                     0        nan        nan        nan         nan         nan\n",
       "Recipe_name_Smoky Brown Sugar Salmon with Sweet Potatoes and Sunflower Seed Salad                                       0        nan        nan        nan         nan         nan\n",
       "Recipe_name_Smoky Chicken Fajitas with Charred Pepper and Onion, Garlic-Lime Crema                                -2.0543        inf         -0        nan         nan         nan\n",
       "Recipe_name_Smothered Chicken Enchiladas With Poblano Pepper, Onion, And Sour Cream                                     0        nan        nan        nan         nan         nan\n",
       "Recipe_name_Southern Pork Chops with Potato-Collard Hash                                                          -1.0075        inf         -0        nan         nan         nan\n",
       "Recipe_name_Southwest Black Bean Burgers                                                                          -2.0991        inf         -0        nan         nan         nan\n",
       "Recipe_name_Southwest Lime Marinated Steak Fajitas with Spiced Crema                                              -2.1892        inf         -0        nan         nan         nan\n",
       "Recipe_name_Southwest Salmon Bowl                                                                                 -1.2747        inf         -0        nan         nan         nan\n",
       "Recipe_name_Soy Glazed Steak                                                                                       1.8765        inf          0        nan         nan         nan\n",
       "Recipe_name_Soy Shiitake Demi Glazed Steak over Wasabi Potatoes with Roasted Asparagus                            -0.5536        inf         -0        nan         nan         nan\n",
       "Recipe_name_Soy Steak with Scalllion Mashed Potatoes and Sesame Snow Peas and Edamame                             -0.4021        inf         -0        nan         nan         nan\n",
       "Recipe_name_Spaghetti with Fresh Tomatoes, Chorizo, Hot Chilies, and Basil                                              0        nan        nan        nan         nan         nan\n",
       "Recipe_name_Spice Rubbed Pork with Sweet Potato Fries and Pineapple-Avocado Salsa                                       0        nan        nan        nan         nan         nan\n",
       "Recipe_name_Spiced Cashew Orange Chicken Stir Fry                                                                       0        nan        nan        nan         nan         nan\n",
       "Recipe_name_Spicy Korean Style Shrimp With Sesame Cucumber Salad Over Rice                                        -0.6547        inf         -0        nan         nan         nan\n",
       "Recipe_name_Spicy Poblano Chili - Family                                                                                0        nan        nan        nan         nan         nan\n",
       "Recipe_name_Spicy Shakshuka with Chickpeas                                                                        -1.3468        inf         -0        nan         nan         nan\n",
       "Recipe_name_Spinach Ricotta Ravioli with Chicken Sausage                                                          -1.6422        inf         -0        nan         nan         nan\n",
       "Recipe_name_Spring Tortellini Gratin                                                                              -2.1106        inf         -0        nan         nan         nan\n",
       "Recipe_name_Squash Flatbread with Fresh Mozzarella                                                                -2.7192        inf         -0        nan         nan         nan\n",
       "Recipe_name_Steak Caprese with Garlic-Roasted Potatoes (Classic)                                                  -0.3533        inf         -0        nan         nan         nan\n",
       "Recipe_name_Steak Sheet Bake - Potatoes, Mini Bell Peppers, Orange Parsley Butter                                 -0.2053        inf         -0        nan         nan         nan\n",
       "Recipe_name_Steak Tagliata (Family Friendly)                                                                       1.8235        inf          0        nan         nan         nan\n",
       "Recipe_name_Steakhouse Classic Ny Strip With Truffle Mushroom Sauce, Roasted Carrots, And Stuffed Potato          -0.1059        inf         -0        nan         nan         nan\n",
       "Recipe_name_Stuffed Summer Squash Boats NOT FOR FAM                                                                     0        nan        nan        nan         nan         nan\n",
       "Recipe_name_Summer Ratatouille                                                                                    -1.9814        inf         -0        nan         nan         nan\n",
       "Recipe_name_Summer Succotash-Stuffed Peppers                                                                      -2.8600        inf         -0        nan         nan         nan\n",
       "Recipe_name_Super Cheesy Corn and Poblano Quesadillas                                                                   0        nan        nan        nan         nan         nan\n",
       "Recipe_name_Sweet Italian Sausage and Broccolini Pasta                                                            -1.9995        inf         -0        nan         nan         nan\n",
       "Recipe_name_Sweet Potato & Quinoa Bowl                                                                                  0        nan        nan        nan         nan         nan\n",
       "Recipe_name_Sweet and Smoky Pork Tenderloin with Cherry Sauce, Apple-Carrot Slaw and Mashed Potatoes                    0        nan        nan        nan         nan         nan\n",
       "Recipe_name_Sweet and Tangy Glazed Pork Chops                                                                     -0.9380        inf         -0        nan         nan         nan\n",
       "Recipe_name_Taco Pizza                                                                                            -2.8653        inf         -0        nan         nan         nan\n",
       "Recipe_name_Tempura Fish Tacos                                                                                    -2.2196        inf         -0        nan         nan         nan\n",
       "Recipe_name_Teriyaki Chicken and Snow Pea Stirfry                                                                 -1.6997        inf         -0        nan         nan         nan\n",
       "Recipe_name_Teriyaki Chicken with Coconut Rice and Bok Choy                                                       -1.8184        inf         -0        nan         nan         nan\n",
       "Recipe_name_Teriyaki Salmon with Ginger Scallion Rice and Snap Peas                                                     0        nan        nan        nan         nan         nan\n",
       "Recipe_name_Thai Beef with Carrot Noodles                                                                         -1.4880        inf         -0        nan         nan         nan\n",
       "Recipe_name_Thai Pork Larb                                                                                              0        nan        nan        nan         nan         nan\n",
       "Recipe_name_Tilapia with Scallion Pesto over Ginger Jasmine Rice with Green Beans                                       0        nan        nan        nan         nan         nan\n",
       "Recipe_name_Tomato Garlic Ragu (family version)                                                                         0        nan        nan        nan         nan         nan\n",
       "Recipe_name_Tomato Ricotta Flatbread                                                                                    0        nan        nan        nan         nan         nan\n",
       "Recipe_name_Tortellini Gratin with Tomato-Basil Bolognese and Spinach                                             -1.5614        inf         -0        nan         nan         nan\n",
       "Recipe_name_Turkey Patty Melt with Mushrooms, Gruyere and Arugula                                                  0.0651        inf          0        nan         nan         nan\n",
       "Recipe_name_Turkish Spiced Salmon With Orange Arugula Salad And Couscous                                          -1.0985        inf         -0        nan         nan         nan\n",
       "Recipe_name_Tuscan Pork Linguine (FAMILY ONLY)                                                                    -0.2762        inf         -0        nan         nan         nan\n",
       "Recipe_name_Tuscan Ribollita with Kale, Italian Sausage, and Parmesan Croutons CLASSIC ONLY                       -0.2258        inf         -0        nan         nan         nan\n",
       "Recipe_name_UK Black Sesame Teriyaki Beef                                                                         -2.7752        inf         -0        nan         nan         nan\n",
       "Recipe_name_UK Cheesy Tomato Orzo Risotto                                                                         -0.9452        inf         -0        nan         nan         nan\n",
       "Recipe_name_UK Chicken with Mustard Sauce NOT FOR FAMILY                                                           0.9095        inf          0        nan         nan         nan\n",
       "Recipe_name_UK Hearty Roasted Chicken with Dijon Mushroom Sauce                                                         0        nan        nan        nan         nan         nan\n",
       "Recipe_name_UK Herbed Pork with Sicilian Caponata                                                                  0.4362        inf          0        nan         nan         nan\n",
       "Recipe_name_UK Herby Sea Bass with Salsa Verde                                                                          0        nan        nan        nan         nan         nan\n",
       "Recipe_name_UK Homemade Pork Schnitzel                                                                             1.0805        inf          0        nan         nan         nan\n",
       "Recipe_name_UK Orecchiette with Herbed Pork (f)                                                                   -2.2768        inf         -0        nan         nan         nan\n",
       "Recipe_name_UK Peachy Pork Tacos                                                                                   0.0251        inf          0        nan         nan         nan\n",
       "Recipe_name_UK Pesto Roulades with Roasted Potatoes                                                                     0        nan        nan        nan         nan         nan\n",
       "Recipe_name_UK Shredded Barbecue Chicken with Black Bean Salad                                                    -0.3722        inf         -0        nan         nan         nan\n",
       "Recipe_name_UK Spiced Buttery Mahi Mahi                                                                           -1.7313        inf         -0        nan         nan         nan\n",
       "Recipe_name_UK Super Quick Creamy Pasta with Peas and Pancetta                                                          0        nan        nan        nan         nan         nan\n",
       "Recipe_name_UK Super Quick Creamy Pasta with Peas and Pancetta with Truffle                                       -1.6639        inf         -0        nan         nan         nan\n",
       "Recipe_name_Vegetarian Italian Subs                                                                                     0        nan        nan        nan         nan         nan\n",
       "Recipe_name_Veggie \"Carnitas\"                                                                                           0        nan        nan        nan         nan         nan\n",
       "Recipe_name_Veggie Lo Mein with Mushrooms, Green Beans, and Sweet Ginger-Soy Sauce                                -1.5615        inf         -0        nan         nan         nan\n",
       "Recipe_name_Veggie Lovers Flatbread with Spinach Salad                                                                  0        nan        nan        nan         nan         nan\n",
       "Recipe_name_White BBQ Meatloaf                                                                                          0        nan        nan        nan         nan         nan\n",
       "Recipe_name_Wild Mushroom Lo Mein                                                                                       0        nan        nan        nan         nan         nan\n",
       "Recipe_name_lemongrass pork tenderloin                                                                                  0        nan        nan        nan         nan         nan\n",
       "priceXing_count                                                                                                   -0.0202        inf         -0        nan         nan         nan\n",
       "==============================================================================\n",
       "Omnibus:                      112.459   Durbin-Watson:                   1.695\n",
       "Prob(Omnibus):                  0.000   Jarque-Bera (JB):              980.508\n",
       "Skew:                          -2.833   Prob(JB):                    1.22e-213\n",
       "Kurtosis:                      14.509   Cond. No.                     3.57e+05\n",
       "==============================================================================\n",
       "\n",
       "Warnings:\n",
       "[1] Standard Errors assume that the covariance matrix of the errors is correctly specified.\n",
       "[2] The input rank is higher than the number of observations.\n",
       "[3] The condition number is large, 3.57e+05. This might indicate that there are\n",
       "strong multicollinearity or other numerical problems.\n",
       "\"\"\""
      ]
     },
     "execution_count": 25,
     "metadata": {},
     "output_type": "execute_result"
    }
   ],
   "source": [
    "Xc = sm.add_constant(X)\n",
    "\n",
    "linear_regression = sm.OLS(y, Xc)\n",
    "fitted_model = linear_regression.fit()\n",
    "\n",
    "fitted_model.summary()"
   ]
  },
  {
   "cell_type": "code",
   "execution_count": 26,
   "metadata": {},
   "outputs": [
    {
     "data": {
      "text/html": [
       "<div>\n",
       "<style scoped>\n",
       "    .dataframe tbody tr th:only-of-type {\n",
       "        vertical-align: middle;\n",
       "    }\n",
       "\n",
       "    .dataframe tbody tr th {\n",
       "        vertical-align: top;\n",
       "    }\n",
       "\n",
       "    .dataframe thead th {\n",
       "        text-align: right;\n",
       "    }\n",
       "</style>\n",
       "<table border=\"1\" class=\"dataframe\">\n",
       "  <thead>\n",
       "    <tr style=\"text-align: right;\">\n",
       "      <th></th>\n",
       "      <th>Recipe_name</th>\n",
       "      <th>coef</th>\n",
       "    </tr>\n",
       "  </thead>\n",
       "  <tbody>\n",
       "    <tr>\n",
       "      <th>0</th>\n",
       "      <td>Recipe_name_Saag Paneer Flatbread</td>\n",
       "      <td>3.452336</td>\n",
       "    </tr>\n",
       "    <tr>\n",
       "      <th>1</th>\n",
       "      <td>Recipe_name_Mexican Breakfast Pizza</td>\n",
       "      <td>3.318770</td>\n",
       "    </tr>\n",
       "    <tr>\n",
       "      <th>2</th>\n",
       "      <td>Recipe_name_Hoisin-Sriracha Grilled Salmon wit...</td>\n",
       "      <td>3.239708</td>\n",
       "    </tr>\n",
       "    <tr>\n",
       "      <th>3</th>\n",
       "      <td>Recipe_name_Cuban Rice with Halloumi, Poblano,...</td>\n",
       "      <td>3.201486</td>\n",
       "    </tr>\n",
       "    <tr>\n",
       "      <th>4</th>\n",
       "      <td>Recipe_name_Breakfast Sausage Flatbread with Eggs</td>\n",
       "      <td>3.150887</td>\n",
       "    </tr>\n",
       "  </tbody>\n",
       "</table>\n",
       "</div>"
      ],
      "text/plain": [
       "                                         Recipe_name      coef\n",
       "0                  Recipe_name_Saag Paneer Flatbread  3.452336\n",
       "1                Recipe_name_Mexican Breakfast Pizza  3.318770\n",
       "2  Recipe_name_Hoisin-Sriracha Grilled Salmon wit...  3.239708\n",
       "3  Recipe_name_Cuban Rice with Halloumi, Poblano,...  3.201486\n",
       "4  Recipe_name_Breakfast Sausage Flatbread with Eggs  3.150887"
      ]
     },
     "execution_count": 26,
     "metadata": {},
     "output_type": "execute_result"
    }
   ],
   "source": [
    "linear_regression = LinearRegression(normalize=False, fit_intercept=True)\n",
    "linear_regression.fit(X,y)\n",
    "df_lr_coef = (pd.DataFrame(linear_regression.coef_, index = X.columns, columns = ['coef']).abs()).sort_values('coef', ascending = 0)\n",
    "df_lr_coef.reset_index(inplace=True)\n",
    "df_lr_coef.columns=['Recipe_name','coef']\n",
    "df_lr_coef.head()"
   ]
  },
  {
   "cell_type": "markdown",
   "metadata": {},
   "source": [
    "Obtain model feature importance"
   ]
  },
  {
   "cell_type": "code",
   "execution_count": 27,
   "metadata": {},
   "outputs": [
    {
     "name": "stdout",
     "output_type": "stream",
     "text": [
      "*****************************************\n",
      "*****************************************\n",
      "R2 score obtained from feature engineered GB model is :81.36% \n",
      "*****************************************\n",
      "*****************************************\n",
      "Variable: price                Importance: 0.12\n",
      "Variable: priceXing_count      Importance: 0.12\n",
      "Variable: ingredients_count    Importance: 0.11\n",
      "Variable: Recipe_name_Balsamic Fig Chicken - Summer Importance: 0.05\n",
      "Variable: Recipe_name_Ribeye with Bearnaise Style Sauce Importance: 0.05\n",
      "Variable: Recipe_name_Soy Glazed Steak Importance: 0.05\n",
      "Variable: Recipe_name_Cherry-Balsamic Glazed Pork Tenderloin with Fingerlings and Broccoli Importance: 0.03\n",
      "Variable: Recipe_name_Quick-Marinated Steak Importance: 0.03\n",
      "Variable: Recipe_name_Seared Chicken with Fig-Balsamic Importance: 0.03\n",
      "Variable: Recipe_name_Sesame Pecan Chicken Tenders with Honey Mustard Importance: 0.03\n",
      "Variable: Recipe_name_Breakfast Sausage Flatbread with Eggs Importance: 0.02\n",
      "Variable: Recipe_name_Pork carnitas (Classic version) Importance: 0.02\n",
      "Variable: Recipe_name_Summer Succotash-Stuffed Peppers Importance: 0.02\n",
      "Variable: Recipe_name_Taco Pizza Importance: 0.02\n",
      "Variable: Recipe_name_Turkey Patty Melt with Mushrooms, Gruyere and Arugula Importance: 0.02\n"
     ]
    }
   ],
   "source": [
    "\n",
    "print(\"*****************************************\")\n",
    "print(\"*****************************************\")\n",
    "print(\"R2 score obtained from feature engineered GB model is :%.2f%% \"%(featured_R2*100))\n",
    "print(\"*****************************************\")\n",
    "print(\"*****************************************\")\n",
    "\n",
    "# Get numerical feature importances\n",
    "importances = list(rf.feature_importances_)\n",
    "\n",
    "features= X.columns\n",
    "\n",
    "# List of tuples with variable and importance\n",
    "feature_importances = [(feature, round(importance, 2)) for feature, importance in zip(features, importances)]\n",
    "\n",
    "# Sort the feature importances by most important first\n",
    "feature_importances = sorted(feature_importances, key = lambda x: x[1], reverse = True)\n",
    "\n",
    "# Print out the feature and importances \n",
    "for pair in feature_importances[:15]:\n",
    "    print('Variable: {:20} Importance: {}'.format(*pair)) \n"
   ]
  },
  {
   "cell_type": "markdown",
   "metadata": {},
   "source": [
    "Transform the feature matrix to higher polynomial"
   ]
  },
  {
   "cell_type": "code",
   "execution_count": 28,
   "metadata": {},
   "outputs": [],
   "source": [
    "from sklearn.model_selection import cross_val_score\n",
    "from sklearn.preprocessing import PolynomialFeatures\n",
    "\n",
    "y_poly = df.loc[:,dependentVar]\n",
    "y_trans = np.log1p(y_poly)\n",
    "\n",
    "X_poly = df.drop(dependentVar,1)\n",
    "\n",
    "# transform the feature matrix to higher polynomial degree\n",
    "poly = PolynomialFeatures(degree=3, include_bias=False)\n",
    "#X2 = poly.fit_transform(X_poly)\n",
    "\n",
    "#polyfit_R2 = r2_score(y_poly,linear_regression.fit(X_poly,y_poly).predict(X_poly))\n",
    "scoring ='neg_mean_squared_error'\n",
    "scores = cross_val_score(linear_regression, X2, y_poly, cv=2,scoring=scoring)\n",
    "print(\"obtained R2 mean value and std. deviation value through cross validation: %0.2f (+/- %0.2f)\" % (scores.mean(), scores.std() * 2))"
   ]
  },
  {
   "cell_type": "markdown",
   "metadata": {},
   "source": [
    "__From the regression fit, it looks like we could take try higher order polynomial for model fitting__\n",
    "1. We'll test for higher degree polynomial transformations by looping through different degrees of PolynomialFeatures and calculating the R-squared measure for each"
   ]
  },
  {
   "cell_type": "code",
   "execution_count": 29,
   "metadata": {},
   "outputs": [
    {
     "data": {
      "text/html": [
       "<div>\n",
       "<style scoped>\n",
       "    .dataframe tbody tr th:only-of-type {\n",
       "        vertical-align: middle;\n",
       "    }\n",
       "\n",
       "    .dataframe tbody tr th {\n",
       "        vertical-align: top;\n",
       "    }\n",
       "\n",
       "    .dataframe thead th {\n",
       "        text-align: right;\n",
       "    }\n",
       "</style>\n",
       "<table border=\"1\" class=\"dataframe\">\n",
       "  <thead>\n",
       "    <tr style=\"text-align: right;\">\n",
       "      <th></th>\n",
       "      <th>R-squared</th>\n",
       "      <th>Difference</th>\n",
       "    </tr>\n",
       "  </thead>\n",
       "  <tbody>\n",
       "    <tr>\n",
       "      <th>1</th>\n",
       "      <td>0.0199314</td>\n",
       "      <td>NaN</td>\n",
       "    </tr>\n",
       "    <tr>\n",
       "      <th>2</th>\n",
       "      <td>0.0484653</td>\n",
       "      <td>0.0285338</td>\n",
       "    </tr>\n",
       "    <tr>\n",
       "      <th>3</th>\n",
       "      <td>0.0506379</td>\n",
       "      <td>0.00217259</td>\n",
       "    </tr>\n",
       "    <tr>\n",
       "      <th>5</th>\n",
       "      <td>0.0541133</td>\n",
       "      <td>0.00347539</td>\n",
       "    </tr>\n",
       "    <tr>\n",
       "      <th>15</th>\n",
       "      <td>0.0879494</td>\n",
       "      <td>0.0338362</td>\n",
       "    </tr>\n",
       "  </tbody>\n",
       "</table>\n",
       "</div>"
      ],
      "text/plain": [
       "    R-squared  Difference\n",
       "1   0.0199314         NaN\n",
       "2   0.0484653   0.0285338\n",
       "3   0.0506379  0.00217259\n",
       "5   0.0541133  0.00347539\n",
       "15  0.0879494   0.0338362"
      ]
     },
     "execution_count": 29,
     "metadata": {},
     "output_type": "execute_result"
    }
   ],
   "source": [
    "predictor = 'price'\n",
    "x = X[predictor].values[:,np.newaxis]\n",
    " \n",
    "linear_regression = LinearRegression(normalize=False, fit_intercept=True)\n",
    "#random_forest = RandomForestRegressor(n_estimators=50, random_state=0)\n",
    "\n",
    "df_higher_degree = pd.DataFrame(columns = ['R-squared'], index = [1,2,3,5,15])\n",
    "\n",
    "for degree in df_higher_degree.index:\n",
    "    polynomial_object = PolynomialFeatures(degree = degree, interaction_only=False, include_bias=False)\n",
    "    poly_pipeline = make_pipeline(polynomial_object, StandardScaler(), linear_regression)\n",
    "    model = poly_pipeline.fit(x,y)\n",
    "    R2_temp = r2_score(y, model.predict(x))\n",
    "    df_higher_degree.loc[degree, 'R-squared'] = R2_temp\n",
    "    \n",
    "df_higher_degree['Difference'] = df_higher_degree['R-squared'] - df_higher_degree['R-squared'].shift(1)\n",
    "df_higher_degree"
   ]
  },
  {
   "cell_type": "markdown",
   "metadata": {},
   "source": [
    "As we can see from the Difference column, adding a new degree of transformation to the model only slightly increases the R-squared initially, but the improvements are overall minimal"
   ]
  },
  {
   "cell_type": "code",
   "execution_count": 30,
   "metadata": {},
   "outputs": [
    {
     "data": {
      "image/png": "[encoded data removed]",
      "text/plain": [
       "<Figure size 432x288 with 1 Axes>"
      ]
     },
     "metadata": {
      "needs_background": "light"
     },
     "output_type": "display_data"
    }
   ],
   "source": [
    "predictor = 'ingredients_count'\n",
    "target = 'score'\n",
    "df_temp = df[[predictor, target]].copy()\n",
    "\n",
    "for degree in df_higher_degree.index:\n",
    "    polynomial_object = PolynomialFeatures(degree = degree, interaction_only=False, include_bias=False)\n",
    "    poly_pipeline = make_pipeline(polynomial_object, StandardScaler(), linear_regression)\n",
    "    model = poly_pipeline.fit(x,y)\n",
    "    df_temp[degree] = model.predict(x)\n",
    "df_temp.set_index(predictor, inplace = True)\n",
    "\n",
    "df_temp.sort_index(inplace = True)\n",
    "x_vals = df_temp.index\n",
    "plt.scatter(x_vals, df_temp[target], color = 'y')\n",
    "plt.xlabel(''+predictor+'')\n",
    "plt.ylabel(''+target+'')\n",
    "for col in df_temp.iloc[:,1:].columns:\n",
    "    plt.plot(x_vals, df_temp.loc[:,col], label = col, lw = 4)\n",
    "plt.legend()\n",
    "plt.show()"
   ]
  }
 ],
 "metadata": {
  "kernelspec": {
   "display_name": "Python 3",
   "language": "python",
   "name": "python3"
  },
  "language_info": {
   "codemirror_mode": {
    "name": "ipython",
    "version": 3
   },
   "file_extension": ".py",
   "mimetype": "text/x-python",
   "name": "python",
   "nbconvert_exporter": "python",
   "pygments_lexer": "ipython3",
   "version": "3.7.3"
  }
 },
 "nbformat": 4,
 "nbformat_minor": 2
}
