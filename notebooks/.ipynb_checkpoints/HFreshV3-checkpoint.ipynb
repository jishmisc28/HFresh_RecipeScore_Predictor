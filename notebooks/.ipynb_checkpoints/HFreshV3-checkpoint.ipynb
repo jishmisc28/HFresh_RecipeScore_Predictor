{
 "cells": [
  {
   "cell_type": "markdown",
   "metadata": {},
   "source": [
    "#### __debug__"
   ]
  },
  {
   "cell_type": "code",
   "execution_count": 26,
   "metadata": {},
   "outputs": [
    {
     "data": {
      "text/html": [
       "<div>\n",
       "<style scoped>\n",
       "    .dataframe tbody tr th:only-of-type {\n",
       "        vertical-align: middle;\n",
       "    }\n",
       "\n",
       "    .dataframe tbody tr th {\n",
       "        vertical-align: top;\n",
       "    }\n",
       "\n",
       "    .dataframe thead th {\n",
       "        text-align: right;\n",
       "    }\n",
       "</style>\n",
       "<table border=\"1\" class=\"dataframe\">\n",
       "  <thead>\n",
       "    <tr style=\"text-align: right;\">\n",
       "      <th></th>\n",
       "      <th>score</th>\n",
       "      <th>price</th>\n",
       "      <th>Recipe_code</th>\n",
       "      <th>Recipe_name</th>\n",
       "      <th>ingredients_list</th>\n",
       "      <th>ingredients_count</th>\n",
       "    </tr>\n",
       "  </thead>\n",
       "  <tbody>\n",
       "    <tr>\n",
       "      <th>0</th>\n",
       "      <td>2.37</td>\n",
       "      <td>7.28</td>\n",
       "      <td>R10030</td>\n",
       "      <td>Teriyaki Chicken with Coconut Rice and Bok Choy</td>\n",
       "      <td>[Chicken, Breasts, Rice, Basmati, Garlic, Peel...</td>\n",
       "      <td>11</td>\n",
       "    </tr>\n",
       "    <tr>\n",
       "      <th>1</th>\n",
       "      <td>4.94</td>\n",
       "      <td>8.10</td>\n",
       "      <td>R10082</td>\n",
       "      <td>Rosemary-Walnut Crusted Chicken</td>\n",
       "      <td>[Chicken, Breasts, Potato, Russet, Lettuce, Sp...</td>\n",
       "      <td>26</td>\n",
       "    </tr>\n",
       "    <tr>\n",
       "      <th>2</th>\n",
       "      <td>4.96</td>\n",
       "      <td>7.80</td>\n",
       "      <td>R10118</td>\n",
       "      <td>UK Chicken with Mustard Sauce NOT FOR FAMILY</td>\n",
       "      <td>[Chicken, Breasts, Potato, Yukon B, Onion, Red...</td>\n",
       "      <td>26</td>\n",
       "    </tr>\n",
       "    <tr>\n",
       "      <th>3</th>\n",
       "      <td>2.11</td>\n",
       "      <td>7.73</td>\n",
       "      <td>R10123B</td>\n",
       "      <td>Smoky Chicken Fajitas with Charred Pepper and ...</td>\n",
       "      <td>[Chicken, Stir Fry, Onion, Red, Bell Pepper, R...</td>\n",
       "      <td>16</td>\n",
       "    </tr>\n",
       "    <tr>\n",
       "      <th>4</th>\n",
       "      <td>1.36</td>\n",
       "      <td>9.92</td>\n",
       "      <td>R10125</td>\n",
       "      <td>Do the Dukkah Chicken with Sweet Potatoes and ...</td>\n",
       "      <td>[Chicken, Breasts, Spice, Dukkah - \"Nutty Sesa...</td>\n",
       "      <td>18</td>\n",
       "    </tr>\n",
       "  </tbody>\n",
       "</table>\n",
       "</div>"
      ],
      "text/plain": [
       "   score  price Recipe_code  \\\n",
       "0   2.37   7.28      R10030   \n",
       "1   4.94   8.10      R10082   \n",
       "2   4.96   7.80      R10118   \n",
       "3   2.11   7.73     R10123B   \n",
       "4   1.36   9.92      R10125   \n",
       "\n",
       "                                         Recipe_name  \\\n",
       "0    Teriyaki Chicken with Coconut Rice and Bok Choy   \n",
       "1                    Rosemary-Walnut Crusted Chicken   \n",
       "2       UK Chicken with Mustard Sauce NOT FOR FAMILY   \n",
       "3  Smoky Chicken Fajitas with Charred Pepper and ...   \n",
       "4  Do the Dukkah Chicken with Sweet Potatoes and ...   \n",
       "\n",
       "                                    ingredients_list  ingredients_count  \n",
       "0  [Chicken, Breasts, Rice, Basmati, Garlic, Peel...                 11  \n",
       "1  [Chicken, Breasts, Potato, Russet, Lettuce, Sp...                 26  \n",
       "2  [Chicken, Breasts, Potato, Yukon B, Onion, Red...                 26  \n",
       "3  [Chicken, Stir Fry, Onion, Red, Bell Pepper, R...                 16  \n",
       "4  [Chicken, Breasts, Spice, Dukkah - \"Nutty Sesa...                 18  "
      ]
     },
     "execution_count": 26,
     "metadata": {},
     "output_type": "execute_result"
    }
   ],
   "source": [
    "data['ing_list2'] = data.ingredients_list.astype('str').str.split(',')\n",
    "data['ingredients_count'] = data.ing_list2.str.len()\n",
    "data.drop(['ing_list2'], axis=1,inplace=True)\n",
    "data.head()"
   ]
  },
  {
   "cell_type": "code",
   "execution_count": 20,
   "metadata": {},
   "outputs": [
    {
     "data": {
      "text/plain": [
       "score                float64\n",
       "price                float64\n",
       "Recipe_code           object\n",
       "Recipe_name           object\n",
       "ingredients_list      object\n",
       "ingredients_count      int64\n",
       "dtype: object"
      ]
     },
     "execution_count": 20,
     "metadata": {},
     "output_type": "execute_result"
    }
   ],
   "source": [
    "data.dtypes"
   ]
  },
  {
   "cell_type": "code",
   "execution_count": 22,
   "metadata": {},
   "outputs": [
    {
     "data": {
      "text/plain": [
       "Index(['score', 'price', 'Recipe_code', 'Recipe_name', 'ingredients_list',\n",
       "       'score', 'price', 'Recipe_code', 'Recipe_name', 'ingredients_list'],\n",
       "      dtype='object')"
      ]
     },
     "execution_count": 22,
     "metadata": {},
     "output_type": "execute_result"
    }
   ],
   "source": [
    "for i,typ in enumerate(data.dtypes):\n",
    "    if typ == 'object':\n",
    "        data_cat = data.fillna(method ='ffill')\n",
    "    else:\n",
    "        data_num = data.fillna(0)\n",
    "data = pd.concat([data_num,data_cat],axis=1)\n",
    "data.columns\n",
    "        "
   ]
  },
  {
   "cell_type": "code",
   "execution_count": 28,
   "metadata": {},
   "outputs": [
    {
     "data": {
      "text/plain": [
       "Index(['Recipe_code', 'Recipe_name', 'ingredients_list', 'ingredients_count'], dtype='object')"
      ]
     },
     "execution_count": 28,
     "metadata": {},
     "output_type": "execute_result"
    }
   ],
   "source": [
    "data_cat = data.select_dtypes(include=['object']).fillna(method ='ffill')\n",
    "data_num_float = data.select_dtypes(include=[np.float64]).fillna(0)\n",
    "data_num_int = data.select_dtypes(include=[np.int64]).fillna(0)\n",
    "data = pd.concat([data_cat,data_num_float,data_num_int],axis=1)\n",
    "data.columns"
   ]
  },
  {
   "cell_type": "code",
   "execution_count": 25,
   "metadata": {},
   "outputs": [
    {
     "name": "stdout",
     "output_type": "stream",
     "text": [
      "unique recipe codes in ingredients.csv:  257\n",
      "unique recipe codes in rating.csv:  222\n",
      "created a merged dataset with shape:  (2332, 7)\n",
      "grouping the dataset on recipe code and recipe name and adding a feature column as ingredients_list and ingredients_count.. \n",
      ".................................. \n",
      "null imputation on the marged dataset.. \n"
     ]
    },
    {
     "data": {
      "text/html": [
       "<div>\n",
       "<style scoped>\n",
       "    .dataframe tbody tr th:only-of-type {\n",
       "        vertical-align: middle;\n",
       "    }\n",
       "\n",
       "    .dataframe tbody tr th {\n",
       "        vertical-align: top;\n",
       "    }\n",
       "\n",
       "    .dataframe thead th {\n",
       "        text-align: right;\n",
       "    }\n",
       "</style>\n",
       "<table border=\"1\" class=\"dataframe\">\n",
       "  <thead>\n",
       "    <tr style=\"text-align: right;\">\n",
       "      <th></th>\n",
       "      <th>score</th>\n",
       "      <th>price</th>\n",
       "      <th>Recipe_code</th>\n",
       "      <th>Recipe_name</th>\n",
       "      <th>ingredients_list</th>\n",
       "    </tr>\n",
       "  </thead>\n",
       "  <tbody>\n",
       "    <tr>\n",
       "      <th>0</th>\n",
       "      <td>2.37</td>\n",
       "      <td>7.28</td>\n",
       "      <td>R10030</td>\n",
       "      <td>Teriyaki Chicken with Coconut Rice and Bok Choy</td>\n",
       "      <td>[Chicken, Breasts, Rice, Basmati, Garlic, Peel...</td>\n",
       "    </tr>\n",
       "    <tr>\n",
       "      <th>1</th>\n",
       "      <td>4.94</td>\n",
       "      <td>8.10</td>\n",
       "      <td>R10082</td>\n",
       "      <td>Rosemary-Walnut Crusted Chicken</td>\n",
       "      <td>[Chicken, Breasts, Potato, Russet, Lettuce, Sp...</td>\n",
       "    </tr>\n",
       "    <tr>\n",
       "      <th>2</th>\n",
       "      <td>4.96</td>\n",
       "      <td>7.80</td>\n",
       "      <td>R10118</td>\n",
       "      <td>UK Chicken with Mustard Sauce NOT FOR FAMILY</td>\n",
       "      <td>[Chicken, Breasts, Potato, Yukon B, Onion, Red...</td>\n",
       "    </tr>\n",
       "    <tr>\n",
       "      <th>3</th>\n",
       "      <td>2.11</td>\n",
       "      <td>7.73</td>\n",
       "      <td>R10123B</td>\n",
       "      <td>Smoky Chicken Fajitas with Charred Pepper and ...</td>\n",
       "      <td>[Chicken, Stir Fry, Onion, Red, Bell Pepper, R...</td>\n",
       "    </tr>\n",
       "    <tr>\n",
       "      <th>4</th>\n",
       "      <td>1.36</td>\n",
       "      <td>9.92</td>\n",
       "      <td>R10125</td>\n",
       "      <td>Do the Dukkah Chicken with Sweet Potatoes and ...</td>\n",
       "      <td>[Chicken, Breasts, Spice, Dukkah - \"Nutty Sesa...</td>\n",
       "    </tr>\n",
       "  </tbody>\n",
       "</table>\n",
       "</div>"
      ],
      "text/plain": [
       "   score  price Recipe_code  \\\n",
       "0   2.37   7.28      R10030   \n",
       "1   4.94   8.10      R10082   \n",
       "2   4.96   7.80      R10118   \n",
       "3   2.11   7.73     R10123B   \n",
       "4   1.36   9.92      R10125   \n",
       "\n",
       "                                         Recipe_name  \\\n",
       "0    Teriyaki Chicken with Coconut Rice and Bok Choy   \n",
       "1                    Rosemary-Walnut Crusted Chicken   \n",
       "2       UK Chicken with Mustard Sauce NOT FOR FAMILY   \n",
       "3  Smoky Chicken Fajitas with Charred Pepper and ...   \n",
       "4  Do the Dukkah Chicken with Sweet Potatoes and ...   \n",
       "\n",
       "                                    ingredients_list  \n",
       "0  [Chicken, Breasts, Rice, Basmati, Garlic, Peel...  \n",
       "1  [Chicken, Breasts, Potato, Russet, Lettuce, Sp...  \n",
       "2  [Chicken, Breasts, Potato, Yukon B, Onion, Red...  \n",
       "3  [Chicken, Stir Fry, Onion, Red, Bell Pepper, R...  \n",
       "4  [Chicken, Breasts, Spice, Dukkah - \"Nutty Sesa...  "
      ]
     },
     "execution_count": 25,
     "metadata": {},
     "output_type": "execute_result"
    }
   ],
   "source": [
    "import pandas as pd\n",
    "import numpy as np\n",
    "ingredients = pd.read_csv(path+'/ingredients.csv')\n",
    "rating = pd.read_csv(path+'/recipe_ratings.csv')\n",
    "\n",
    "print (\"unique recipe codes in ingredients.csv: \",ingredients.Recipe_code.nunique())\n",
    "print (\"unique recipe codes in rating.csv: \",rating.Recipe_code.nunique())\n",
    "\n",
    "data = pd.merge(ingredients,rating,how='left',on='Recipe_code')\n",
    "print (\"created a merged dataset with shape: \",data.shape)\n",
    "\n",
    "print (\"grouping the dataset on recipe code and recipe name and adding a feature column as ingredients_list and ingredients_count.. \")\n",
    "data = data.groupby(['Recipe_code','Recipe_name','score','price'])['Ingredient'].apply(list).reset_index(name='ingredients_list')\n",
    "data['ing_list2'] = data.ingredients_list.astype('str').str.split(',')\n",
    "data['ingredients_count'] = data.ing_list2.str.len()\n",
    "data.drop(['ing_list2'], axis=1,inplace=True)\n",
    "\n",
    "print (\".................................. \")\n",
    "print (\"null imputation on the marged dataset.. \")\n",
    "data_cat = data.select_dtypes(include=['object']).fillna(method ='ffill')\n",
    "data_num = data.select_dtypes(include=[np.float64]).fillna(0)\n",
    "data = pd.concat([data_num,data_cat],axis=1)\n",
    "data.head()\n",
    "    "
   ]
  },
  {
   "cell_type": "markdown",
   "metadata": {},
   "source": [
    "### Load from the Submission"
   ]
  },
  {
   "cell_type": "code",
   "execution_count": 8,
   "metadata": {},
   "outputs": [],
   "source": [
    "import nltk\n",
    "import sys\n",
    "from HFresh import dataUtil as datautil\n",
    "import matplotlib.pyplot as plt\n",
    "import seaborn as sns"
   ]
  },
  {
   "cell_type": "code",
   "execution_count": 1,
   "metadata": {},
   "outputs": [
    {
     "name": "stdout",
     "output_type": "stream",
     "text": [
      "unique recipe codes in ingredients.csv:  257\n",
      "unique recipe codes in rating.csv:  222\n",
      "created a merged dataset with shape:  (2332, 7)\n",
      "grouping the dataset on recipe code and recipe name and adding a feature column as ingredients_list and ingredients_count.. \n",
      ".................................. \n",
      "null imputation on the marged dataset.. \n"
     ]
    }
   ],
   "source": [
    "# Set sys path for importing util modules\n",
    "import sys\n",
    "sys.path.append('../src/')\n",
    "\n",
    "from HFresh import dataUtil as datautil\n",
    "\n",
    "path = 'C:\\\\Users\\\\abhranshu\\\\Desktop\\\\Incubating\\\\Ab_ML_Notebooks\\\\HFresh_Submission\\\\data'\n",
    "df = datautil.preProcessData(path)"
   ]
  },
  {
   "cell_type": "markdown",
   "metadata": {},
   "source": [
    "### EDA on the processed dataset"
   ]
  },
  {
   "cell_type": "code",
   "execution_count": null,
   "metadata": {},
   "outputs": [],
   "source": [
    "Checking for null in th "
   ]
  },
  {
   "cell_type": "code",
   "execution_count": null,
   "metadata": {},
   "outputs": [],
   "source": [
    "df.isnull().sum()"
   ]
  },
  {
   "cell_type": "code",
   "execution_count": null,
   "metadata": {},
   "outputs": [],
   "source": [
    "print (\".................................. \")\n",
    "print (\"null imputation on the marged dataset.. \")\n",
    "data_cat = data.select_dtypes(include=['object']).fillna(method ='ffill')\n",
    "data_num_float = data.select_dtypes(include=[np.float64]).fillna(0)\n",
    "data_num_int = data.select_dtypes(include=[np.int64]).fillna(0)\n",
    "data = pd.concat([data_cat,data_num_float,data_num_int],axis=1)\n",
    "df.isnull().sum()"
   ]
  },
  {
   "cell_type": "code",
   "execution_count": 2,
   "metadata": {},
   "outputs": [
    {
     "data": {
      "text/html": [
       "<div>\n",
       "<style scoped>\n",
       "    .dataframe tbody tr th:only-of-type {\n",
       "        vertical-align: middle;\n",
       "    }\n",
       "\n",
       "    .dataframe tbody tr th {\n",
       "        vertical-align: top;\n",
       "    }\n",
       "\n",
       "    .dataframe thead th {\n",
       "        text-align: right;\n",
       "    }\n",
       "</style>\n",
       "<table border=\"1\" class=\"dataframe\">\n",
       "  <thead>\n",
       "    <tr style=\"text-align: right;\">\n",
       "      <th></th>\n",
       "      <th>Recipe_code</th>\n",
       "      <th>Recipe_name</th>\n",
       "      <th>ingredients_list</th>\n",
       "      <th>score</th>\n",
       "      <th>price</th>\n",
       "      <th>ingredients_count</th>\n",
       "    </tr>\n",
       "  </thead>\n",
       "  <tbody>\n",
       "    <tr>\n",
       "      <th>0</th>\n",
       "      <td>R10030</td>\n",
       "      <td>Teriyaki Chicken with Coconut Rice and Bok Choy</td>\n",
       "      <td>[Chicken, Breasts, Rice, Basmati, Garlic, Peel...</td>\n",
       "      <td>2.37</td>\n",
       "      <td>7.28</td>\n",
       "      <td>11</td>\n",
       "    </tr>\n",
       "    <tr>\n",
       "      <th>1</th>\n",
       "      <td>R10082</td>\n",
       "      <td>Rosemary-Walnut Crusted Chicken</td>\n",
       "      <td>[Chicken, Breasts, Potato, Russet, Lettuce, Sp...</td>\n",
       "      <td>4.94</td>\n",
       "      <td>8.10</td>\n",
       "      <td>26</td>\n",
       "    </tr>\n",
       "    <tr>\n",
       "      <th>2</th>\n",
       "      <td>R10118</td>\n",
       "      <td>UK Chicken with Mustard Sauce NOT FOR FAMILY</td>\n",
       "      <td>[Chicken, Breasts, Potato, Yukon B, Onion, Red...</td>\n",
       "      <td>4.96</td>\n",
       "      <td>7.80</td>\n",
       "      <td>26</td>\n",
       "    </tr>\n",
       "    <tr>\n",
       "      <th>3</th>\n",
       "      <td>R10123B</td>\n",
       "      <td>Smoky Chicken Fajitas with Charred Pepper and ...</td>\n",
       "      <td>[Chicken, Stir Fry, Onion, Red, Bell Pepper, R...</td>\n",
       "      <td>2.11</td>\n",
       "      <td>7.73</td>\n",
       "      <td>16</td>\n",
       "    </tr>\n",
       "    <tr>\n",
       "      <th>4</th>\n",
       "      <td>R10125</td>\n",
       "      <td>Do the Dukkah Chicken with Sweet Potatoes and ...</td>\n",
       "      <td>[Chicken, Breasts, Spice, Dukkah - \"Nutty Sesa...</td>\n",
       "      <td>1.36</td>\n",
       "      <td>9.92</td>\n",
       "      <td>18</td>\n",
       "    </tr>\n",
       "  </tbody>\n",
       "</table>\n",
       "</div>"
      ],
      "text/plain": [
       "  Recipe_code                                        Recipe_name  \\\n",
       "0      R10030    Teriyaki Chicken with Coconut Rice and Bok Choy   \n",
       "1      R10082                    Rosemary-Walnut Crusted Chicken   \n",
       "2      R10118       UK Chicken with Mustard Sauce NOT FOR FAMILY   \n",
       "3     R10123B  Smoky Chicken Fajitas with Charred Pepper and ...   \n",
       "4      R10125  Do the Dukkah Chicken with Sweet Potatoes and ...   \n",
       "\n",
       "                                    ingredients_list  score  price  \\\n",
       "0  [Chicken, Breasts, Rice, Basmati, Garlic, Peel...   2.37   7.28   \n",
       "1  [Chicken, Breasts, Potato, Russet, Lettuce, Sp...   4.94   8.10   \n",
       "2  [Chicken, Breasts, Potato, Yukon B, Onion, Red...   4.96   7.80   \n",
       "3  [Chicken, Stir Fry, Onion, Red, Bell Pepper, R...   2.11   7.73   \n",
       "4  [Chicken, Breasts, Spice, Dukkah - \"Nutty Sesa...   1.36   9.92   \n",
       "\n",
       "   ingredients_count  \n",
       "0                 11  \n",
       "1                 26  \n",
       "2                 26  \n",
       "3                 16  \n",
       "4                 18  "
      ]
     },
     "execution_count": 2,
     "metadata": {},
     "output_type": "execute_result"
    }
   ],
   "source": [
    "df.head()"
   ]
  },
  {
   "cell_type": "code",
   "execution_count": 5,
   "metadata": {},
   "outputs": [
    {
     "data": {
      "image/png": "[encoded data removed]",
      "text/plain": [
       "<Figure size 432x288 with 1 Axes>"
      ]
     },
     "metadata": {
      "needs_background": "light"
     },
     "output_type": "display_data"
    }
   ],
   "source": [
    "import matplotlib.pyplot as plt\n",
    "import seaborn as sns\n",
    "ax = sns.scatterplot(x=\"score\", y=\"ingredients_count\", hue=\"price\",data=df)"
   ]
  },
  {
   "cell_type": "code",
   "execution_count": 6,
   "metadata": {},
   "outputs": [
    {
     "data": {
      "text/html": [
       "<div>\n",
       "<style scoped>\n",
       "    .dataframe tbody tr th:only-of-type {\n",
       "        vertical-align: middle;\n",
       "    }\n",
       "\n",
       "    .dataframe tbody tr th {\n",
       "        vertical-align: top;\n",
       "    }\n",
       "\n",
       "    .dataframe thead th {\n",
       "        text-align: right;\n",
       "    }\n",
       "</style>\n",
       "<table border=\"1\" class=\"dataframe\">\n",
       "  <thead>\n",
       "    <tr style=\"text-align: right;\">\n",
       "      <th></th>\n",
       "      <th>Recipe_code</th>\n",
       "      <th>Recipe_name</th>\n",
       "      <th>ingredients_list</th>\n",
       "      <th>score</th>\n",
       "      <th>price</th>\n",
       "      <th>ingredients_count</th>\n",
       "    </tr>\n",
       "  </thead>\n",
       "  <tbody>\n",
       "    <tr>\n",
       "      <th>34</th>\n",
       "      <td>R20039</td>\n",
       "      <td>Soy Glazed Steak</td>\n",
       "      <td>[Steak, Tri-Tip, Potato, Russet, Wasabi Paste,...</td>\n",
       "      <td>5.90</td>\n",
       "      <td>9.11</td>\n",
       "      <td>18</td>\n",
       "    </tr>\n",
       "    <tr>\n",
       "      <th>91</th>\n",
       "      <td>R40068B</td>\n",
       "      <td>Cherry-Balsamic Glazed Pork Tenderloin with Fi...</td>\n",
       "      <td>[Pork, Tenderloin, Vinegar, Balsamic, Jam, Che...</td>\n",
       "      <td>5.64</td>\n",
       "      <td>8.42</td>\n",
       "      <td>13</td>\n",
       "    </tr>\n",
       "    <tr>\n",
       "      <th>60</th>\n",
       "      <td>R25127A</td>\n",
       "      <td>White BBQ Meatloaf</td>\n",
       "      <td>[Potato, Yukon B, Scallions, Mayonnaise, Vineg...</td>\n",
       "      <td>5.61</td>\n",
       "      <td>8.87</td>\n",
       "      <td>15</td>\n",
       "    </tr>\n",
       "    <tr>\n",
       "      <th>35</th>\n",
       "      <td>R20054</td>\n",
       "      <td>Quick-Marinated Steak</td>\n",
       "      <td>[Steak, Sirloin, Bell Pepper, Red/Orange/Yello...</td>\n",
       "      <td>5.58</td>\n",
       "      <td>8.08</td>\n",
       "      <td>14</td>\n",
       "    </tr>\n",
       "    <tr>\n",
       "      <th>27</th>\n",
       "      <td>R15152A</td>\n",
       "      <td>Sesame Pecan Chicken Tenders with Honey Mustard</td>\n",
       "      <td>[Chicken, Tenders 12oz (8-11 pieces/pack), Ses...</td>\n",
       "      <td>5.45</td>\n",
       "      <td>8.71</td>\n",
       "      <td>18</td>\n",
       "    </tr>\n",
       "  </tbody>\n",
       "</table>\n",
       "</div>"
      ],
      "text/plain": [
       "   Recipe_code                                        Recipe_name  \\\n",
       "34      R20039                                   Soy Glazed Steak   \n",
       "91     R40068B  Cherry-Balsamic Glazed Pork Tenderloin with Fi...   \n",
       "60     R25127A                                 White BBQ Meatloaf   \n",
       "35      R20054                              Quick-Marinated Steak   \n",
       "27     R15152A    Sesame Pecan Chicken Tenders with Honey Mustard   \n",
       "\n",
       "                                     ingredients_list  score  price  \\\n",
       "34  [Steak, Tri-Tip, Potato, Russet, Wasabi Paste,...   5.90   9.11   \n",
       "91  [Pork, Tenderloin, Vinegar, Balsamic, Jam, Che...   5.64   8.42   \n",
       "60  [Potato, Yukon B, Scallions, Mayonnaise, Vineg...   5.61   8.87   \n",
       "35  [Steak, Sirloin, Bell Pepper, Red/Orange/Yello...   5.58   8.08   \n",
       "27  [Chicken, Tenders 12oz (8-11 pieces/pack), Ses...   5.45   8.71   \n",
       "\n",
       "    ingredients_count  \n",
       "34                 18  \n",
       "91                 13  \n",
       "60                 15  \n",
       "35                 14  \n",
       "27                 18  "
      ]
     },
     "execution_count": 6,
     "metadata": {},
     "output_type": "execute_result"
    }
   ],
   "source": [
    "df.sort_values(by='score',ascending=False)[:5]"
   ]
  },
  {
   "cell_type": "code",
   "execution_count": 7,
   "metadata": {},
   "outputs": [
    {
     "data": {
      "text/html": [
       "<div>\n",
       "<style scoped>\n",
       "    .dataframe tbody tr th:only-of-type {\n",
       "        vertical-align: middle;\n",
       "    }\n",
       "\n",
       "    .dataframe tbody tr th {\n",
       "        vertical-align: top;\n",
       "    }\n",
       "\n",
       "    .dataframe thead th {\n",
       "        text-align: right;\n",
       "    }\n",
       "</style>\n",
       "<table border=\"1\" class=\"dataframe\">\n",
       "  <thead>\n",
       "    <tr style=\"text-align: right;\">\n",
       "      <th></th>\n",
       "      <th>Recipe_code</th>\n",
       "      <th>Recipe_name</th>\n",
       "      <th>ingredients_list</th>\n",
       "      <th>score</th>\n",
       "      <th>price</th>\n",
       "      <th>ingredients_count</th>\n",
       "    </tr>\n",
       "  </thead>\n",
       "  <tbody>\n",
       "    <tr>\n",
       "      <th>29</th>\n",
       "      <td>R15159B</td>\n",
       "      <td>Pulled Pork Rice Bowl</td>\n",
       "      <td>[Rice, Jasmine, Onion, Red, Bell Pepper, Green...</td>\n",
       "      <td>1.98</td>\n",
       "      <td>9.97</td>\n",
       "      <td>17</td>\n",
       "    </tr>\n",
       "    <tr>\n",
       "      <th>134</th>\n",
       "      <td>R60288</td>\n",
       "      <td>Roasted Vegetable Quesadillas</td>\n",
       "      <td>[Tortillas, 6-inch Flour, Squash, Zucchini, Li...</td>\n",
       "      <td>1.91</td>\n",
       "      <td>9.97</td>\n",
       "      <td>36</td>\n",
       "    </tr>\n",
       "    <tr>\n",
       "      <th>177</th>\n",
       "      <td>R90035A</td>\n",
       "      <td>Mexican Breakfast Pizza</td>\n",
       "      <td>[Bread, Flatbread, Mexican Spice Blend, Choriz...</td>\n",
       "      <td>0.97</td>\n",
       "      <td>9.96</td>\n",
       "      <td>12</td>\n",
       "    </tr>\n",
       "    <tr>\n",
       "      <th>66</th>\n",
       "      <td>R30023</td>\n",
       "      <td>Shrimp and Farro Bowl</td>\n",
       "      <td>[Shrimp, Farro, Shallot, Bell Pepper, Red/Oran...</td>\n",
       "      <td>2.07</td>\n",
       "      <td>9.93</td>\n",
       "      <td>26</td>\n",
       "    </tr>\n",
       "    <tr>\n",
       "      <th>4</th>\n",
       "      <td>R10125</td>\n",
       "      <td>Do the Dukkah Chicken with Sweet Potatoes and ...</td>\n",
       "      <td>[Chicken, Breasts, Spice, Dukkah - \"Nutty Sesa...</td>\n",
       "      <td>1.36</td>\n",
       "      <td>9.92</td>\n",
       "      <td>18</td>\n",
       "    </tr>\n",
       "  </tbody>\n",
       "</table>\n",
       "</div>"
      ],
      "text/plain": [
       "    Recipe_code                                        Recipe_name  \\\n",
       "29      R15159B                              Pulled Pork Rice Bowl   \n",
       "134      R60288                      Roasted Vegetable Quesadillas   \n",
       "177     R90035A                            Mexican Breakfast Pizza   \n",
       "66       R30023                              Shrimp and Farro Bowl   \n",
       "4        R10125  Do the Dukkah Chicken with Sweet Potatoes and ...   \n",
       "\n",
       "                                      ingredients_list  score  price  \\\n",
       "29   [Rice, Jasmine, Onion, Red, Bell Pepper, Green...   1.98   9.97   \n",
       "134  [Tortillas, 6-inch Flour, Squash, Zucchini, Li...   1.91   9.97   \n",
       "177  [Bread, Flatbread, Mexican Spice Blend, Choriz...   0.97   9.96   \n",
       "66   [Shrimp, Farro, Shallot, Bell Pepper, Red/Oran...   2.07   9.93   \n",
       "4    [Chicken, Breasts, Spice, Dukkah - \"Nutty Sesa...   1.36   9.92   \n",
       "\n",
       "     ingredients_count  \n",
       "29                  17  \n",
       "134                 36  \n",
       "177                 12  \n",
       "66                  26  \n",
       "4                   18  "
      ]
     },
     "execution_count": 7,
     "metadata": {},
     "output_type": "execute_result"
    }
   ],
   "source": [
    "df.sort_values(by='price',ascending=False)[:5]"
   ]
  },
  {
   "cell_type": "markdown",
   "metadata": {},
   "source": [
    "most frequently used ingredients in top 10 recipes"
   ]
  },
  {
   "cell_type": "code",
   "execution_count": 10,
   "metadata": {},
   "outputs": [
    {
     "name": "stdout",
     "output_type": "stream",
     "text": [
      "Green Beans;7\n",
      "Vinegar, Balsamic;7\n",
      "Rosemary;7\n",
      "Stock Concentrate, Beef;6\n",
      "Sour Cream;5\n"
     ]
    }
   ],
   "source": [
    "# most frequently used ingredients in top 10 recipes\n",
    "\n",
    "df_top10 = df.sort_values(by='score',ascending=False)[:10]\n",
    "ingridients_top10 = [item for sublist in df_top10['ingredients_list'].tolist() for item in sublist]\n",
    "\n",
    "fdist = nltk.FreqDist(ingridients_top10)\n",
    "for word, frequency in fdist.most_common(5):\n",
    "    print(u'{};{}'.format(word, frequency))"
   ]
  },
  {
   "cell_type": "markdown",
   "metadata": {},
   "source": [
    "most frequently used ingredients in all recipes"
   ]
  },
  {
   "cell_type": "code",
   "execution_count": 14,
   "metadata": {},
   "outputs": [
    {
     "name": "stdout",
     "output_type": "stream",
     "text": [
      "Garlic, Peeled;92\n",
      "Lemon;53\n",
      "Scallions;45\n",
      "Cheese, Shredded Parmesan;44\n",
      "Shallot;43\n"
     ]
    }
   ],
   "source": [
    "df_all_ingr = df.sort_values(by='score',ascending=False)\n",
    "ingridients_all = [item for sublist in df_all_ingr['ingredients_list'].tolist() for item in sublist]\n",
    "\n",
    "fdist = nltk.FreqDist(ingridients_all)\n",
    "for word, frequency in fdist.most_common(5):\n",
    "    print(u'{};{}'.format(word, frequency))"
   ]
  },
  {
   "cell_type": "markdown",
   "metadata": {},
   "source": [
    "### Model the data"
   ]
  },
  {
   "cell_type": "code",
   "execution_count": 16,
   "metadata": {},
   "outputs": [
    {
     "data": {
      "text/html": [
       "<div>\n",
       "<style scoped>\n",
       "    .dataframe tbody tr th:only-of-type {\n",
       "        vertical-align: middle;\n",
       "    }\n",
       "\n",
       "    .dataframe tbody tr th {\n",
       "        vertical-align: top;\n",
       "    }\n",
       "\n",
       "    .dataframe thead th {\n",
       "        text-align: right;\n",
       "    }\n",
       "</style>\n",
       "<table border=\"1\" class=\"dataframe\">\n",
       "  <thead>\n",
       "    <tr style=\"text-align: right;\">\n",
       "      <th></th>\n",
       "      <th>Recipe_code</th>\n",
       "      <th>Recipe_name</th>\n",
       "      <th>ingredients_list</th>\n",
       "      <th>score</th>\n",
       "      <th>price</th>\n",
       "      <th>ingredients_count</th>\n",
       "    </tr>\n",
       "  </thead>\n",
       "  <tbody>\n",
       "    <tr>\n",
       "      <th>0</th>\n",
       "      <td>R10030</td>\n",
       "      <td>Teriyaki Chicken with Coconut Rice and Bok Choy</td>\n",
       "      <td>[Chicken, Breasts, Rice, Basmati, Garlic, Peel...</td>\n",
       "      <td>2.37</td>\n",
       "      <td>7.28</td>\n",
       "      <td>11</td>\n",
       "    </tr>\n",
       "    <tr>\n",
       "      <th>1</th>\n",
       "      <td>R10082</td>\n",
       "      <td>Rosemary-Walnut Crusted Chicken</td>\n",
       "      <td>[Chicken, Breasts, Potato, Russet, Lettuce, Sp...</td>\n",
       "      <td>4.94</td>\n",
       "      <td>8.10</td>\n",
       "      <td>26</td>\n",
       "    </tr>\n",
       "    <tr>\n",
       "      <th>2</th>\n",
       "      <td>R10118</td>\n",
       "      <td>UK Chicken with Mustard Sauce NOT FOR FAMILY</td>\n",
       "      <td>[Chicken, Breasts, Potato, Yukon B, Onion, Red...</td>\n",
       "      <td>4.96</td>\n",
       "      <td>7.80</td>\n",
       "      <td>26</td>\n",
       "    </tr>\n",
       "    <tr>\n",
       "      <th>3</th>\n",
       "      <td>R10123B</td>\n",
       "      <td>Smoky Chicken Fajitas with Charred Pepper and ...</td>\n",
       "      <td>[Chicken, Stir Fry, Onion, Red, Bell Pepper, R...</td>\n",
       "      <td>2.11</td>\n",
       "      <td>7.73</td>\n",
       "      <td>16</td>\n",
       "    </tr>\n",
       "    <tr>\n",
       "      <th>4</th>\n",
       "      <td>R10125</td>\n",
       "      <td>Do the Dukkah Chicken with Sweet Potatoes and ...</td>\n",
       "      <td>[Chicken, Breasts, Spice, Dukkah - \"Nutty Sesa...</td>\n",
       "      <td>1.36</td>\n",
       "      <td>9.92</td>\n",
       "      <td>18</td>\n",
       "    </tr>\n",
       "  </tbody>\n",
       "</table>\n",
       "</div>"
      ],
      "text/plain": [
       "  Recipe_code                                        Recipe_name  \\\n",
       "0      R10030    Teriyaki Chicken with Coconut Rice and Bok Choy   \n",
       "1      R10082                    Rosemary-Walnut Crusted Chicken   \n",
       "2      R10118       UK Chicken with Mustard Sauce NOT FOR FAMILY   \n",
       "3     R10123B  Smoky Chicken Fajitas with Charred Pepper and ...   \n",
       "4      R10125  Do the Dukkah Chicken with Sweet Potatoes and ...   \n",
       "\n",
       "                                    ingredients_list  score  price  \\\n",
       "0  [Chicken, Breasts, Rice, Basmati, Garlic, Peel...   2.37   7.28   \n",
       "1  [Chicken, Breasts, Potato, Russet, Lettuce, Sp...   4.94   8.10   \n",
       "2  [Chicken, Breasts, Potato, Yukon B, Onion, Red...   4.96   7.80   \n",
       "3  [Chicken, Stir Fry, Onion, Red, Bell Pepper, R...   2.11   7.73   \n",
       "4  [Chicken, Breasts, Spice, Dukkah - \"Nutty Sesa...   1.36   9.92   \n",
       "\n",
       "   ingredients_count  \n",
       "0                 11  \n",
       "1                 26  \n",
       "2                 26  \n",
       "3                 16  \n",
       "4                 18  "
      ]
     },
     "execution_count": 16,
     "metadata": {},
     "output_type": "execute_result"
    }
   ],
   "source": [
    "df.head()"
   ]
  },
  {
   "cell_type": "code",
   "execution_count": 17,
   "metadata": {},
   "outputs": [
    {
     "name": "stdout",
     "output_type": "stream",
     "text": [
      "{'vect__max_df': [0.25, 0.5, 0.6, 0.7, 1.0], 'vect__ngram_range': [(1, 1), (1, 2), (2, 3), (1, 3), (1, 4), (1, 5)], 'vect__use_idf': [True, False], 'clf__C': [0.1, 1, 10, 20, 30]}\n",
      "Fitting 3 folds for each of 300 candidates, totalling 900 fits\n"
     ]
    },
    {
     "name": "stderr",
     "output_type": "stream",
     "text": [
      "C:\\Users\\abhranshu\\AppData\\Local\\Continuum\\anaconda3\\lib\\site-packages\\ipykernel_launcher.py:29: FutureWarning: Method .as_matrix will be removed in a future version. Use .values instead.\n",
      "C:\\Users\\abhranshu\\AppData\\Local\\Continuum\\anaconda3\\lib\\site-packages\\sklearn\\model_selection\\_split.py:1978: FutureWarning: The default value of cv will change from 3 to 5 in version 0.22. Specify it explicitly to silence this warning.\n",
      "  warnings.warn(CV_WARNING, FutureWarning)\n",
      "[Parallel(n_jobs=3)]: Using backend LokyBackend with 3 concurrent workers.\n"
     ]
    },
    {
     "ename": "AttributeError",
     "evalue": "'list' object has no attribute 'lower'",
     "output_type": "error",
     "traceback": [
      "\u001b[1;31m---------------------------------------------------------------------------\u001b[0m",
      "\u001b[1;31m_RemoteTraceback\u001b[0m                          Traceback (most recent call last)",
      "\u001b[1;31m_RemoteTraceback\u001b[0m: \n\"\"\"\nTraceback (most recent call last):\n  File \"C:\\Users\\abhranshu\\AppData\\Local\\Continuum\\anaconda3\\lib\\site-packages\\joblib\\externals\\loky\\process_executor.py\", line 418, in _process_worker\n    r = call_item()\n  File \"C:\\Users\\abhranshu\\AppData\\Local\\Continuum\\anaconda3\\lib\\site-packages\\joblib\\externals\\loky\\process_executor.py\", line 272, in __call__\n    return self.fn(*self.args, **self.kwargs)\n  File \"C:\\Users\\abhranshu\\AppData\\Local\\Continuum\\anaconda3\\lib\\site-packages\\joblib\\_parallel_backends.py\", line 567, in __call__\n    return self.func(*args, **kwargs)\n  File \"C:\\Users\\abhranshu\\AppData\\Local\\Continuum\\anaconda3\\lib\\site-packages\\joblib\\parallel.py\", line 225, in __call__\n    for func, args, kwargs in self.items]\n  File \"C:\\Users\\abhranshu\\AppData\\Local\\Continuum\\anaconda3\\lib\\site-packages\\joblib\\parallel.py\", line 225, in <listcomp>\n    for func, args, kwargs in self.items]\n  File \"C:\\Users\\abhranshu\\AppData\\Local\\Continuum\\anaconda3\\lib\\site-packages\\sklearn\\model_selection\\_validation.py\", line 514, in _fit_and_score\n    estimator.fit(X_train, y_train, **fit_params)\n  File \"C:\\Users\\abhranshu\\AppData\\Local\\Continuum\\anaconda3\\lib\\site-packages\\sklearn\\pipeline.py\", line 352, in fit\n    Xt, fit_params = self._fit(X, y, **fit_params)\n  File \"C:\\Users\\abhranshu\\AppData\\Local\\Continuum\\anaconda3\\lib\\site-packages\\sklearn\\pipeline.py\", line 317, in _fit\n    **fit_params_steps[name])\n  File \"C:\\Users\\abhranshu\\AppData\\Local\\Continuum\\anaconda3\\lib\\site-packages\\joblib\\memory.py\", line 355, in __call__\n    return self.func(*args, **kwargs)\n  File \"C:\\Users\\abhranshu\\AppData\\Local\\Continuum\\anaconda3\\lib\\site-packages\\sklearn\\pipeline.py\", line 716, in _fit_transform_one\n    res = transformer.fit_transform(X, y, **fit_params)\n  File \"C:\\Users\\abhranshu\\AppData\\Local\\Continuum\\anaconda3\\lib\\site-packages\\sklearn\\feature_extraction\\text.py\", line 1652, in fit_transform\n    X = super().fit_transform(raw_documents)\n  File \"C:\\Users\\abhranshu\\AppData\\Local\\Continuum\\anaconda3\\lib\\site-packages\\sklearn\\feature_extraction\\text.py\", line 1058, in fit_transform\n    self.fixed_vocabulary_)\n  File \"C:\\Users\\abhranshu\\AppData\\Local\\Continuum\\anaconda3\\lib\\site-packages\\sklearn\\feature_extraction\\text.py\", line 970, in _count_vocab\n    for feature in analyze(doc):\n  File \"C:\\Users\\abhranshu\\AppData\\Local\\Continuum\\anaconda3\\lib\\site-packages\\sklearn\\feature_extraction\\text.py\", line 352, in <lambda>\n    tokenize(preprocess(self.decode(doc))), stop_words)\n  File \"C:\\Users\\abhranshu\\AppData\\Local\\Continuum\\anaconda3\\lib\\site-packages\\sklearn\\feature_extraction\\text.py\", line 256, in <lambda>\n    return lambda x: strip_accents(x.lower())\nAttributeError: 'list' object has no attribute 'lower'\n\"\"\"",
      "\nThe above exception was the direct cause of the following exception:\n",
      "\u001b[1;31mAttributeError\u001b[0m                            Traceback (most recent call last)",
      "\u001b[1;32m<ipython-input-17-4a8fe358829e>\u001b[0m in \u001b[0;36m<module>\u001b[1;34m\u001b[0m\n\u001b[0;32m     80\u001b[0m \u001b[1;33m\u001b[0m\u001b[0m\n\u001b[0;32m     81\u001b[0m \u001b[1;32mif\u001b[0m \u001b[0m__name__\u001b[0m \u001b[1;33m==\u001b[0m \u001b[1;34m'__main__'\u001b[0m\u001b[1;33m:\u001b[0m\u001b[1;33m\u001b[0m\u001b[1;33m\u001b[0m\u001b[0m\n\u001b[1;32m---> 82\u001b[1;33m     \u001b[0mmain\u001b[0m\u001b[1;33m(\u001b[0m\u001b[1;33m)\u001b[0m\u001b[1;33m\u001b[0m\u001b[1;33m\u001b[0m\u001b[0m\n\u001b[0m",
      "\u001b[1;32m<ipython-input-17-4a8fe358829e>\u001b[0m in \u001b[0;36mmain\u001b[1;34m()\u001b[0m\n\u001b[0;32m     68\u001b[0m \u001b[1;33m\u001b[0m\u001b[0m\n\u001b[0;32m     69\u001b[0m     \u001b[1;31m# Get best set of parameters and evaluate validation set accuracy\u001b[0m\u001b[1;33m\u001b[0m\u001b[1;33m\u001b[0m\u001b[1;33m\u001b[0m\u001b[0m\n\u001b[1;32m---> 70\u001b[1;33m     \u001b[0mbestParameters\u001b[0m \u001b[1;33m=\u001b[0m \u001b[0mgetBestParameters\u001b[0m\u001b[1;33m(\u001b[0m\u001b[0mpipeline\u001b[0m\u001b[1;33m,\u001b[0m\u001b[0mparameters\u001b[0m\u001b[1;33m)\u001b[0m\u001b[1;33m\u001b[0m\u001b[1;33m\u001b[0m\u001b[0m\n\u001b[0m\u001b[0;32m     71\u001b[0m \u001b[1;33m\u001b[0m\u001b[0m\n\u001b[0;32m     72\u001b[0m     \u001b[1;31m# Save best parameter set\u001b[0m\u001b[1;33m\u001b[0m\u001b[1;33m\u001b[0m\u001b[1;33m\u001b[0m\u001b[0m\n",
      "\u001b[1;32m<ipython-input-17-4a8fe358829e>\u001b[0m in \u001b[0;36mgetBestParameters\u001b[1;34m(pipeline, parameters)\u001b[0m\n\u001b[0;32m     33\u001b[0m     \u001b[0mgridSearchClassifier\u001b[0m \u001b[1;33m=\u001b[0m \u001b[0mhfutil\u001b[0m\u001b[1;33m.\u001b[0m\u001b[0mgetGridSearchCv\u001b[0m\u001b[1;33m(\u001b[0m\u001b[0mpipeline\u001b[0m\u001b[1;33m,\u001b[0m \u001b[0mparameters\u001b[0m\u001b[1;33m)\u001b[0m\u001b[1;33m\u001b[0m\u001b[1;33m\u001b[0m\u001b[0m\n\u001b[0;32m     34\u001b[0m     \u001b[1;31m# Fit/train the gridSearchClassifier on Training Set\u001b[0m\u001b[1;33m\u001b[0m\u001b[1;33m\u001b[0m\u001b[1;33m\u001b[0m\u001b[0m\n\u001b[1;32m---> 35\u001b[1;33m     \u001b[0mgridSearchClassifier\u001b[0m\u001b[1;33m.\u001b[0m\u001b[0mfit\u001b[0m\u001b[1;33m(\u001b[0m\u001b[0mXtrain\u001b[0m\u001b[1;33m,\u001b[0m \u001b[0mytrain\u001b[0m\u001b[1;33m)\u001b[0m\u001b[1;33m\u001b[0m\u001b[1;33m\u001b[0m\u001b[0m\n\u001b[0m\u001b[0;32m     36\u001b[0m     \u001b[1;31m# Make predictions on validation set and calculate best set of parameters\u001b[0m\u001b[1;33m\u001b[0m\u001b[1;33m\u001b[0m\u001b[1;33m\u001b[0m\u001b[0m\n\u001b[0;32m     37\u001b[0m     \u001b[1;31m##>  bestParameters,predictions=cookVal.validate(parameters, gridSearchClassifier, Xvalidate, yValidate)\u001b[0m\u001b[1;33m\u001b[0m\u001b[1;33m\u001b[0m\u001b[1;33m\u001b[0m\u001b[0m\n",
      "\u001b[1;32m~\\AppData\\Local\\Continuum\\anaconda3\\lib\\site-packages\\sklearn\\model_selection\\_search.py\u001b[0m in \u001b[0;36mfit\u001b[1;34m(self, X, y, groups, **fit_params)\u001b[0m\n\u001b[0;32m    685\u001b[0m                 \u001b[1;32mreturn\u001b[0m \u001b[0mresults\u001b[0m\u001b[1;33m\u001b[0m\u001b[1;33m\u001b[0m\u001b[0m\n\u001b[0;32m    686\u001b[0m \u001b[1;33m\u001b[0m\u001b[0m\n\u001b[1;32m--> 687\u001b[1;33m             \u001b[0mself\u001b[0m\u001b[1;33m.\u001b[0m\u001b[0m_run_search\u001b[0m\u001b[1;33m(\u001b[0m\u001b[0mevaluate_candidates\u001b[0m\u001b[1;33m)\u001b[0m\u001b[1;33m\u001b[0m\u001b[1;33m\u001b[0m\u001b[0m\n\u001b[0m\u001b[0;32m    688\u001b[0m \u001b[1;33m\u001b[0m\u001b[0m\n\u001b[0;32m    689\u001b[0m         \u001b[1;31m# For multi-metric evaluation, store the best_index_, best_params_ and\u001b[0m\u001b[1;33m\u001b[0m\u001b[1;33m\u001b[0m\u001b[1;33m\u001b[0m\u001b[0m\n",
      "\u001b[1;32m~\\AppData\\Local\\Continuum\\anaconda3\\lib\\site-packages\\sklearn\\model_selection\\_search.py\u001b[0m in \u001b[0;36m_run_search\u001b[1;34m(self, evaluate_candidates)\u001b[0m\n\u001b[0;32m   1146\u001b[0m     \u001b[1;32mdef\u001b[0m \u001b[0m_run_search\u001b[0m\u001b[1;33m(\u001b[0m\u001b[0mself\u001b[0m\u001b[1;33m,\u001b[0m \u001b[0mevaluate_candidates\u001b[0m\u001b[1;33m)\u001b[0m\u001b[1;33m:\u001b[0m\u001b[1;33m\u001b[0m\u001b[1;33m\u001b[0m\u001b[0m\n\u001b[0;32m   1147\u001b[0m         \u001b[1;34m\"\"\"Search all candidates in param_grid\"\"\"\u001b[0m\u001b[1;33m\u001b[0m\u001b[1;33m\u001b[0m\u001b[0m\n\u001b[1;32m-> 1148\u001b[1;33m         \u001b[0mevaluate_candidates\u001b[0m\u001b[1;33m(\u001b[0m\u001b[0mParameterGrid\u001b[0m\u001b[1;33m(\u001b[0m\u001b[0mself\u001b[0m\u001b[1;33m.\u001b[0m\u001b[0mparam_grid\u001b[0m\u001b[1;33m)\u001b[0m\u001b[1;33m)\u001b[0m\u001b[1;33m\u001b[0m\u001b[1;33m\u001b[0m\u001b[0m\n\u001b[0m\u001b[0;32m   1149\u001b[0m \u001b[1;33m\u001b[0m\u001b[0m\n\u001b[0;32m   1150\u001b[0m \u001b[1;33m\u001b[0m\u001b[0m\n",
      "\u001b[1;32m~\\AppData\\Local\\Continuum\\anaconda3\\lib\\site-packages\\sklearn\\model_selection\\_search.py\u001b[0m in \u001b[0;36mevaluate_candidates\u001b[1;34m(candidate_params)\u001b[0m\n\u001b[0;32m    664\u001b[0m                                \u001b[1;32mfor\u001b[0m \u001b[0mparameters\u001b[0m\u001b[1;33m,\u001b[0m \u001b[1;33m(\u001b[0m\u001b[0mtrain\u001b[0m\u001b[1;33m,\u001b[0m \u001b[0mtest\u001b[0m\u001b[1;33m)\u001b[0m\u001b[1;33m\u001b[0m\u001b[1;33m\u001b[0m\u001b[0m\n\u001b[0;32m    665\u001b[0m                                in product(candidate_params,\n\u001b[1;32m--> 666\u001b[1;33m                                           cv.split(X, y, groups)))\n\u001b[0m\u001b[0;32m    667\u001b[0m \u001b[1;33m\u001b[0m\u001b[0m\n\u001b[0;32m    668\u001b[0m                 \u001b[1;32mif\u001b[0m \u001b[0mlen\u001b[0m\u001b[1;33m(\u001b[0m\u001b[0mout\u001b[0m\u001b[1;33m)\u001b[0m \u001b[1;33m<\u001b[0m \u001b[1;36m1\u001b[0m\u001b[1;33m:\u001b[0m\u001b[1;33m\u001b[0m\u001b[1;33m\u001b[0m\u001b[0m\n",
      "\u001b[1;32m~\\AppData\\Local\\Continuum\\anaconda3\\lib\\site-packages\\joblib\\parallel.py\u001b[0m in \u001b[0;36m__call__\u001b[1;34m(self, iterable)\u001b[0m\n\u001b[0;32m    932\u001b[0m \u001b[1;33m\u001b[0m\u001b[0m\n\u001b[0;32m    933\u001b[0m             \u001b[1;32mwith\u001b[0m \u001b[0mself\u001b[0m\u001b[1;33m.\u001b[0m\u001b[0m_backend\u001b[0m\u001b[1;33m.\u001b[0m\u001b[0mretrieval_context\u001b[0m\u001b[1;33m(\u001b[0m\u001b[1;33m)\u001b[0m\u001b[1;33m:\u001b[0m\u001b[1;33m\u001b[0m\u001b[1;33m\u001b[0m\u001b[0m\n\u001b[1;32m--> 934\u001b[1;33m                 \u001b[0mself\u001b[0m\u001b[1;33m.\u001b[0m\u001b[0mretrieve\u001b[0m\u001b[1;33m(\u001b[0m\u001b[1;33m)\u001b[0m\u001b[1;33m\u001b[0m\u001b[1;33m\u001b[0m\u001b[0m\n\u001b[0m\u001b[0;32m    935\u001b[0m             \u001b[1;31m# Make sure that we get a last message telling us we are done\u001b[0m\u001b[1;33m\u001b[0m\u001b[1;33m\u001b[0m\u001b[1;33m\u001b[0m\u001b[0m\n\u001b[0;32m    936\u001b[0m             \u001b[0melapsed_time\u001b[0m \u001b[1;33m=\u001b[0m \u001b[0mtime\u001b[0m\u001b[1;33m.\u001b[0m\u001b[0mtime\u001b[0m\u001b[1;33m(\u001b[0m\u001b[1;33m)\u001b[0m \u001b[1;33m-\u001b[0m \u001b[0mself\u001b[0m\u001b[1;33m.\u001b[0m\u001b[0m_start_time\u001b[0m\u001b[1;33m\u001b[0m\u001b[1;33m\u001b[0m\u001b[0m\n",
      "\u001b[1;32m~\\AppData\\Local\\Continuum\\anaconda3\\lib\\site-packages\\joblib\\parallel.py\u001b[0m in \u001b[0;36mretrieve\u001b[1;34m(self)\u001b[0m\n\u001b[0;32m    831\u001b[0m             \u001b[1;32mtry\u001b[0m\u001b[1;33m:\u001b[0m\u001b[1;33m\u001b[0m\u001b[1;33m\u001b[0m\u001b[0m\n\u001b[0;32m    832\u001b[0m                 \u001b[1;32mif\u001b[0m \u001b[0mgetattr\u001b[0m\u001b[1;33m(\u001b[0m\u001b[0mself\u001b[0m\u001b[1;33m.\u001b[0m\u001b[0m_backend\u001b[0m\u001b[1;33m,\u001b[0m \u001b[1;34m'supports_timeout'\u001b[0m\u001b[1;33m,\u001b[0m \u001b[1;32mFalse\u001b[0m\u001b[1;33m)\u001b[0m\u001b[1;33m:\u001b[0m\u001b[1;33m\u001b[0m\u001b[1;33m\u001b[0m\u001b[0m\n\u001b[1;32m--> 833\u001b[1;33m                     \u001b[0mself\u001b[0m\u001b[1;33m.\u001b[0m\u001b[0m_output\u001b[0m\u001b[1;33m.\u001b[0m\u001b[0mextend\u001b[0m\u001b[1;33m(\u001b[0m\u001b[0mjob\u001b[0m\u001b[1;33m.\u001b[0m\u001b[0mget\u001b[0m\u001b[1;33m(\u001b[0m\u001b[0mtimeout\u001b[0m\u001b[1;33m=\u001b[0m\u001b[0mself\u001b[0m\u001b[1;33m.\u001b[0m\u001b[0mtimeout\u001b[0m\u001b[1;33m)\u001b[0m\u001b[1;33m)\u001b[0m\u001b[1;33m\u001b[0m\u001b[1;33m\u001b[0m\u001b[0m\n\u001b[0m\u001b[0;32m    834\u001b[0m                 \u001b[1;32melse\u001b[0m\u001b[1;33m:\u001b[0m\u001b[1;33m\u001b[0m\u001b[1;33m\u001b[0m\u001b[0m\n\u001b[0;32m    835\u001b[0m                     \u001b[0mself\u001b[0m\u001b[1;33m.\u001b[0m\u001b[0m_output\u001b[0m\u001b[1;33m.\u001b[0m\u001b[0mextend\u001b[0m\u001b[1;33m(\u001b[0m\u001b[0mjob\u001b[0m\u001b[1;33m.\u001b[0m\u001b[0mget\u001b[0m\u001b[1;33m(\u001b[0m\u001b[1;33m)\u001b[0m\u001b[1;33m)\u001b[0m\u001b[1;33m\u001b[0m\u001b[1;33m\u001b[0m\u001b[0m\n",
      "\u001b[1;32m~\\AppData\\Local\\Continuum\\anaconda3\\lib\\site-packages\\joblib\\_parallel_backends.py\u001b[0m in \u001b[0;36mwrap_future_result\u001b[1;34m(future, timeout)\u001b[0m\n\u001b[0;32m    519\u001b[0m         AsyncResults.get from multiprocessing.\"\"\"\n\u001b[0;32m    520\u001b[0m         \u001b[1;32mtry\u001b[0m\u001b[1;33m:\u001b[0m\u001b[1;33m\u001b[0m\u001b[1;33m\u001b[0m\u001b[0m\n\u001b[1;32m--> 521\u001b[1;33m             \u001b[1;32mreturn\u001b[0m \u001b[0mfuture\u001b[0m\u001b[1;33m.\u001b[0m\u001b[0mresult\u001b[0m\u001b[1;33m(\u001b[0m\u001b[0mtimeout\u001b[0m\u001b[1;33m=\u001b[0m\u001b[0mtimeout\u001b[0m\u001b[1;33m)\u001b[0m\u001b[1;33m\u001b[0m\u001b[1;33m\u001b[0m\u001b[0m\n\u001b[0m\u001b[0;32m    522\u001b[0m         \u001b[1;32mexcept\u001b[0m \u001b[0mLokyTimeoutError\u001b[0m\u001b[1;33m:\u001b[0m\u001b[1;33m\u001b[0m\u001b[1;33m\u001b[0m\u001b[0m\n\u001b[0;32m    523\u001b[0m             \u001b[1;32mraise\u001b[0m \u001b[0mTimeoutError\u001b[0m\u001b[1;33m(\u001b[0m\u001b[1;33m)\u001b[0m\u001b[1;33m\u001b[0m\u001b[1;33m\u001b[0m\u001b[0m\n",
      "\u001b[1;32m~\\AppData\\Local\\Continuum\\anaconda3\\lib\\concurrent\\futures\\_base.py\u001b[0m in \u001b[0;36mresult\u001b[1;34m(self, timeout)\u001b[0m\n\u001b[0;32m    430\u001b[0m                 \u001b[1;32mraise\u001b[0m \u001b[0mCancelledError\u001b[0m\u001b[1;33m(\u001b[0m\u001b[1;33m)\u001b[0m\u001b[1;33m\u001b[0m\u001b[1;33m\u001b[0m\u001b[0m\n\u001b[0;32m    431\u001b[0m             \u001b[1;32melif\u001b[0m \u001b[0mself\u001b[0m\u001b[1;33m.\u001b[0m\u001b[0m_state\u001b[0m \u001b[1;33m==\u001b[0m \u001b[0mFINISHED\u001b[0m\u001b[1;33m:\u001b[0m\u001b[1;33m\u001b[0m\u001b[1;33m\u001b[0m\u001b[0m\n\u001b[1;32m--> 432\u001b[1;33m                 \u001b[1;32mreturn\u001b[0m \u001b[0mself\u001b[0m\u001b[1;33m.\u001b[0m\u001b[0m__get_result\u001b[0m\u001b[1;33m(\u001b[0m\u001b[1;33m)\u001b[0m\u001b[1;33m\u001b[0m\u001b[1;33m\u001b[0m\u001b[0m\n\u001b[0m\u001b[0;32m    433\u001b[0m             \u001b[1;32melse\u001b[0m\u001b[1;33m:\u001b[0m\u001b[1;33m\u001b[0m\u001b[1;33m\u001b[0m\u001b[0m\n\u001b[0;32m    434\u001b[0m                 \u001b[1;32mraise\u001b[0m \u001b[0mTimeoutError\u001b[0m\u001b[1;33m(\u001b[0m\u001b[1;33m)\u001b[0m\u001b[1;33m\u001b[0m\u001b[1;33m\u001b[0m\u001b[0m\n",
      "\u001b[1;32m~\\AppData\\Local\\Continuum\\anaconda3\\lib\\concurrent\\futures\\_base.py\u001b[0m in \u001b[0;36m__get_result\u001b[1;34m(self)\u001b[0m\n\u001b[0;32m    382\u001b[0m     \u001b[1;32mdef\u001b[0m \u001b[0m__get_result\u001b[0m\u001b[1;33m(\u001b[0m\u001b[0mself\u001b[0m\u001b[1;33m)\u001b[0m\u001b[1;33m:\u001b[0m\u001b[1;33m\u001b[0m\u001b[1;33m\u001b[0m\u001b[0m\n\u001b[0;32m    383\u001b[0m         \u001b[1;32mif\u001b[0m \u001b[0mself\u001b[0m\u001b[1;33m.\u001b[0m\u001b[0m_exception\u001b[0m\u001b[1;33m:\u001b[0m\u001b[1;33m\u001b[0m\u001b[1;33m\u001b[0m\u001b[0m\n\u001b[1;32m--> 384\u001b[1;33m             \u001b[1;32mraise\u001b[0m \u001b[0mself\u001b[0m\u001b[1;33m.\u001b[0m\u001b[0m_exception\u001b[0m\u001b[1;33m\u001b[0m\u001b[1;33m\u001b[0m\u001b[0m\n\u001b[0m\u001b[0;32m    385\u001b[0m         \u001b[1;32melse\u001b[0m\u001b[1;33m:\u001b[0m\u001b[1;33m\u001b[0m\u001b[1;33m\u001b[0m\u001b[0m\n\u001b[0;32m    386\u001b[0m             \u001b[1;32mreturn\u001b[0m \u001b[0mself\u001b[0m\u001b[1;33m.\u001b[0m\u001b[0m_result\u001b[0m\u001b[1;33m\u001b[0m\u001b[1;33m\u001b[0m\u001b[0m\n",
      "\u001b[1;31mAttributeError\u001b[0m: 'list' object has no attribute 'lower'"
     ]
    }
   ],
   "source": [
    "# Set sys path for importing util modules\n",
    "import sys\n",
    "sys.path.append('../src/')\n",
    "\n",
    "import pandas as pd\n",
    "import re\n",
    "import pickle\n",
    "#import cookValidate as cookVal\n",
    "from HFresh import hfreshUtil as hfutil \n",
    "from nltk.stem import WordNetLemmatizer\n",
    "from sklearn.model_selection import train_test_split\n",
    "\n",
    "'''\n",
    "This method calculates and displays the best set of parameters for the sklearn Pipeline\n",
    "It also shows the accuracy of the classifier on the validation set\n",
    "Arguments:\n",
    "pipeline <=> sklearn Pipeline with TfidfVectorizer and LogisticRegression\n",
    "parameters <=> Parameters for initializing Pipeline components\n",
    "Returns:\n",
    "bestParameters <=> Best set of parameters for sklearn Pipeline after retraining with feedback data\n",
    "'''\n",
    "def getBestParameters(pipeline,parameters):\n",
    "\n",
    "    traindf = df    \n",
    "    \n",
    "    # Remove everything but alphabets and then Lemmatize. Also remove extra whitespace\n",
    "    #traindf['properIngredients'] = [' '.join([WordNetLemmatizer().lemmatize(re.sub('[^A-Za-z]', ' ', line)) for line in lists]).strip() for lists in traindf['Ingredient']]       \n",
    "    # Create learning matrix\n",
    "    X, y = traindf['ingredients_list'], traindf['score'].as_matrix()\n",
    "    # Split into Training and Validation Sets\n",
    "    Xtrain, Xvalidate, ytrain, yValidate = train_test_split(X, y, train_size=0.7)\n",
    "    # Initialize gridSearchClassifierCV Classifier with parameters\n",
    "    gridSearchClassifier = hfutil.getGridSearchCv(pipeline, parameters)\n",
    "    # Fit/train the gridSearchClassifier on Training Set\n",
    "    gridSearchClassifier.fit(Xtrain, ytrain)\n",
    "    # Make predictions on validation set and calculate best set of parameters  \n",
    "    ##>  bestParameters,predictions=cookVal.validate(parameters, gridSearchClassifier, Xvalidate, yValidate)\n",
    "    # Initialize DataFrame for feedback loop\n",
    "    valdf = pd.DataFrame(index = Xvalidate.index.values)\n",
    "    # Add ingredients column\n",
    "    valdf=valdf.join(Xvalidate)\n",
    "    # Add correct cuisine\n",
    "    valdf[\"score\"] = yValidate\n",
    "    # Add predictions column\n",
    "    valdf[\"pred_cuisine\"] = predictions\n",
    "    # Add check column. This column would be false for incorrect predictions\n",
    "    valdf[\"check\"] = valdf.pred_cuisine==valdf.cuisine\n",
    "    # Store DataFrame for feedback\n",
    "    valdf.to_csv(\"./feedback.csv\")\n",
    "    # Create joint DataFrame to incorporate feedback data. As of now, this will only have the ingredients and cuisine columns from the training set\n",
    "    ultimateTraindf = pd.DataFrame(index = Xtrain.index.values)\n",
    "    ultimateTraindf=ultimateTraindf.join(Xtrain)\n",
    "    ultimateTraindf[\"score\"] = ytrain\n",
    "    # Calculate best set of parameters after retraining with feedback data. Make predictions on validation set \n",
    "    ##> bestParameters,predictions = cookVal.feedback(pipeline,parameters,ultimateTraindf)\n",
    "    # Return best set of parameters\n",
    "    return bestParameters\n",
    "    \n",
    "def main():\n",
    "    \n",
    "    # Get Pipeline components\n",
    "    pipeline = hfutil.getPipeline()\n",
    "    \n",
    "    # Get parameter options for Pipeline components\n",
    "    parameters = hfutil.getParameters()\n",
    "    \n",
    "    print(parameters)\n",
    "    \n",
    "    # Get best set of parameters and evaluate validation set accuracy\n",
    "    bestParameters = getBestParameters(pipeline,parameters)\n",
    "\n",
    "    # Save best parameter set\n",
    "    res = open(\"./res.txt\", 'w')\n",
    "    res.write ('best parameters set:\\n')\n",
    "    \n",
    "    for paramName in sorted(parameters.keys()):\n",
    "        res.write('\\t %s: %r\\n' % (paramName, bestParameters[paramName]))\n",
    "    \n",
    "    #pickle.dump(bestParameters,open(\"../../picks/bestParams.pkl\",\"wb\"))\n",
    "    \n",
    "if __name__ == '__main__':\n",
    "    main()"
   ]
  }
 ],
 "metadata": {
  "kernelspec": {
   "display_name": "Python 3",
   "language": "python",
   "name": "python3"
  },
  "language_info": {
   "codemirror_mode": {
    "name": "ipython",
    "version": 3
   },
   "file_extension": ".py",
   "mimetype": "text/x-python",
   "name": "python",
   "nbconvert_exporter": "python",
   "pygments_lexer": "ipython3",
   "version": "3.7.3"
  }
 },
 "nbformat": 4,
 "nbformat_minor": 2
}
